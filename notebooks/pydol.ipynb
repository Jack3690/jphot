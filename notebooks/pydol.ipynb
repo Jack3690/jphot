{
  "cells": [
    {
      "cell_type": "markdown",
      "metadata": {
        "id": "view-in-github",
        "colab_type": "text"
      },
      "source": [
        "<a href=\"https://colab.research.google.com/github/Jack3690/pydol/blob/main/notebooks/pydol.ipynb\" target=\"_parent\"><img src=\"https://colab.research.google.com/assets/colab-badge.svg\" alt=\"Open In Colab\"/></a>"
      ]
    },
    {
      "cell_type": "code",
      "source": [
        "!pip install jwst -q\n",
        "!pip install crds -q\n",
        "!pip install astroquery -q"
      ],
      "metadata": {
        "id": "KjZY746UxOfk"
      },
      "execution_count": null,
      "outputs": []
    },
    {
      "cell_type": "code",
      "source": [
        "!pip install wfc3tools -q\n",
        "!pip install stwcs -q\n",
        "!pip install drizzlepac -q"
      ],
      "metadata": {
        "id": "60nHbVoubpTq"
      },
      "execution_count": null,
      "outputs": []
    },
    {
      "cell_type": "code",
      "source": [
        "!pip install photutils==1.11.0 -q"
      ],
      "metadata": {
        "id": "jXNLrp7NcCbR"
      },
      "execution_count": null,
      "outputs": []
    },
    {
      "cell_type": "code",
      "source": [
        "!git clone https://github.com/Jack3690/pydol"
      ],
      "metadata": {
        "id": "uo8pMdY93DuI"
      },
      "execution_count": null,
      "outputs": []
    },
    {
      "cell_type": "markdown",
      "metadata": {
        "id": "HdotZvxJpGb-"
      },
      "source": [
        "# **Pipeline**"
      ]
    },
    {
      "cell_type": "code",
      "execution_count": 1,
      "metadata": {
        "id": "8i7obQzlwD77"
      },
      "outputs": [],
      "source": [
        "from jwst.pipeline import Detector1Pipeline, Image2Pipeline, Image3Pipeline\n",
        "import jwst.associations\n",
        "\n",
        "from glob import glob\n",
        "\n",
        "import os\n",
        "from crds import client\n",
        "import jwst\n",
        "import multiprocessing as mp\n",
        "from pathlib import Path"
      ]
    },
    {
      "cell_type": "code",
      "source": [
        "from wfc3tools import calwf3\n",
        "from stwcs import updatewcs\n",
        "from drizzlepac import astrodrizzle"
      ],
      "metadata": {
        "id": "R_LsAXTCboM-",
        "outputId": "5e4d8f88-0cab-46cf-829a-6df9e2767966",
        "colab": {
          "base_uri": "https://localhost:8080/"
        }
      },
      "execution_count": 2,
      "outputs": [
        {
          "output_type": "stream",
          "name": "stdout",
          "text": [
            "\n",
            "\n",
            "The following task in the stsci.skypac package can be run with TEAL:\n",
            "                                    skymatch                                    \n",
            "The following tasks in the drizzlepac package can be run with TEAL:\n",
            "    astrodrizzle       config_testbed      imagefindpars           mapreg       \n",
            "       photeq            pixreplace           pixtopix            pixtosky      \n",
            "  refimagefindpars       resetbits          runastrodriz          skytopix      \n",
            "     tweakback            tweakreg           updatenpol\n"
          ]
        }
      ]
    },
    {
      "cell_type": "code",
      "execution_count": 4,
      "metadata": {
        "id": "wdueubA3wF_a"
      },
      "outputs": [],
      "source": [
        "class jpipe():\n",
        "    def __init__(self, input_files=[], out_dir='.',\n",
        "                 crds_context=\"jwst_1258.pmap\", crds_dir='.'):\n",
        "        \"\"\"\n",
        "            Parameters\n",
        "            ----------\n",
        "            input_files: list,\n",
        "                         Input list of level 0 '_uncal.fits' files.\n",
        "                         Recommended: /data/stage0/\n",
        "            out_dir: str,\n",
        "                     Output directory.\n",
        "                     Recommended: The directory that contains /data/stage0/\n",
        "                     Pipeline will create /data/stage1/ and /data/stage2/\n",
        "\n",
        "            crds_context: str,\n",
        "                          Reference context for JWST pipeline from CRDS.\n",
        "\n",
        "              Returns\n",
        "              -------\n",
        "                  None\n",
        "\n",
        "        \"\"\"\n",
        "        client.set_crds_server(\"https://jwst-crds.stsci.edu\")\n",
        "        if os.access(crds_dir,os.W_OK):\n",
        "            crds_dir += '/CRDS/'\n",
        "            os.makedirs(crds_dir, exist_ok=True)\n",
        "        else:\n",
        "            raise Exception(f\"{crds_dir} is not WRITABLE\")\n",
        "\n",
        "        os.environ['CRDS_PATH'] = str(crds_dir)\n",
        "        os.environ[\"CRDS_SERVER_URL\"] = \"https://jwst-crds.stsci.edu\"\n",
        "        if len(input_files)<1:\n",
        "            raise Exception(\"Input files list CANNOT be empty!\")\n",
        "        self.input_files = input_files\n",
        "        self.out_dir = out_dir\n",
        "        if os.access(out_dir,os.W_OK):\n",
        "            os.makedirs(out_dir + '/stage1/', exist_ok=True)\n",
        "            os.makedirs(out_dir + '/stage2/', exist_ok=True)\n",
        "            os.makedirs(out_dir + '/stage3/', exist_ok=True)\n",
        "        else:\n",
        "            raise Exception(f\"{out_dir} is not WRITABLE\")\n",
        "\n",
        "        os.environ[\"CRDS_CONTEXT\"] = crds_context\n",
        "\n",
        "    def stage1_pipeline(self, filename):\n",
        "        \"\"\"\n",
        "            Parameters\n",
        "            ----------\n",
        "            filename: str,\n",
        "                      path to the level 0 \"_uncal.fits\" file\n",
        "            Returns\n",
        "            -------\n",
        "                None\n",
        "        \"\"\"\n",
        "        # Instantiate the pipeline\n",
        "        img1 = Detector1Pipeline()\n",
        "        # Snowball Removal (M82 Group)\n",
        "        img1.jump.expand_large_events = True\n",
        "        # Specify where the output should go\n",
        "        img1.output_dir = self.out_dir + '/stage1/'\n",
        "        # Save the final resulting _rate.fits files\n",
        "        img1.save_results = True\n",
        "        #No of cores\n",
        "        img1.jump.maximum_cores = f'{mp.cpu_count()-1}'\n",
        "        # Run the pipeline on an input list of files\n",
        "        img1(filename)\n",
        "\n",
        "    def stage2_pipeline(self, filename):\n",
        "        \"\"\"\n",
        "            Parameters\n",
        "            ----------\n",
        "            filename: str,\n",
        "                      path to the level 1 \"_rate.fits\" file\n",
        "            Returns\n",
        "            -------\n",
        "                None\n",
        "        \"\"\"\n",
        "        # Instantiate the pipeline\n",
        "        img2 = Image2Pipeline()\n",
        "        # Specify where the output should go\n",
        "        img2.output_dir = self.out_dir + '/stage2/'\n",
        "        # Save the final resulting _rate.fits files\n",
        "        img2.save_results = True\n",
        "        # Run the pipeline on an input list of files\n",
        "        img2(filename)\n",
        "\n",
        "        # TBD: Add 1/f noise subtraction\n",
        "        #\n",
        "        #\n",
        "        #\n",
        "        #\n",
        "\n",
        "    def stage3_pipeline(self, filenames):\n",
        "        \"\"\"\n",
        "            Parameters\n",
        "            ----------\n",
        "            filename: str,\n",
        "                      list of paths to the level 2 \"_cal.fits\" files\n",
        "\n",
        "                      if a single file is provided only\n",
        "                      resample and source_catalog steps will be applied.\n",
        "            Returns\n",
        "            -------\n",
        "                None\n",
        "        \"\"\"\n",
        "        # Instantiate the pipeline\n",
        "        img3 = Image3Pipeline()\n",
        "        # Specify where the output should go\n",
        "        img3.output_dir = self.out_dir + '/stage3/'\n",
        "        # Save the final resulting _rate.fits files\n",
        "        img3.save_results = True\n",
        "        # Run the pipeline on an input list of files\n",
        "        img3(filenames)\n",
        "\n",
        "    def __call__(self):\n",
        "        \"\"\"\n",
        "            Runs the JWST Stage 1, Stage 2, and Stage 3 pipeline for generating\n",
        "            '_crf.fits' files\n",
        "        \"\"\"\n",
        "        # Stage1\n",
        "        uncal_files = [i for i in self.input_files if 'uncal' in i ]\n",
        "        uncal_names = [i.split('/')[-1] for i in uncal_files]\n",
        "\n",
        "        rate_files = [self.out_dir + '/stage1/' + i.replace('uncal', 'rate') \\\n",
        "                      for i in uncal_names]\n",
        "\n",
        "        [ self.stage1_pipeline(f) for n,f in enumerate(uncal_files)\\\n",
        "         if not os.path.exists(rate_files[n]) ]\n",
        "\n",
        "        # Stage 2\n",
        "        rate_files_ = [f for f in rate_files if not os.path.exists(f.replace('stage1', 'stage2').replace('rate', 'cal'))]\n",
        "\n",
        "        if len(rate_files_)>0:\n",
        "            with mp.Pool(mp.cpu_count()-1) as p:\n",
        "                p.map(self.stage2_pipeline, rate_files_)\n",
        "\n",
        "        # Stage 3\n",
        "        cal_files = [f.replace('stage1', 'stage2').replace('rate', 'cal') for f in rate_files]\n",
        "        cal_files_ = [f for f in cal_files if not os.path.exists(f.replace('stage2', 'stage3').replace('cal', 'crf'))]\n",
        "\n",
        "        if len(cal_files_) > 0:\n",
        "            self.stage3_pipeline(cal_files)"
      ]
    },
    {
      "cell_type": "code",
      "source": [
        "class hstpipe():\n",
        "    def __init__(self, input_files=[], out_dir='.',\n",
        "                 crds_context=\"jwst_1258.pmap\", crds_dir='.'):\n",
        "        \"\"\"\n",
        "            Parameters\n",
        "            ----------\n",
        "            input_files: list,\n",
        "                         Input list of level 0 '_uncal.fits' files.\n",
        "                         Recommended: /data/stage0/\n",
        "            out_dir: str,\n",
        "                     Output directory.\n",
        "                     Recommended: The directory that contains /data/stage0/\n",
        "                     Pipeline will create /data/stage1/ and /data/stage2/\n",
        "\n",
        "            crds_context: str,\n",
        "                          Reference context for JWST pipeline from CRDS.\n",
        "\n",
        "              Returns\n",
        "              -------\n",
        "                  None\n",
        "\n",
        "        \"\"\"\n",
        "\n",
        "\n",
        "        client.set_crds_server(\"https://hst-crds.stsci.edu\")\n",
        "        if os.access(crds_dir,os.W_OK):\n",
        "            crds_dir += '/CRDS/'\n",
        "            os.makedirs(crds_dir, exist_ok=True)\n",
        "        else:\n",
        "            raise Exception(f\"{crds_dir} is not WRITABLE\")\n",
        "\n",
        "        os.environ['CRDS_SERVER_URL'] = 'https://hst-crds.stsci.edu'\n",
        "        os.environ['CRDS_SERVER'] = 'https://hst-crds.stsci.edu'\n",
        "\n",
        "        if len(input_files)<1:\n",
        "            raise Exception(\"Input files list CANNOT be empty!\")\n",
        "\n",
        "        self.input_files = input_files\n",
        "\n",
        "        for file in input_files:\n",
        "          command_line_input = 'crds bestrefs --files {:} --sync-references=1 --update-bestrefs'.format(file)\n",
        "          os.system(command_line_input)\n",
        "\n",
        "        self.out_dir = out_dir\n",
        "        if os.access(out_dir,os.W_OK):\n",
        "            os.makedirs(out_dir + '/stage1/', exist_ok=True)\n",
        "            os.makedirs(out_dir + '/stage2/', exist_ok=True)\n",
        "            os.makedirs(out_dir + '/stage3/', exist_ok=True)\n",
        "        else:\n",
        "            raise Exception(f\"{out_dir} is not WRITABLE\")\n",
        "\n",
        "    def stage2_pipeline(self, filenames):\n",
        "        \"\"\"\n",
        "            Parameters\n",
        "            ----------\n",
        "            filename: str,\n",
        "                      path to the level 0 \"_uncal.fits\" file\n",
        "            Returns\n",
        "            -------\n",
        "                None\n",
        "        \"\"\"\n",
        "        calwf3(filenames)\n",
        "\n",
        "        flt_files = glob('./*_flt.fits')\n",
        "        flt_files_n = []\n",
        "\n",
        "        for f in flt_files:\n",
        "          flt_n = self.out_dir + '/stage2/' + i.split('/')[-1]\n",
        "          flt_files_n.append(flt_n)\n",
        "          os.rename(f, flt_n)\n",
        "\n",
        "        for flt in flt_files_n:\n",
        "          updatewcs.updatewcs(input=flt)\n",
        "\n",
        "    def stage3_pipeline(self, filenames):\n",
        "        \"\"\"\n",
        "            Parameters\n",
        "            ----------\n",
        "            filename: str,\n",
        "                      path to the level 1 \"_rate.fits\" file\n",
        "            Returns\n",
        "            -------\n",
        "                None\n",
        "        \"\"\"\n",
        "        astrodrizzle.AstroDrizzle(filenames)\n",
        "\n",
        "\n",
        "    def __call__(self):\n",
        "        \"\"\"\n",
        "            Runs the HST CALWF3 pipeline and astrodrizzle for generating\n",
        "            '_crf.fits' files and drz image\n",
        "        \"\"\"\n",
        "        # Stage2\n",
        "        raw_files = [i for i in self.input_files if 'raw' in i]\n",
        "        self.stage1_pipeline(raw_files)\n",
        "\n",
        "        flt_names = [f.replace('raw', 'flt') for f in self.input_files]\n",
        "        flt_files = [self.out_dir + '/stage1/' + i for i in flt_names]\n",
        "\n",
        "        # Stage 3\n",
        "        if len(flt_files) > 0:\n",
        "            self.stage3_pipeline(flt_files)"
      ],
      "metadata": {
        "id": "DBe8bIU6a945"
      },
      "execution_count": 5,
      "outputs": []
    },
    {
      "cell_type": "markdown",
      "metadata": {
        "id": "wbpks6fzxMSe"
      },
      "source": [
        "# **Photometry**"
      ]
    },
    {
      "cell_type": "code",
      "execution_count": 6,
      "metadata": {
        "id": "yCGUuB65xMSf"
      },
      "outputs": [],
      "source": [
        "import os\n",
        "from glob import glob\n",
        "from astropy.table import Table\n",
        "from astropy.wcs import WCS\n",
        "from astropy.io import fits\n",
        "import numpy as np\n",
        "import multiprocessing as mp\n",
        "from pathlib import Path\n",
        "import subprocess\n",
        "\n",
        "param_dir_default = '/content/pydol/src/pydol/photometry/params'# str(Path(__file__).parent.joinpath('params'))\n",
        "script_dir = '/content/pydol/src/pydol/photometry/scripts'#str(Path(__file__).parent.joinpath('scripts'))"
      ]
    },
    {
      "cell_type": "code",
      "execution_count": 7,
      "metadata": {
        "id": "GCUrhr7uxMSg"
      },
      "outputs": [],
      "source": [
        "def nircam_phot(cal_files, filter='f200w',output_dir='.', drz_path='.',\n",
        "                cat_name='', param_file=None,sharp_cut=0.01,\n",
        "                crowd_cut=0.5):\n",
        "    \"\"\"\n",
        "        Parameters\n",
        "        ---------\n",
        "        cal_files: list,\n",
        "                    list of paths to JWST NIRCAM level 2 _cal.fits files\n",
        "        filter: str,\n",
        "                name of the NIRCAM filter being processed\n",
        "        output_dir: str,\n",
        "                    path to output directory.\n",
        "                    Recommended: /photometry/\n",
        "        drz_path: str,\n",
        "                  path to level 3 drizzled image (_i2d.fits) image.\n",
        "                  It is recommended to be inside /photometry/\n",
        "        cat_name: str,\n",
        "                  Output photometry catalogs will have prefix filter + cat_name\n",
        "\n",
        "        Return\n",
        "        ------\n",
        "        None\n",
        "    \"\"\"\n",
        "    if len(cal_files)<1:\n",
        "        raise Exception(\"cal_files cannot be EMPTY\")\n",
        "\n",
        "    subprocess.run([f\"nircammask {drz_path}.fits\"], shell=True)\n",
        "    if not os.path.exists(output_dir):\n",
        "        os.mkdir(output_dir)\n",
        "\n",
        "    if param_file is None or not os.path.exists(param_file) :\n",
        "      print(\"Using Default params\")\n",
        "      edit_params = True\n",
        "      param_file = param_dir_default + '/nircam_dolphot.param'\n",
        "    else:\n",
        "      edit_params = False\n",
        "\n",
        "    out_id = filter + cat_name\n",
        "\n",
        "    # Generating directories\n",
        "    exps = []\n",
        "    for i,f in enumerate(cal_files):\n",
        "        out_dir = f.split('/')[-1].split('.')[0]\n",
        "\n",
        "        if not os.path.exists(f'{output_dir}/{out_dir}'):\n",
        "            os.mkdir(f'{output_dir}/{out_dir}')\n",
        "        if not os.path.exists(f\"{output_dir}/{out_dir}/data.fits\"):\n",
        "            subprocess.run([f\"cp {f} {output_dir}/{out_dir}/data.fits\"],\n",
        "                                shell=True)\n",
        "\n",
        "        exps.append(f'{output_dir}/{out_dir}')\n",
        "\n",
        "    # Applying NIRCAM Mask\n",
        "    print(\"Running NIRCAMMASK and CALCSKY...\")\n",
        "    for f in exps:\n",
        "        if not os.path.exists(f\"{f}/data.sky.fits\"):\n",
        "            out = subprocess.run([f\"nircammask {f}/data.fits\"]\n",
        "                                    ,shell=True)\n",
        "\n",
        "            out = subprocess.run([f\"calcsky {f}/data 10 25 2 2.25 2.00\"]\n",
        "                                , shell=True, capture_output=True)\n",
        "    if edit_params:\n",
        "      # Preparing Parameter file DOLPHOT NIRCAM\n",
        "      with open(param_file) as f:\n",
        "                  dat = f.readlines()\n",
        "\n",
        "      dat[0] = f'Nimg = {len(exps)}                #number of images (int)\\n'\n",
        "      dat[4] = f'img0_file = {drz_path}\\n'\n",
        "      dat[5] = ''\n",
        "\n",
        "      for i,f in enumerate(exps):\n",
        "          dat[5] += f'img{i+1}_file = {f}/data           #image {i+1}\\n'\n",
        "\n",
        "      with open(f\"{output_dir}/nircam_dolphot_{out_id}.param\", 'w', encoding='utf-8') as f:\n",
        "          f.writelines(dat)\n",
        "      param_file = f\"{output_dir}/nircam_dolphot_{out_id}.param\"\n",
        "    if not os.path.exists(f\"{output_dir}/{out_id}_photometry.fits\"):\n",
        "        # Running DOLPHOT NIRCAM\n",
        "        p = subprocess.Popen([\"dolphot\", f\"{output_dir}/out\", f\"-p{param_file}\"]\n",
        "                            , stdout=subprocess.PIPE, stderr=subprocess.PIPE,\n",
        "                             text=True)\n",
        "        while (line := p.stdout.readline()) != \"\":\n",
        "          print(line)\n",
        "    # Generating Astropy FITS Table\n",
        "\n",
        "        out = subprocess.run([f\"python {script_dir}/to_table.py --o {out_id}_photometry --n {len(exps)} --f {output_dir}/out\"],\n",
        "                       shell=True)\n",
        "\n",
        "        phot_table = Table.read(f\"{output_dir}/{out_id}_photometry.fits\")\n",
        "\n",
        "        # Assingning RA-Dec using reference image\n",
        "        hdu = fits.open(f\"{drz_path}.fits\")[1]\n",
        "\n",
        "        wcs = WCS(hdu.header)\n",
        "        positions = np.transpose([phot_table['x'] - 0.5, phot_table['y']-0.5])\n",
        "\n",
        "        coords = np.array(wcs.pixel_to_world_values(positions))\n",
        "\n",
        "        phot_table['ra']  = coords[:,0]\n",
        "        phot_table['dec'] = coords[:,1]\n",
        "\n",
        "        # Filtering stellar photometry catalog using Warfield et.al (2023)\n",
        "        phot_table1 = phot_table[ (phot_table['obj_sharpness']**2<= sharp_cut) &\n",
        "                                    (phot_table['obj_crowd']<= crowd_cut) &\n",
        "                                    (phot_table['type'] <= 2)]\n",
        "        flag_keys = []\n",
        "        for key in phot_table1.keys():\n",
        "            if 'flag' in key:\n",
        "                flag_keys.append(key)\n",
        "        for i in flag_keys:\n",
        "            phot_table1  = phot_table1[phot_table1[i]<=2]\n",
        "\n",
        "        SNR_keys = []\n",
        "        for key in phot_table1.keys():\n",
        "            if 'SNR' in key:\n",
        "                SNR_keys.append(key)\n",
        "        for i in SNR_keys:\n",
        "            phot_table1  = phot_table1[phot_table1[i]>=5]\n",
        "\n",
        "        phot_table.write(f'{output_dir}/{out_id}_photometry.fits', overwrite=True)\n",
        "        phot_table1.write(f'{output_dir}/{out_id}_photometry_filt.fits', overwrite=True)\n",
        "    print('NIRCAM Stellar Photometry Completed!')"
      ]
    },
    {
      "cell_type": "markdown",
      "source": [
        "# **Testing**"
      ],
      "metadata": {
        "id": "YIJjhOGZyQrh"
      }
    },
    {
      "cell_type": "code",
      "source": [
        "!wget http://americano.dolphinsim.com/dolphot/dolphot2.0.tar.gz\n",
        "!wget http://americano.dolphinsim.com/dolphot/dolphot2.0.NIRCAM.tar.gz\n",
        "!wget http://americano.dolphinsim.com/dolphot/nircam_F200W.tar.gz"
      ],
      "metadata": {
        "id": "0TnkP8zr1MzI",
        "outputId": "4238bf3e-41ca-4dfa-fa7d-a19b79dd1cda",
        "colab": {
          "base_uri": "https://localhost:8080/"
        }
      },
      "execution_count": null,
      "outputs": [
        {
          "output_type": "stream",
          "name": "stdout",
          "text": [
            "--2024-08-25 17:22:22--  http://americano.dolphinsim.com/dolphot/dolphot2.0.tar.gz\n",
            "Resolving americano.dolphinsim.com (americano.dolphinsim.com)... 64.139.89.252\n",
            "Connecting to americano.dolphinsim.com (americano.dolphinsim.com)|64.139.89.252|:80... connected.\n",
            "HTTP request sent, awaiting response... 200 OK\n",
            "Length: 270579 (264K) [application/x-gzip]\n",
            "Saving to: ‘dolphot2.0.tar.gz’\n",
            "\n",
            "dolphot2.0.tar.gz   100%[===================>] 264.24K   353KB/s    in 0.7s    \n",
            "\n",
            "2024-08-25 17:22:23 (353 KB/s) - ‘dolphot2.0.tar.gz’ saved [270579/270579]\n",
            "\n",
            "--2024-08-25 17:22:23--  http://americano.dolphinsim.com/dolphot/dolphot2.0.NIRCAM.tar.gz\n",
            "Resolving americano.dolphinsim.com (americano.dolphinsim.com)... 64.139.89.252\n",
            "Connecting to americano.dolphinsim.com (americano.dolphinsim.com)|64.139.89.252|:80... connected.\n",
            "HTTP request sent, awaiting response... 200 OK\n",
            "Length: 82691 (81K) [application/x-gzip]\n",
            "Saving to: ‘dolphot2.0.NIRCAM.tar.gz’\n",
            "\n",
            "dolphot2.0.NIRCAM.t 100%[===================>]  80.75K   195KB/s    in 0.4s    \n",
            "\n",
            "2024-08-25 17:22:23 (195 KB/s) - ‘dolphot2.0.NIRCAM.tar.gz’ saved [82691/82691]\n",
            "\n",
            "--2024-08-25 17:22:23--  http://americano.dolphinsim.com/dolphot/nircam_F200W.tar.gz\n",
            "Resolving americano.dolphinsim.com (americano.dolphinsim.com)... 64.139.89.252\n",
            "Connecting to americano.dolphinsim.com (americano.dolphinsim.com)|64.139.89.252|:80... connected.\n",
            "HTTP request sent, awaiting response... 200 OK\n",
            "Length: 85906032 (82M) [application/x-gzip]\n",
            "Saving to: ‘nircam_F200W.tar.gz’\n",
            "\n",
            "nircam_F200W.tar.gz  27%[====>               ]  22.51M   682KB/s    eta 94s    "
          ]
        }
      ]
    },
    {
      "cell_type": "code",
      "source": [
        "!tar -xf dolphot2.0.tar.gz\n",
        "!tar -xf dolphot2.0.NIRCAM.tar.gz\n",
        "!tar -xf nircam_F200W.tar.gz"
      ],
      "metadata": {
        "id": "wg2475Qu1MzV"
      },
      "execution_count": null,
      "outputs": []
    },
    {
      "cell_type": "code",
      "source": [
        "with open('/content/dolphot2.0/Makefile') as f:\n",
        "  dat = f.readlines()\n",
        "dat[28]= dat[28][1:]\n",
        "\n",
        "with open('/content/dolphot2.0/Makefile','w') as f:\n",
        "  f.writelines(dat)"
      ],
      "metadata": {
        "id": "jKCsMpb6wH_r"
      },
      "execution_count": null,
      "outputs": []
    },
    {
      "cell_type": "code",
      "source": [
        "cd /content/dolphot2.0/"
      ],
      "metadata": {
        "id": "NlkPlng2wLgD"
      },
      "execution_count": null,
      "outputs": []
    },
    {
      "cell_type": "code",
      "source": [
        "import os"
      ],
      "metadata": {
        "id": "WRly3C-Mx2l5"
      },
      "execution_count": null,
      "outputs": []
    },
    {
      "cell_type": "code",
      "source": [
        "os.system('make all')"
      ],
      "metadata": {
        "id": "ypCNlUNdwOtE"
      },
      "execution_count": null,
      "outputs": []
    },
    {
      "cell_type": "code",
      "source": [
        "cd /content/"
      ],
      "metadata": {
        "id": "DElkTjjuyUe4"
      },
      "execution_count": null,
      "outputs": []
    },
    {
      "cell_type": "code",
      "source": [
        "os.environ['PATH'] += ':/content/dolphot2.0/bin'\n",
        "os.environ['PATH'] += ':/content/dolphot2.0/nircam'"
      ],
      "metadata": {
        "id": "30C9YUDnBqTR"
      },
      "execution_count": null,
      "outputs": []
    },
    {
      "cell_type": "code",
      "source": [
        "from glob import glob\n",
        "import astropy.io.fits as fits\n",
        "\n",
        "import os\n",
        "import astroquery\n",
        "from astroquery.mast import Observations\n",
        "import pandas as pd\n",
        "\n",
        "from astropy.table import Table, unique, vstack\n",
        "from astropy.wcs import WCS\n",
        "import numpy as np\n",
        "import multiprocessing as mp\n",
        "import matplotlib.pyplot as plt\n",
        "import json\n",
        "from astropy.coordinates import angular_separation\n",
        "import astropy.units as u\n",
        "import multiprocessing as mp"
      ],
      "metadata": {
        "id": "38NgKMg2yiP7"
      },
      "execution_count": null,
      "outputs": []
    },
    {
      "cell_type": "code",
      "source": [
        "#Example data for F200W filter for NGC628\n",
        "obs_table = Observations.query_criteria(proposal_id=[\"1783\"],objectname=\"NGC628\",filters= ['F115W', 'F150W', 'F200W'])[:3]\n",
        "\n",
        "t = [Observations.get_product_list(obs) for obs in obs_table]\n",
        "files = unique(vstack(t), keys='productFilename')"
      ],
      "metadata": {
        "id": "mG0g8-TtyBDt"
      },
      "execution_count": null,
      "outputs": []
    },
    {
      "cell_type": "code",
      "source": [
        "mast_dir = 'mast:jwst/product' # Download from MAST\n",
        "data_dir = '/content/data/stage0/'  # save downloaded data\n",
        "os.makedirs(data_dir, exist_ok=True)\n",
        "\n",
        "manifest = Observations.download_products(\n",
        "           files[:10],\n",
        "           productSubGroupDescription='UNCAL',\n",
        "           download_dir = data_dir,\n",
        "           flat = True,\n",
        "           )"
      ],
      "metadata": {
        "id": "BHIOEILx4n0S"
      },
      "execution_count": null,
      "outputs": []
    },
    {
      "cell_type": "code",
      "source": [
        "#Example data for NGC628\n",
        "\n",
        "mast_dir = 'mast:jwst/product' # Download from MAST\n",
        "data_dir = '/content/photometry/'  # save downloaded data\n",
        "os.makedirs(data_dir, exist_ok=True)\n",
        "\n",
        "manifest = Observations.download_products(\n",
        "           files,\n",
        "           productSubGroupDescription='I2D',\n",
        "           filters=['F200W'],\n",
        "           calib_level=[3],\n",
        "           download_dir = data_dir,\n",
        "           flat = True,\n",
        "           )"
      ],
      "metadata": {
        "id": "V1icmNmU4wgA"
      },
      "execution_count": null,
      "outputs": []
    },
    {
      "cell_type": "code",
      "source": [
        "input_files = glob(f'./data/stage0/*')\n",
        "out_dir = './data'\n",
        "jwst_data = jpipe(input_files, out_dir,crds_dir='.')\n",
        "jwst_data()"
      ],
      "metadata": {
        "id": "GPrxk6nryqqf"
      },
      "execution_count": null,
      "outputs": []
    },
    {
      "cell_type": "code",
      "source": [
        "crf_files = glob(f'/content/data/stage3/*crf.fits')"
      ],
      "metadata": {
        "id": "exvdchLNyxMw"
      },
      "execution_count": null,
      "outputs": []
    },
    {
      "cell_type": "code",
      "source": [
        "nircam_phot(crf_files, 'f212n','/content/photometry',\n",
        "                          '/content/photometry/jw01783-o004_t008_nircam_clear-f200w_i2d')"
      ],
      "metadata": {
        "id": "vTcTQGNEzGkk"
      },
      "execution_count": null,
      "outputs": []
    },
    {
      "cell_type": "code",
      "source": [
        "# to_table.py\n",
        "\n",
        "with open('../photometry/out.columns') as f\n",
        "  cols = f.readlines()\n",
        "  for n, i in enumerate(cols):\n",
        "    if 'Measured' in i:\n",
        "      print(n)\n",
        "      n_filt = (n - 11)//13\n",
        "      break\n",
        "\n",
        "filts = [cols[11+ i*13].split('NIRCAM_')[-1][:-1] for i in range(n_filt)]\n",
        "\n",
        "col_source = ['ext','chip','x','y','chi_fit','obj_SNR','obj_sharpness','obj_roundness','dir_maj_axis','obj_crowd','type',]\n",
        "col_filt = ['counts_tot','sky_tot','count_rate','count_rate_err','mag_vega','mag_ubvri','mag_err','chi','SNR','sharpness','roundness','crowd','flags']\n",
        "\n",
        "out_cols = col_source\n",
        "for i in filts:\n",
        "    for j in col_filt:\n",
        "        out_cols.append(j + '_' + i)\n",
        "\n",
        "with open('../photometry/out') as f:\n",
        "    dat = f.readlines()\n",
        "data = np.array([i.split()[:len(out_cols)] for i in dat]).astype(float)"
      ],
      "metadata": {
        "id": "8RLVYsMpaq5b"
      },
      "execution_count": null,
      "outputs": []
    }
  ],
  "metadata": {
    "colab": {
      "provenance": [],
      "include_colab_link": true
    },
    "kernelspec": {
      "display_name": "Python 3",
      "name": "python3"
    },
    "language_info": {
      "name": "python"
    }
  },
  "nbformat": 4,
  "nbformat_minor": 0
}