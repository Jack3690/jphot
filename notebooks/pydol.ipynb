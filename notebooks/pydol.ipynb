{
  "cells": [
    {
      "cell_type": "markdown",
      "metadata": {
        "id": "view-in-github",
        "colab_type": "text"
      },
      "source": [
        "<a href=\"https://colab.research.google.com/github/Jack3690/pydol/blob/main/notebooks/pydol.ipynb\" target=\"_parent\"><img src=\"https://colab.research.google.com/assets/colab-badge.svg\" alt=\"Open In Colab\"/></a>"
      ]
    },
    {
      "cell_type": "code",
      "source": [
        "!pip install jwst -q\n",
        "!pip install crds -q"
      ],
      "metadata": {
        "id": "KjZY746UxOfk"
      },
      "execution_count": null,
      "outputs": []
    },
    {
      "cell_type": "markdown",
      "metadata": {
        "id": "HdotZvxJpGb-"
      },
      "source": [
        "# **Pipeline**"
      ]
    },
    {
      "cell_type": "code",
      "execution_count": 3,
      "metadata": {
        "id": "8i7obQzlwD77"
      },
      "outputs": [],
      "source": [
        "from jwst.pipeline import Detector1Pipeline, Image2Pipeline, Image3Pipeline\n",
        "import jwst.associations\n",
        "\n",
        "from glob import glob\n",
        "\n",
        "import os\n",
        "from crds import client\n",
        "import jwst\n",
        "import multiprocessing as mp\n",
        "from pathlib import Path\n",
        "\n",
        "crds_dir = \"/content/CRDS/crds_cache\"#Path(__file__).parent.joinpath('CRDS')/'crds_cache'\n",
        "os.makedirs(crds_dir, exist_ok=True)\n",
        "os.environ['CRDS_PATH'] = str(crds_dir)\n",
        "os.environ[\"CRDS_SERVER_URL\"] = \"https://jwst-crds.stsci.edu\"\n",
        "client.set_crds_server(\"https://jwst-crds.stsci.edu\")\n"
      ]
    },
    {
      "cell_type": "code",
      "execution_count": 4,
      "metadata": {
        "id": "wdueubA3wF_a"
      },
      "outputs": [],
      "source": [
        "class jpipe():\n",
        "    def __init__(self, input_files=[], out_dir='.',\n",
        "                 crds_context=\"jwst_1241.pmap\"):\n",
        "        \"\"\"\n",
        "            Parameters\n",
        "            ----------\n",
        "            input_files: list,\n",
        "                         Input list of level 0 '_uncal.fits' files.\n",
        "                         Recommended: /data/stage0/\n",
        "            out_dir: str,\n",
        "                     Output directory.\n",
        "                     Recommended: The directory that contains /data/stage0/\n",
        "                     Pipeline will create /data/stage1/ and /data/stage2/\n",
        "\n",
        "            crds_context: str,\n",
        "                          Reference context for JWST pipeline from CRDS.\n",
        "\n",
        "              Returns\n",
        "              -------\n",
        "                  None\n",
        "\n",
        "        \"\"\"\n",
        "        if len(input_files)<1:\n",
        "            raise Exception(\"Input files list CANNOT be empty!\")\n",
        "        self.input_files = input_files\n",
        "        self.out_dir = out_dir\n",
        "        os.makedirs(out_dir + '/data/stage1/', exist_ok=True)\n",
        "        os.makedirs(out_dir + '/data/stage2/', exist_ok=True)\n",
        "        os.environ[\"CRDS_CONTEXT\"] = crds_context\n",
        "\n",
        "    def stage1(self, filename):\n",
        "        \"\"\"\n",
        "            Parameters\n",
        "            ----------\n",
        "            filename: str,\n",
        "                      path to the level 0 \"_uncal.fits\" file\n",
        "            Returns\n",
        "            -------\n",
        "                None\n",
        "        \"\"\"\n",
        "        # Instantiate the pipeline\n",
        "        img1 = Detector1Pipeline()\n",
        "        # Specify where the output should go\n",
        "        img1.output_dir = self.out_dir + '/data/stage1/'\n",
        "        # Save the final resulting _rate.fits files\n",
        "        img1.save_results = True\n",
        "        #No of cores\n",
        "        img1.jump.maximum_cores = f'{mp.cpu_count()-1}'\n",
        "        # Run the pipeline on an input list of files\n",
        "        img1(filename)\n",
        "\n",
        "    def stage2(self, filename):\n",
        "        \"\"\"\n",
        "            Parameters\n",
        "            ----------\n",
        "            filename: str,\n",
        "                      path to the level 1 \"_rate.fits\" file\n",
        "            Returns\n",
        "            -------\n",
        "                None\n",
        "        \"\"\"\n",
        "        # Instantiate the pipeline\n",
        "        img2 = Image2Pipeline()\n",
        "        # Specify where the output should go\n",
        "        img2.output_dir = self.out_dir + '/data/stage2/'\n",
        "        # Save the final resulting _rate.fits files\n",
        "        img2.save_results = True\n",
        "        # Run the pipeline on an input list of files\n",
        "        img2(filename)\n",
        "\n",
        "    def __call__(self):\n",
        "        \"\"\"\n",
        "            Runs the JWST Stage 1 and Stage 2 pipeline for generating\n",
        "            '_cal.fits' files\n",
        "        \"\"\"\n",
        "        uncal_files = [i for i in self.input_files if 'uncal' in i ]\n",
        "        for f in uncal_files:\n",
        "            o = f.replace('stage0','stage1')\n",
        "            o = o.replace('uncal','rate')\n",
        "            if not os.path.exists(o):\n",
        "                self.stage1(f)\n",
        "\n",
        "        rate_files = glob(self.out_dir + '/data/stage1/*_rate.fits')\n",
        "        rate_files_ = []\n",
        "        for f in rate_files:\n",
        "            o = f.replace('stage1','stage2')\n",
        "            o = o.replace('rate','cal')\n",
        "            if not os.path.exists(o):\n",
        "                rate_files_.append(f)\n",
        "\n",
        "        if len(rate_files_)>0:\n",
        "            with mp.Pool(mp.cpu_count()-1) as p:\n",
        "                p.map(self.stage2, rate_files_)"
      ]
    },
    {
      "cell_type": "markdown",
      "metadata": {
        "id": "wbpks6fzxMSe"
      },
      "source": [
        "# **Photometry**"
      ]
    },
    {
      "cell_type": "code",
      "execution_count": 5,
      "metadata": {
        "id": "yCGUuB65xMSf"
      },
      "outputs": [],
      "source": [
        "import os\n",
        "from glob import glob\n",
        "from astropy.table import Table\n",
        "from astropy.wcs import WCS\n",
        "from astropy.io import fits\n",
        "import numpy as np\n",
        "import multiprocessing as mp\n",
        "from pathlib import Path\n",
        "import subprocess\n",
        "\n",
        "param_dir = '/content/params'# str(Path(__file__).parent.joinpath('params'))\n",
        "script_dir = '/content/scripts'#str(Path(__file__).parent.joinpath('scripts'))"
      ]
    },
    {
      "cell_type": "code",
      "execution_count": 21,
      "metadata": {
        "colab": {
          "base_uri": "https://localhost:8080/"
        },
        "id": "GCUrhr7uxMSg",
        "outputId": "0863ae3b-a769-452f-81f9-38ed5094c0f9"
      },
      "outputs": [
        {
          "output_type": "stream",
          "name": "stderr",
          "text": [
            "WARNING:py.warnings:/usr/local/lib/python3.10/dist-packages/ipykernel/ipkernel.py:283: DeprecationWarning: `should_run_async` will not call `transform_cell` automatically in the future. Please pass the result to `transformed_cell` argument and any exception that happen during thetransform in `preprocessing_exc_tuple` in IPython 7.17 and above.\n",
            "  and should_run_async(code)\n",
            "\n",
            "2024-06-28 03:11:55,925 - stpipe - WARNING - /usr/local/lib/python3.10/dist-packages/ipykernel/ipkernel.py:283: DeprecationWarning: `should_run_async` will not call `transform_cell` automatically in the future. Please pass the result to `transformed_cell` argument and any exception that happen during thetransform in `preprocessing_exc_tuple` in IPython 7.17 and above.\n",
            "  and should_run_async(code)\n",
            "\n",
            "WARNING:stpipe:/usr/local/lib/python3.10/dist-packages/ipykernel/ipkernel.py:283: DeprecationWarning: `should_run_async` will not call `transform_cell` automatically in the future. Please pass the result to `transformed_cell` argument and any exception that happen during thetransform in `preprocessing_exc_tuple` in IPython 7.17 and above.\n",
            "  and should_run_async(code)\n",
            "\n"
          ]
        }
      ],
      "source": [
        "def nircam_phot(cal_files, name='f200w',output_dir='.', drz_path='.', ):\n",
        "    subprocess.run([\"nircammask\", f\"{drz_path}.fits\"], shell=True)\n",
        "    if not os.path.exists(output_dir):\n",
        "        os.mkdir(output_dir)\n",
        "\n",
        "    # Generating directories\n",
        "    exps = []\n",
        "    for i,f in enumerate(cal_files):\n",
        "        out_dir = f.split('/')[-1].split('.')[0]\n",
        "\n",
        "        if not os.path.exists(f'{output_dir}/{out_dir}'):\n",
        "            os.mkdir(f'{output_dir}/{out_dir}')\n",
        "        if not os.path.exists(f\"{output_dir}/{out_dir}/data.fits\"):\n",
        "            subprocess.run([f\"cp {f} {output_dir}/{out_dir}/data.fits\"],\n",
        "                                 shell=True, capture_output=True)\n",
        "\n",
        "        exps.append(f'{output_dir}/{out_dir}')\n",
        "\n",
        "    # Applying NIRCAM Mask\n",
        "    for f in exps:\n",
        "        if not os.path.exists(f\"{f}/data.sky.fits\"):\n",
        "            out = subprocess.run([f\"nircammask\", f\"{f}/data.fits\"]\n",
        "                                 ,shell=True, capture_output=True)\n",
        "            print(out)\n",
        "            subprocess.run([\"calcsky\", f\"{f}/data\", \"10\", \"25\", \"2\", \"2.25\", \"2.00\"], shell=True)\n",
        "\n",
        "    # Preparing Parameter file DOLPHOT NIRCAM\n",
        "    with open(f\"{param_dir}/nircam_dolphot.param\") as f:\n",
        "                dat = f.readlines()\n",
        "\n",
        "    dat[0] = f'Nimg = {len(exps)}                #number of images (int)\\n'\n",
        "    dat[4] = f'img0_file = {drz_path}\\n'\n",
        "\n",
        "    for i,f in enumerate(exps):\n",
        "        dat[5+i] = f'img{i+1}_file = {f}/data           #image {i+1}\\n'\n",
        "\n",
        "    out_id = np.random.random()\n",
        "    with open(f\"{param_dir}/nircam_dolphot_{out_id}.param\", 'w', encoding='utf-8') as f:\n",
        "        f.writelines(dat)\n",
        "\n",
        "    if not os.path.exists(f\"{output_dir}/{name}_photometry.fits\"):\n",
        "        # Running DOLPHOT NIRCAM\n",
        "         subprocess.run([\"dolphot\", f\"{output_dir}/out\", f\"-p{param_dir}/nircam_dolphot_{out_id}.param\"], shell=True)\n",
        "\n",
        "    # Generating Astropy FITS Table\n",
        "\n",
        "    subprocess.run([\"python\", f\"{script_dir}to_table.py\", \"--o\", f\"{name}_photometry\", \"--n\", f\"{len(exps)}\", \"--f\", f\"{output_dir}/out\"])\n",
        "\n",
        "    phot_table = Table.read(f\"{output_dir}/{name}_photometry.fits\")\n",
        "    phot_table.rename_columns(['mag_vega'],[f'mag_vega_F200W'])\n",
        "\n",
        "    # Assingning RA-Dec using reference image\n",
        "    hdu = fits.open(f\"{drz_path}.fits\")[1]\n",
        "\n",
        "    wcs = WCS(hdu.header)\n",
        "    positions = np.transpose([phot_table['x'] - 0.5, phot_table['y']-0.5])\n",
        "\n",
        "    coords = np.array(wcs.pixel_to_world_values(positions))\n",
        "\n",
        "    phot_table['ra']  = coords[:,0]\n",
        "    phot_table['dec'] = coords[:,1]\n",
        "\n",
        "    # Filtering stellar photometry catalog using Warfield et.al (2023)\n",
        "    phot_table1 = phot_table[ (phot_table['sharpness']**2   <= 0.01) &\n",
        "                                (phot_table['obj_crowd']    <=  0.5) &\n",
        "                                (phot_table['flags']        <=    2) &\n",
        "                                (phot_table['type']         <=    2)]\n",
        "\n",
        "    phot_table2 = phot_table[ ~((phot_table['sharpness']**2 <= 0.01) &\n",
        "                                (phot_table['obj_crowd']    <=  0.5) &\n",
        "                                (phot_table['flags']        <=    2) &\n",
        "                                (phot_table['type']         <=    2))]\n",
        "    print('NIRCAM SHORT')\n",
        "    phot_table.write(f'{output_dir}/{name}_photometry.fits', overwrite=True)\n",
        "    phot_table1.write(f'{output_dir}/{name}_photometry_filt.fits', overwrite=True)\n",
        "    phot_table2.write(f'{output_dir}/{name}_photometry_rej.fits', overwrite=True)\n",
        "\n",
        "\n",
        "\n"
      ]
    },
    {
      "cell_type": "markdown",
      "source": [
        "# **Testing**"
      ],
      "metadata": {
        "id": "YIJjhOGZyQrh"
      }
    },
    {
      "cell_type": "code",
      "source": [
        "!pip install astroquery -q"
      ],
      "metadata": {
        "colab": {
          "base_uri": "https://localhost:8080/"
        },
        "id": "5AOYzpdHykIK",
        "outputId": "cc6756f2-3e0f-42bb-8c79-0e2b91344571"
      },
      "execution_count": 7,
      "outputs": [
        {
          "output_type": "stream",
          "name": "stdout",
          "text": [
            "\u001b[2K     \u001b[90m━━━━━━━━━━━━━━━━━━━━━━━━━━━━━━━━━━━━━━━━\u001b[0m \u001b[32m5.3/5.3 MB\u001b[0m \u001b[31m33.0 MB/s\u001b[0m eta \u001b[36m0:00:00\u001b[0m\n",
            "\u001b[2K     \u001b[90m━━━━━━━━━━━━━━━━━━━━━━━━━━━━━━━━━━━━━━━━\u001b[0m \u001b[32m910.8/910.8 kB\u001b[0m \u001b[31m42.4 MB/s\u001b[0m eta \u001b[36m0:00:00\u001b[0m\n",
            "\u001b[?25h"
          ]
        }
      ]
    },
    {
      "cell_type": "code",
      "source": [
        "!wget http://americano.dolphinsim.com/dolphot/dolphot2.0.tar.gz\n",
        "!wget http://americano.dolphinsim.com/dolphot/dolphot2.0.NIRCAM.tar.gz\n",
        "!wget http://americano.dolphinsim.com/dolphot/nircam_F140M.tar.gz\n",
        "!wget http://americano.dolphinsim.com/dolphot/nircam_F212N.tar.gz"
      ],
      "metadata": {
        "id": "0TnkP8zr1MzI",
        "outputId": "91b188bf-1f09-469b-cb36-b92316034072",
        "colab": {
          "base_uri": "https://localhost:8080/"
        }
      },
      "execution_count": null,
      "outputs": [
        {
          "output_type": "stream",
          "name": "stdout",
          "text": [
            "--2024-06-28 03:12:55--  http://americano.dolphinsim.com/dolphot/dolphot2.0.tar.gz\n",
            "Resolving americano.dolphinsim.com (americano.dolphinsim.com)... 64.139.89.252\n",
            "Connecting to americano.dolphinsim.com (americano.dolphinsim.com)|64.139.89.252|:80... connected.\n",
            "HTTP request sent, awaiting response... 200 OK\n",
            "Length: 270579 (264K) [application/x-gzip]\n",
            "Saving to: ‘dolphot2.0.tar.gz’\n",
            "\n",
            "dolphot2.0.tar.gz   100%[===================>] 264.24K   401KB/s    in 0.7s    \n",
            "\n",
            "2024-06-28 03:12:56 (401 KB/s) - ‘dolphot2.0.tar.gz’ saved [270579/270579]\n",
            "\n",
            "--2024-06-28 03:12:57--  http://americano.dolphinsim.com/dolphot/dolphot2.0.NIRCAM.tar.gz\n",
            "Resolving americano.dolphinsim.com (americano.dolphinsim.com)... 64.139.89.252\n",
            "Connecting to americano.dolphinsim.com (americano.dolphinsim.com)|64.139.89.252|:80... connected.\n",
            "HTTP request sent, awaiting response... 200 OK\n",
            "Length: 82691 (81K) [application/x-gzip]\n",
            "Saving to: ‘dolphot2.0.NIRCAM.tar.gz’\n",
            "\n",
            "dolphot2.0.NIRCAM.t 100%[===================>]  80.75K   232KB/s    in 0.3s    \n",
            "\n",
            "2024-06-28 03:12:57 (232 KB/s) - ‘dolphot2.0.NIRCAM.tar.gz’ saved [82691/82691]\n",
            "\n",
            "--2024-06-28 03:12:57--  http://americano.dolphinsim.com/dolphot/nircam_F140M.tar.gz\n",
            "Resolving americano.dolphinsim.com (americano.dolphinsim.com)... 64.139.89.252\n",
            "Connecting to americano.dolphinsim.com (americano.dolphinsim.com)|64.139.89.252|:80... connected.\n",
            "HTTP request sent, awaiting response... 200 OK\n",
            "Length: 86252498 (82M) [application/x-gzip]\n",
            "Saving to: ‘nircam_F140M.tar.gz’\n",
            "\n",
            "nircam_F140M.tar.gz  21%[===>                ]  17.48M   619KB/s    eta 1m 45s "
          ]
        }
      ]
    },
    {
      "cell_type": "code",
      "source": [
        "!tar -xf dolphot2.0.tar.gz\n",
        "!tar -xf dolphot2.0.NIRCAM.tar.gz\n",
        "!tar -xf nircam_F140M.tar.gz\n",
        "!tar -xf nircam_F212N.tar.gz"
      ],
      "metadata": {
        "id": "wg2475Qu1MzV"
      },
      "execution_count": null,
      "outputs": []
    },
    {
      "cell_type": "code",
      "source": [
        "with open('/content/dolphot2.0/Makefile') as f:\n",
        "  dat = f.readlines()\n",
        "dat[28]= dat[28][1:]\n",
        "\n",
        "with open('/content/dolphot2.0/Makefile','w') as f:\n",
        "  f.writelines(dat)"
      ],
      "metadata": {
        "id": "jKCsMpb6wH_r"
      },
      "execution_count": null,
      "outputs": []
    },
    {
      "cell_type": "code",
      "source": [
        "cd /content/dolphot2.0/"
      ],
      "metadata": {
        "id": "NlkPlng2wLgD"
      },
      "execution_count": null,
      "outputs": []
    },
    {
      "cell_type": "code",
      "source": [
        "import os"
      ],
      "metadata": {
        "id": "WRly3C-Mx2l5"
      },
      "execution_count": null,
      "outputs": []
    },
    {
      "cell_type": "code",
      "source": [
        "os.system('make all')"
      ],
      "metadata": {
        "id": "ypCNlUNdwOtE"
      },
      "execution_count": null,
      "outputs": []
    },
    {
      "cell_type": "code",
      "source": [
        "cd /content/"
      ],
      "metadata": {
        "id": "DElkTjjuyUe4"
      },
      "execution_count": null,
      "outputs": []
    },
    {
      "cell_type": "code",
      "source": [
        "os.environ['PATH'] += ':/content/dolphot2.0/bin'\n",
        "os.environ['PATH'] += ':/content/dolphot2.0/nircam'"
      ],
      "metadata": {
        "id": "30C9YUDnBqTR"
      },
      "execution_count": null,
      "outputs": []
    },
    {
      "cell_type": "code",
      "source": [
        "from glob import glob\n",
        "import astropy.io.fits as fits\n",
        "\n",
        "import os\n",
        "import astroquery\n",
        "from astroquery.mast import Observations\n",
        "import pandas as pd\n",
        "\n",
        "from astropy.table import Table\n",
        "from astropy.wcs import WCS\n",
        "import numpy as np\n",
        "import multiprocessing as mp\n",
        "import matplotlib.pyplot as plt\n",
        "import json\n",
        "from astropy.coordinates import angular_separation\n",
        "import astropy.units as u\n",
        "import multiprocessing as mp"
      ],
      "metadata": {
        "id": "38NgKMg2yiP7"
      },
      "execution_count": 8,
      "outputs": []
    },
    {
      "cell_type": "code",
      "source": [
        "#Example data for M82\n",
        "\n",
        "mast_dir = 'mast:jwst/product' # Download from MAST\n",
        "data_dir = '/content/data/stage0/'  # save downloaded data\n",
        "os.makedirs(data_dir, exist_ok=True)\n",
        "\n",
        "ext = 'uncal'\n",
        "# JWST images to be analyzed\n",
        "image_files = []\n",
        "\n",
        "# ngc 628: f\"jw0178390400{k}_02101_0000{i}\n",
        "for i in range(1,10):\n",
        "    for j in range(1,5):\n",
        "      for l in ['b']:\n",
        "          image_files.append( f\"jw01701052001_02102_0000{i}_nrc{l}{j}_uncal.fits\")\n",
        "          break\n",
        "      break\n",
        "    break\n",
        "\n",
        "\n",
        "for image_file in image_files:\n",
        "    # Download file (if not already downloaded)\n",
        "    mast_path  = os.path.join(mast_dir, image_file)\n",
        "    local_path = os.path.join(data_dir, image_file)\n",
        "    Observations.download_file(mast_path, local_path=local_path)"
      ],
      "metadata": {
        "colab": {
          "base_uri": "https://localhost:8080/"
        },
        "id": "mG0g8-TtyBDt",
        "outputId": "eb2f1aca-a315-485a-d5b4-ecc7adcda99c"
      },
      "execution_count": 9,
      "outputs": [
        {
          "output_type": "stream",
          "name": "stdout",
          "text": [
            "Downloading URL https://mast.stsci.edu/api/v0.1/Download/file?uri=mast:jwst/product/jw01701052001_02102_00001_nrcb1_uncal.fits to /content/data/stage0/jw01701052001_02102_00001_nrcb1_uncal.fits ... [Done]\n"
          ]
        }
      ]
    },
    {
      "cell_type": "code",
      "source": [
        "input_files = glob(f'/content/data/stage0/*')\n",
        "out_dir = '/content/'\n",
        "jwst_data = jpipe(input_files, out_dir)\n",
        "jwst_data()"
      ],
      "metadata": {
        "id": "GPrxk6nryqqf"
      },
      "execution_count": null,
      "outputs": []
    },
    {
      "cell_type": "code",
      "source": [
        "cal_files = glob(f'/content/data/stage2/*cal.fits')"
      ],
      "metadata": {
        "id": "exvdchLNyxMw"
      },
      "execution_count": 11,
      "outputs": []
    },
    {
      "cell_type": "code",
      "source": [
        "cal_files"
      ],
      "metadata": {
        "id": "F9BVUXdbzFoo",
        "outputId": "f5e42945-0c0f-4893-c924-12318a053d7f",
        "colab": {
          "base_uri": "https://localhost:8080/"
        }
      },
      "execution_count": 12,
      "outputs": [
        {
          "output_type": "execute_result",
          "data": {
            "text/plain": [
              "['/content/data/stage2/jw01701052001_02102_00001_nrcb1_cal.fits']"
            ]
          },
          "metadata": {},
          "execution_count": 12
        }
      ]
    },
    {
      "cell_type": "code",
      "source": [
        "#Example data for M82\n",
        "\n",
        "mast_dir = 'mast:jwst/product' # Download from MAST\n",
        "data_dir = '/content/photometry/'  # save downloaded data\n",
        "os.makedirs(data_dir, exist_ok=True)\n",
        "\n",
        "# JWST images to be analyzed\n",
        "image_files = [ f\"jw01701-o052_t007_nircam_clear-f140m-sub640_i2d.fits\"]\n",
        "\n",
        "for image_file in image_files:\n",
        "    # Download file (if not already downloaded)\n",
        "    mast_path  = os.path.join(mast_dir, image_file)\n",
        "    local_path = os.path.join(data_dir, image_file)\n",
        "    Observations.download_file(mast_path, local_path=local_path)"
      ],
      "metadata": {
        "id": "c7ntwfI5zPCg",
        "outputId": "689a3b29-6b77-4407-c5de-038e6903479d",
        "colab": {
          "base_uri": "https://localhost:8080/"
        }
      },
      "execution_count": 13,
      "outputs": [
        {
          "output_type": "stream",
          "name": "stdout",
          "text": [
            "Downloading URL https://mast.stsci.edu/api/v0.1/Download/file?uri=mast:jwst/product/jw01701-o052_t007_nircam_clear-f140m-sub640_i2d.fits to /content/photometry/jw01701-o052_t007_nircam_clear-f140m-sub640_i2d.fits ... [Done]\n"
          ]
        }
      ]
    },
    {
      "cell_type": "code",
      "source": [
        "phot = nircam_phot(cal_files, 'f140m','/content/photometry/',\n",
        "                          '/content/photometry/jw01701-o052_t007_nircam_clear-f140m-sub640_i2d')"
      ],
      "metadata": {
        "id": "vTcTQGNEzGkk",
        "outputId": "a8fb6f05-4a24-4962-c276-23f22d068ae6",
        "colab": {
          "base_uri": "https://localhost:8080/",
          "height": 411
        }
      },
      "execution_count": 22,
      "outputs": [
        {
          "output_type": "stream",
          "name": "stdout",
          "text": [
            "CompletedProcess(args=['nircammask', '/content/photometry//jw01701052001_02102_00001_nrcb1_cal/data.fits'], returncode=127, stdout=b'', stderr=b'/content/photometry//jw01701052001_02102_00001_nrcb1_cal/data.fits: 1: nircammask: not found\\n')\n"
          ]
        },
        {
          "output_type": "error",
          "ename": "FileNotFoundError",
          "evalue": "[Errno 2] No such file or directory: '/content/photometry//f140m_photometry.fits'",
          "traceback": [
            "\u001b[0;31m---------------------------------------------------------------------------\u001b[0m",
            "\u001b[0;31mFileNotFoundError\u001b[0m                         Traceback (most recent call last)",
            "\u001b[0;32m<ipython-input-22-0bab1980973b>\u001b[0m in \u001b[0;36m<cell line: 1>\u001b[0;34m()\u001b[0m\n\u001b[0;32m----> 1\u001b[0;31m phot = nircam_phot(cal_files, 'f140m','/content/photometry/',\n\u001b[0m\u001b[1;32m      2\u001b[0m                           '/content/photometry/jw01701-o052_t007_nircam_clear-f140m-sub640_i2d')\n",
            "\u001b[0;32m<ipython-input-21-d02887bd5852>\u001b[0m in \u001b[0;36mnircam_phot\u001b[0;34m(cal_files, name, output_dir, drz_path)\u001b[0m\n\u001b[1;32m     47\u001b[0m     \u001b[0msubprocess\u001b[0m\u001b[0;34m.\u001b[0m\u001b[0mrun\u001b[0m\u001b[0;34m(\u001b[0m\u001b[0;34m[\u001b[0m\u001b[0;34m\"python\"\u001b[0m\u001b[0;34m,\u001b[0m \u001b[0;34mf\"{script_dir}to_table.py\"\u001b[0m\u001b[0;34m,\u001b[0m \u001b[0;34m\"--o\"\u001b[0m\u001b[0;34m,\u001b[0m \u001b[0;34mf\"{name}_photometry\"\u001b[0m\u001b[0;34m,\u001b[0m \u001b[0;34m\"--n\"\u001b[0m\u001b[0;34m,\u001b[0m \u001b[0;34mf\"{len(exps)}\"\u001b[0m\u001b[0;34m,\u001b[0m \u001b[0;34m\"--f\"\u001b[0m\u001b[0;34m,\u001b[0m \u001b[0;34mf\"{output_dir}/out\"\u001b[0m\u001b[0;34m]\u001b[0m\u001b[0;34m)\u001b[0m\u001b[0;34m\u001b[0m\u001b[0;34m\u001b[0m\u001b[0m\n\u001b[1;32m     48\u001b[0m \u001b[0;34m\u001b[0m\u001b[0m\n\u001b[0;32m---> 49\u001b[0;31m     \u001b[0mphot_table\u001b[0m \u001b[0;34m=\u001b[0m \u001b[0mTable\u001b[0m\u001b[0;34m.\u001b[0m\u001b[0mread\u001b[0m\u001b[0;34m(\u001b[0m\u001b[0;34mf\"{output_dir}/{name}_photometry.fits\"\u001b[0m\u001b[0;34m)\u001b[0m\u001b[0;34m\u001b[0m\u001b[0;34m\u001b[0m\u001b[0m\n\u001b[0m\u001b[1;32m     50\u001b[0m     \u001b[0mphot_table\u001b[0m\u001b[0;34m.\u001b[0m\u001b[0mrename_columns\u001b[0m\u001b[0;34m(\u001b[0m\u001b[0;34m[\u001b[0m\u001b[0;34m'mag_vega'\u001b[0m\u001b[0;34m]\u001b[0m\u001b[0;34m,\u001b[0m\u001b[0;34m[\u001b[0m\u001b[0;34mf'mag_vega_F200W'\u001b[0m\u001b[0;34m]\u001b[0m\u001b[0;34m)\u001b[0m\u001b[0;34m\u001b[0m\u001b[0;34m\u001b[0m\u001b[0m\n\u001b[1;32m     51\u001b[0m \u001b[0;34m\u001b[0m\u001b[0m\n",
            "\u001b[0;32m/usr/local/lib/python3.10/dist-packages/astropy/table/connect.py\u001b[0m in \u001b[0;36m__call__\u001b[0;34m(self, *args, **kwargs)\u001b[0m\n\u001b[1;32m     60\u001b[0m         \u001b[0mdescriptions\u001b[0m \u001b[0;34m=\u001b[0m \u001b[0mkwargs\u001b[0m\u001b[0;34m.\u001b[0m\u001b[0mpop\u001b[0m\u001b[0;34m(\u001b[0m\u001b[0;34m\"descriptions\"\u001b[0m\u001b[0;34m,\u001b[0m \u001b[0;32mNone\u001b[0m\u001b[0;34m)\u001b[0m\u001b[0;34m\u001b[0m\u001b[0;34m\u001b[0m\u001b[0m\n\u001b[1;32m     61\u001b[0m \u001b[0;34m\u001b[0m\u001b[0m\n\u001b[0;32m---> 62\u001b[0;31m         \u001b[0mout\u001b[0m \u001b[0;34m=\u001b[0m \u001b[0mself\u001b[0m\u001b[0;34m.\u001b[0m\u001b[0mregistry\u001b[0m\u001b[0;34m.\u001b[0m\u001b[0mread\u001b[0m\u001b[0;34m(\u001b[0m\u001b[0mcls\u001b[0m\u001b[0;34m,\u001b[0m \u001b[0;34m*\u001b[0m\u001b[0margs\u001b[0m\u001b[0;34m,\u001b[0m \u001b[0;34m**\u001b[0m\u001b[0mkwargs\u001b[0m\u001b[0;34m)\u001b[0m\u001b[0;34m\u001b[0m\u001b[0;34m\u001b[0m\u001b[0m\n\u001b[0m\u001b[1;32m     63\u001b[0m \u001b[0;34m\u001b[0m\u001b[0m\n\u001b[1;32m     64\u001b[0m         \u001b[0;31m# For some readers (e.g., ascii.ecsv), the returned `out` class is not\u001b[0m\u001b[0;34m\u001b[0m\u001b[0;34m\u001b[0m\u001b[0m\n",
            "\u001b[0;32m/usr/local/lib/python3.10/dist-packages/astropy/io/registry/core.py\u001b[0m in \u001b[0;36mread\u001b[0;34m(self, cls, format, cache, *args, **kwargs)\u001b[0m\n\u001b[1;32m    198\u001b[0m                                 \u001b[0margs\u001b[0m\u001b[0;34m[\u001b[0m\u001b[0;36m0\u001b[0m\u001b[0;34m]\u001b[0m\u001b[0;34m,\u001b[0m \u001b[0mencoding\u001b[0m\u001b[0;34m=\u001b[0m\u001b[0;34m\"binary\"\u001b[0m\u001b[0;34m,\u001b[0m \u001b[0mcache\u001b[0m\u001b[0;34m=\u001b[0m\u001b[0mcache\u001b[0m\u001b[0;34m\u001b[0m\u001b[0;34m\u001b[0m\u001b[0m\n\u001b[1;32m    199\u001b[0m                             )\n\u001b[0;32m--> 200\u001b[0;31m                             \u001b[0mfileobj\u001b[0m \u001b[0;34m=\u001b[0m \u001b[0mctx\u001b[0m\u001b[0;34m.\u001b[0m\u001b[0m__enter__\u001b[0m\u001b[0;34m(\u001b[0m\u001b[0;34m)\u001b[0m\u001b[0;34m\u001b[0m\u001b[0;34m\u001b[0m\u001b[0m\n\u001b[0m\u001b[1;32m    201\u001b[0m                         \u001b[0;32mexcept\u001b[0m \u001b[0mOSError\u001b[0m\u001b[0;34m:\u001b[0m\u001b[0;34m\u001b[0m\u001b[0;34m\u001b[0m\u001b[0m\n\u001b[1;32m    202\u001b[0m                             \u001b[0;32mraise\u001b[0m\u001b[0;34m\u001b[0m\u001b[0;34m\u001b[0m\u001b[0m\n",
            "\u001b[0;32m/usr/lib/python3.10/contextlib.py\u001b[0m in \u001b[0;36m__enter__\u001b[0;34m(self)\u001b[0m\n\u001b[1;32m    133\u001b[0m         \u001b[0;32mdel\u001b[0m \u001b[0mself\u001b[0m\u001b[0;34m.\u001b[0m\u001b[0margs\u001b[0m\u001b[0;34m,\u001b[0m \u001b[0mself\u001b[0m\u001b[0;34m.\u001b[0m\u001b[0mkwds\u001b[0m\u001b[0;34m,\u001b[0m \u001b[0mself\u001b[0m\u001b[0;34m.\u001b[0m\u001b[0mfunc\u001b[0m\u001b[0;34m\u001b[0m\u001b[0;34m\u001b[0m\u001b[0m\n\u001b[1;32m    134\u001b[0m         \u001b[0;32mtry\u001b[0m\u001b[0;34m:\u001b[0m\u001b[0;34m\u001b[0m\u001b[0;34m\u001b[0m\u001b[0m\n\u001b[0;32m--> 135\u001b[0;31m             \u001b[0;32mreturn\u001b[0m \u001b[0mnext\u001b[0m\u001b[0;34m(\u001b[0m\u001b[0mself\u001b[0m\u001b[0;34m.\u001b[0m\u001b[0mgen\u001b[0m\u001b[0;34m)\u001b[0m\u001b[0;34m\u001b[0m\u001b[0;34m\u001b[0m\u001b[0m\n\u001b[0m\u001b[1;32m    136\u001b[0m         \u001b[0;32mexcept\u001b[0m \u001b[0mStopIteration\u001b[0m\u001b[0;34m:\u001b[0m\u001b[0;34m\u001b[0m\u001b[0;34m\u001b[0m\u001b[0m\n\u001b[1;32m    137\u001b[0m             \u001b[0;32mraise\u001b[0m \u001b[0mRuntimeError\u001b[0m\u001b[0;34m(\u001b[0m\u001b[0;34m\"generator didn't yield\"\u001b[0m\u001b[0;34m)\u001b[0m \u001b[0;32mfrom\u001b[0m \u001b[0;32mNone\u001b[0m\u001b[0;34m\u001b[0m\u001b[0;34m\u001b[0m\u001b[0m\n",
            "\u001b[0;32m/usr/local/lib/python3.10/dist-packages/astropy/utils/data.py\u001b[0m in \u001b[0;36mget_readable_fileobj\u001b[0;34m(name_or_obj, encoding, cache, show_progress, remote_timeout, sources, http_headers, use_fsspec, fsspec_kwargs, close_files)\u001b[0m\n\u001b[1;32m    364\u001b[0m                     \u001b[0mhttp_headers\u001b[0m\u001b[0;34m=\u001b[0m\u001b[0mhttp_headers\u001b[0m\u001b[0;34m,\u001b[0m\u001b[0;34m\u001b[0m\u001b[0;34m\u001b[0m\u001b[0m\n\u001b[1;32m    365\u001b[0m                 )\n\u001b[0;32m--> 366\u001b[0;31m             \u001b[0mfileobj\u001b[0m \u001b[0;34m=\u001b[0m \u001b[0mio\u001b[0m\u001b[0;34m.\u001b[0m\u001b[0mFileIO\u001b[0m\u001b[0;34m(\u001b[0m\u001b[0mname_or_obj\u001b[0m\u001b[0;34m,\u001b[0m \u001b[0;34m\"r\"\u001b[0m\u001b[0;34m)\u001b[0m\u001b[0;34m\u001b[0m\u001b[0;34m\u001b[0m\u001b[0m\n\u001b[0m\u001b[1;32m    367\u001b[0m             \u001b[0;32mif\u001b[0m \u001b[0mis_url\u001b[0m \u001b[0;32mand\u001b[0m \u001b[0;32mnot\u001b[0m \u001b[0mcache\u001b[0m\u001b[0;34m:\u001b[0m\u001b[0;34m\u001b[0m\u001b[0;34m\u001b[0m\u001b[0m\n\u001b[1;32m    368\u001b[0m                 \u001b[0mdelete_fds\u001b[0m\u001b[0;34m.\u001b[0m\u001b[0mappend\u001b[0m\u001b[0;34m(\u001b[0m\u001b[0mfileobj\u001b[0m\u001b[0;34m)\u001b[0m\u001b[0;34m\u001b[0m\u001b[0;34m\u001b[0m\u001b[0m\n",
            "\u001b[0;31mFileNotFoundError\u001b[0m: [Errno 2] No such file or directory: '/content/photometry//f140m_photometry.fits'"
          ]
        }
      ]
    },
    {
      "cell_type": "code",
      "source": [],
      "metadata": {
        "id": "LoPM6fE-z-t6"
      },
      "execution_count": null,
      "outputs": []
    }
  ],
  "metadata": {
    "colab": {
      "provenance": [],
      "include_colab_link": true
    },
    "kernelspec": {
      "display_name": "Python 3",
      "name": "python3"
    },
    "language_info": {
      "name": "python"
    }
  },
  "nbformat": 4,
  "nbformat_minor": 0
}