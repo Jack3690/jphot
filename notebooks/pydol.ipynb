{
  "cells": [
    {
      "cell_type": "markdown",
      "metadata": {
        "id": "view-in-github",
        "colab_type": "text"
      },
      "source": [
        "<a href=\"https://colab.research.google.com/github/Jack3690/pydol/blob/main/notebooks/pydol.ipynb\" target=\"_parent\"><img src=\"https://colab.research.google.com/assets/colab-badge.svg\" alt=\"Open In Colab\"/></a>"
      ]
    },
    {
      "cell_type": "code",
      "source": [
        "!pip install jwst -q\n",
        "!pip install crds -q\n",
        "!pip install astroquery -q"
      ],
      "metadata": {
        "id": "KjZY746UxOfk"
      },
      "execution_count": null,
      "outputs": []
    },
    {
      "cell_type": "code",
      "source": [
        "!git clone https://github.com/Jack3690/pydol"
      ],
      "metadata": {
        "id": "uo8pMdY93DuI"
      },
      "execution_count": null,
      "outputs": []
    },
    {
      "cell_type": "markdown",
      "metadata": {
        "id": "HdotZvxJpGb-"
      },
      "source": [
        "# **Pipeline**"
      ]
    },
    {
      "cell_type": "code",
      "execution_count": null,
      "metadata": {
        "id": "8i7obQzlwD77"
      },
      "outputs": [],
      "source": [
        "from jwst.pipeline import Detector1Pipeline, Image2Pipeline, Image3Pipeline\n",
        "import jwst.associations\n",
        "\n",
        "from glob import glob\n",
        "\n",
        "import os\n",
        "from crds import client\n",
        "import jwst\n",
        "import multiprocessing as mp\n",
        "from pathlib import Path\n",
        "\n",
        "crds_dir = \"/content/CRDS/crds_cache\"#Path(__file__).parent.joinpath('CRDS')/'crds_cache'\n",
        "os.makedirs(crds_dir, exist_ok=True)\n",
        "os.environ['CRDS_PATH'] = str(crds_dir)\n",
        "os.environ[\"CRDS_SERVER_URL\"] = \"https://jwst-crds.stsci.edu\"\n",
        "client.set_crds_server(\"https://jwst-crds.stsci.edu\")\n"
      ]
    },
    {
      "cell_type": "code",
      "execution_count": 21,
      "metadata": {
        "id": "wdueubA3wF_a"
      },
      "outputs": [],
      "source": [
        "class jpipe():\n",
        "    def __init__(self, input_files=[], out_dir='.',\n",
        "                 crds_context=\"jwst_1241.pmap\"):\n",
        "        \"\"\"\n",
        "            Parameters\n",
        "            ----------\n",
        "            input_files: list,\n",
        "                         Input list of level 0 '_uncal.fits' files.\n",
        "                         Recommended: /data/stage0/\n",
        "            out_dir: str,\n",
        "                     Output directory.\n",
        "                     Recommended: The directory that contains /data/stage0/\n",
        "                     Pipeline will create /data/stage1/ and /data/stage2/\n",
        "\n",
        "            crds_context: str,\n",
        "                          Reference context for JWST pipeline from CRDS.\n",
        "\n",
        "              Returns\n",
        "              -------\n",
        "                  None\n",
        "\n",
        "        \"\"\"\n",
        "        if len(input_files)<1:\n",
        "            raise Exception(\"Input files list CANNOT be empty!\")\n",
        "        self.input_files = input_files\n",
        "        self.out_dir = out_dir\n",
        "        if os.access(out_dir,os.W_OK):\n",
        "            os.makedirs(out_dir + '/data/stage1/', exist_ok=True)\n",
        "            os.makedirs(out_dir + '/data/stage2/', exist_ok=True)\n",
        "            os.makedirs(out_dir + '/data/stage3/', exist_ok=True)\n",
        "        else:\n",
        "            raise Exception(f\"{out_dir} is not WRITABLE\")\n",
        "\n",
        "        os.environ[\"CRDS_CONTEXT\"] = crds_context\n",
        "\n",
        "    def stage1_pipeline(self, filename):\n",
        "        \"\"\"\n",
        "            Parameters\n",
        "            ----------\n",
        "            filename: str,\n",
        "                      path to the level 0 \"_uncal.fits\" file\n",
        "            Returns\n",
        "            -------\n",
        "                None\n",
        "        \"\"\"\n",
        "        # Instantiate the pipeline\n",
        "        img1 = Detector1Pipeline()\n",
        "        # Snowball Removal (M82 Group)\n",
        "        img1.jump.expand_large_events = True\n",
        "        # Specify where the output should go\n",
        "        img1.output_dir = self.out_dir + '/data/stage1/'\n",
        "        # Save the final resulting _rate.fits files\n",
        "        img1.save_results = True\n",
        "        #No of cores\n",
        "        img1.jump.maximum_cores = f'{mp.cpu_count()-1}'\n",
        "        # Run the pipeline on an input list of files\n",
        "        img1(filename)\n",
        "\n",
        "    def stage2_pipeline(self, filename):\n",
        "        \"\"\"\n",
        "            Parameters\n",
        "            ----------\n",
        "            filename: str,\n",
        "                      path to the level 1 \"_rate.fits\" file\n",
        "            Returns\n",
        "            -------\n",
        "                None\n",
        "        \"\"\"\n",
        "        # Instantiate the pipeline\n",
        "        img2 = Image2Pipeline()\n",
        "        # Specify where the output should go\n",
        "        img2.output_dir = self.out_dir + '/data/stage2/'\n",
        "        # Save the final resulting _rate.fits files\n",
        "        img2.save_results = True\n",
        "        # Run the pipeline on an input list of files\n",
        "        img2(filename)\n",
        "\n",
        "        # TBD: Add 1/f noise subtraction\n",
        "        #\n",
        "        #\n",
        "        #\n",
        "        #\n",
        "\n",
        "    def stage3_pipeline(self, filenames):\n",
        "        \"\"\"\n",
        "            Parameters\n",
        "            ----------\n",
        "            filename: str,\n",
        "                      list of paths to the level 2 \"_cal.fits\" files\n",
        "\n",
        "                      if a single file is provided only\n",
        "                      resample and source_catalog steps will be applied.\n",
        "            Returns\n",
        "            -------\n",
        "                None\n",
        "        \"\"\"\n",
        "        # Instantiate the pipeline\n",
        "        img3 = Image3Pipeline()\n",
        "        # Specify where the output should go\n",
        "        img3.output_dir = self.out_dir + '/data/stage3/'\n",
        "        # Save the final resulting _rate.fits files\n",
        "        img3.save_results = True\n",
        "        # Run the pipeline on an input list of files\n",
        "        img3(filenames)\n",
        "\n",
        "    def __call__(self):\n",
        "        \"\"\"\n",
        "            Runs the JWST Stage 1, Stage 2, and Stage 3 pipeline for generating\n",
        "            '_crf.fits' files\n",
        "        \"\"\"\n",
        "        # Stage1\n",
        "        uncal_files = [i for i in self.input_files if 'uncal' in i ]\n",
        "        [ self.stage1_pipeline(f) for f in uncal_files if not os.path.exists(f.replace('stage0', 'stage1').replace('uncal', 'rate')) ]\n",
        "\n",
        "        rate_files = [f.replace('stage0', 'stage1').replace('uncal', 'rate') for f in uncal_files]\n",
        "\n",
        "        # Stage 2\n",
        "        rate_files_ = [f for f in rate_files if not os.path.exists(f.replace('stage1', 'stage2').replace('rate', 'cal'))]\n",
        "\n",
        "        if len(rate_files_)>0:\n",
        "            with mp.Pool(mp.cpu_count()-1) as p:\n",
        "                p.map(self.stage2_pipeline, rate_files_)\n",
        "\n",
        "        # Stage 3\n",
        "        cal_files = [f.replace('stage1', 'stage2').replace('rate', 'cal') for f in rate_files]\n",
        "        cal_files_ = [f for f in cal_files if not os.path.exists(f.replace('stage2', 'stage3').replace('cal', 'crf'))]\n",
        "\n",
        "        if len(cal_files_) > 0:\n",
        "          self.stage3_pipeline(cal_files)"
      ]
    },
    {
      "cell_type": "markdown",
      "metadata": {
        "id": "wbpks6fzxMSe"
      },
      "source": [
        "# **Photometry**"
      ]
    },
    {
      "cell_type": "code",
      "execution_count": null,
      "metadata": {
        "id": "yCGUuB65xMSf"
      },
      "outputs": [],
      "source": [
        "import os\n",
        "from glob import glob\n",
        "from astropy.table import Table\n",
        "from astropy.wcs import WCS\n",
        "from astropy.io import fits\n",
        "import numpy as np\n",
        "import multiprocessing as mp\n",
        "from pathlib import Path\n",
        "import subprocess\n",
        "\n",
        "param_dir = '/content/pydol/src/pydol/photometry/params'# str(Path(__file__).parent.joinpath('params'))\n",
        "script_dir = '/content/pydol/src/pydol/photometry/scripts'#str(Path(__file__).parent.joinpath('scripts'))"
      ]
    },
    {
      "cell_type": "code",
      "execution_count": null,
      "metadata": {
        "id": "GCUrhr7uxMSg"
      },
      "outputs": [],
      "source": [
        "def nircam_phot(cal_files, filter='f200w',output_dir='.', drz_path='.', cat_name=''):\n",
        "    \"\"\"\n",
        "        Parameters\n",
        "        ---------\n",
        "        cal_files: list,\n",
        "                    list of paths to JWST NIRCAM level 2 _cal.fits files\n",
        "        filter: str,\n",
        "                name of the NIRCAM filter being processed\n",
        "        output_dir: str,\n",
        "                    path to output directory.\n",
        "                    Recommended: /photometry/\n",
        "        drz_path: str,\n",
        "                  path to level 3 drizzled image (_i2d.fits) image.\n",
        "                  It is recommended to be inside /photometry/\n",
        "        cat_name: str,\n",
        "                  Output photometry catalogs will have prefix filter + cat_name\n",
        "\n",
        "        Return\n",
        "        ------\n",
        "        None\n",
        "    \"\"\"\n",
        "    if len(cal_files)<1:\n",
        "        raise Exception(\"cal_files cannot be EMPTY\")\n",
        "\n",
        "    subprocess.run([f\"nircammask {drz_path}.fits\"], shell=True)\n",
        "    if not os.path.exists(output_dir):\n",
        "        os.mkdir(output_dir)\n",
        "\n",
        "    # Generating directories\n",
        "    exps = []\n",
        "    for i,f in enumerate(cal_files):\n",
        "        out_dir = f.split('/')[-1].split('.')[0]\n",
        "\n",
        "        if not os.path.exists(f'{output_dir}/{out_dir}'):\n",
        "            os.mkdir(f'{output_dir}/{out_dir}')\n",
        "        if not os.path.exists(f\"{output_dir}/{out_dir}/data.fits\"):\n",
        "            subprocess.run([f\"cp {f} {output_dir}/{out_dir}/data.fits\"],\n",
        "                                 shell=True)\n",
        "\n",
        "        exps.append(f'{output_dir}/{out_dir}')\n",
        "\n",
        "    # Applying NIRCAM Mask\n",
        "    for f in exps:\n",
        "        if not os.path.exists(f\"{f}/data.sky.fits\"):\n",
        "          out = subprocess.run([f\"nircammask {f}/data.fits\"]\n",
        "                                 ,shell=True)\n",
        "\n",
        "          out = subprocess.run([f\"calcsky {f}/data 10 25 2 2.25 2.00\"]\n",
        "                               , shell=True, capture_output=True)\n",
        "    # Preparing Parameter file DOLPHOT NIRCAM\n",
        "    with open(f\"{param_dir}/nircam_dolphot.param\") as f:\n",
        "                dat = f.readlines()\n",
        "\n",
        "    dat[0] = f'Nimg = {len(exps)}                #number of images (int)\\n'\n",
        "    dat[4] = f'img0_file = {drz_path}\\n'\n",
        "    dat[5] = ''\n",
        "\n",
        "    for i,f in enumerate(exps):\n",
        "        dat[5] += f'img{i+1}_file = {f}/data           #image {i+1}\\n'\n",
        "\n",
        "    out_id = filter + cat_name\n",
        "    with open(f\"{param_dir}/nircam_dolphot_{out_id}.param\", 'w', encoding='utf-8') as f:\n",
        "        f.writelines(dat)\n",
        "\n",
        "    if not os.path.exists(f\"{output_dir}/{out_id}_photometry.fits\"):\n",
        "        # Running DOLPHOT NIRCAM\n",
        "        p = subprocess.Popen([\"dolphot\", f\"{output_dir}/out\", f\"-p{param_dir}/nircam_dolphot_{out_id}.param\"]\n",
        "                            , stdout=subprocess.PIPE, stderr=subprocess.PIPE, text=True)\n",
        "        while (line := p.stdout.readline()) != \"\":\n",
        "          print(line)\n",
        "    # Generating Astropy FITS Table\n",
        "\n",
        "        out = subprocess.run([f\"python {script_dir}/to_table.py --o {out_id}_photometry --n {len(exps)} --f {output_dir}/out\"],\n",
        "                       shell=True)\n",
        "\n",
        "        phot_table = Table.read(f\"{output_dir}/{out_id}_photometry.fits\")\n",
        "        phot_table.rename_columns(['mag_vega'],[f'mag_vega_{filter.upper()}'])\n",
        "\n",
        "        # Assingning RA-Dec using reference image\n",
        "        hdu = fits.open(f\"{drz_path}.fits\")[1]\n",
        "\n",
        "        wcs = WCS(hdu.header)\n",
        "        positions = np.transpose([phot_table['x'] - 0.5, phot_table['y']-0.5])\n",
        "\n",
        "        coords = np.array(wcs.pixel_to_world_values(positions))\n",
        "\n",
        "        phot_table['ra']  = coords[:,0]\n",
        "        phot_table['dec'] = coords[:,1]\n",
        "\n",
        "        # Filtering stellar photometry catalog using Warfield et.al (2023)\n",
        "        phot_table1 = phot_table[ (phot_table['sharpness']**2   <= 0.01) &\n",
        "                                    (phot_table['obj_crowd']    <=  0.5) &\n",
        "                                    (phot_table['flags']        <=    2) &\n",
        "                                    (phot_table['type']         <=    2)]\n",
        "\n",
        "        phot_table2 = phot_table[ ~((phot_table['sharpness']**2 <= 0.01) &\n",
        "                                    (phot_table['obj_crowd']    <=  0.5) &\n",
        "                                    (phot_table['flags']        <=    2) &\n",
        "                                    (phot_table['type']         <=    2))]\n",
        "        phot_table.write(f'{output_dir}/{out_id}_photometry.fits', overwrite=True)\n",
        "        phot_table1.write(f'{output_dir}/{out_id}_photometry_filt.fits', overwrite=True)\n",
        "        phot_table2.write(f'{output_dir}/{out_id}_photometry_rej.fits', overwrite=True)\n",
        "    print('NIRCAM Stellar Photometry Completed!')"
      ]
    },
    {
      "cell_type": "markdown",
      "source": [
        "# **Testing**"
      ],
      "metadata": {
        "id": "YIJjhOGZyQrh"
      }
    },
    {
      "cell_type": "code",
      "source": [
        "!wget http://americano.dolphinsim.com/dolphot/dolphot2.0.tar.gz\n",
        "!wget http://americano.dolphinsim.com/dolphot/dolphot2.0.NIRCAM.tar.gz\n",
        "!wget http://americano.dolphinsim.com/dolphot/nircam_F140M.tar.gz\n",
        "!wget http://americano.dolphinsim.com/dolphot/nircam_F212N.tar.gz"
      ],
      "metadata": {
        "id": "0TnkP8zr1MzI"
      },
      "execution_count": null,
      "outputs": []
    },
    {
      "cell_type": "code",
      "source": [
        "!tar -xf dolphot2.0.tar.gz\n",
        "!tar -xf dolphot2.0.NIRCAM.tar.gz\n",
        "!tar -xf nircam_F140M.tar.gz\n",
        "!tar -xf nircam_F212N.tar.gz"
      ],
      "metadata": {
        "id": "wg2475Qu1MzV"
      },
      "execution_count": null,
      "outputs": []
    },
    {
      "cell_type": "code",
      "source": [
        "with open('/content/dolphot2.0/Makefile') as f:\n",
        "  dat = f.readlines()\n",
        "dat[28]= dat[28][1:]\n",
        "\n",
        "with open('/content/dolphot2.0/Makefile','w') as f:\n",
        "  f.writelines(dat)"
      ],
      "metadata": {
        "id": "jKCsMpb6wH_r"
      },
      "execution_count": null,
      "outputs": []
    },
    {
      "cell_type": "code",
      "source": [
        "cd /content/dolphot2.0/"
      ],
      "metadata": {
        "id": "NlkPlng2wLgD"
      },
      "execution_count": null,
      "outputs": []
    },
    {
      "cell_type": "code",
      "source": [
        "import os"
      ],
      "metadata": {
        "id": "WRly3C-Mx2l5"
      },
      "execution_count": null,
      "outputs": []
    },
    {
      "cell_type": "code",
      "source": [
        "os.system('make all')"
      ],
      "metadata": {
        "colab": {
          "base_uri": "https://localhost:8080/"
        },
        "id": "ypCNlUNdwOtE",
        "outputId": "9e56d08a-006c-4722-d523-9f6774171f82"
      },
      "execution_count": 12,
      "outputs": [
        {
          "output_type": "execute_result",
          "data": {
            "text/plain": [
              "2"
            ]
          },
          "metadata": {},
          "execution_count": 12
        }
      ]
    },
    {
      "cell_type": "code",
      "source": [
        "cd /content/"
      ],
      "metadata": {
        "id": "DElkTjjuyUe4"
      },
      "execution_count": null,
      "outputs": []
    },
    {
      "cell_type": "code",
      "source": [
        "os.environ['PATH'] += ':/content/dolphot2.0/bin'\n",
        "os.environ['PATH'] += ':/content/dolphot2.0/nircam'"
      ],
      "metadata": {
        "id": "30C9YUDnBqTR"
      },
      "execution_count": null,
      "outputs": []
    },
    {
      "cell_type": "code",
      "source": [
        "from glob import glob\n",
        "import astropy.io.fits as fits\n",
        "\n",
        "import os\n",
        "import astroquery\n",
        "from astroquery.mast import Observations\n",
        "import pandas as pd\n",
        "\n",
        "from astropy.table import Table\n",
        "from astropy.wcs import WCS\n",
        "import numpy as np\n",
        "import multiprocessing as mp\n",
        "import matplotlib.pyplot as plt\n",
        "import json\n",
        "from astropy.coordinates import angular_separation\n",
        "import astropy.units as u\n",
        "import multiprocessing as mp"
      ],
      "metadata": {
        "id": "38NgKMg2yiP7"
      },
      "execution_count": 13,
      "outputs": []
    },
    {
      "cell_type": "code",
      "source": [
        "mast_dir = 'mast:jwst/product' # Download from MAST\n",
        "data_dir = './data/stage0/'  # save downloaded data\n",
        "os.makedirs(data_dir, exist_ok=True)\n",
        "\n",
        "# JWST images to be analyzed\n",
        "image_files = ['jw01783004007_02101_00001_nrca1_uncal.fits',\n",
        "                'jw01783004007_02101_00002_nrca1_uncal.fits' ]\n",
        "\n",
        "\n",
        "for image_file in image_files:\n",
        "    # Download file (if not already downloaded)\n",
        "    mast_path  = os.path.join(mast_dir, image_file)\n",
        "    local_path = os.path.join(data_dir, image_file)\n",
        "    Observations.download_file(mast_path, local_path=local_path)"
      ],
      "metadata": {
        "id": "mG0g8-TtyBDt",
        "colab": {
          "base_uri": "https://localhost:8080/"
        },
        "outputId": "8c8e56c1-0f67-458f-dd33-7caf26965078"
      },
      "execution_count": 14,
      "outputs": [
        {
          "output_type": "stream",
          "name": "stdout",
          "text": [
            "Downloading URL https://mast.stsci.edu/api/v0.1/Download/file?uri=mast:jwst/product/jw01783004007_02101_00001_nrca1_uncal.fits to ./data/stage0/jw01783004007_02101_00001_nrca1_uncal.fits ... [Done]\n",
            "Downloading URL https://mast.stsci.edu/api/v0.1/Download/file?uri=mast:jwst/product/jw01783004007_02101_00002_nrca1_uncal.fits to ./data/stage0/jw01783004007_02101_00002_nrca1_uncal.fits ... [Done]\n"
          ]
        }
      ]
    },
    {
      "cell_type": "code",
      "source": [
        "#Example data for M82\n",
        "\n",
        "mast_dir = 'mast:jwst/product' # Download from MAST\n",
        "data_dir = './photometry/'  # save downloaded data\n",
        "os.makedirs(data_dir, exist_ok=True)\n",
        "\n",
        "# JWST images to be analyzed\n",
        "image_files = [ f\"jw01783-o004_t008_nircam_clear-f200w_i2d.fits\"]\n",
        "\n",
        "for image_file in image_files:\n",
        "    # Download file (if not already downloaded)\n",
        "    mast_path  = os.path.join(mast_dir, image_file)\n",
        "    local_path = os.path.join(data_dir, image_file)\n",
        "    Observations.download_file(mast_path, local_path=local_path)"
      ],
      "metadata": {
        "colab": {
          "base_uri": "https://localhost:8080/"
        },
        "id": "9RpSLMZkw-Yi",
        "outputId": "1e2d10f5-2740-432a-bfa8-b67054c2e531"
      },
      "execution_count": 15,
      "outputs": [
        {
          "output_type": "stream",
          "name": "stdout",
          "text": [
            "Downloading URL https://mast.stsci.edu/api/v0.1/Download/file?uri=mast:jwst/product/jw01783-o004_t008_nircam_clear-f200w_i2d.fits to ./photometry/jw01783-o004_t008_nircam_clear-f200w_i2d.fits ... [Done]\n"
          ]
        }
      ]
    },
    {
      "cell_type": "code",
      "source": [
        "input_files = glob(f'./data/stage0/*')\n",
        "out_dir = './'\n",
        "jwst_data = jpipe(input_files, out_dir)\n",
        "jwst_data()"
      ],
      "metadata": {
        "id": "GPrxk6nryqqf"
      },
      "execution_count": 23,
      "outputs": []
    },
    {
      "cell_type": "code",
      "source": [
        "cal_files = ['./data/stage2/jw01783004007_02101_00001_nrca1_cal.fits',\n",
        " './data/stage2/jw01783004007_02101_00002_nrca1_cal.fits']"
      ],
      "metadata": {
        "id": "5KrYzfMpadwd",
        "outputId": "9c056086-c063-4565-f933-bc414c3ac919",
        "colab": {
          "base_uri": "https://localhost:8080/"
        }
      },
      "execution_count": 20,
      "outputs": [
        {
          "output_type": "stream",
          "name": "stderr",
          "text": [
            "WARNING:py.warnings:/usr/local/lib/python3.10/dist-packages/ipykernel/ipkernel.py:283: DeprecationWarning: `should_run_async` will not call `transform_cell` automatically in the future. Please pass the result to `transformed_cell` argument and any exception that happen during thetransform in `preprocessing_exc_tuple` in IPython 7.17 and above.\n",
            "  and should_run_async(code)\n",
            "\n",
            "2024-07-13 04:46:48,655 - stpipe - WARNING - /usr/local/lib/python3.10/dist-packages/ipykernel/ipkernel.py:283: DeprecationWarning: `should_run_async` will not call `transform_cell` automatically in the future. Please pass the result to `transformed_cell` argument and any exception that happen during thetransform in `preprocessing_exc_tuple` in IPython 7.17 and above.\n",
            "  and should_run_async(code)\n",
            "\n",
            "WARNING:stpipe:/usr/local/lib/python3.10/dist-packages/ipykernel/ipkernel.py:283: DeprecationWarning: `should_run_async` will not call `transform_cell` automatically in the future. Please pass the result to `transformed_cell` argument and any exception that happen during thetransform in `preprocessing_exc_tuple` in IPython 7.17 and above.\n",
            "  and should_run_async(code)\n",
            "\n"
          ]
        }
      ]
    },
    {
      "cell_type": "code",
      "source": [
        "crf_files = glob(f'/content/data/stage3/*crf.fits')"
      ],
      "metadata": {
        "id": "exvdchLNyxMw"
      },
      "execution_count": null,
      "outputs": []
    },
    {
      "cell_type": "code",
      "source": [
        "nircam_phot(crf_files, 'f212n','/content/photometry',\n",
        "                          '/content/photometry/jw01701-o052_t007_nircam_clear-f212n-sub640_i2d')"
      ],
      "metadata": {
        "id": "vTcTQGNEzGkk"
      },
      "execution_count": null,
      "outputs": []
    },
    {
      "cell_type": "code",
      "source": [
        "cal_files_ = [f for f in cal_files if not os.path.exists(f.replace('stage2', 'stage3').replace('cal', 'crf'))]"
      ],
      "metadata": {
        "id": "8RLVYsMpaq5b"
      },
      "execution_count": null,
      "outputs": []
    }
  ],
  "metadata": {
    "colab": {
      "provenance": [],
      "include_colab_link": true
    },
    "kernelspec": {
      "display_name": "Python 3",
      "name": "python3"
    },
    "language_info": {
      "name": "python"
    }
  },
  "nbformat": 4,
  "nbformat_minor": 0
}