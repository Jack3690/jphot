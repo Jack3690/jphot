{
  "cells": [
    {
      "cell_type": "markdown",
      "metadata": {
        "id": "view-in-github",
        "colab_type": "text"
      },
      "source": [
        "<a href=\"https://colab.research.google.com/github/Jack3690/pydol/blob/main/notebooks/pydol.ipynb\" target=\"_parent\"><img src=\"https://colab.research.google.com/assets/colab-badge.svg\" alt=\"Open In Colab\"/></a>"
      ]
    },
    {
      "cell_type": "code",
      "source": [
        "!pip install jwst -q\n",
        "!pip install crds -q"
      ],
      "metadata": {
        "id": "KjZY746UxOfk"
      },
      "execution_count": null,
      "outputs": []
    },
    {
      "cell_type": "markdown",
      "metadata": {
        "id": "HdotZvxJpGb-"
      },
      "source": [
        "# **Pipeline**"
      ]
    },
    {
      "cell_type": "code",
      "execution_count": 3,
      "metadata": {
        "id": "8i7obQzlwD77"
      },
      "outputs": [],
      "source": [
        "from jwst.pipeline import Detector1Pipeline, Image2Pipeline, Image3Pipeline\n",
        "import jwst.associations\n",
        "\n",
        "from glob import glob\n",
        "\n",
        "import os\n",
        "from crds import client\n",
        "import jwst\n",
        "import multiprocessing as mp\n",
        "from pathlib import Path\n",
        "\n",
        "crds_dir = \"/content/CRDS/crds_cache\"#Path(__file__).parent.joinpath('CRDS')/'crds_cache'\n",
        "os.makedirs(crds_dir, exist_ok=True)\n",
        "os.environ['CRDS_PATH'] = str(crds_dir)\n",
        "os.environ[\"CRDS_SERVER_URL\"] = \"https://jwst-crds.stsci.edu\"\n",
        "client.set_crds_server(\"https://jwst-crds.stsci.edu\")\n"
      ]
    },
    {
      "cell_type": "code",
      "execution_count": 4,
      "metadata": {
        "id": "wdueubA3wF_a"
      },
      "outputs": [],
      "source": [
        "class jpipe():\n",
        "    def __init__(self, input_files=[], out_dir='.',\n",
        "                 crds_context=\"jwst_1241.pmap\"):\n",
        "        \"\"\"\n",
        "            Parameters\n",
        "            ----------\n",
        "            input_files: list,\n",
        "                         Input list of level 0 '_uncal.fits' files.\n",
        "                         Recommended: /data/stage0/\n",
        "            out_dir: str,\n",
        "                     Output directory.\n",
        "                     Recommended: The directory that contains /data/stage0/\n",
        "                     Pipeline will create /data/stage1/ and /data/stage2/\n",
        "\n",
        "            crds_context: str,\n",
        "                          Reference context for JWST pipeline from CRDS.\n",
        "\n",
        "              Returns\n",
        "              -------\n",
        "                  None\n",
        "\n",
        "        \"\"\"\n",
        "        if len(input_files)<1:\n",
        "            raise Exception(\"Input files list CANNOT be empty!\")\n",
        "        self.input_files = input_files\n",
        "        self.out_dir = out_dir\n",
        "        os.makedirs(out_dir + '/data/stage1/', exist_ok=True)\n",
        "        os.makedirs(out_dir + '/data/stage2/', exist_ok=True)\n",
        "        os.environ[\"CRDS_CONTEXT\"] = crds_context\n",
        "\n",
        "    def stage1(self, filename):\n",
        "        \"\"\"\n",
        "            Parameters\n",
        "            ----------\n",
        "            filename: str,\n",
        "                      path to the level 0 \"_uncal.fits\" file\n",
        "            Returns\n",
        "            -------\n",
        "                None\n",
        "        \"\"\"\n",
        "        # Instantiate the pipeline\n",
        "        img1 = Detector1Pipeline()\n",
        "        # Specify where the output should go\n",
        "        img1.output_dir = self.out_dir + '/data/stage1/'\n",
        "        # Save the final resulting _rate.fits files\n",
        "        img1.save_results = True\n",
        "        #No of cores\n",
        "        img1.jump.maximum_cores = f'{mp.cpu_count()-1}'\n",
        "        # Run the pipeline on an input list of files\n",
        "        img1(filename)\n",
        "\n",
        "    def stage2(self, filename):\n",
        "        \"\"\"\n",
        "            Parameters\n",
        "            ----------\n",
        "            filename: str,\n",
        "                      path to the level 1 \"_rate.fits\" file\n",
        "            Returns\n",
        "            -------\n",
        "                None\n",
        "        \"\"\"\n",
        "        # Instantiate the pipeline\n",
        "        img2 = Image2Pipeline()\n",
        "        # Specify where the output should go\n",
        "        img2.output_dir = self.out_dir + '/data/stage2/'\n",
        "        # Save the final resulting _rate.fits files\n",
        "        img2.save_results = True\n",
        "        # Run the pipeline on an input list of files\n",
        "        img2(filename)\n",
        "\n",
        "    def __call__(self):\n",
        "        \"\"\"\n",
        "            Runs the JWST Stage 1 and Stage 2 pipeline for generating\n",
        "            '_cal.fits' files\n",
        "        \"\"\"\n",
        "        uncal_files = [i for i in self.input_files if 'uncal' in i ]\n",
        "        for f in uncal_files:\n",
        "            o = f.replace('stage0','stage1')\n",
        "            o = o.replace('uncal','rate')\n",
        "            if not os.path.exists(o):\n",
        "                self.stage1(f)\n",
        "\n",
        "        rate_files = glob(self.out_dir + '/data/stage1/*_rate.fits')\n",
        "        rate_files_ = []\n",
        "        for f in rate_files:\n",
        "            o = f.replace('stage1','stage2')\n",
        "            o = o.replace('rate','cal')\n",
        "            if not os.path.exists(o):\n",
        "                rate_files_.append(f)\n",
        "\n",
        "        if len(rate_files_)>0:\n",
        "            with mp.Pool(mp.cpu_count()-1) as p:\n",
        "                p.map(self.stage2, rate_files_)"
      ]
    },
    {
      "cell_type": "markdown",
      "metadata": {
        "id": "wbpks6fzxMSe"
      },
      "source": [
        "# **Photometry**"
      ]
    },
    {
      "cell_type": "code",
      "execution_count": 5,
      "metadata": {
        "id": "yCGUuB65xMSf"
      },
      "outputs": [],
      "source": [
        "import os\n",
        "from glob import glob\n",
        "from astropy.table import Table\n",
        "from astropy.wcs import WCS\n",
        "from astropy.io import fits\n",
        "import numpy as np\n",
        "import multiprocessing as mp\n",
        "from pathlib import Path\n",
        "import subprocess\n",
        "\n",
        "param_dir = '/content/params'# str(Path(__file__).parent.joinpath('params'))\n",
        "script_dir = '/content/scripts'#str(Path(__file__).parent.joinpath('scripts'))"
      ]
    },
    {
      "cell_type": "code",
      "execution_count": 87,
      "metadata": {
        "id": "GCUrhr7uxMSg"
      },
      "outputs": [],
      "source": [
        "def nircam_phot(cal_files, name='f200w',output_dir='.', drz_path='.', ):\n",
        "    subprocess.run([f\"nircammask {drz_path}.fits\"], shell=True)\n",
        "    if not os.path.exists(output_dir):\n",
        "        os.mkdir(output_dir)\n",
        "\n",
        "    # Generating directories\n",
        "    exps = []\n",
        "    for i,f in enumerate(cal_files):\n",
        "        out_dir = f.split('/')[-1].split('.')[0]\n",
        "\n",
        "        if not os.path.exists(f'{output_dir}/{out_dir}'):\n",
        "            os.mkdir(f'{output_dir}/{out_dir}')\n",
        "        if not os.path.exists(f\"{output_dir}/{out_dir}/data.fits\"):\n",
        "            subprocess.run([f\"cp {f} {output_dir}/{out_dir}/data.fits\"],\n",
        "                                 shell=True)\n",
        "\n",
        "        exps.append(f'{output_dir}/{out_dir}')\n",
        "\n",
        "    # Applying NIRCAM Mask\n",
        "    for f in exps:\n",
        "        if not os.path.exists(f\"{f}/data.sky.fits\"):\n",
        "          out = subprocess.run([f\"nircammask {f}/data.fits\"]\n",
        "                                 ,shell=True)\n",
        "\n",
        "          out = subprocess.run([f\"calcsky {f}/data 10 25 2 2.25 2.00\"]\n",
        "                               , shell=True, capture_output=True)\n",
        "    # Preparing Parameter file DOLPHOT NIRCAM\n",
        "    with open(f\"{param_dir}/nircam_dolphot.param\") as f:\n",
        "                dat = f.readlines()\n",
        "\n",
        "    dat[0] = f'Nimg = {len(exps)}                #number of images (int)\\n'\n",
        "    dat[4] = f'img0_file = {drz_path}\\n'\n",
        "\n",
        "    for i,f in enumerate(exps):\n",
        "        dat[5+i] = f'img{i+1}_file = {f}/data           #image {i+1}\\n'\n",
        "\n",
        "    out_id = name\n",
        "    with open(f\"{param_dir}/nircam_dolphot_{out_id}.param\", 'w', encoding='utf-8') as f:\n",
        "        f.writelines(dat)\n",
        "\n",
        "    if not os.path.exists(f\"{output_dir}/{name}_photometry.fits\"):\n",
        "        # Running DOLPHOT NIRCAM\n",
        "        p = subprocess.Popen([\"dolphot\", f\"{output_dir}/out\", f\"-p{param_dir}/nircam_dolphot_{out_id}.param\"]\n",
        "                            , stdout=subprocess.PIPE, stderr=subprocess.PIPE, text=True)\n",
        "    while (line := p.stdout.readline()) != \"\":\n",
        "      print(line)\n",
        "    # Generating Astropy FITS Table\n",
        "\n",
        "    out = subprocess.run([f\"python {script_dir}/to_table.py --o {name}_photometry --n {len(exps)} --f {output_dir}/out\"],\n",
        "                   shell=True)\n",
        "\n",
        "    phot_table = Table.read(f\"{output_dir}/{name}_photometry.fits\")\n",
        "    phot_table.rename_columns(['mag_vega'],[f'mag_vega_F200W'])\n",
        "\n",
        "    # Assingning RA-Dec using reference image\n",
        "    hdu = fits.open(f\"{drz_path}.fits\")[1]\n",
        "\n",
        "    wcs = WCS(hdu.header)\n",
        "    positions = np.transpose([phot_table['x'] - 0.5, phot_table['y']-0.5])\n",
        "\n",
        "    coords = np.array(wcs.pixel_to_world_values(positions))\n",
        "\n",
        "    phot_table['ra']  = coords[:,0]\n",
        "    phot_table['dec'] = coords[:,1]\n",
        "\n",
        "    # Filtering stellar photometry catalog using Warfield et.al (2023)\n",
        "    phot_table1 = phot_table[ (phot_table['sharpness']**2   <= 0.01) &\n",
        "                                (phot_table['obj_crowd']    <=  0.5) &\n",
        "                                (phot_table['flags']        <=    2) &\n",
        "                                (phot_table['type']         <=    2)]\n",
        "\n",
        "    phot_table2 = phot_table[ ~((phot_table['sharpness']**2 <= 0.01) &\n",
        "                                (phot_table['obj_crowd']    <=  0.5) &\n",
        "                                (phot_table['flags']        <=    2) &\n",
        "                                (phot_table['type']         <=    2))]\n",
        "    print('NIRCAM SHORT')\n",
        "    phot_table.write(f'{output_dir}/{name}_photometry.fits', overwrite=True)\n",
        "    phot_table1.write(f'{output_dir}/{name}_photometry_filt.fits', overwrite=True)\n",
        "    phot_table2.write(f'{output_dir}/{name}_photometry_rej.fits', overwrite=True)\n",
        ""
      ]
    },
    {
      "cell_type": "markdown",
      "source": [
        "# **Testing**"
      ],
      "metadata": {
        "id": "YIJjhOGZyQrh"
      }
    },
    {
      "cell_type": "code",
      "source": [
        "!pip install astroquery -q"
      ],
      "metadata": {
        "colab": {
          "base_uri": "https://localhost:8080/"
        },
        "id": "5AOYzpdHykIK",
        "outputId": "cc6756f2-3e0f-42bb-8c79-0e2b91344571"
      },
      "execution_count": 7,
      "outputs": [
        {
          "output_type": "stream",
          "name": "stdout",
          "text": [
            "\u001b[2K     \u001b[90m━━━━━━━━━━━━━━━━━━━━━━━━━━━━━━━━━━━━━━━━\u001b[0m \u001b[32m5.3/5.3 MB\u001b[0m \u001b[31m33.0 MB/s\u001b[0m eta \u001b[36m0:00:00\u001b[0m\n",
            "\u001b[2K     \u001b[90m━━━━━━━━━━━━━━━━━━━━━━━━━━━━━━━━━━━━━━━━\u001b[0m \u001b[32m910.8/910.8 kB\u001b[0m \u001b[31m42.4 MB/s\u001b[0m eta \u001b[36m0:00:00\u001b[0m\n",
            "\u001b[?25h"
          ]
        }
      ]
    },
    {
      "cell_type": "code",
      "source": [
        "!wget http://americano.dolphinsim.com/dolphot/dolphot2.0.tar.gz\n",
        "!wget http://americano.dolphinsim.com/dolphot/dolphot2.0.NIRCAM.tar.gz\n",
        "!wget http://americano.dolphinsim.com/dolphot/nircam_F140M.tar.gz\n",
        "!wget http://americano.dolphinsim.com/dolphot/nircam_F212N.tar.gz"
      ],
      "metadata": {
        "id": "0TnkP8zr1MzI"
      },
      "execution_count": null,
      "outputs": []
    },
    {
      "cell_type": "code",
      "source": [
        "!tar -xf dolphot2.0.tar.gz\n",
        "!tar -xf dolphot2.0.NIRCAM.tar.gz\n",
        "!tar -xf nircam_F140M.tar.gz\n",
        "!tar -xf nircam_F212N.tar.gz"
      ],
      "metadata": {
        "id": "wg2475Qu1MzV"
      },
      "execution_count": 24,
      "outputs": []
    },
    {
      "cell_type": "code",
      "source": [
        "with open('/content/dolphot2.0/Makefile') as f:\n",
        "  dat = f.readlines()\n",
        "dat[28]= dat[28][1:]\n",
        "\n",
        "with open('/content/dolphot2.0/Makefile','w') as f:\n",
        "  f.writelines(dat)"
      ],
      "metadata": {
        "id": "jKCsMpb6wH_r"
      },
      "execution_count": 25,
      "outputs": []
    },
    {
      "cell_type": "code",
      "source": [
        "cd /content/dolphot2.0/"
      ],
      "metadata": {
        "colab": {
          "base_uri": "https://localhost:8080/"
        },
        "id": "NlkPlng2wLgD",
        "outputId": "966e80fe-9fda-44a7-e9d0-a2e935cd36a0"
      },
      "execution_count": 26,
      "outputs": [
        {
          "output_type": "stream",
          "name": "stdout",
          "text": [
            "/content/dolphot2.0\n"
          ]
        }
      ]
    },
    {
      "cell_type": "code",
      "source": [
        "import os"
      ],
      "metadata": {
        "id": "WRly3C-Mx2l5"
      },
      "execution_count": 27,
      "outputs": []
    },
    {
      "cell_type": "code",
      "source": [
        "os.system('make all')"
      ],
      "metadata": {
        "colab": {
          "base_uri": "https://localhost:8080/"
        },
        "id": "ypCNlUNdwOtE",
        "outputId": "e4e63484-f33c-489d-cb1d-bc9706c707d2"
      },
      "execution_count": 28,
      "outputs": [
        {
          "output_type": "execute_result",
          "data": {
            "text/plain": [
              "0"
            ]
          },
          "metadata": {},
          "execution_count": 28
        }
      ]
    },
    {
      "cell_type": "code",
      "source": [
        "cd /content/"
      ],
      "metadata": {
        "colab": {
          "base_uri": "https://localhost:8080/"
        },
        "id": "DElkTjjuyUe4",
        "outputId": "32280444-d3f6-4d21-d3a6-b9bd910aae5a"
      },
      "execution_count": 29,
      "outputs": [
        {
          "output_type": "stream",
          "name": "stdout",
          "text": [
            "/content\n"
          ]
        }
      ]
    },
    {
      "cell_type": "code",
      "source": [
        "os.environ['PATH'] += ':/content/dolphot2.0/bin'\n",
        "os.environ['PATH'] += ':/content/dolphot2.0/nircam'"
      ],
      "metadata": {
        "id": "30C9YUDnBqTR"
      },
      "execution_count": 30,
      "outputs": []
    },
    {
      "cell_type": "code",
      "source": [
        "from glob import glob\n",
        "import astropy.io.fits as fits\n",
        "\n",
        "import os\n",
        "import astroquery\n",
        "from astroquery.mast import Observations\n",
        "import pandas as pd\n",
        "\n",
        "from astropy.table import Table\n",
        "from astropy.wcs import WCS\n",
        "import numpy as np\n",
        "import multiprocessing as mp\n",
        "import matplotlib.pyplot as plt\n",
        "import json\n",
        "from astropy.coordinates import angular_separation\n",
        "import astropy.units as u\n",
        "import multiprocessing as mp"
      ],
      "metadata": {
        "id": "38NgKMg2yiP7"
      },
      "execution_count": 8,
      "outputs": []
    },
    {
      "cell_type": "code",
      "source": [
        "#Example data for M82\n",
        "\n",
        "mast_dir = 'mast:jwst/product' # Download from MAST\n",
        "data_dir = '/content/data/stage0/'  # save downloaded data\n",
        "os.makedirs(data_dir, exist_ok=True)\n",
        "\n",
        "ext = 'uncal'\n",
        "# JWST images to be analyzed\n",
        "image_files = []\n",
        "\n",
        "# ngc 628: f\"jw0178390400{k}_02101_0000{i}\n",
        "for i in range(1,10):\n",
        "    for j in range(1,5):\n",
        "      for l in ['b']:\n",
        "          image_files.append( f\"jw01701052001_02102_0000{i}_nrc{l}{j}_uncal.fits\")\n",
        "          break\n",
        "      break\n",
        "    break\n",
        "\n",
        "\n",
        "for image_file in image_files:\n",
        "    # Download file (if not already downloaded)\n",
        "    mast_path  = os.path.join(mast_dir, image_file)\n",
        "    local_path = os.path.join(data_dir, image_file)\n",
        "    Observations.download_file(mast_path, local_path=local_path)"
      ],
      "metadata": {
        "colab": {
          "base_uri": "https://localhost:8080/"
        },
        "id": "mG0g8-TtyBDt",
        "outputId": "eb2f1aca-a315-485a-d5b4-ecc7adcda99c"
      },
      "execution_count": 9,
      "outputs": [
        {
          "output_type": "stream",
          "name": "stdout",
          "text": [
            "Downloading URL https://mast.stsci.edu/api/v0.1/Download/file?uri=mast:jwst/product/jw01701052001_02102_00001_nrcb1_uncal.fits to /content/data/stage0/jw01701052001_02102_00001_nrcb1_uncal.fits ... [Done]\n"
          ]
        }
      ]
    },
    {
      "cell_type": "code",
      "source": [
        "input_files = glob(f'/content/data/stage0/*')\n",
        "out_dir = '/content/'\n",
        "jwst_data = jpipe(input_files, out_dir)\n",
        "jwst_data()"
      ],
      "metadata": {
        "id": "GPrxk6nryqqf"
      },
      "execution_count": null,
      "outputs": []
    },
    {
      "cell_type": "code",
      "source": [
        "cal_files = glob(f'/content/data/stage2/*cal.fits')"
      ],
      "metadata": {
        "id": "exvdchLNyxMw"
      },
      "execution_count": 11,
      "outputs": []
    },
    {
      "cell_type": "code",
      "source": [
        "cal_files"
      ],
      "metadata": {
        "colab": {
          "base_uri": "https://localhost:8080/"
        },
        "id": "F9BVUXdbzFoo",
        "outputId": "f5e42945-0c0f-4893-c924-12318a053d7f"
      },
      "execution_count": 12,
      "outputs": [
        {
          "output_type": "execute_result",
          "data": {
            "text/plain": [
              "['/content/data/stage2/jw01701052001_02102_00001_nrcb1_cal.fits']"
            ]
          },
          "metadata": {},
          "execution_count": 12
        }
      ]
    },
    {
      "cell_type": "code",
      "source": [
        "#Example data for M82\n",
        "\n",
        "mast_dir = 'mast:jwst/product' # Download from MAST\n",
        "data_dir = '/content/photometry/'  # save downloaded data\n",
        "os.makedirs(data_dir, exist_ok=True)\n",
        "\n",
        "# JWST images to be analyzed\n",
        "image_files = [ f\"jw01701-o052_t007_nircam_clear-f140m-sub640_i2d.fits\"]\n",
        "\n",
        "for image_file in image_files:\n",
        "    # Download file (if not already downloaded)\n",
        "    mast_path  = os.path.join(mast_dir, image_file)\n",
        "    local_path = os.path.join(data_dir, image_file)\n",
        "    Observations.download_file(mast_path, local_path=local_path)"
      ],
      "metadata": {
        "colab": {
          "base_uri": "https://localhost:8080/"
        },
        "id": "c7ntwfI5zPCg",
        "outputId": "689a3b29-6b77-4407-c5de-038e6903479d"
      },
      "execution_count": 13,
      "outputs": [
        {
          "output_type": "stream",
          "name": "stdout",
          "text": [
            "Downloading URL https://mast.stsci.edu/api/v0.1/Download/file?uri=mast:jwst/product/jw01701-o052_t007_nircam_clear-f140m-sub640_i2d.fits to /content/photometry/jw01701-o052_t007_nircam_clear-f140m-sub640_i2d.fits ... [Done]\n"
          ]
        }
      ]
    },
    {
      "cell_type": "code",
      "source": [
        "nircam_phot(cal_files, 'f140m','/content/photometry',\n",
        "                          '/content/photometry/jw01701-o052_t007_nircam_clear-f140m-sub640_i2d')"
      ],
      "metadata": {
        "colab": {
          "base_uri": "https://localhost:8080/"
        },
        "id": "vTcTQGNEzGkk",
        "outputId": "72dddf89-873a-4bc7-917a-3fbc95d1337e"
      },
      "execution_count": 88,
      "outputs": [
        {
          "output_type": "stream",
          "name": "stdout",
          "text": [
            "Reading FITS file /content/photometry/jw01701052001_02102_00001_nrcb1_cal/data.fits\n",
            "\n",
            "Reading FITS file /content/photometry/jw01701-o052_t007_nircam_clear-f140m-sub640_i2d.fits\n",
            "\n",
            "Reading IMAGE extension: 640x640\n",
            "\n",
            "  GAIN=2.01 EXP=25s NOISE=11.77 BAD=-116.33 SAT=46271.50\n",
            "\n",
            "Reading IMAGE extension: 1644x1634\n",
            "\n",
            "  GAIN=2.05 EXP=401s NOISE=11.46 BAD=-854.84 SAT=500031.72\n",
            "\n",
            "** Extension 1, Chip 1 **\n",
            "\n",
            "CD matrix not found; using PC matrix instead\n",
            "\n",
            "reference rmsi = 0.000027, rmsf = 0.000010\n",
            "\n",
            "reverse rmsi = 0.290236, rmsf = 0.000007\n",
            "\n",
            "forward rmsi = 0.280230, rmsf = 0.000054\n",
            "\n",
            "1833 stars for alignment\n",
            "\n",
            "image 1: 482 matched, 447 used, -0.79 0.64 1.000000 0.00000 -0.032, sig=0.49\n",
            "\n",
            "Finding stars: .......\n",
            "\n",
            "18502 found\n",
            "\n",
            "669 stars eliminated\n",
            "\n",
            "88 stars eliminated\n",
            "\n",
            "59 stars eliminated\n",
            "\n",
            "52 stars eliminated\n",
            "\n",
            "29 stars eliminated\n",
            "\n",
            "14 stars eliminated\n",
            "\n",
            "15 stars eliminated\n",
            "\n",
            "9 stars eliminated\n",
            "\n",
            "9 stars eliminated\n",
            "\n",
            "3 stars eliminated\n",
            "\n",
            "6 stars eliminated\n",
            "\n",
            "5 stars eliminated\n",
            "\n",
            "5 stars eliminated\n",
            "\n",
            "18 PSF stars; 1396 neighbors\n",
            "\n",
            "Central pixel PSF adjustments:\n",
            "\n",
            "image 1: 18 stars, -0.000400\n",
            "\n",
            "8 stars eliminated\n",
            "\n",
            "11 stars eliminated\n",
            "\n",
            "3 stars eliminated\n",
            "\n",
            "3 stars eliminated\n",
            "\n",
            "3 stars eliminated\n",
            "\n",
            "2 stars eliminated\n",
            "\n",
            "3 stars eliminated\n",
            "\n",
            "1 stars eliminated\n",
            "\n",
            "Aperture corrections:\n",
            "\n",
            "image 1: 20 total aperture stars\n",
            "\n",
            "  20 stars used, -0.005 (-0.005 +/- 0.000, 0.014)\n",
            "\n",
            "  20 stars used, -0.044 (-0.043 +/- 0.004, 0.031)\n",
            "\n",
            "  20 stars used,  0.154 (0.154 +/- 0.000, 0.002)\n",
            "\n",
            "15948 stars written; 1557 stars deleted\n",
            "\n"
          ]
        },
        {
          "output_type": "stream",
          "name": "stderr",
          "text": [
            "WARNING:py.warnings:/usr/lib/python3.10/subprocess.py:1072: ResourceWarning: subprocess 21936 is still running\n",
            "  _warn(\"subprocess %s is still running\" % self.pid,\n",
            "\n",
            "2024-06-28 04:27:43,260 - stpipe - WARNING - /usr/lib/python3.10/subprocess.py:1072: ResourceWarning: subprocess 21936 is still running\n",
            "  _warn(\"subprocess %s is still running\" % self.pid,\n",
            "\n",
            "WARNING:stpipe:/usr/lib/python3.10/subprocess.py:1072: ResourceWarning: subprocess 21936 is still running\n",
            "  _warn(\"subprocess %s is still running\" % self.pid,\n",
            "\n",
            "WARNING:py.warnings:/usr/local/lib/python3.10/dist-packages/astropy/logger.py:223: ResourceWarning: unclosed file <_io.TextIOWrapper name=33 encoding='UTF-8'>\n",
            "  for name, mod in list(sys.modules.items()):\n",
            "\n",
            "2024-06-28 04:27:43,269 - stpipe - WARNING - /usr/local/lib/python3.10/dist-packages/astropy/logger.py:223: ResourceWarning: unclosed file <_io.TextIOWrapper name=33 encoding='UTF-8'>\n",
            "  for name, mod in list(sys.modules.items()):\n",
            "\n",
            "WARNING:stpipe:/usr/local/lib/python3.10/dist-packages/astropy/logger.py:223: ResourceWarning: unclosed file <_io.TextIOWrapper name=33 encoding='UTF-8'>\n",
            "  for name, mod in list(sys.modules.items()):\n",
            "\n",
            "WARNING:py.warnings:/usr/local/lib/python3.10/dist-packages/astropy/logger.py:223: ResourceWarning: unclosed file <_io.TextIOWrapper name=38 encoding='UTF-8'>\n",
            "  for name, mod in list(sys.modules.items()):\n",
            "\n",
            "2024-06-28 04:27:43,275 - stpipe - WARNING - /usr/local/lib/python3.10/dist-packages/astropy/logger.py:223: ResourceWarning: unclosed file <_io.TextIOWrapper name=38 encoding='UTF-8'>\n",
            "  for name, mod in list(sys.modules.items()):\n",
            "\n",
            "WARNING:stpipe:/usr/local/lib/python3.10/dist-packages/astropy/logger.py:223: ResourceWarning: unclosed file <_io.TextIOWrapper name=38 encoding='UTF-8'>\n",
            "  for name, mod in list(sys.modules.items()):\n",
            "\n",
            "WARNING: FITSFixedWarning: 'datfix' made the change 'Set DATE-OBS to '2022-10-18T01:06:48.874' from MJD-OBS.\n",
            "Set DATE-BEG to '2022-10-18T00:57:30.698' from MJD-BEG.\n",
            "Set DATE-AVG to '2022-10-18T01:06:48.840' from MJD-AVG.\n",
            "Set DATE-END to '2022-10-18T01:15:57.118' from MJD-END'. [astropy.wcs.wcs]\n",
            "WARNING:astroquery:FITSFixedWarning: 'datfix' made the change 'Set DATE-OBS to '2022-10-18T01:06:48.874' from MJD-OBS.\n",
            "Set DATE-BEG to '2022-10-18T00:57:30.698' from MJD-BEG.\n",
            "Set DATE-AVG to '2022-10-18T01:06:48.840' from MJD-AVG.\n",
            "Set DATE-END to '2022-10-18T01:15:57.118' from MJD-END'.\n",
            "2024-06-28 04:27:43,288 - stpipe - WARNING - FITSFixedWarning: 'datfix' made the change 'Set DATE-OBS to '2022-10-18T01:06:48.874' from MJD-OBS.\n",
            "Set DATE-BEG to '2022-10-18T00:57:30.698' from MJD-BEG.\n",
            "Set DATE-AVG to '2022-10-18T01:06:48.840' from MJD-AVG.\n",
            "Set DATE-END to '2022-10-18T01:15:57.118' from MJD-END'.\n",
            "WARNING:stpipe:FITSFixedWarning: 'datfix' made the change 'Set DATE-OBS to '2022-10-18T01:06:48.874' from MJD-OBS.\n",
            "Set DATE-BEG to '2022-10-18T00:57:30.698' from MJD-BEG.\n",
            "Set DATE-AVG to '2022-10-18T01:06:48.840' from MJD-AVG.\n",
            "Set DATE-END to '2022-10-18T01:15:57.118' from MJD-END'.\n",
            "WARNING: FITSFixedWarning: 'obsfix' made the change 'Set OBSGEO-L to    32.068759 from OBSGEO-[XYZ].\n",
            "Set OBSGEO-B to    28.870976 from OBSGEO-[XYZ].\n",
            "Set OBSGEO-H to 1268640106.426 from OBSGEO-[XYZ]'. [astropy.wcs.wcs]\n",
            "WARNING:astroquery:FITSFixedWarning: 'obsfix' made the change 'Set OBSGEO-L to    32.068759 from OBSGEO-[XYZ].\n",
            "Set OBSGEO-B to    28.870976 from OBSGEO-[XYZ].\n",
            "Set OBSGEO-H to 1268640106.426 from OBSGEO-[XYZ]'.\n",
            "2024-06-28 04:27:43,304 - stpipe - WARNING - FITSFixedWarning: 'obsfix' made the change 'Set OBSGEO-L to    32.068759 from OBSGEO-[XYZ].\n",
            "Set OBSGEO-B to    28.870976 from OBSGEO-[XYZ].\n",
            "Set OBSGEO-H to 1268640106.426 from OBSGEO-[XYZ]'.\n",
            "WARNING:stpipe:FITSFixedWarning: 'obsfix' made the change 'Set OBSGEO-L to    32.068759 from OBSGEO-[XYZ].\n",
            "Set OBSGEO-B to    28.870976 from OBSGEO-[XYZ].\n",
            "Set OBSGEO-H to 1268640106.426 from OBSGEO-[XYZ]'.\n",
            "WARNING:py.warnings:/usr/lib/python3.10/subprocess.py:1072: ResourceWarning: subprocess 22976 is still running\n",
            "  _warn(\"subprocess %s is still running\" % self.pid,\n",
            "\n",
            "2024-06-28 04:27:43,459 - stpipe - WARNING - /usr/lib/python3.10/subprocess.py:1072: ResourceWarning: subprocess 22976 is still running\n",
            "  _warn(\"subprocess %s is still running\" % self.pid,\n",
            "\n",
            "WARNING:stpipe:/usr/lib/python3.10/subprocess.py:1072: ResourceWarning: subprocess 22976 is still running\n",
            "  _warn(\"subprocess %s is still running\" % self.pid,\n",
            "\n",
            "WARNING:py.warnings:<ipython-input-88-c907f8fd614c>:1: ResourceWarning: unclosed file <_io.TextIOWrapper name=39 encoding='UTF-8'>\n",
            "  nircam_phot(cal_files, 'f140m','/content/photometry',\n",
            "\n",
            "2024-06-28 04:27:43,466 - stpipe - WARNING - <ipython-input-88-c907f8fd614c>:1: ResourceWarning: unclosed file <_io.TextIOWrapper name=39 encoding='UTF-8'>\n",
            "  nircam_phot(cal_files, 'f140m','/content/photometry',\n",
            "\n",
            "WARNING:stpipe:<ipython-input-88-c907f8fd614c>:1: ResourceWarning: unclosed file <_io.TextIOWrapper name=39 encoding='UTF-8'>\n",
            "  nircam_phot(cal_files, 'f140m','/content/photometry',\n",
            "\n",
            "WARNING:py.warnings:<ipython-input-88-c907f8fd614c>:1: ResourceWarning: unclosed file <_io.TextIOWrapper name=54 encoding='UTF-8'>\n",
            "  nircam_phot(cal_files, 'f140m','/content/photometry',\n",
            "\n",
            "2024-06-28 04:27:43,473 - stpipe - WARNING - <ipython-input-88-c907f8fd614c>:1: ResourceWarning: unclosed file <_io.TextIOWrapper name=54 encoding='UTF-8'>\n",
            "  nircam_phot(cal_files, 'f140m','/content/photometry',\n",
            "\n",
            "WARNING:stpipe:<ipython-input-88-c907f8fd614c>:1: ResourceWarning: unclosed file <_io.TextIOWrapper name=54 encoding='UTF-8'>\n",
            "  nircam_phot(cal_files, 'f140m','/content/photometry',\n",
            "\n",
            "WARNING:py.warnings:<ipython-input-88-c907f8fd614c>:1: ResourceWarning: unclosed file <_io.BufferedReader name='/content/photometry/jw01701-o052_t007_nircam_clear-f140m-sub640_i2d.fits'>\n",
            "  nircam_phot(cal_files, 'f140m','/content/photometry',\n",
            "\n",
            "2024-06-28 04:27:43,481 - stpipe - WARNING - <ipython-input-88-c907f8fd614c>:1: ResourceWarning: unclosed file <_io.BufferedReader name='/content/photometry/jw01701-o052_t007_nircam_clear-f140m-sub640_i2d.fits'>\n",
            "  nircam_phot(cal_files, 'f140m','/content/photometry',\n",
            "\n",
            "WARNING:stpipe:<ipython-input-88-c907f8fd614c>:1: ResourceWarning: unclosed file <_io.BufferedReader name='/content/photometry/jw01701-o052_t007_nircam_clear-f140m-sub640_i2d.fits'>\n",
            "  nircam_phot(cal_files, 'f140m','/content/photometry',\n",
            "\n"
          ]
        },
        {
          "output_type": "stream",
          "name": "stdout",
          "text": [
            "NIRCAM SHORT\n"
          ]
        }
      ]
    },
    {
      "cell_type": "code",
      "source": [
        "out = subprocess.run([f\"python {script_dir}/to_table.py --o f140m_photometry --n 1 --f /content/photometry/out\"],\n",
        "                  shell=True, capture_output=True)"
      ],
      "metadata": {
        "id": "LoPM6fE-z-t6"
      },
      "execution_count": 79,
      "outputs": []
    },
    {
      "cell_type": "code",
      "source": [
        "out.stderr"
      ],
      "metadata": {
        "colab": {
          "base_uri": "https://localhost:8080/"
        },
        "id": "5x8ubPR1-Dw_",
        "outputId": "03a51ff2-3175-4c6c-e22b-2132cdb67ba2"
      },
      "execution_count": 80,
      "outputs": [
        {
          "output_type": "execute_result",
          "data": {
            "text/plain": [
              "b''"
            ]
          },
          "metadata": {},
          "execution_count": 80
        }
      ]
    },
    {
      "cell_type": "code",
      "source": [],
      "metadata": {
        "id": "OmUQ2E50Aw51"
      },
      "execution_count": null,
      "outputs": []
    }
  ],
  "metadata": {
    "colab": {
      "provenance": [],
      "include_colab_link": true
    },
    "kernelspec": {
      "display_name": "Python 3",
      "name": "python3"
    },
    "language_info": {
      "name": "python"
    }
  },
  "nbformat": 4,
  "nbformat_minor": 0
}