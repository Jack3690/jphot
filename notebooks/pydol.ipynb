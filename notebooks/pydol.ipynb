{
  "cells": [
    {
      "cell_type": "markdown",
      "metadata": {
        "id": "view-in-github",
        "colab_type": "text"
      },
      "source": [
        "<a href=\"https://colab.research.google.com/github/Jack3690/pydol/blob/main/notebooks/pydol.ipynb\" target=\"_parent\"><img src=\"https://colab.research.google.com/assets/colab-badge.svg\" alt=\"Open In Colab\"/></a>"
      ]
    },
    {
      "cell_type": "code",
      "source": [
        "!pip install jwst -q\n",
        "!pip install crds -q"
      ],
      "metadata": {
        "id": "KjZY746UxOfk",
        "outputId": "c7618499-b200-4ae5-e1c7-68d88ebe6fb9",
        "colab": {
          "base_uri": "https://localhost:8080/"
        }
      },
      "execution_count": null,
      "outputs": [
        {
          "output_type": "stream",
          "name": "stdout",
          "text": [
            "\u001b[2K     \u001b[90m━━━━━━━━━━━━━━━━━━━━━━━━━━━━━━━━━━━━━━━━\u001b[0m \u001b[32m15.4/15.4 MB\u001b[0m \u001b[31m16.2 MB/s\u001b[0m eta \u001b[36m0:00:00\u001b[0m\n",
            "\u001b[2K     \u001b[90m━━━━━━━━━━━━━━━━━━━━━━━━━━━━━━━━━━━━━━━━\u001b[0m \u001b[32m960.9/960.9 kB\u001b[0m \u001b[31m17.7 MB/s\u001b[0m eta \u001b[36m0:00:00\u001b[0m\n",
            "\u001b[2K     \u001b[90m━━━━━━━━━━━━━━━━━━━━━━━━━━━━━━━━━━━━━━━━\u001b[0m \u001b[32m5.7/5.7 MB\u001b[0m \u001b[31m33.3 MB/s\u001b[0m eta \u001b[36m0:00:00\u001b[0m\n",
            "\u001b[2K     \u001b[90m━━━━━━━━━━━━━━━━━━━━━━━━━━━━━━━━━━━━━━━━\u001b[0m \u001b[32m1.1/1.1 MB\u001b[0m \u001b[31m11.9 MB/s\u001b[0m eta \u001b[36m0:00:00\u001b[0m\n",
            "\u001b[2K     \u001b[90m━━━━━━━━━━━━━━━━━━━━━━━━━━━━━━━━━━━━━━━━\u001b[0m \u001b[32m296.5/296.5 kB\u001b[0m \u001b[31m4.8 MB/s\u001b[0m eta \u001b[36m0:00:00\u001b[0m\n",
            "\u001b[2K     \u001b[90m━━━━━━━━━━━━━━━━━━━━━━━━━━━━━━━━━━━━━━━━\u001b[0m \u001b[32m155.3/155.3 kB\u001b[0m \u001b[31m11.3 MB/s\u001b[0m eta \u001b[36m0:00:00\u001b[0m\n",
            "\u001b[2K     \u001b[90m━━━━━━━━━━━━━━━━━━━━━━━━━━━━━━━━━━━━━━━━\u001b[0m \u001b[32m1.1/1.1 MB\u001b[0m \u001b[31m21.6 MB/s\u001b[0m eta \u001b[36m0:00:00\u001b[0m\n",
            "\u001b[2K     \u001b[90m━━━━━━━━━━━━━━━━━━━━━━━━━━━━━━━━━━━━━━━━\u001b[0m \u001b[32m2.8/2.8 MB\u001b[0m \u001b[31m19.5 MB/s\u001b[0m eta \u001b[36m0:00:00\u001b[0m\n",
            "\u001b[2K     \u001b[90m━━━━━━━━━━━━━━━━━━━━━━━━━━━━━━━━━━━━━━━━\u001b[0m \u001b[32m8.6/8.6 MB\u001b[0m \u001b[31m14.5 MB/s\u001b[0m eta \u001b[36m0:00:00\u001b[0m\n",
            "\u001b[2K     \u001b[90m━━━━━━━━━━━━━━━━━━━━━━━━━━━━━━━━━━━━━━━━\u001b[0m \u001b[32m2.6/2.6 MB\u001b[0m \u001b[31m19.9 MB/s\u001b[0m eta \u001b[36m0:00:00\u001b[0m\n",
            "\u001b[2K     \u001b[90m━━━━━━━━━━━━━━━━━━━━━━━━━━━━━━━━━━━━━━━━\u001b[0m \u001b[32m316.2/316.2 kB\u001b[0m \u001b[31m17.0 MB/s\u001b[0m eta \u001b[36m0:00:00\u001b[0m\n",
            "\u001b[2K     \u001b[90m━━━━━━━━━━━━━━━━━━━━━━━━━━━━━━━━━━━━━━━━\u001b[0m \u001b[32m49.8/49.8 kB\u001b[0m \u001b[31m3.4 MB/s\u001b[0m eta \u001b[36m0:00:00\u001b[0m\n",
            "\u001b[2K     \u001b[90m━━━━━━━━━━━━━━━━━━━━━━━━━━━━━━━━━━━━━━━━\u001b[0m \u001b[32m915.0/915.0 kB\u001b[0m \u001b[31m28.3 MB/s\u001b[0m eta \u001b[36m0:00:00\u001b[0m\n",
            "\u001b[2K     \u001b[90m━━━━━━━━━━━━━━━━━━━━━━━━━━━━━━━━━━━━━━━━\u001b[0m \u001b[32m160.4/160.4 kB\u001b[0m \u001b[31m5.2 MB/s\u001b[0m eta \u001b[36m0:00:00\u001b[0m\n",
            "\u001b[2K     \u001b[90m━━━━━━━━━━━━━━━━━━━━━━━━━━━━━━━━━━━━━━━━\u001b[0m \u001b[32m83.6/83.6 kB\u001b[0m \u001b[31m3.9 MB/s\u001b[0m eta \u001b[36m0:00:00\u001b[0m\n",
            "\u001b[2K     \u001b[90m━━━━━━━━━━━━━━━━━━━━━━━━━━━━━━━━━━━━━━━━\u001b[0m \u001b[32m81.9/81.9 kB\u001b[0m \u001b[31m4.8 MB/s\u001b[0m eta \u001b[36m0:00:00\u001b[0m\n",
            "\u001b[2K     \u001b[90m━━━━━━━━━━━━━━━━━━━━━━━━━━━━━━━━━━━━━━━━\u001b[0m \u001b[32m275.4/275.4 kB\u001b[0m \u001b[31m8.0 MB/s\u001b[0m eta \u001b[36m0:00:00\u001b[0m\n",
            "\u001b[2K     \u001b[90m━━━━━━━━━━━━━━━━━━━━━━━━━━━━━━━━━━━━━━━━\u001b[0m \u001b[32m88.9/88.9 kB\u001b[0m \u001b[31m4.4 MB/s\u001b[0m eta \u001b[36m0:00:00\u001b[0m\n",
            "\u001b[2K     \u001b[90m━━━━━━━━━━━━━━━━━━━━━━━━━━━━━━━━━━━━━━━━\u001b[0m \u001b[32m45.9/45.9 kB\u001b[0m \u001b[31m2.4 MB/s\u001b[0m eta \u001b[36m0:00:00\u001b[0m\n",
            "\u001b[2K     \u001b[90m━━━━━━━━━━━━━━━━━━━━━━━━━━━━━━━━━━━━━━━━\u001b[0m \u001b[32m10.0/10.0 MB\u001b[0m \u001b[31m14.2 MB/s\u001b[0m eta \u001b[36m0:00:00\u001b[0m\n",
            "\u001b[2K     \u001b[90m━━━━━━━━━━━━━━━━━━━━━━━━━━━━━━━━━━━━━━━━\u001b[0m \u001b[32m1.9/1.9 MB\u001b[0m \u001b[31m15.3 MB/s\u001b[0m eta \u001b[36m0:00:00\u001b[0m\n",
            "\u001b[2K     \u001b[90m━━━━━━━━━━━━━━━━━━━━━━━━━━━━━━━━━━━━━━━━\u001b[0m \u001b[32m150.3/150.3 kB\u001b[0m \u001b[31m5.1 MB/s\u001b[0m eta \u001b[36m0:00:00\u001b[0m\n",
            "\u001b[?25h"
          ]
        }
      ]
    },
    {
      "cell_type": "code",
      "source": [
        "!git clone https://github.com/Jack3690/pydol"
      ],
      "metadata": {
        "colab": {
          "base_uri": "https://localhost:8080/"
        },
        "id": "uo8pMdY93DuI",
        "outputId": "19ecf435-89f0-403d-a454-b96764991073"
      },
      "execution_count": 23,
      "outputs": [
        {
          "output_type": "stream",
          "name": "stdout",
          "text": [
            "Cloning into 'pydol'...\n",
            "remote: Enumerating objects: 457, done.\u001b[K\n",
            "remote: Counting objects: 100% (246/246), done.\u001b[K\n",
            "remote: Compressing objects: 100% (92/92), done.\u001b[K\n",
            "remote: Total 457 (delta 156), reused 240 (delta 153), pack-reused 211\u001b[K\n",
            "Receiving objects: 100% (457/457), 39.42 MiB | 21.38 MiB/s, done.\n",
            "Resolving deltas: 100% (236/236), done.\n"
          ]
        }
      ]
    },
    {
      "cell_type": "markdown",
      "metadata": {
        "id": "HdotZvxJpGb-"
      },
      "source": [
        "# **Pipeline**"
      ]
    },
    {
      "cell_type": "code",
      "execution_count": 1,
      "metadata": {
        "id": "8i7obQzlwD77"
      },
      "outputs": [],
      "source": [
        "from jwst.pipeline import Detector1Pipeline, Image2Pipeline, Image3Pipeline\n",
        "import jwst.associations\n",
        "\n",
        "from glob import glob\n",
        "\n",
        "import os\n",
        "from crds import client\n",
        "import jwst\n",
        "import multiprocessing as mp\n",
        "from pathlib import Path\n",
        "\n",
        "crds_dir = \"/content/CRDS/crds_cache\"#Path(__file__).parent.joinpath('CRDS')/'crds_cache'\n",
        "os.makedirs(crds_dir, exist_ok=True)\n",
        "os.environ['CRDS_PATH'] = str(crds_dir)\n",
        "os.environ[\"CRDS_SERVER_URL\"] = \"https://jwst-crds.stsci.edu\"\n",
        "client.set_crds_server(\"https://jwst-crds.stsci.edu\")\n"
      ]
    },
    {
      "cell_type": "code",
      "execution_count": 16,
      "metadata": {
        "id": "wdueubA3wF_a"
      },
      "outputs": [],
      "source": [
        "class jpipe():\n",
        "    def __init__(self, input_files=[], out_dir='.',\n",
        "                 crds_context=\"jwst_1241.pmap\"):\n",
        "        \"\"\"\n",
        "            Parameters\n",
        "            ----------\n",
        "            input_files: list,\n",
        "                         Input list of level 0 '_uncal.fits' files.\n",
        "                         Recommended: /data/stage0/\n",
        "            out_dir: str,\n",
        "                     Output directory.\n",
        "                     Recommended: The directory that contains /data/stage0/\n",
        "                     Pipeline will create /data/stage1/ and /data/stage2/\n",
        "\n",
        "            crds_context: str,\n",
        "                          Reference context for JWST pipeline from CRDS.\n",
        "\n",
        "              Returns\n",
        "              -------\n",
        "                  None\n",
        "\n",
        "        \"\"\"\n",
        "        if len(input_files)<1:\n",
        "            raise Exception(\"Input files list CANNOT be empty!\")\n",
        "        self.input_files = input_files\n",
        "        self.out_dir = out_dir\n",
        "        os.makedirs(out_dir + '/data/stage1/', exist_ok=True)\n",
        "        os.makedirs(out_dir + '/data/stage2/', exist_ok=True)\n",
        "        os.makedirs(out_dir + '/data/stage3/', exist_ok=True)\n",
        "\n",
        "        os.environ[\"CRDS_CONTEXT\"] = crds_context\n",
        "\n",
        "    def stage1(self, filename):\n",
        "        \"\"\"\n",
        "            Parameters\n",
        "            ----------\n",
        "            filename: str,\n",
        "                      path to the level 0 \"_uncal.fits\" file\n",
        "            Returns\n",
        "            -------\n",
        "                None\n",
        "        \"\"\"\n",
        "        # Instantiate the pipeline\n",
        "        img1 = Detector1Pipeline()\n",
        "        # Snowball Removal (M82 Group)\n",
        "        img1.jump.expand_large_events = True\n",
        "        # Specify where the output should go\n",
        "        img1.output_dir = self.out_dir + '/data/stage1/'\n",
        "        # Save the final resulting _rate.fits files\n",
        "        img1.save_results = True\n",
        "        #No of cores\n",
        "        img1.jump.maximum_cores = f'{mp.cpu_count()-1}'\n",
        "        # Run the pipeline on an input list of files\n",
        "        img1(filename)\n",
        "\n",
        "    def stage2(self, filename):\n",
        "        \"\"\"\n",
        "            Parameters\n",
        "            ----------\n",
        "            filename: str,\n",
        "                      path to the level 1 \"_rate.fits\" file\n",
        "            Returns\n",
        "            -------\n",
        "                None\n",
        "        \"\"\"\n",
        "        # Instantiate the pipeline\n",
        "        img2 = Image2Pipeline()\n",
        "        # Specify where the output should go\n",
        "        img2.output_dir = self.out_dir + '/data/stage2/'\n",
        "        # Save the final resulting _rate.fits files\n",
        "        img2.save_results = True\n",
        "        # Run the pipeline on an input list of files\n",
        "        img2(filename)\n",
        "\n",
        "        # TBD: Add 1/f noise removal\n",
        "        #\n",
        "        #\n",
        "        #\n",
        "        #\n",
        "\n",
        "    def stage3(self, filename):\n",
        "        \"\"\"\n",
        "            Parameters\n",
        "            ----------\n",
        "            filename: str,\n",
        "                      path to the level 1 \"_rate.fits\" file\n",
        "            Returns\n",
        "            -------\n",
        "                None\n",
        "        \"\"\"\n",
        "        # Instantiate the pipeline\n",
        "        img3 = Image3Pipeline()\n",
        "        # Specify where the output should go\n",
        "        img3.output_dir = self.out_dir + '/data/stage3/'\n",
        "        # Save the final resulting _rate.fits files\n",
        "        img3.save_results = True\n",
        "        # Run the pipeline on an input list of files\n",
        "        img3(filename)\n",
        "\n",
        "\n",
        "\n",
        "    def __call__(self):\n",
        "        \"\"\"\n",
        "            Runs the JWST Stage 1, Stage 2, and Stage 3 pipeline for generating\n",
        "            '_crf.fits' files\n",
        "        \"\"\"\n",
        "        # Stage1\n",
        "        uncal_files = [i for i in self.input_files if 'uncal' in i ]\n",
        "        for f in uncal_files:\n",
        "            o = f.replace('stage0','stage1')\n",
        "            o = o.replace('uncal','rate')\n",
        "            if not os.path.exists(o):\n",
        "                self.stage1(f)\n",
        "\n",
        "        rate_files = glob(self.out_dir + '/data/stage1/*_rate.fits')\n",
        "\n",
        "        # Stage 2\n",
        "        rate_files_ = []\n",
        "        for f in rate_files:\n",
        "            o = f.replace('stage1','stage2')\n",
        "            o = o.replace('rate','cal')\n",
        "            if not os.path.exists(o):\n",
        "                rate_files_.append(f)\n",
        "\n",
        "        if len(rate_files_)>0:\n",
        "            with mp.Pool(mp.cpu_count()-1) as p:\n",
        "                p.map(self.stage2, rate_files_)\n",
        "        # Stage 3\n",
        "\n",
        "        cal_files = glob(self.out_dir + '/data/stage2/*cal.fits')\n",
        "        self.stage3(cal_files)"
      ]
    },
    {
      "cell_type": "markdown",
      "metadata": {
        "id": "wbpks6fzxMSe"
      },
      "source": [
        "# **Photometry**"
      ]
    },
    {
      "cell_type": "code",
      "execution_count": 24,
      "metadata": {
        "id": "yCGUuB65xMSf"
      },
      "outputs": [],
      "source": [
        "import os\n",
        "from glob import glob\n",
        "from astropy.table import Table\n",
        "from astropy.wcs import WCS\n",
        "from astropy.io import fits\n",
        "import numpy as np\n",
        "import multiprocessing as mp\n",
        "from pathlib import Path\n",
        "import subprocess\n",
        "\n",
        "param_dir = '/content/pydol/src/pydol/photometry/params'# str(Path(__file__).parent.joinpath('params'))\n",
        "script_dir = '/content/pydol/src/pydol/photometry/scripts'#str(Path(__file__).parent.joinpath('scripts'))"
      ]
    },
    {
      "cell_type": "code",
      "execution_count": 3,
      "metadata": {
        "id": "GCUrhr7uxMSg"
      },
      "outputs": [],
      "source": [
        "def nircam_phot(cal_files, filter='f200w',output_dir='.', drz_path='.', cat_name=''):\n",
        "    \"\"\"\n",
        "        Parameters\n",
        "        ---------\n",
        "        cal_files: list,\n",
        "                    list of paths to JWST NIRCAM level 2 _cal.fits files\n",
        "        filter: str,\n",
        "                name of the NIRCAM filter being processed\n",
        "        output_dir: str,\n",
        "                    path to output directory.\n",
        "                    Recommended: /photometry/\n",
        "        drz_path: str,\n",
        "                  path to level 3 drizzled image (_i2d.fits) image.\n",
        "                  It is recommended to be inside /photometry/\n",
        "        cat_name: str,\n",
        "                  Output photometry catalogs will have prefix filter + cat_name\n",
        "\n",
        "        Return\n",
        "        ------\n",
        "        None\n",
        "    \"\"\"\n",
        "    if len(cal_files)<1:\n",
        "        raise Exception(\"cal_files cannot be EMPTY\")\n",
        "\n",
        "    subprocess.run([f\"nircammask {drz_path}.fits\"], shell=True)\n",
        "    if not os.path.exists(output_dir):\n",
        "        os.mkdir(output_dir)\n",
        "\n",
        "    # Generating directories\n",
        "    exps = []\n",
        "    for i,f in enumerate(cal_files):\n",
        "        out_dir = f.split('/')[-1].split('.')[0]\n",
        "\n",
        "        if not os.path.exists(f'{output_dir}/{out_dir}'):\n",
        "            os.mkdir(f'{output_dir}/{out_dir}')\n",
        "        if not os.path.exists(f\"{output_dir}/{out_dir}/data.fits\"):\n",
        "            subprocess.run([f\"cp {f} {output_dir}/{out_dir}/data.fits\"],\n",
        "                                 shell=True)\n",
        "\n",
        "        exps.append(f'{output_dir}/{out_dir}')\n",
        "\n",
        "    # Applying NIRCAM Mask\n",
        "    for f in exps:\n",
        "        if not os.path.exists(f\"{f}/data.sky.fits\"):\n",
        "          out = subprocess.run([f\"nircammask {f}/data.fits\"]\n",
        "                                 ,shell=True)\n",
        "\n",
        "          out = subprocess.run([f\"calcsky {f}/data 10 25 2 2.25 2.00\"]\n",
        "                               , shell=True, capture_output=True)\n",
        "    # Preparing Parameter file DOLPHOT NIRCAM\n",
        "    with open(f\"{param_dir}/nircam_dolphot.param\") as f:\n",
        "                dat = f.readlines()\n",
        "\n",
        "    dat[0] = f'Nimg = {len(exps)}                #number of images (int)\\n'\n",
        "    dat[4] = f'img0_file = {drz_path}\\n'\n",
        "    dat[5] = ''\n",
        "\n",
        "    for i,f in enumerate(exps):\n",
        "        dat[5] += f'img{i+1}_file = {f}/data           #image {i+1}\\n'\n",
        "\n",
        "    out_id = filter + cat_name\n",
        "    with open(f\"{param_dir}/nircam_dolphot_{out_id}.param\", 'w', encoding='utf-8') as f:\n",
        "        f.writelines(dat)\n",
        "\n",
        "    if not os.path.exists(f\"{output_dir}/{out_id}_photometry.fits\"):\n",
        "        # Running DOLPHOT NIRCAM\n",
        "        p = subprocess.Popen([\"dolphot\", f\"{output_dir}/out\", f\"-p{param_dir}/nircam_dolphot_{out_id}.param\"]\n",
        "                            , stdout=subprocess.PIPE, stderr=subprocess.PIPE, text=True)\n",
        "        while (line := p.stdout.readline()) != \"\":\n",
        "          print(line)\n",
        "    # Generating Astropy FITS Table\n",
        "\n",
        "        out = subprocess.run([f\"python {script_dir}/to_table.py --o {out_id}_photometry --n {len(exps)} --f {output_dir}/out\"],\n",
        "                       shell=True)\n",
        "\n",
        "        phot_table = Table.read(f\"{output_dir}/{out_id}_photometry.fits\")\n",
        "        phot_table.rename_columns(['mag_vega'],[f'mag_vega_{filter.upper()}'])\n",
        "\n",
        "        # Assingning RA-Dec using reference image\n",
        "        hdu = fits.open(f\"{drz_path}.fits\")[1]\n",
        "\n",
        "        wcs = WCS(hdu.header)\n",
        "        positions = np.transpose([phot_table['x'] - 0.5, phot_table['y']-0.5])\n",
        "\n",
        "        coords = np.array(wcs.pixel_to_world_values(positions))\n",
        "\n",
        "        phot_table['ra']  = coords[:,0]\n",
        "        phot_table['dec'] = coords[:,1]\n",
        "\n",
        "        # Filtering stellar photometry catalog using Warfield et.al (2023)\n",
        "        phot_table1 = phot_table[ (phot_table['sharpness']**2   <= 0.01) &\n",
        "                                    (phot_table['obj_crowd']    <=  0.5) &\n",
        "                                    (phot_table['flags']        <=    2) &\n",
        "                                    (phot_table['type']         <=    2)]\n",
        "\n",
        "        phot_table2 = phot_table[ ~((phot_table['sharpness']**2 <= 0.01) &\n",
        "                                    (phot_table['obj_crowd']    <=  0.5) &\n",
        "                                    (phot_table['flags']        <=    2) &\n",
        "                                    (phot_table['type']         <=    2))]\n",
        "        phot_table.write(f'{output_dir}/{out_id}_photometry.fits', overwrite=True)\n",
        "        phot_table1.write(f'{output_dir}/{out_id}_photometry_filt.fits', overwrite=True)\n",
        "        phot_table2.write(f'{output_dir}/{out_id}_photometry_rej.fits', overwrite=True)\n",
        "    print('NIRCAM Stellar Photometry Completed!')"
      ]
    },
    {
      "cell_type": "markdown",
      "source": [
        "# **Testing**"
      ],
      "metadata": {
        "id": "YIJjhOGZyQrh"
      }
    },
    {
      "cell_type": "code",
      "source": [
        "!pip install astroquery -q"
      ],
      "metadata": {
        "id": "5AOYzpdHykIK"
      },
      "execution_count": 26,
      "outputs": []
    },
    {
      "cell_type": "code",
      "source": [
        "!wget http://americano.dolphinsim.com/dolphot/dolphot2.0.tar.gz\n",
        "!wget http://americano.dolphinsim.com/dolphot/dolphot2.0.NIRCAM.tar.gz\n",
        "!wget http://americano.dolphinsim.com/dolphot/nircam_F140M.tar.gz\n",
        "!wget http://americano.dolphinsim.com/dolphot/nircam_F212N.tar.gz"
      ],
      "metadata": {
        "id": "0TnkP8zr1MzI",
        "colab": {
          "base_uri": "https://localhost:8080/"
        },
        "outputId": "07578914-5986-496c-b458-7c985696282f"
      },
      "execution_count": 27,
      "outputs": [
        {
          "output_type": "stream",
          "name": "stdout",
          "text": [
            "--2024-07-10 18:17:28--  http://americano.dolphinsim.com/dolphot/dolphot2.0.tar.gz\n",
            "Resolving americano.dolphinsim.com (americano.dolphinsim.com)... 64.139.89.252\n",
            "Connecting to americano.dolphinsim.com (americano.dolphinsim.com)|64.139.89.252|:80... connected.\n",
            "HTTP request sent, awaiting response... 200 OK\n",
            "Length: 270579 (264K) [application/x-gzip]\n",
            "Saving to: ‘dolphot2.0.tar.gz’\n",
            "\n",
            "dolphot2.0.tar.gz   100%[===================>] 264.24K   389KB/s    in 0.7s    \n",
            "\n",
            "2024-07-10 18:17:29 (389 KB/s) - ‘dolphot2.0.tar.gz’ saved [270579/270579]\n",
            "\n",
            "--2024-07-10 18:17:29--  http://americano.dolphinsim.com/dolphot/dolphot2.0.NIRCAM.tar.gz\n",
            "Resolving americano.dolphinsim.com (americano.dolphinsim.com)... 64.139.89.252\n",
            "Connecting to americano.dolphinsim.com (americano.dolphinsim.com)|64.139.89.252|:80... connected.\n",
            "HTTP request sent, awaiting response... 200 OK\n",
            "Length: 82691 (81K) [application/x-gzip]\n",
            "Saving to: ‘dolphot2.0.NIRCAM.tar.gz’\n",
            "\n",
            "dolphot2.0.NIRCAM.t 100%[===================>]  80.75K   190KB/s    in 0.4s    \n",
            "\n",
            "2024-07-10 18:17:30 (190 KB/s) - ‘dolphot2.0.NIRCAM.tar.gz’ saved [82691/82691]\n",
            "\n",
            "--2024-07-10 18:17:30--  http://americano.dolphinsim.com/dolphot/nircam_F140M.tar.gz\n",
            "Resolving americano.dolphinsim.com (americano.dolphinsim.com)... 64.139.89.252\n",
            "Connecting to americano.dolphinsim.com (americano.dolphinsim.com)|64.139.89.252|:80... connected.\n",
            "HTTP request sent, awaiting response... 200 OK\n",
            "Length: 86252498 (82M) [application/x-gzip]\n",
            "Saving to: ‘nircam_F140M.tar.gz’\n",
            "\n",
            "nircam_F140M.tar.gz 100%[===================>]  82.26M   686KB/s    in 2m 4s   \n",
            "\n",
            "2024-07-10 18:19:34 (679 KB/s) - ‘nircam_F140M.tar.gz’ saved [86252498/86252498]\n",
            "\n",
            "--2024-07-10 18:19:34--  http://americano.dolphinsim.com/dolphot/nircam_F212N.tar.gz\n",
            "Resolving americano.dolphinsim.com (americano.dolphinsim.com)... 64.139.89.252\n",
            "Connecting to americano.dolphinsim.com (americano.dolphinsim.com)|64.139.89.252|:80... connected.\n",
            "HTTP request sent, awaiting response... 200 OK\n",
            "Length: 86490290 (82M) [application/x-gzip]\n",
            "Saving to: ‘nircam_F212N.tar.gz’\n",
            "\n",
            "nircam_F212N.tar.gz 100%[===================>]  82.48M   576KB/s    in 2m 34s  \n",
            "\n",
            "2024-07-10 18:22:08 (549 KB/s) - ‘nircam_F212N.tar.gz’ saved [86490290/86490290]\n",
            "\n"
          ]
        }
      ]
    },
    {
      "cell_type": "code",
      "source": [
        "!tar -xf dolphot2.0.tar.gz\n",
        "!tar -xf dolphot2.0.NIRCAM.tar.gz\n",
        "!tar -xf nircam_F140M.tar.gz\n",
        "!tar -xf nircam_F212N.tar.gz"
      ],
      "metadata": {
        "id": "wg2475Qu1MzV"
      },
      "execution_count": 28,
      "outputs": []
    },
    {
      "cell_type": "code",
      "source": [
        "with open('/content/dolphot2.0/Makefile') as f:\n",
        "  dat = f.readlines()\n",
        "dat[28]= dat[28][1:]\n",
        "\n",
        "with open('/content/dolphot2.0/Makefile','w') as f:\n",
        "  f.writelines(dat)"
      ],
      "metadata": {
        "id": "jKCsMpb6wH_r"
      },
      "execution_count": 29,
      "outputs": []
    },
    {
      "cell_type": "code",
      "source": [
        "cd /content/dolphot2.0/"
      ],
      "metadata": {
        "colab": {
          "base_uri": "https://localhost:8080/"
        },
        "id": "NlkPlng2wLgD",
        "outputId": "89164f33-43d7-4956-9d88-5ee85d110b5a"
      },
      "execution_count": 30,
      "outputs": [
        {
          "output_type": "stream",
          "name": "stdout",
          "text": [
            "/content/dolphot2.0\n"
          ]
        }
      ]
    },
    {
      "cell_type": "code",
      "source": [
        "import os"
      ],
      "metadata": {
        "id": "WRly3C-Mx2l5"
      },
      "execution_count": 31,
      "outputs": []
    },
    {
      "cell_type": "code",
      "source": [
        "os.system('make all')"
      ],
      "metadata": {
        "colab": {
          "base_uri": "https://localhost:8080/"
        },
        "id": "ypCNlUNdwOtE",
        "outputId": "93c0a81c-2e21-4c4e-c4d7-04afc5ecd694"
      },
      "execution_count": 32,
      "outputs": [
        {
          "output_type": "execute_result",
          "data": {
            "text/plain": [
              "0"
            ]
          },
          "metadata": {},
          "execution_count": 32
        }
      ]
    },
    {
      "cell_type": "code",
      "source": [
        "cd /content/"
      ],
      "metadata": {
        "colab": {
          "base_uri": "https://localhost:8080/"
        },
        "id": "DElkTjjuyUe4",
        "outputId": "fada113b-34fc-4c01-8118-72e525ead6fe"
      },
      "execution_count": 33,
      "outputs": [
        {
          "output_type": "stream",
          "name": "stdout",
          "text": [
            "/content\n"
          ]
        }
      ]
    },
    {
      "cell_type": "code",
      "source": [
        "os.environ['PATH'] += ':/content/dolphot2.0/bin'\n",
        "os.environ['PATH'] += ':/content/dolphot2.0/nircam'"
      ],
      "metadata": {
        "id": "30C9YUDnBqTR"
      },
      "execution_count": 34,
      "outputs": []
    },
    {
      "cell_type": "code",
      "source": [
        "from glob import glob\n",
        "import astropy.io.fits as fits\n",
        "\n",
        "import os\n",
        "import astroquery\n",
        "from astroquery.mast import Observations\n",
        "import pandas as pd\n",
        "\n",
        "from astropy.table import Table\n",
        "from astropy.wcs import WCS\n",
        "import numpy as np\n",
        "import multiprocessing as mp\n",
        "import matplotlib.pyplot as plt\n",
        "import json\n",
        "from astropy.coordinates import angular_separation\n",
        "import astropy.units as u\n",
        "import multiprocessing as mp"
      ],
      "metadata": {
        "id": "38NgKMg2yiP7"
      },
      "execution_count": 35,
      "outputs": []
    },
    {
      "cell_type": "code",
      "source": [
        "#Example data for M82\n",
        "\n",
        "mast_dir = 'mast:jwst/product' # Download from MAST\n",
        "data_dir = '/content/data/stage0/'  # save downloaded data\n",
        "os.makedirs(data_dir, exist_ok=True)\n",
        "\n",
        "ext = 'uncal'\n",
        "# JWST images to be analyzed\n",
        "image_files = []\n",
        "\n",
        "for i in range(1,10):\n",
        "    for j in range(1,5):\n",
        "      for l in ['b']:\n",
        "          image_files.append( f\"jw01701052001_02102_0000{i}_nrc{l}{j}_uncal.fits\")\n",
        "      break\n",
        "\n",
        "\n",
        "for image_file in image_files:\n",
        "    # Download file (if not already downloaded)\n",
        "    mast_path  = os.path.join(mast_dir, image_file)\n",
        "    local_path = os.path.join(data_dir, image_file)\n",
        "    Observations.download_file(mast_path, local_path=local_path)"
      ],
      "metadata": {
        "id": "mG0g8-TtyBDt"
      },
      "execution_count": null,
      "outputs": []
    },
    {
      "cell_type": "code",
      "source": [
        "#Example data for M82\n",
        "\n",
        "mast_dir = 'mast:jwst/product' # Download from MAST\n",
        "data_dir = '/content/photometry/'  # save downloaded data\n",
        "os.makedirs(data_dir, exist_ok=True)\n",
        "\n",
        "# JWST images to be analyzed\n",
        "image_files = [ f\"jw01701-o052_t007_nircam_clear-f212n-sub640_i2d.fits\"]\n",
        "\n",
        "for image_file in image_files:\n",
        "    # Download file (if not already downloaded)\n",
        "    mast_path  = os.path.join(mast_dir, image_file)\n",
        "    local_path = os.path.join(data_dir, image_file)\n",
        "    Observations.download_file(mast_path, local_path=local_path)"
      ],
      "metadata": {
        "colab": {
          "base_uri": "https://localhost:8080/"
        },
        "id": "9RpSLMZkw-Yi",
        "outputId": "482ff2b3-8625-4741-9de4-9bfc87a66dcc"
      },
      "execution_count": 9,
      "outputs": [
        {
          "output_type": "stream",
          "name": "stdout",
          "text": [
            "Downloading URL https://mast.stsci.edu/api/v0.1/Download/file?uri=mast:jwst/product/jw01701-o052_t007_nircam_clear-f212n-sub640_i2d.fits to /content/photometry/jw01701-o052_t007_nircam_clear-f212n-sub640_i2d.fits ... [Done]\n"
          ]
        }
      ]
    },
    {
      "cell_type": "code",
      "source": [
        "#Example data for M82\n",
        "\n",
        "mast_dir = 'mast:jwst/product' # Download from MAST\n",
        "data_dir = '/content/photometry/'  # save downloaded data\n",
        "os.makedirs(data_dir, exist_ok=True)\n",
        "\n",
        "# JWST images to be analyzed\n",
        "image_files = [ f\"jw01701-o052_t007_nircam_clear-f212n-sub640_i2d.fits\"]\n",
        "\n",
        "for image_file in image_files:\n",
        "    # Download file (if not already downloaded)\n",
        "    mast_path  = os.path.join(mast_dir, image_file)\n",
        "    local_path = os.path.join(data_dir, image_file)\n",
        "    Observations.download_file(mast_path, local_path=local_path)"
      ],
      "metadata": {
        "colab": {
          "base_uri": "https://localhost:8080/"
        },
        "id": "c7ntwfI5zPCg",
        "outputId": "abcf5adc-5805-42f8-f1ea-8915d980fc20"
      },
      "execution_count": 19,
      "outputs": [
        {
          "output_type": "stream",
          "name": "stderr",
          "text": [
            "INFO:astroquery:Found cached file /content/photometry/jw01701-o052_t007_nircam_clear-f212n-sub640_i2d.fits with expected size 86454720.\n",
            "2024-07-10 18:15:25,262 - stpipe - INFO - Found cached file /content/photometry/jw01701-o052_t007_nircam_clear-f212n-sub640_i2d.fits with expected size 86454720.\n",
            "INFO:stpipe:Found cached file /content/photometry/jw01701-o052_t007_nircam_clear-f212n-sub640_i2d.fits with expected size 86454720.\n"
          ]
        },
        {
          "output_type": "stream",
          "name": "stdout",
          "text": [
            "INFO: Found cached file /content/photometry/jw01701-o052_t007_nircam_clear-f212n-sub640_i2d.fits with expected size 86454720. [astroquery.query]\n"
          ]
        }
      ]
    },
    {
      "cell_type": "code",
      "source": [
        "input_files = glob(f'/content/data/stage0/*')\n",
        "out_dir = '/content/'\n",
        "jwst_data = jpipe(input_files, out_dir)\n",
        "jwst_data()"
      ],
      "metadata": {
        "id": "GPrxk6nryqqf"
      },
      "execution_count": null,
      "outputs": []
    },
    {
      "cell_type": "code",
      "source": [
        "crf_files = glob(f'/content/data/stage3/*crf.fits')"
      ],
      "metadata": {
        "id": "exvdchLNyxMw"
      },
      "execution_count": 17,
      "outputs": []
    },
    {
      "cell_type": "code",
      "source": [
        "nircam_phot(crf_files, 'f212n','/content/photometry',\n",
        "                          '/content/photometry/jw01701-o052_t007_nircam_clear-f212n-sub640_i2d')"
      ],
      "metadata": {
        "colab": {
          "base_uri": "https://localhost:8080/"
        },
        "id": "vTcTQGNEzGkk",
        "outputId": "154b08e1-ccda-4ee7-889c-ad9e5cce34de"
      },
      "execution_count": 37,
      "outputs": [
        {
          "output_type": "stream",
          "name": "stdout",
          "text": [
            "Reading FITS file /content/photometry/jw01701052001_02102_00004_nrcb1_crf/data.fits\n",
            "\n",
            "Reading FITS file /content/photometry/jw01701052001_02102_00009_nrcb1_crf/data.fits\n",
            "\n",
            "Reading FITS file /content/photometry/jw01701052001_02102_00005_nrcb1_crf/data.fits\n",
            "\n",
            "Reading FITS file /content/photometry/jw01701052001_02102_00002_nrcb1_crf/data.fits\n",
            "\n",
            "Reading FITS file /content/photometry/jw01701052001_02102_00008_nrcb1_crf/data.fits\n",
            "\n",
            "Reading FITS file /content/photometry/jw01701052001_02102_00003_nrcb1_crf/data.fits\n",
            "\n",
            "Reading FITS file /content/photometry/jw01701052001_02102_00007_nrcb1_crf/data.fits\n",
            "\n",
            "Reading FITS file /content/photometry/jw01701052001_02102_00001_nrcb1_crf/data.fits\n",
            "\n",
            "Reading FITS file /content/photometry/jw01701052001_02102_00006_nrcb1_crf/data.fits\n",
            "\n",
            "Reading FITS file /content/photometry/jw01701-o052_t007_nircam_clear-f212n-sub640_i2d.fits\n",
            "\n",
            "Reading IMAGE extension: 640x640\n",
            "\n",
            "  GAIN=2.01 EXP=25s NOISE=11.77 BAD=-189.72 SAT=49761.41\n",
            "\n",
            "Reading IMAGE extension: 640x640\n",
            "\n",
            "  GAIN=2.01 EXP=25s NOISE=11.77 BAD=-74.48 SAT=15019.83\n",
            "\n",
            "Reading IMAGE extension: 640x640\n",
            "\n",
            "  GAIN=2.01 EXP=25s NOISE=11.77 BAD=-138.43 SAT=49524.02\n",
            "\n",
            "Reading IMAGE extension: 640x640\n",
            "\n",
            "  GAIN=2.01 EXP=25s NOISE=11.77 BAD=-80.48 SAT=53409.96\n",
            "\n",
            "Reading IMAGE extension: 640x640\n",
            "\n",
            "  GAIN=2.01 EXP=25s NOISE=11.77 BAD=-103.73 SAT=49058.14\n",
            "\n",
            "Reading IMAGE extension: 640x640\n",
            "\n",
            "  GAIN=2.01 EXP=25s NOISE=11.77 BAD=-283.17 SAT=50708.96\n",
            "\n",
            "Reading IMAGE extension: 640x640\n",
            "\n",
            "  GAIN=2.01 EXP=25s NOISE=11.77 BAD=-102.03 SAT=48993.24\n",
            "\n",
            "Reading IMAGE extension: 640x640\n",
            "\n",
            "  GAIN=2.01 EXP=25s NOISE=11.77 BAD=-116.33 SAT=46271.50\n",
            "\n",
            "Reading IMAGE extension: 640x640\n",
            "\n",
            "  GAIN=2.01 EXP=25s NOISE=11.77 BAD=-89.49 SAT=51004.59\n",
            "\n",
            "Reading IMAGE extension: 1645x1634\n",
            "\n",
            "  GAIN=2.05 EXP=401s NOISE=11.46 BAD=-1167.91 SAT=135647.56\n",
            "\n",
            "** Extension 1, Chip 1 **\n",
            "\n",
            "CD matrix not found; using PC matrix instead\n",
            "\n",
            "reference rmsi = 0.000027, rmsf = 0.000010\n",
            "\n",
            "reverse rmsi = 0.290202, rmsf = 0.000014\n",
            "\n",
            "forward rmsi = 0.280231, rmsf = 0.000035\n",
            "\n",
            "reverse rmsi = 0.283829, rmsf = 0.000021\n",
            "\n",
            "forward rmsi = 0.280233, rmsf = 0.000067\n",
            "\n",
            "reverse rmsi = 0.286322, rmsf = 0.000009\n",
            "\n",
            "forward rmsi = 0.280231, rmsf = 0.000041\n",
            "\n",
            "reverse rmsi = 0.290293, rmsf = 0.000058\n",
            "\n",
            "forward rmsi = 0.280232, rmsf = 0.000028\n",
            "\n",
            "reverse rmsi = 0.286282, rmsf = 0.000038\n",
            "\n",
            "forward rmsi = 0.280232, rmsf = 0.000027\n",
            "\n",
            "reverse rmsi = 0.290240, rmsf = 0.000025\n",
            "\n",
            "forward rmsi = 0.280231, rmsf = 0.000019\n",
            "\n",
            "reverse rmsi = 0.286312, rmsf = 0.000149\n",
            "\n",
            "forward rmsi = 0.280236, rmsf = 0.000016\n",
            "\n",
            "reverse rmsi = 0.290254, rmsf = 0.000035\n",
            "\n",
            "forward rmsi = 0.280232, rmsf = 0.000008\n",
            "\n",
            "reverse rmsi = 0.286353, rmsf = 0.000008\n",
            "\n",
            "forward rmsi = 0.280231, rmsf = 0.000023\n",
            "\n",
            "2160 stars for alignment\n",
            "\n",
            "image 1: 466 matched, 417 used, 0.40 -0.06 1.000000 0.00000 0.001, sig=0.39\n",
            "\n",
            "image 2: 228 matched, 204 used, 0.79 0.10 1.000000 0.00000 0.013, sig=0.57\n",
            "\n",
            "image 3: 222 matched, 213 used, 0.27 -0.20 1.000000 0.00000 0.005, sig=0.48\n",
            "\n",
            "image 4: 478 matched, 454 used, 0.25 0.03 1.000000 0.00000 0.001, sig=0.45\n",
            "\n",
            "image 5: 229 matched, 214 used, 0.27 0.05 1.000000 0.00000 0.001, sig=0.51\n",
            "\n",
            "image 6: 465 matched, 440 used, 0.21 0.14 1.000000 0.00000 -0.001, sig=0.47\n",
            "\n",
            "image 7: 226 matched, 211 used, 0.37 -0.17 1.000000 0.00000 0.007, sig=0.48\n",
            "\n",
            "image 8: 474 matched, 437 used, 0.27 0.09 1.000000 0.00000 0.002, sig=0.41\n",
            "\n",
            "image 9: 218 matched, 199 used, 0.34 -0.15 1.000000 0.00000 0.003, sig=0.46\n",
            "\n",
            "Finding stars: .......\n",
            "\n",
            "45801 found\n",
            "\n",
            "6593 stars eliminated\n",
            "\n",
            "927 stars eliminated\n",
            "\n",
            "504 stars eliminated\n",
            "\n",
            "348 stars eliminated\n",
            "\n",
            "289 stars eliminated\n",
            "\n",
            "243 stars eliminated\n",
            "\n",
            "173 stars eliminated\n",
            "\n",
            "153 stars eliminated\n",
            "\n",
            "129 stars eliminated\n",
            "\n",
            "116 stars eliminated\n",
            "\n",
            "96 stars eliminated\n",
            "\n",
            "80 stars eliminated\n",
            "\n",
            "56 stars eliminated\n",
            "\n",
            "48 PSF stars; 4090 neighbors\n",
            "\n",
            "Central pixel PSF adjustments:\n",
            "\n",
            "image 1: 25 stars, -0.000536\n",
            "\n",
            "image 2: 34 stars, -0.001113\n",
            "\n",
            "image 3: 28 stars, -0.000332\n",
            "\n",
            "image 4: 24 stars, -0.001550\n",
            "\n",
            "image 5: 28 stars, -0.000983\n",
            "\n",
            "image 6: 25 stars, -0.001199\n",
            "\n",
            "image 7: 28 stars, -0.000395\n",
            "\n",
            "image 8: 25 stars, -0.000939\n",
            "\n",
            "image 9: 28 stars, -0.000551\n",
            "\n",
            "28 stars eliminated\n",
            "\n",
            "51 stars eliminated\n",
            "\n",
            "99 stars eliminated\n",
            "\n",
            "62 stars eliminated\n",
            "\n",
            "15 stars eliminated\n",
            "\n",
            "38 stars eliminated\n",
            "\n",
            "29 stars eliminated\n",
            "\n",
            "12 stars eliminated\n",
            "\n",
            "30 stars eliminated\n",
            "\n",
            "16 stars eliminated\n",
            "\n",
            "10 stars eliminated\n",
            "\n",
            "19 stars eliminated\n",
            "\n",
            "13 stars eliminated\n",
            "\n",
            "6 stars eliminated\n",
            "\n",
            "Aperture corrections:\n",
            "\n",
            "image 1: 41 total aperture stars\n",
            "\n",
            "  41 stars used, -0.020 (-0.020 +/- 0.000, 0.009)\n",
            "\n",
            "  41 stars used, -0.029 (-0.027 +/- 0.003, 0.021)\n",
            "\n",
            "  41 stars used,  0.155 (0.154 +/- 0.000, 0.002)\n",
            "\n",
            "image 2: 30 total aperture stars\n",
            "\n",
            "  30 stars used, -0.052 (-0.051 +/- 0.000, 0.008)\n",
            "\n",
            "  27 stars used, -0.101 (-0.091 +/- 0.003, 0.022)\n",
            "\n",
            "  30 stars used,  0.153 (0.154 +/- 0.000, 0.002)\n",
            "\n",
            "image 3: 42 total aperture stars\n",
            "\n",
            "  42 stars used, -0.019 (-0.022 +/- 0.000, 0.009)\n",
            "\n",
            "  42 stars used, -0.036 (-0.025 +/- 0.003, 0.020)\n",
            "\n",
            "  42 stars used,  0.153 (0.154 +/- 0.000, 0.002)\n",
            "\n",
            "image 4: 29 total aperture stars\n",
            "\n",
            "  29 stars used, -0.028 (-0.029 +/- 0.001, 0.011)\n",
            "\n",
            "  29 stars used, -0.062 (-0.056 +/- 0.005, 0.025)\n",
            "\n",
            "  29 stars used,  0.155 (0.154 +/- 0.000, 0.002)\n",
            "\n",
            "image 5: 39 total aperture stars\n",
            "\n",
            "  39 stars used, -0.032 (-0.032 +/- 0.000, 0.009)\n",
            "\n",
            "  39 stars used, -0.068 (-0.069 +/- 0.003, 0.021)\n",
            "\n",
            "  39 stars used,  0.153 (0.154 +/- 0.000, 0.002)\n",
            "\n",
            "image 6: 30 total aperture stars\n",
            "\n",
            "  30 stars used, -0.025 (-0.028 +/- 0.001, 0.011)\n",
            "\n",
            "  30 stars used, -0.024 (-0.030 +/- 0.003, 0.024)\n",
            "\n",
            "  30 stars used,  0.153 (0.154 +/- 0.000, 0.002)\n",
            "\n",
            "image 7: 33 total aperture stars\n",
            "\n",
            "  33 stars used, -0.027 (-0.026 +/- 0.000, 0.010)\n",
            "\n",
            "  33 stars used, -0.051 (-0.048 +/- 0.004, 0.023)\n",
            "\n",
            "  33 stars used,  0.153 (0.153 +/- 0.000, 0.002)\n",
            "\n",
            "image 8: 27 total aperture stars\n",
            "\n",
            "  27 stars used, -0.034 (-0.032 +/- 0.001, 0.013)\n",
            "\n",
            "  27 stars used, -0.089 (-0.085 +/- 0.005, 0.030)\n",
            "\n",
            "  27 stars used,  0.153 (0.154 +/- 0.000, 0.002)\n",
            "\n",
            "image 9: 36 total aperture stars\n",
            "\n",
            "  36 stars used, -0.028 (-0.029 +/- 0.000, 0.009)\n",
            "\n",
            "  36 stars used, -0.051 (-0.055 +/- 0.003, 0.021)\n",
            "\n",
            "  36 stars used,  0.153 (0.154 +/- 0.000, 0.002)\n",
            "\n",
            "34097 stars written; 1569 stars deleted\n",
            "\n"
          ]
        },
        {
          "output_type": "stream",
          "name": "stderr",
          "text": [
            "WARNING: FITSFixedWarning: 'datfix' made the change 'Set DATE-OBS to '2022-10-18T00:44:42.374' from MJD-OBS.\n",
            "Set DATE-BEG to '2022-10-18T00:35:36.267' from MJD-BEG.\n",
            "Set DATE-AVG to '2022-10-18T00:44:42.342' from MJD-AVG.\n",
            "Set DATE-END to '2022-10-18T00:53:48.223' from MJD-END'. [astropy.wcs.wcs]\n",
            "WARNING:astroquery:FITSFixedWarning: 'datfix' made the change 'Set DATE-OBS to '2022-10-18T00:44:42.374' from MJD-OBS.\n",
            "Set DATE-BEG to '2022-10-18T00:35:36.267' from MJD-BEG.\n",
            "Set DATE-AVG to '2022-10-18T00:44:42.342' from MJD-AVG.\n",
            "Set DATE-END to '2022-10-18T00:53:48.223' from MJD-END'.\n",
            "2024-07-10 19:17:07,967 - stpipe - WARNING - FITSFixedWarning: 'datfix' made the change 'Set DATE-OBS to '2022-10-18T00:44:42.374' from MJD-OBS.\n",
            "Set DATE-BEG to '2022-10-18T00:35:36.267' from MJD-BEG.\n",
            "Set DATE-AVG to '2022-10-18T00:44:42.342' from MJD-AVG.\n",
            "Set DATE-END to '2022-10-18T00:53:48.223' from MJD-END'.\n",
            "WARNING:stpipe:FITSFixedWarning: 'datfix' made the change 'Set DATE-OBS to '2022-10-18T00:44:42.374' from MJD-OBS.\n",
            "Set DATE-BEG to '2022-10-18T00:35:36.267' from MJD-BEG.\n",
            "Set DATE-AVG to '2022-10-18T00:44:42.342' from MJD-AVG.\n",
            "Set DATE-END to '2022-10-18T00:53:48.223' from MJD-END'.\n",
            "WARNING: FITSFixedWarning: 'obsfix' made the change 'Set OBSGEO-L to    32.033174 from OBSGEO-[XYZ].\n",
            "Set OBSGEO-B to    28.865193 from OBSGEO-[XYZ].\n",
            "Set OBSGEO-H to 1268558254.239 from OBSGEO-[XYZ]'. [astropy.wcs.wcs]\n",
            "WARNING:astroquery:FITSFixedWarning: 'obsfix' made the change 'Set OBSGEO-L to    32.033174 from OBSGEO-[XYZ].\n",
            "Set OBSGEO-B to    28.865193 from OBSGEO-[XYZ].\n",
            "Set OBSGEO-H to 1268558254.239 from OBSGEO-[XYZ]'.\n",
            "2024-07-10 19:17:07,985 - stpipe - WARNING - FITSFixedWarning: 'obsfix' made the change 'Set OBSGEO-L to    32.033174 from OBSGEO-[XYZ].\n",
            "Set OBSGEO-B to    28.865193 from OBSGEO-[XYZ].\n",
            "Set OBSGEO-H to 1268558254.239 from OBSGEO-[XYZ]'.\n",
            "WARNING:stpipe:FITSFixedWarning: 'obsfix' made the change 'Set OBSGEO-L to    32.033174 from OBSGEO-[XYZ].\n",
            "Set OBSGEO-B to    28.865193 from OBSGEO-[XYZ].\n",
            "Set OBSGEO-H to 1268558254.239 from OBSGEO-[XYZ]'.\n"
          ]
        },
        {
          "output_type": "stream",
          "name": "stdout",
          "text": [
            "NIRCAM Stellar Photometry Completed!\n"
          ]
        }
      ]
    }
  ],
  "metadata": {
    "colab": {
      "provenance": [],
      "include_colab_link": true
    },
    "kernelspec": {
      "display_name": "Python 3",
      "name": "python3"
    },
    "language_info": {
      "name": "python"
    }
  },
  "nbformat": 4,
  "nbformat_minor": 0
}