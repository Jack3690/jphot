{
 "cells": [
  {
   "cell_type": "code",
   "execution_count": null,
   "id": "61f742f3-f1cd-49ed-ad20-c7903ecc044f",
   "metadata": {},
   "outputs": [],
   "source": [
    "from glob import glob\n",
    "import astropy.io.fits as fits\n",
    "import shutil\n",
    "import os\n",
    "import astroquery\n",
    "from astroquery.mast import Observations\n",
    "import pandas as pd\n",
    "\n",
    "from astropy.table import Table, unique, vstack\n",
    "from astropy.wcs import WCS\n",
    "import numpy as np\n",
    "import multiprocessing as mp\n",
    "import matplotlib.pyplot as plt\n",
    "import json\n",
    "from astropy.coordinates import angular_separation\n",
    "import astropy.units as u\n",
    "import multiprocessing as mp\n",
    "from drizzlepac import astrodrizzle, tweakreg\n",
    "from stwcs import updatewcs\n",
    "from acstools import calacs\n",
    "\n",
    "os.environ['PATH'] = '/usr/local/sbin:/usr/local/bin:/usr/sbin:/usr/bin:/sbin:/bin:/snap/bin:/home/avinash/part1/softwares/dolphot2.0/bin'\n",
    "os.environ['PATH'] += \":/home/avinash/part1/venv/hst/bin/:/home/avinash/part4/HST/pkgs/hstcal/bin/\"\n",
    "\n",
    "os.environ['CRDS_SERVER_URL'] = 'https://hst-crds.stsci.edu'\n",
    "os.environ['CRDS_SERVER'] = 'https://hst-crds.stsci.edu'\n",
    "os.environ['CRDS_PATH'] = '/home/avinash/part4/HST/CRDS/'\n",
    "os.environ['iref'] = '/home/avinash/part4/HST/CRDS/references/hst/wfc3/'\n",
    "os.environ['jref'] = '/home/avinash/part4/HST/CRDS/references/hst/acs/'\n",
    "\n",
    "from pydol.photometry.scripts import cmdtools"
   ]
  },
  {
   "cell_type": "code",
   "execution_count": null,
   "id": "7c578cc4-8613-4d23-ae9c-52d3065231a8",
   "metadata": {},
   "outputs": [],
   "source": [
    "obs_table = Observations.query_criteria(proposal_id=[\"10776\"],objectname=\"M82\",filters= ['F435W', 'F555W', 'F814W'])\n",
    "\n",
    "t = [Observations.get_product_list(obs) for obs in obs_table]\n",
    "files = unique(vstack(t), keys='productFilename')"
   ]
  },
  {
   "cell_type": "code",
   "execution_count": null,
   "id": "be315ae9-a79a-4c7b-b946-2a1f46a2b7e1",
   "metadata": {},
   "outputs": [],
   "source": [
    "mast_dir = 'mast:hst/product' # Download from MAST\n",
    "data_dir = '/home/avinash/part4/HST/data/m82/data/stage0/'  # save downloaded data\n",
    "os.makedirs(data_dir, exist_ok=True)\n",
    "\n",
    "manifest = Observations.download_products(\n",
    "           files,\n",
    "           productSubGroupDescription='RAW',\n",
    "           filters=['F435W','F555W','F814W'],\n",
    "           download_dir = data_dir,\n",
    "           flat = True,\n",
    "           )"
   ]
  },
  {
   "cell_type": "code",
   "execution_count": null,
   "id": "b6d4500f-c19e-4e54-8226-07e232ad4d42",
   "metadata": {},
   "outputs": [],
   "source": [
    "raw_files = glob(\"/home/avinash/part4/HST/data/m82/data/stage0/*raw.fits\")\n",
    "\n",
    "raw_f435w = []\n",
    "raw_f555w = []\n",
    "raw_f814w = []\n",
    "for i in raw_files:\n",
    "    if fits.open(i)[0].header['FILTER2']=='F435W':\n",
    "        raw_f435w.append(i)\n",
    "    if fits.open(i)[0].header['FILTER1']=='F555W':\n",
    "        raw_f555w.append(i)\n",
    "    elif fits.open(i)[0].header['FILTER2']=='F814W':\n",
    "        raw_f814w.append(i)"
   ]
  },
  {
   "cell_type": "code",
   "execution_count": null,
   "id": "e4e081e2-4e0b-4893-ac63-8b5bf11ec8e7",
   "metadata": {},
   "outputs": [],
   "source": [
    "for file in raw_files:\n",
    "     os.system(f'crds bestrefs --files {file} --sync-references=1 --update-bestrefs')"
   ]
  },
  {
   "cell_type": "code",
   "execution_count": null,
   "id": "45f29c53-fcdc-4439-83a0-3040d5a2c550",
   "metadata": {},
   "outputs": [],
   "source": [
    "for file in raw_f555w:\n",
    "    calacs.calacs(file,single_core=True)"
   ]
  },
  {
   "cell_type": "code",
   "execution_count": null,
   "id": "7cf9e3b1-c865-4dc0-82e7-c07d461302ce",
   "metadata": {},
   "outputs": [],
   "source": [
    "flc_files = glob(\"../data/m82/data/stage0/*flc.fits\")\n",
    "for file in flc_files:\n",
    "    os.replace(file,file.replace('stage0','stage2'))"
   ]
  },
  {
   "cell_type": "code",
   "execution_count": null,
   "id": "3b74ea0d-cf87-4254-b294-d6ae5eab2bb3",
   "metadata": {},
   "outputs": [],
   "source": [
    "flc_files = glob(\"../data/m82/data/stage2/*flc.fits\")\n",
    "\n",
    "flc_f435w = []\n",
    "flc_f555w = []\n",
    "flc_f814w = []\n",
    "for i in flc_files:\n",
    "    if fits.open(i)[0].header['FILTER2']=='F435W':\n",
    "        flc_f435w.append(i)\n",
    "    if fits.open(i)[0].header['FILTER1']=='F555W':\n",
    "        flc_f555w.append(i)\n",
    "    elif fits.open(i)[0].header['FILTER2']=='F814W':\n",
    "        flc_f814w.append(i)"
   ]
  },
  {
   "cell_type": "code",
   "execution_count": null,
   "id": "e79a025d-b5fa-46a7-a5f0-b2498806b4eb",
   "metadata": {},
   "outputs": [],
   "source": [
    "updatewcs.updatewcs('../data/m82/astrometry/h_m82_h_s05_drz_sci.fits')"
   ]
  },
  {
   "cell_type": "code",
   "execution_count": null,
   "id": "94a08770-08ee-4b32-86d2-22f9f7f61d35",
   "metadata": {},
   "outputs": [],
   "source": [
    "astrodrizzle.AstroDrizzle(input=flc_f814w, \n",
    "                          output= '../data/m82/astrometry/f814w_',mdriztab=False,\n",
    "                          preserve=False, clean=True, runfile=None)"
   ]
  },
  {
   "cell_type": "code",
   "execution_count": null,
   "id": "aaeff326-5bb7-4db3-81b6-9badf2221d03",
   "metadata": {},
   "outputs": [],
   "source": [
    "from pydol.photometry.acs import acs_phot"
   ]
  },
  {
   "cell_type": "code",
   "execution_count": null,
   "id": "51174926-e55b-4904-aef9-8c5d63963e7d",
   "metadata": {},
   "outputs": [],
   "source": [
    "drz_path = '../data/m82/photometry/f814w__drc_sci'\n",
    "out_dir = '../data/m82/photometry/'"
   ]
  },
  {
   "cell_type": "code",
   "execution_count": null,
   "id": "54e0302b-d101-4b80-ae21-9be650ea7070",
   "metadata": {},
   "outputs": [],
   "source": [
    "fits.open('../data/m82/photometry//j9l034fhq_flc/data.chip1.fits')"
   ]
  },
  {
   "cell_type": "code",
   "execution_count": null,
   "id": "606b5342-980b-4a7f-a1e7-b593e70a40a7",
   "metadata": {},
   "outputs": [],
   "source": [
    "hdul = fits.open('../data/m82/photometry/f814w__drc_sci.fits')\n",
    "hdu = fits.PrimaryHDU(data=hdul[0].data, header=hdul[0].header)\n",
    "hdul_n = fits.HDUList([hdu]) \n",
    "hdul_n.writeto('../data/m82/photometry/f814w__drc_sci.fits', overwrite=True)"
   ]
  },
  {
   "cell_type": "code",
   "execution_count": null,
   "id": "df278c98-3484-4a15-9bea-3c27371d5a1f",
   "metadata": {},
   "outputs": [],
   "source": [
    "acs_phot(flc_f555w + flc_f814w ,\n",
    "         filter='f555w_f814w',\n",
    "         output_dir=out_dir,\n",
    "         drz_path=drz_path,\n",
    "         sharp_cut=0.2,\n",
    "         crowd_cut=2.25,\n",
    "         cat_name='')   "
   ]
  },
  {
   "cell_type": "code",
   "execution_count": null,
   "id": "ae2d19fe-ad1f-4ecb-b55c-665f7d910e59",
   "metadata": {},
   "outputs": [
    {
     "data": {
      "text/plain": [
       "'a'"
      ]
     },
     "execution_count": 40,
     "metadata": {},
     "output_type": "execute_result"
    }
   ],
   "source": [
    "\"a\""
   ]
  },
  {
   "cell_type": "code",
   "execution_count": null,
   "id": "64768dee-b726-4f1f-b053-0cde84944f01",
   "metadata": {},
   "outputs": [],
   "source": []
  }
 ],
 "metadata": {
  "kernelspec": {
   "display_name": "hst",
   "language": "python",
   "name": "hst"
  },
  "language_info": {
   "codemirror_mode": {
    "name": "ipython",
    "version": 3
   },
   "file_extension": ".py",
   "mimetype": "text/x-python",
   "name": "python",
   "nbconvert_exporter": "python",
   "pygments_lexer": "ipython3",
   "version": "3.11.2"
  }
 },
 "nbformat": 4,
 "nbformat_minor": 5
}
