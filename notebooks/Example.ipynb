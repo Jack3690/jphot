{
  "cells": [
    {
      "cell_type": "markdown",
      "metadata": {
        "id": "view-in-github",
        "colab_type": "text"
      },
      "source": [
        "<a href=\"https://colab.research.google.com/github/Jack3690/pydol/blob/main/notebooks/Example.ipynb\" target=\"_parent\"><img src=\"https://colab.research.google.com/assets/colab-badge.svg\" alt=\"Open In Colab\"/></a>"
      ]
    },
    {
      "cell_type": "code",
      "execution_count": null,
      "metadata": {
        "id": "ABMluMUr2zrw",
        "colab": {
          "base_uri": "https://localhost:8080/"
        },
        "outputId": "b8e4dfe9-6749-4f7d-c7c4-65c58ac3eeac"
      },
      "outputs": [
        {
          "output_type": "stream",
          "name": "stdout",
          "text": [
            "  Preparing metadata (setup.py) ... \u001b[?25l\u001b[?25hdone\n",
            "\u001b[2K     \u001b[90m━━━━━━━━━━━━━━━━━━━━━━━━━━━━━━━━━━━━━━━━\u001b[0m \u001b[32m1.1/1.1 MB\u001b[0m \u001b[31m13.5 MB/s\u001b[0m eta \u001b[36m0:00:00\u001b[0m\n",
            "\u001b[2K     \u001b[90m━━━━━━━━━━━━━━━━━━━━━━━━━━━━━━━━━━━━━━━━\u001b[0m \u001b[32m15.4/15.4 MB\u001b[0m \u001b[31m70.1 MB/s\u001b[0m eta \u001b[36m0:00:00\u001b[0m\n",
            "\u001b[2K     \u001b[90m━━━━━━━━━━━━━━━━━━━━━━━━━━━━━━━━━━━━━━━━\u001b[0m \u001b[32m1.2/1.2 MB\u001b[0m \u001b[31m43.9 MB/s\u001b[0m eta \u001b[36m0:00:00\u001b[0m\n",
            "\u001b[2K     \u001b[90m━━━━━━━━━━━━━━━━━━━━━━━━━━━━━━━━━━━━━━━━\u001b[0m \u001b[32m960.9/960.9 kB\u001b[0m \u001b[31m48.3 MB/s\u001b[0m eta \u001b[36m0:00:00\u001b[0m\n",
            "\u001b[2K     \u001b[90m━━━━━━━━━━━━━━━━━━━━━━━━━━━━━━━━━━━━━━━━\u001b[0m \u001b[32m88.9/88.9 kB\u001b[0m \u001b[31m10.1 MB/s\u001b[0m eta \u001b[36m0:00:00\u001b[0m\n",
            "\u001b[2K     \u001b[90m━━━━━━━━━━━━━━━━━━━━━━━━━━━━━━━━━━━━━━━━\u001b[0m \u001b[32m5.7/5.7 MB\u001b[0m \u001b[31m77.8 MB/s\u001b[0m eta \u001b[36m0:00:00\u001b[0m\n",
            "\u001b[2K     \u001b[90m━━━━━━━━━━━━━━━━━━━━━━━━━━━━━━━━━━━━━━━━\u001b[0m \u001b[32m296.5/296.5 kB\u001b[0m \u001b[31m21.4 MB/s\u001b[0m eta \u001b[36m0:00:00\u001b[0m\n",
            "\u001b[2K     \u001b[90m━━━━━━━━━━━━━━━━━━━━━━━━━━━━━━━━━━━━━━━━\u001b[0m \u001b[32m155.3/155.3 kB\u001b[0m \u001b[31m17.8 MB/s\u001b[0m eta \u001b[36m0:00:00\u001b[0m\n",
            "\u001b[2K     \u001b[90m━━━━━━━━━━━━━━━━━━━━━━━━━━━━━━━━━━━━━━━━\u001b[0m \u001b[32m2.8/2.8 MB\u001b[0m \u001b[31m93.4 MB/s\u001b[0m eta \u001b[36m0:00:00\u001b[0m\n",
            "\u001b[2K     \u001b[90m━━━━━━━━━━━━━━━━━━━━━━━━━━━━━━━━━━━━━━━━\u001b[0m \u001b[32m8.6/8.6 MB\u001b[0m \u001b[31m21.4 MB/s\u001b[0m eta \u001b[36m0:00:00\u001b[0m\n",
            "\u001b[2K     \u001b[90m━━━━━━━━━━━━━━━━━━━━━━━━━━━━━━━━━━━━━━━━\u001b[0m \u001b[32m2.6/2.6 MB\u001b[0m \u001b[31m68.9 MB/s\u001b[0m eta \u001b[36m0:00:00\u001b[0m\n",
            "\u001b[2K     \u001b[90m━━━━━━━━━━━━━━━━━━━━━━━━━━━━━━━━━━━━━━━━\u001b[0m \u001b[32m316.2/316.2 kB\u001b[0m \u001b[31m26.0 MB/s\u001b[0m eta \u001b[36m0:00:00\u001b[0m\n",
            "\u001b[2K     \u001b[90m━━━━━━━━━━━━━━━━━━━━━━━━━━━━━━━━━━━━━━━━\u001b[0m \u001b[32m49.8/49.8 kB\u001b[0m \u001b[31m4.1 MB/s\u001b[0m eta \u001b[36m0:00:00\u001b[0m\n",
            "\u001b[2K     \u001b[90m━━━━━━━━━━━━━━━━━━━━━━━━━━━━━━━━━━━━━━━━\u001b[0m \u001b[32m915.0/915.0 kB\u001b[0m \u001b[31m46.3 MB/s\u001b[0m eta \u001b[36m0:00:00\u001b[0m\n",
            "\u001b[2K     \u001b[90m━━━━━━━━━━━━━━━━━━━━━━━━━━━━━━━━━━━━━━━━\u001b[0m \u001b[32m160.4/160.4 kB\u001b[0m \u001b[31m12.5 MB/s\u001b[0m eta \u001b[36m0:00:00\u001b[0m\n",
            "\u001b[2K     \u001b[90m━━━━━━━━━━━━━━━━━━━━━━━━━━━━━━━━━━━━━━━━\u001b[0m \u001b[32m83.6/83.6 kB\u001b[0m \u001b[31m8.5 MB/s\u001b[0m eta \u001b[36m0:00:00\u001b[0m\n",
            "\u001b[2K     \u001b[90m━━━━━━━━━━━━━━━━━━━━━━━━━━━━━━━━━━━━━━━━\u001b[0m \u001b[32m81.9/81.9 kB\u001b[0m \u001b[31m7.9 MB/s\u001b[0m eta \u001b[36m0:00:00\u001b[0m\n",
            "\u001b[2K     \u001b[90m━━━━━━━━━━━━━━━━━━━━━━━━━━━━━━━━━━━━━━━━\u001b[0m \u001b[32m275.4/275.4 kB\u001b[0m \u001b[31m24.3 MB/s\u001b[0m eta \u001b[36m0:00:00\u001b[0m\n",
            "\u001b[2K     \u001b[90m━━━━━━━━━━━━━━━━━━━━━━━━━━━━━━━━━━━━━━━━\u001b[0m \u001b[32m45.9/45.9 kB\u001b[0m \u001b[31m4.7 MB/s\u001b[0m eta \u001b[36m0:00:00\u001b[0m\n",
            "\u001b[2K     \u001b[90m━━━━━━━━━━━━━━━━━━━━━━━━━━━━━━━━━━━━━━━━\u001b[0m \u001b[32m10.0/10.0 MB\u001b[0m \u001b[31m48.2 MB/s\u001b[0m eta \u001b[36m0:00:00\u001b[0m\n",
            "\u001b[2K     \u001b[90m━━━━━━━━━━━━━━━━━━━━━━━━━━━━━━━━━━━━━━━━\u001b[0m \u001b[32m1.9/1.9 MB\u001b[0m \u001b[31m52.2 MB/s\u001b[0m eta \u001b[36m0:00:00\u001b[0m\n",
            "\u001b[2K     \u001b[90m━━━━━━━━━━━━━━━━━━━━━━━━━━━━━━━━━━━━━━━━\u001b[0m \u001b[32m150.3/150.3 kB\u001b[0m \u001b[31m14.9 MB/s\u001b[0m eta \u001b[36m0:00:00\u001b[0m\n",
            "\u001b[?25h  Building wheel for pydol (setup.py) ... \u001b[?25l\u001b[?25hdone\n",
            "\u001b[2K     \u001b[90m━━━━━━━━━━━━━━━━━━━━━━━━━━━━━━━━━━━━━━━━\u001b[0m \u001b[32m5.3/5.3 MB\u001b[0m \u001b[31m12.5 MB/s\u001b[0m eta \u001b[36m0:00:00\u001b[0m\n",
            "\u001b[2K     \u001b[90m━━━━━━━━━━━━━━━━━━━━━━━━━━━━━━━━━━━━━━━━\u001b[0m \u001b[32m910.8/910.8 kB\u001b[0m \u001b[31m21.4 MB/s\u001b[0m eta \u001b[36m0:00:00\u001b[0m\n",
            "\u001b[?25h"
          ]
        }
      ],
      "source": [
        "!pip install git+https://github.com/Jack3690/pydol/ -q\n",
        "!pip install astroquery -q"
      ]
    },
    {
      "cell_type": "markdown",
      "source": [
        "# **DOLPHOT Installation**"
      ],
      "metadata": {
        "id": "HdotZvxJpGb-"
      }
    },
    {
      "cell_type": "code",
      "source": [
        "!wget http://americano.dolphinsim.com/dolphot/dolphot2.0.tar.gz\n",
        "!wget http://americano.dolphinsim.com/dolphot/dolphot2.0.NIRCAM.tar.gz\n",
        "!wget http://americano.dolphinsim.com/dolphot/nircam_F140M.tar.gz\n",
        "!wget http://americano.dolphinsim.com/dolphot/nircam_F212N.tar.gz"
      ],
      "metadata": {
        "id": "8i7obQzlwD77",
        "colab": {
          "base_uri": "https://localhost:8080/"
        },
        "outputId": "56319632-50e5-4497-d4cd-5775887a7dd3"
      },
      "execution_count": null,
      "outputs": [
        {
          "output_type": "stream",
          "name": "stdout",
          "text": [
            "--2024-06-28 04:31:40--  http://americano.dolphinsim.com/dolphot/dolphot2.0.tar.gz\n",
            "Resolving americano.dolphinsim.com (americano.dolphinsim.com)... 64.139.89.252\n",
            "Connecting to americano.dolphinsim.com (americano.dolphinsim.com)|64.139.89.252|:80... connected.\n",
            "HTTP request sent, awaiting response... 200 OK\n",
            "Length: 270579 (264K) [application/x-gzip]\n",
            "Saving to: ‘dolphot2.0.tar.gz’\n",
            "\n",
            "dolphot2.0.tar.gz   100%[===================>] 264.24K   393KB/s    in 0.7s    \n",
            "\n",
            "2024-06-28 04:31:41 (393 KB/s) - ‘dolphot2.0.tar.gz’ saved [270579/270579]\n",
            "\n",
            "--2024-06-28 04:31:41--  http://americano.dolphinsim.com/dolphot/dolphot2.0.NIRCAM.tar.gz\n",
            "Resolving americano.dolphinsim.com (americano.dolphinsim.com)... 64.139.89.252\n",
            "Connecting to americano.dolphinsim.com (americano.dolphinsim.com)|64.139.89.252|:80... connected.\n",
            "HTTP request sent, awaiting response... 200 OK\n",
            "Length: 82691 (81K) [application/x-gzip]\n",
            "Saving to: ‘dolphot2.0.NIRCAM.tar.gz’\n",
            "\n",
            "dolphot2.0.NIRCAM.t 100%[===================>]  80.75K   190KB/s    in 0.4s    \n",
            "\n",
            "2024-06-28 04:31:42 (190 KB/s) - ‘dolphot2.0.NIRCAM.tar.gz’ saved [82691/82691]\n",
            "\n",
            "--2024-06-28 04:31:42--  http://americano.dolphinsim.com/dolphot/nircam_F140M.tar.gz\n",
            "Resolving americano.dolphinsim.com (americano.dolphinsim.com)... 64.139.89.252\n",
            "Connecting to americano.dolphinsim.com (americano.dolphinsim.com)|64.139.89.252|:80... connected.\n",
            "HTTP request sent, awaiting response... 200 OK\n",
            "Length: 86252498 (82M) [application/x-gzip]\n",
            "Saving to: ‘nircam_F140M.tar.gz’\n",
            "\n",
            "nircam_F140M.tar.gz 100%[===================>]  82.26M   611KB/s    in 2m 19s  \n",
            "\n",
            "2024-06-28 04:34:01 (604 KB/s) - ‘nircam_F140M.tar.gz’ saved [86252498/86252498]\n",
            "\n",
            "--2024-06-28 04:34:01--  http://americano.dolphinsim.com/dolphot/nircam_F212N.tar.gz\n",
            "Resolving americano.dolphinsim.com (americano.dolphinsim.com)... 64.139.89.252\n",
            "Connecting to americano.dolphinsim.com (americano.dolphinsim.com)|64.139.89.252|:80... connected.\n",
            "HTTP request sent, awaiting response... 200 OK\n",
            "Length: 86490290 (82M) [application/x-gzip]\n",
            "Saving to: ‘nircam_F212N.tar.gz’\n",
            "\n",
            "nircam_F212N.tar.gz 100%[===================>]  82.48M   620KB/s    in 2m 10s  \n",
            "\n",
            "2024-06-28 04:36:12 (648 KB/s) - ‘nircam_F212N.tar.gz’ saved [86490290/86490290]\n",
            "\n"
          ]
        }
      ]
    },
    {
      "cell_type": "code",
      "source": [
        "!tar -xf dolphot2.0.tar.gz\n",
        "!tar -xf dolphot2.0.NIRCAM.tar.gz\n",
        "!tar -xf nircam_F140M.tar.gz\n",
        "!tar -xf nircam_F212N.tar.gz"
      ],
      "metadata": {
        "id": "wdueubA3wF_a"
      },
      "execution_count": null,
      "outputs": []
    },
    {
      "cell_type": "code",
      "source": [
        "with open('/content/dolphot2.0/Makefile') as f:\n",
        "  dat = f.readlines()\n",
        "dat[28]= dat[28][1:]\n",
        "\n",
        "with open('/content/dolphot2.0/Makefile','w') as f:\n",
        "  f.writelines(dat)"
      ],
      "metadata": {
        "id": "jKCsMpb6wH_r"
      },
      "execution_count": null,
      "outputs": []
    },
    {
      "cell_type": "code",
      "source": [
        "cd /content/dolphot2.0/"
      ],
      "metadata": {
        "colab": {
          "base_uri": "https://localhost:8080/"
        },
        "id": "NlkPlng2wLgD",
        "outputId": "81f8daa5-d482-4286-92dc-aab4705d14cb"
      },
      "execution_count": null,
      "outputs": [
        {
          "output_type": "stream",
          "name": "stdout",
          "text": [
            "/content/dolphot2.0\n"
          ]
        }
      ]
    },
    {
      "cell_type": "code",
      "source": [
        "import os"
      ],
      "metadata": {
        "id": "WRly3C-Mx2l5"
      },
      "execution_count": null,
      "outputs": []
    },
    {
      "cell_type": "code",
      "source": [
        "os.system('make all')"
      ],
      "metadata": {
        "colab": {
          "base_uri": "https://localhost:8080/"
        },
        "id": "ypCNlUNdwOtE",
        "outputId": "44d4b000-e99d-49b1-e690-a56197947325"
      },
      "execution_count": null,
      "outputs": [
        {
          "output_type": "execute_result",
          "data": {
            "text/plain": [
              "0"
            ]
          },
          "metadata": {},
          "execution_count": 7
        }
      ]
    },
    {
      "cell_type": "code",
      "source": [
        "cd /content/"
      ],
      "metadata": {
        "colab": {
          "base_uri": "https://localhost:8080/"
        },
        "id": "DElkTjjuyUe4",
        "outputId": "1a1b0983-5f14-49fc-c73b-880bb5f7c94d"
      },
      "execution_count": null,
      "outputs": [
        {
          "output_type": "stream",
          "name": "stdout",
          "text": [
            "/content\n"
          ]
        }
      ]
    },
    {
      "cell_type": "code",
      "source": [
        "os.environ['PATH'] += ':/content/dolphot2.0/bin'\n",
        "os.environ['PATH'] += ':/content/dolphot2.0/nircam'"
      ],
      "metadata": {
        "id": "30C9YUDnBqTR"
      },
      "execution_count": 8,
      "outputs": []
    },
    {
      "cell_type": "markdown",
      "source": [
        "# **Imports**"
      ],
      "metadata": {
        "id": "GWnPVTAOwRLq"
      }
    },
    {
      "cell_type": "code",
      "execution_count": 2,
      "metadata": {
        "id": "I_SGU3ki4fJA"
      },
      "outputs": [],
      "source": [
        "from glob import glob\n",
        "import astropy.io.fits as fits\n",
        "\n",
        "import os\n",
        "import astroquery\n",
        "from astroquery.mast import Observations\n",
        "import pandas as pd\n",
        "\n",
        "from astropy.table import Table\n",
        "from astropy.wcs import WCS\n",
        "import numpy as np\n",
        "import multiprocessing as mp\n",
        "import matplotlib.pyplot as plt\n",
        "import json\n",
        "from astropy.coordinates import angular_separation\n",
        "import astropy.units as u\n",
        "from pydol.pipeline.jwst import jpipe\n",
        "import multiprocessing as mp"
      ]
    },
    {
      "cell_type": "markdown",
      "metadata": {
        "id": "bXvalReGg3I9"
      },
      "source": [
        "# **Data**"
      ]
    },
    {
      "cell_type": "markdown",
      "metadata": {
        "id": "JQO0yL2ghiXr"
      },
      "source": [
        "**Observation ID format**\n",
        "\n",
        "jw\\<ppppp>\\<ooo><vvv>\\_\\<gg>\\<s>\\<aa>\\_\\<eeeee>(-<\"seg\"NNN>)\\_\\<detector>\\_\\<prodType>.fits\n",
        "\n",
        "where\n",
        "\n",
        "ppppp: program ID number\n",
        "\n",
        "ooo: observation number\n",
        "\n",
        "vvv: visit number\n",
        "\n",
        "gg: visit group\n",
        "\n",
        "s: parallel sequence ID (1=prime, 2-5=parallel)\n",
        "\n",
        "aa: activity number (base 36)\n",
        "\n",
        "eeeee: exposure number\n",
        "\n",
        "segNNN: the text “seg” followed by a three-digit segment number (optional)\n",
        "\n",
        "detector: detector name (e.g. ‘nrca1’, ‘nrcblong’, ‘mirimage’)\n",
        "\n",
        "prodType: product type identifier (e.g. ‘uncal’, ‘rate’, ‘cal’)"
      ]
    },
    {
      "cell_type": "code",
      "execution_count": null,
      "metadata": {
        "id": "jV4q8fPza7n4",
        "colab": {
          "base_uri": "https://localhost:8080/"
        },
        "outputId": "37d9531a-7660-48df-c429-a46fdd80aaaa"
      },
      "outputs": [
        {
          "output_type": "stream",
          "name": "stdout",
          "text": [
            "Downloading URL https://mast.stsci.edu/api/v0.1/Download/file?uri=mast:jwst/product/jw01701052001_02102_00001_nrcb1_uncal.fits to /content/data/stage0/jw01701052001_02102_00001_nrcb1_uncal.fits ... [Done]\n",
            "Downloading URL https://mast.stsci.edu/api/v0.1/Download/file?uri=mast:jwst/product/jw01701052001_02102_00001_nrcb2_uncal.fits to /content/data/stage0/jw01701052001_02102_00001_nrcb2_uncal.fits ... [Done]\n",
            "Downloading URL https://mast.stsci.edu/api/v0.1/Download/file?uri=mast:jwst/product/jw01701052001_02102_00001_nrcb3_uncal.fits to /content/data/stage0/jw01701052001_02102_00001_nrcb3_uncal.fits ... [Done]\n",
            "Downloading URL https://mast.stsci.edu/api/v0.1/Download/file?uri=mast:jwst/product/jw01701052001_02102_00001_nrcb4_uncal.fits to /content/data/stage0/jw01701052001_02102_00001_nrcb4_uncal.fits ... [Done]\n",
            "Downloading URL https://mast.stsci.edu/api/v0.1/Download/file?uri=mast:jwst/product/jw01701052001_02102_00002_nrcb1_uncal.fits to /content/data/stage0/jw01701052001_02102_00002_nrcb1_uncal.fits ... [Done]\n",
            "Downloading URL https://mast.stsci.edu/api/v0.1/Download/file?uri=mast:jwst/product/jw01701052001_02102_00002_nrcb2_uncal.fits to /content/data/stage0/jw01701052001_02102_00002_nrcb2_uncal.fits ... [Done]\n",
            "Downloading URL https://mast.stsci.edu/api/v0.1/Download/file?uri=mast:jwst/product/jw01701052001_02102_00002_nrcb3_uncal.fits to /content/data/stage0/jw01701052001_02102_00002_nrcb3_uncal.fits ... [Done]\n",
            "Downloading URL https://mast.stsci.edu/api/v0.1/Download/file?uri=mast:jwst/product/jw01701052001_02102_00002_nrcb4_uncal.fits to /content/data/stage0/jw01701052001_02102_00002_nrcb4_uncal.fits ... [Done]\n",
            "Downloading URL https://mast.stsci.edu/api/v0.1/Download/file?uri=mast:jwst/product/jw01701052001_02102_00003_nrcb1_uncal.fits to /content/data/stage0/jw01701052001_02102_00003_nrcb1_uncal.fits ... [Done]\n",
            "Downloading URL https://mast.stsci.edu/api/v0.1/Download/file?uri=mast:jwst/product/jw01701052001_02102_00003_nrcb2_uncal.fits to /content/data/stage0/jw01701052001_02102_00003_nrcb2_uncal.fits ... [Done]\n",
            "Downloading URL https://mast.stsci.edu/api/v0.1/Download/file?uri=mast:jwst/product/jw01701052001_02102_00003_nrcb3_uncal.fits to /content/data/stage0/jw01701052001_02102_00003_nrcb3_uncal.fits ... [Done]\n",
            "Downloading URL https://mast.stsci.edu/api/v0.1/Download/file?uri=mast:jwst/product/jw01701052001_02102_00003_nrcb4_uncal.fits to /content/data/stage0/jw01701052001_02102_00003_nrcb4_uncal.fits ... [Done]\n",
            "Downloading URL https://mast.stsci.edu/api/v0.1/Download/file?uri=mast:jwst/product/jw01701052001_02102_00004_nrcb1_uncal.fits to /content/data/stage0/jw01701052001_02102_00004_nrcb1_uncal.fits ... [Done]\n",
            "Downloading URL https://mast.stsci.edu/api/v0.1/Download/file?uri=mast:jwst/product/jw01701052001_02102_00004_nrcb2_uncal.fits to /content/data/stage0/jw01701052001_02102_00004_nrcb2_uncal.fits ... [Done]\n",
            "Downloading URL https://mast.stsci.edu/api/v0.1/Download/file?uri=mast:jwst/product/jw01701052001_02102_00004_nrcb3_uncal.fits to /content/data/stage0/jw01701052001_02102_00004_nrcb3_uncal.fits ... [Done]\n",
            "Downloading URL https://mast.stsci.edu/api/v0.1/Download/file?uri=mast:jwst/product/jw01701052001_02102_00004_nrcb4_uncal.fits to /content/data/stage0/jw01701052001_02102_00004_nrcb4_uncal.fits ... [Done]\n",
            "Downloading URL https://mast.stsci.edu/api/v0.1/Download/file?uri=mast:jwst/product/jw01701052001_02102_00005_nrcb1_uncal.fits to /content/data/stage0/jw01701052001_02102_00005_nrcb1_uncal.fits ... [Done]\n",
            "Downloading URL https://mast.stsci.edu/api/v0.1/Download/file?uri=mast:jwst/product/jw01701052001_02102_00005_nrcb2_uncal.fits to /content/data/stage0/jw01701052001_02102_00005_nrcb2_uncal.fits ... [Done]\n",
            "Downloading URL https://mast.stsci.edu/api/v0.1/Download/file?uri=mast:jwst/product/jw01701052001_02102_00005_nrcb3_uncal.fits to /content/data/stage0/jw01701052001_02102_00005_nrcb3_uncal.fits ... [Done]\n",
            "Downloading URL https://mast.stsci.edu/api/v0.1/Download/file?uri=mast:jwst/product/jw01701052001_02102_00005_nrcb4_uncal.fits to /content/data/stage0/jw01701052001_02102_00005_nrcb4_uncal.fits ... [Done]\n",
            "Downloading URL https://mast.stsci.edu/api/v0.1/Download/file?uri=mast:jwst/product/jw01701052001_02102_00006_nrcb1_uncal.fits to /content/data/stage0/jw01701052001_02102_00006_nrcb1_uncal.fits ... [Done]\n",
            "Downloading URL https://mast.stsci.edu/api/v0.1/Download/file?uri=mast:jwst/product/jw01701052001_02102_00006_nrcb2_uncal.fits to /content/data/stage0/jw01701052001_02102_00006_nrcb2_uncal.fits ... [Done]\n",
            "Downloading URL https://mast.stsci.edu/api/v0.1/Download/file?uri=mast:jwst/product/jw01701052001_02102_00006_nrcb3_uncal.fits to /content/data/stage0/jw01701052001_02102_00006_nrcb3_uncal.fits ... [Done]\n",
            "Downloading URL https://mast.stsci.edu/api/v0.1/Download/file?uri=mast:jwst/product/jw01701052001_02102_00006_nrcb4_uncal.fits to /content/data/stage0/jw01701052001_02102_00006_nrcb4_uncal.fits ... [Done]\n",
            "Downloading URL https://mast.stsci.edu/api/v0.1/Download/file?uri=mast:jwst/product/jw01701052001_02102_00007_nrcb1_uncal.fits to /content/data/stage0/jw01701052001_02102_00007_nrcb1_uncal.fits ... [Done]\n",
            "Downloading URL https://mast.stsci.edu/api/v0.1/Download/file?uri=mast:jwst/product/jw01701052001_02102_00007_nrcb2_uncal.fits to /content/data/stage0/jw01701052001_02102_00007_nrcb2_uncal.fits ... [Done]\n",
            "Downloading URL https://mast.stsci.edu/api/v0.1/Download/file?uri=mast:jwst/product/jw01701052001_02102_00007_nrcb3_uncal.fits to /content/data/stage0/jw01701052001_02102_00007_nrcb3_uncal.fits ... [Done]\n",
            "Downloading URL https://mast.stsci.edu/api/v0.1/Download/file?uri=mast:jwst/product/jw01701052001_02102_00007_nrcb4_uncal.fits to /content/data/stage0/jw01701052001_02102_00007_nrcb4_uncal.fits ... [Done]\n",
            "Downloading URL https://mast.stsci.edu/api/v0.1/Download/file?uri=mast:jwst/product/jw01701052001_02102_00008_nrcb1_uncal.fits to /content/data/stage0/jw01701052001_02102_00008_nrcb1_uncal.fits ... [Done]\n",
            "Downloading URL https://mast.stsci.edu/api/v0.1/Download/file?uri=mast:jwst/product/jw01701052001_02102_00008_nrcb2_uncal.fits to /content/data/stage0/jw01701052001_02102_00008_nrcb2_uncal.fits ... [Done]\n",
            "Downloading URL https://mast.stsci.edu/api/v0.1/Download/file?uri=mast:jwst/product/jw01701052001_02102_00008_nrcb3_uncal.fits to /content/data/stage0/jw01701052001_02102_00008_nrcb3_uncal.fits ... [Done]\n",
            "Downloading URL https://mast.stsci.edu/api/v0.1/Download/file?uri=mast:jwst/product/jw01701052001_02102_00008_nrcb4_uncal.fits to /content/data/stage0/jw01701052001_02102_00008_nrcb4_uncal.fits ... [Done]\n",
            "Downloading URL https://mast.stsci.edu/api/v0.1/Download/file?uri=mast:jwst/product/jw01701052001_02102_00009_nrcb1_uncal.fits to /content/data/stage0/jw01701052001_02102_00009_nrcb1_uncal.fits ... [Done]\n",
            "Downloading URL https://mast.stsci.edu/api/v0.1/Download/file?uri=mast:jwst/product/jw01701052001_02102_00009_nrcb2_uncal.fits to /content/data/stage0/jw01701052001_02102_00009_nrcb2_uncal.fits ... [Done]\n",
            "Downloading URL https://mast.stsci.edu/api/v0.1/Download/file?uri=mast:jwst/product/jw01701052001_02102_00009_nrcb3_uncal.fits to /content/data/stage0/jw01701052001_02102_00009_nrcb3_uncal.fits ... [Done]\n",
            "Downloading URL https://mast.stsci.edu/api/v0.1/Download/file?uri=mast:jwst/product/jw01701052001_02102_00009_nrcb4_uncal.fits to /content/data/stage0/jw01701052001_02102_00009_nrcb4_uncal.fits ... [Done]\n"
          ]
        }
      ],
      "source": [
        "#Example data for M82\n",
        "\n",
        "mast_dir = 'mast:jwst/product' # Download from MAST\n",
        "data_dir = '/content/data/stage0/'  # save downloaded data\n",
        "os.makedirs(data_dir, exist_ok=True)\n",
        "\n",
        "ext = 'uncal'\n",
        "# JWST images to be analyzed\n",
        "image_files = []\n",
        "\n",
        "# ngc 628: f\"jw0178390400{k}_02101_0000{i}\n",
        "for i in range(1,10):\n",
        "    for j in range(1,5):\n",
        "            for l in ['b']:\n",
        "                image_files.append( f\"jw01701052001_02102_0000{i}_nrc{l}{j}_uncal.fits\")\n",
        "\n",
        "for image_file in image_files:\n",
        "    # Download file (if not already downloaded)\n",
        "    mast_path  = os.path.join(mast_dir, image_file)\n",
        "    local_path = os.path.join(data_dir, image_file)\n",
        "    Observations.download_file(mast_path, local_path=local_path)"
      ]
    },
    {
      "cell_type": "code",
      "source": [
        "#Example data for M82\n",
        "\n",
        "mast_dir = 'mast:jwst/product' # Download from MAST\n",
        "data_dir = '/content/photometry/'  # save downloaded data\n",
        "os.makedirs(data_dir, exist_ok=True)\n",
        "\n",
        "# JWST images to be analyzed\n",
        "image_files = [ f\"jw01701-o052_t007_nircam_clear-f140m-sub640_i2d.fits\"]\n",
        "\n",
        "for image_file in image_files:\n",
        "    # Download file (if not already downloaded)\n",
        "    mast_path  = os.path.join(mast_dir, image_file)\n",
        "    local_path = os.path.join(data_dir, image_file)\n",
        "    Observations.download_file(mast_path, local_path=local_path)"
      ],
      "metadata": {
        "colab": {
          "base_uri": "https://localhost:8080/"
        },
        "id": "XQ2iUY0vHp3O",
        "outputId": "2f176f61-883d-409d-ec82-b6df2706a685"
      },
      "execution_count": null,
      "outputs": [
        {
          "output_type": "stream",
          "name": "stdout",
          "text": [
            "Downloading URL https://mast.stsci.edu/api/v0.1/Download/file?uri=mast:jwst/product/jw01701-o052_t007_nircam_clear-f140m-sub640_i2d.fits to /content/photometry/jw01701-o052_t007_nircam_clear-f140m-sub640_i2d.fits ... [Done]\n"
          ]
        }
      ]
    },
    {
      "cell_type": "markdown",
      "metadata": {
        "id": "IOuSv78Gg7B8"
      },
      "source": [
        "# **Pipeline**"
      ]
    },
    {
      "cell_type": "code",
      "execution_count": null,
      "metadata": {
        "id": "wzZw61DNbpMZ"
      },
      "outputs": [],
      "source": [
        "input_files = glob(f'/content/data/stage0/*')\n",
        "out_dir = '/content/'\n",
        "jwst_data = jpipe(input_files, out_dir)\n",
        "jwst_data()"
      ]
    },
    {
      "cell_type": "code",
      "execution_count": 10,
      "metadata": {
        "id": "IVX2SIRgmTI9"
      },
      "outputs": [],
      "source": [
        "cal_files = glob(f'/content/data/stage2/*b1*cal.fits')"
      ]
    },
    {
      "cell_type": "code",
      "source": [
        "len(cal_files)"
      ],
      "metadata": {
        "id": "E70dFGiqGxRy",
        "outputId": "6f0e9cac-6e5f-43f7-e5f2-7af0b0c05844",
        "colab": {
          "base_uri": "https://localhost:8080/"
        }
      },
      "execution_count": 11,
      "outputs": [
        {
          "output_type": "execute_result",
          "data": {
            "text/plain": [
              "16"
            ]
          },
          "metadata": {},
          "execution_count": 11
        }
      ]
    },
    {
      "cell_type": "markdown",
      "metadata": {
        "id": "X8XcuX1Qg-n8"
      },
      "source": [
        "# **DOLPHOT Photometry**"
      ]
    },
    {
      "cell_type": "code",
      "source": [
        "from pydol.photometry import nircam"
      ],
      "metadata": {
        "id": "cXRkmvwmFJJW"
      },
      "execution_count": 6,
      "outputs": []
    },
    {
      "cell_type": "code",
      "source": [
        "nircam.nircam_phot(cal_files, 'f140m','/content/photometry/',\n",
        "                          '/content/photometry/jw01701052001_nircam_sub640_f140m_jhat_i2d')"
      ],
      "metadata": {
        "colab": {
          "base_uri": "https://localhost:8080/"
        },
        "id": "gmhNVpzjGarr",
        "outputId": "34fe2ae3-bfcc-4e71-edf2-4515bf37df09"
      },
      "execution_count": null,
      "outputs": [
        {
          "output_type": "stream",
          "name": "stdout",
          "text": [
            "Reading FITS file /content/photometry//jw01701052001_02104_00015_nrcb1_cal/data.fits\n",
            "\n",
            "Reading FITS file /content/photometry//jw01701052001_02104_00002_nrcb1_cal/data.fits\n",
            "\n",
            "Reading FITS file /content/photometry//jw01701052001_02104_00005_nrcb1_cal/data.fits\n",
            "\n",
            "Reading FITS file /content/photometry//jw01701052001_02104_00010_nrcb1_cal/data.fits\n",
            "\n",
            "Reading FITS file /content/photometry//jw01701052001_02104_00011_nrcb1_cal/data.fits\n",
            "\n",
            "Reading FITS file /content/photometry//jw01701052001_02104_00004_nrcb1_cal/data.fits\n",
            "\n",
            "Reading FITS file /content/photometry//jw01701052001_02104_00008_nrcb1_cal/data.fits\n",
            "\n",
            "Reading FITS file /content/photometry//jw01701052001_02104_00012_nrcb1_cal/data.fits\n",
            "\n",
            "Reading FITS file /content/photometry//jw01701052001_02104_00001_nrcb1_cal/data.fits\n",
            "\n",
            "Reading FITS file /content/photometry//jw01701052001_02104_00009_nrcb1_cal/data.fits\n",
            "\n",
            "Reading FITS file /content/photometry//jw01701052001_02104_00014_nrcb1_cal/data.fits\n",
            "\n",
            "Reading FITS file /content/photometry//jw01701052001_02104_00013_nrcb1_cal/data.fits\n",
            "\n",
            "Reading FITS file /content/photometry//jw01701052001_02104_00007_nrcb1_cal/data.fits\n",
            "\n",
            "Reading FITS file /content/photometry//jw01701052001_02104_00003_nrcb1_cal/data.fits\n",
            "\n",
            "Reading FITS file /content/photometry//jw01701052001_02104_00016_nrcb1_cal/data.fits\n",
            "\n",
            "Reading FITS file /content/photometry//jw01701052001_02104_00006_nrcb1_cal/data.fits\n",
            "\n",
            "Reading FITS file /content/photometry/jw01701052001_nircam_sub640_f140m_jhat_i2d.fits\n",
            "\n",
            "Reading IMAGE extension: 640x640\n",
            "\n",
            "  GAIN=2.01 EXP=25s NOISE=11.77 BAD=-37.56 SAT=57539.70\n",
            "\n",
            "Reading IMAGE extension: 640x640\n",
            "\n",
            "  GAIN=2.01 EXP=25s NOISE=11.77 BAD=-41.22 SAT=56749.32\n",
            "\n",
            "Reading IMAGE extension: 640x640\n",
            "\n",
            "  GAIN=2.01 EXP=25s NOISE=11.77 BAD=-10.60 SAT=69337.03\n",
            "\n",
            "Reading IMAGE extension: 640x640\n",
            "\n",
            "  GAIN=2.01 EXP=25s NOISE=11.77 BAD=-9.61 SAT=59597.65\n",
            "\n",
            "Reading IMAGE extension: 640x640\n",
            "\n",
            "  GAIN=2.01 EXP=25s NOISE=11.77 BAD=-5.18 SAT=60234.39\n",
            "\n",
            "Reading IMAGE extension: 640x640\n",
            "\n",
            "  GAIN=2.01 EXP=25s NOISE=11.77 BAD=-30.76 SAT=63449.64\n",
            "\n",
            "Reading IMAGE extension: 640x640\n",
            "\n",
            "  GAIN=2.01 EXP=25s NOISE=11.77 BAD=-33.59 SAT=67357.95\n",
            "\n",
            "Reading IMAGE extension: 640x640\n",
            "\n",
            "  GAIN=2.01 EXP=25s NOISE=11.77 BAD=-56.94 SAT=58873.77\n",
            "\n",
            "Reading IMAGE extension: 640x640\n",
            "\n",
            "  GAIN=2.01 EXP=25s NOISE=11.77 BAD=-87.24 SAT=69010.59\n",
            "\n",
            "Reading IMAGE extension: 640x640\n",
            "\n",
            "  GAIN=2.01 EXP=25s NOISE=11.77 BAD=-30.91 SAT=57475.32\n",
            "\n",
            "Reading IMAGE extension: 640x640\n",
            "\n",
            "  GAIN=2.01 EXP=25s NOISE=11.77 BAD=-37.32 SAT=59114.12\n",
            "\n",
            "Reading IMAGE extension: 640x640\n",
            "\n",
            "  GAIN=2.01 EXP=25s NOISE=11.77 BAD=-129.30 SAT=58187.50\n",
            "\n",
            "Reading IMAGE extension: 640x640\n",
            "\n",
            "  GAIN=2.01 EXP=25s NOISE=11.77 BAD=-23.18 SAT=70606.41\n",
            "\n",
            "Reading IMAGE extension: 640x640\n",
            "\n",
            "  GAIN=2.01 EXP=25s NOISE=11.77 BAD=-61.03 SAT=61698.25\n",
            "\n",
            "Reading IMAGE extension: 640x640\n",
            "\n",
            "  GAIN=2.01 EXP=25s NOISE=11.77 BAD=-62.79 SAT=60206.55\n",
            "\n",
            "Reading IMAGE extension: 640x640\n",
            "\n",
            "  GAIN=2.01 EXP=25s NOISE=11.77 BAD=-26.71 SAT=63248.92\n",
            "\n",
            "Reading IMAGE extension: 2419x2403\n",
            "\n",
            "  GAIN=2.05 EXP=401s NOISE=11.46 BAD=-1236.16 SAT=3668611.25\n",
            "\n",
            "** Extension 1, Chip 1 **\n",
            "\n",
            "CD matrix not found; using PC matrix instead\n",
            "\n",
            "reference rmsi = 0.000043, rmsf = 0.000015\n",
            "\n",
            "reverse rmsi = 0.286496, rmsf = 0.000015\n",
            "\n",
            "forward rmsi = 0.280374, rmsf = 0.000094\n",
            "\n",
            "reverse rmsi = 0.289683, rmsf = 0.000030\n",
            "\n",
            "forward rmsi = 0.280375, rmsf = 0.000017\n",
            "\n",
            "reverse rmsi = 0.285873, rmsf = 0.000019\n",
            "\n",
            "forward rmsi = 0.280372, rmsf = 0.000011\n",
            "\n",
            "reverse rmsi = 0.283535, rmsf = 0.000012\n",
            "\n",
            "forward rmsi = 0.280374, rmsf = 0.000012\n",
            "\n",
            "reverse rmsi = 0.283505, rmsf = 0.000028\n",
            "\n",
            "forward rmsi = 0.280375, rmsf = 0.000017\n",
            "\n",
            "reverse rmsi = 0.289594, rmsf = 0.000024\n",
            "\n",
            "forward rmsi = 0.280372, rmsf = 0.000014\n",
            "\n",
            "reverse rmsi = 0.285835, rmsf = 0.000099\n",
            "\n",
            "forward rmsi = 0.280378, rmsf = 0.000042\n",
            "\n",
            "reverse rmsi = 0.283484, rmsf = 0.000046\n",
            "\n",
            "forward rmsi = 0.280375, rmsf = 0.000072\n",
            "\n",
            "reverse rmsi = 0.289644, rmsf = 0.000042\n",
            "\n",
            "forward rmsi = 0.280378, rmsf = 0.000009\n",
            "\n",
            "reverse rmsi = 0.283513, rmsf = 0.000025\n",
            "\n",
            "forward rmsi = 0.280376, rmsf = 0.000012\n",
            "\n",
            "reverse rmsi = 0.286539, rmsf = 0.000098\n",
            "\n",
            "forward rmsi = 0.280379, rmsf = 0.000114\n",
            "\n",
            "reverse rmsi = 0.286508, rmsf = 0.000012\n",
            "\n",
            "forward rmsi = 0.280374, rmsf = 0.000030\n",
            "\n",
            "reverse rmsi = 0.285863, rmsf = 0.000044\n",
            "\n",
            "forward rmsi = 0.280377, rmsf = 0.000002\n",
            "\n",
            "reverse rmsi = 0.289630, rmsf = 0.000011\n",
            "\n",
            "forward rmsi = 0.280372, rmsf = 0.000002\n",
            "\n",
            "reverse rmsi = 0.286466, rmsf = 0.000014\n",
            "\n",
            "forward rmsi = 0.280375, rmsf = 0.000033\n",
            "\n",
            "reverse rmsi = 0.285903, rmsf = 0.000014\n",
            "\n",
            "forward rmsi = 0.280371, rmsf = 0.000007\n",
            "\n",
            "1233 stars for alignment\n",
            "\n",
            "image 1: 113 matched, 113 used, 0.10 -0.40 1.000000 0.00000 0.021, sig=1.42\n",
            "\n",
            "image 2: 123 matched, 123 used, -0.14 -0.53 1.000000 0.00000 0.016, sig=1.41\n",
            "\n",
            "image 3: 133 matched, 133 used, -0.29 -0.63 1.000000 0.00000 0.019, sig=1.49\n",
            "\n",
            "image 4: 148 matched, 148 used, -0.01 -0.46 1.000000 0.00000 0.030, sig=1.38\n",
            "\n",
            "image 5: 146 matched, 146 used, -0.13 -0.76 1.000000 0.00000 0.016, sig=1.43\n",
            "\n",
            "image 6: 111 matched, 111 used, -0.17 -0.06 1.000000 0.00000 -0.003, sig=1.41\n",
            "\n",
            "image 7: 130 matched, 130 used, -0.39 -0.53 1.000000 0.00000 0.031, sig=1.46\n",
            "\n",
            "image 8: 150 matched, 150 used, 0.47 -0.35 1.000000 0.00000 -0.039, sig=1.44\n",
            "\n",
            "image 9: 113 matched, 113 used, -0.20 -0.47 1.000000 0.00000 0.016, sig=1.43\n",
            "\n",
            "image 10: 151 matched, 151 used, -0.10 -0.67 1.000000 0.00000 0.001, sig=1.43\n",
            "\n",
            "image 11: 121 matched, 121 used, -0.06 -0.48 1.000000 0.00000 0.041, sig=1.41\n",
            "\n",
            "image 12: 117 matched, 117 used, 0.39 -0.04 1.000000 0.00000 0.004, sig=1.38\n",
            "\n",
            "image 13: 126 matched, 126 used, -0.10 -0.81 1.000000 0.00000 0.026, sig=1.46\n",
            "\n",
            "image 14: 121 matched, 121 used, -0.07 -0.15 1.000000 0.00000 0.003, sig=1.42\n",
            "\n",
            "image 15: 118 matched, 118 used, 0.01 -0.36 1.000000 0.00000 0.012, sig=1.41\n",
            "\n",
            "image 16: 115 matched, 115 used, -0.18 -0.44 1.000000 0.00000 0.033, sig=1.38\n",
            "\n",
            "Finding stars: .......\n",
            "\n",
            "111218 found\n",
            "\n",
            "24453 stars eliminated\n",
            "\n",
            "4748 stars eliminated\n",
            "\n",
            "2207 stars eliminated\n",
            "\n",
            "1438 stars eliminated\n",
            "\n",
            "1077 stars eliminated\n",
            "\n",
            "884 stars eliminated\n",
            "\n",
            "721 stars eliminated\n",
            "\n",
            "602 stars eliminated\n",
            "\n",
            "466 stars eliminated\n",
            "\n",
            "482 stars eliminated\n",
            "\n",
            "364 stars eliminated\n",
            "\n",
            "333 stars eliminated\n",
            "\n",
            "301 stars eliminated\n",
            "\n",
            "171 PSF stars; 17472 neighbors\n",
            "\n",
            "Central pixel PSF adjustments:\n",
            "\n",
            "image 1: 92 stars, -0.001873\n",
            "\n",
            "image 2: 96 stars, -0.001912\n",
            "\n",
            "image 3: 104 stars, -0.002853\n",
            "\n",
            "image 4: 92 stars, -0.002507\n",
            "\n",
            "image 5: 92 stars, -0.003823\n",
            "\n",
            "image 6: 97 stars, -0.005630\n",
            "\n",
            "image 7: 102 stars, -0.003770\n",
            "\n",
            "image 8: 93 stars, -0.003142\n",
            "\n",
            "image 9: 96 stars, -0.003296\n",
            "\n",
            "image 10: 92 stars, -0.002540\n",
            "\n",
            "image 11: 93 stars, -0.004216\n",
            "\n",
            "image 12: 92 stars, -0.004288\n",
            "\n",
            "image 13: 103 stars, -0.002687\n",
            "\n",
            "image 14: 96 stars, -0.002342\n",
            "\n",
            "image 15: 93 stars, -0.001834\n",
            "\n",
            "image 16: 104 stars, -0.002506\n",
            "\n",
            "113 stars eliminated\n",
            "\n",
            "224 stars eliminated\n",
            "\n",
            "310 stars eliminated\n",
            "\n"
          ]
        }
      ]
    },
    {
      "cell_type": "code",
      "source": [],
      "metadata": {
        "id": "W5X-BKYPKtff"
      },
      "execution_count": null,
      "outputs": []
    }
  ],
  "metadata": {
    "colab": {
      "provenance": [],
      "include_colab_link": true
    },
    "kernelspec": {
      "display_name": "Python 3",
      "name": "python3"
    },
    "language_info": {
      "name": "python"
    }
  },
  "nbformat": 4,
  "nbformat_minor": 0
}