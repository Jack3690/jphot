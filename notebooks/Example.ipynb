{
  "nbformat": 4,
  "nbformat_minor": 0,
  "metadata": {
    "colab": {
      "provenance": [],
      "authorship_tag": "ABX9TyPFNxrypTGHGniChvo1+ayg",
      "include_colab_link": true
    },
    "kernelspec": {
      "name": "python3",
      "display_name": "Python 3"
    },
    "language_info": {
      "name": "python"
    }
  },
  "cells": [
    {
      "cell_type": "markdown",
      "metadata": {
        "id": "view-in-github",
        "colab_type": "text"
      },
      "source": [
        "<a href=\"https://colab.research.google.com/github/Jack3690/pydol/blob/main/notebooks/Example.ipynb\" target=\"_parent\"><img src=\"https://colab.research.google.com/assets/colab-badge.svg\" alt=\"Open In Colab\"/></a>"
      ]
    },
    {
      "cell_type": "code",
      "execution_count": 4,
      "metadata": {
        "colab": {
          "base_uri": "https://localhost:8080/"
        },
        "id": "ABMluMUr2zrw",
        "outputId": "66732198-c3db-412a-8660-f48a0ec799e3"
      },
      "outputs": [
        {
          "output_type": "stream",
          "name": "stdout",
          "text": [
            "  Preparing metadata (setup.py) ... \u001b[?25l\u001b[?25hdone\n"
          ]
        }
      ],
      "source": [
        "!pip install git+https://github.com/Jack3690/pydol/ -q\n",
        "!pip install astroquery -q"
      ]
    },
    {
      "cell_type": "code",
      "source": [
        "from glob import glob\n",
        "import astropy.io.fits as fits\n",
        "\n",
        "import os\n",
        "import astroquery\n",
        "from astroquery.mast import Observations\n",
        "import pandas as pd\n",
        "\n",
        "from astropy.table import Table\n",
        "from astropy.wcs import WCS\n",
        "import numpy as np\n",
        "import multiprocessing as mp\n",
        "import matplotlib.pyplot as plt\n",
        "import json\n",
        "from astropy.coordinates import angular_separation\n",
        "import astropy.units as u\n",
        "from pydol.pipeline.jwst import jpipe\n",
        "import multiprocessing as mp"
      ],
      "metadata": {
        "id": "I_SGU3ki4fJA"
      },
      "execution_count": 21,
      "outputs": []
    },
    {
      "cell_type": "markdown",
      "source": [
        "# **Data**"
      ],
      "metadata": {
        "id": "bXvalReGg3I9"
      }
    },
    {
      "cell_type": "markdown",
      "source": [
        "**Observation ID format**\n",
        "\n",
        "jw\\<ppppp>\\<ooo><vvv>\\_\\<gg>\\<s>\\<aa>\\_\\<eeeee>(-<\"seg\"NNN>)\\_\\<detector>\\_\\<prodType>.fits\n",
        "\n",
        "where\n",
        "\n",
        "ppppp: program ID number\n",
        "\n",
        "ooo: observation number\n",
        "\n",
        "vvv: visit number\n",
        "\n",
        "gg: visit group\n",
        "\n",
        "s: parallel sequence ID (1=prime, 2-5=parallel)\n",
        "\n",
        "aa: activity number (base 36)\n",
        "\n",
        "eeeee: exposure number\n",
        "\n",
        "segNNN: the text “seg” followed by a three-digit segment number (optional)\n",
        "\n",
        "detector: detector name (e.g. ‘nrca1’, ‘nrcblong’, ‘mirimage’)\n",
        "\n",
        "prodType: product type identifier (e.g. ‘uncal’, ‘rate’, ‘cal’)"
      ],
      "metadata": {
        "id": "JQO0yL2ghiXr"
      }
    },
    {
      "cell_type": "code",
      "source": [
        "#Example data for M82\n",
        "\n",
        "mast_dir = 'mast:jwst/product' # Download from MAST\n",
        "data_dir = '/content/data/stage0/'  # save downloaded data\n",
        "os.makedirs(data_dir, exist_ok=True)\n",
        "\n",
        "ext = 'uncal'\n",
        "# JWST images to be analyzed\n",
        "image_files = []\n",
        "\n",
        "# ngc 628: f\"jw0178390400{k}_02101_0000{i}\n",
        "for i in range(1,10):\n",
        "    for j in range(1,5):\n",
        "            for l in ['b']:\n",
        "                image_files.append( f\"jw01701052001_02102_0000{i}_nrc{l}{j}_uncal.fits\")\n",
        "\n",
        "for image_file in image_files:\n",
        "    # Download file (if not already downloaded)\n",
        "    mast_path  = os.path.join(mast_dir, image_file)\n",
        "    local_path = os.path.join(data_dir, image_file)\n",
        "    Observations.download_file(mast_path, local_path=local_path)"
      ],
      "metadata": {
        "colab": {
          "base_uri": "https://localhost:8080/"
        },
        "id": "jV4q8fPza7n4",
        "outputId": "adb92a4c-e04e-41aa-eb67-b1bca4fde179"
      },
      "execution_count": null,
      "outputs": [
        {
          "output_type": "stream",
          "name": "stderr",
          "text": [
            "INFO:astroquery:Found cached file /content/data/stage0/jw01701052001_02102_00001_nrcb1_uncal.fits with expected size 4968000.\n",
            "2024-06-26 21:51:48,883 - stpipe - INFO - Found cached file /content/data/stage0/jw01701052001_02102_00001_nrcb1_uncal.fits with expected size 4968000.\n",
            "INFO:stpipe:Found cached file /content/data/stage0/jw01701052001_02102_00001_nrcb1_uncal.fits with expected size 4968000.\n"
          ]
        },
        {
          "output_type": "stream",
          "name": "stdout",
          "text": [
            "INFO: Found cached file /content/data/stage0/jw01701052001_02102_00001_nrcb1_uncal.fits with expected size 4968000. [astroquery.query]\n",
            "Downloading URL https://mast.stsci.edu/api/v0.1/Download/file?uri=mast:jwst/product/jw01701052001_02102_00001_nrcb2_uncal.fits to /content/data/stage0/jw01701052001_02102_00001_nrcb2_uncal.fits ... [Done]\n",
            "Downloading URL https://mast.stsci.edu/api/v0.1/Download/file?uri=mast:jwst/product/jw01701052001_02102_00001_nrcb3_uncal.fits to /content/data/stage0/jw01701052001_02102_00001_nrcb3_uncal.fits ... [Done]\n",
            "Downloading URL https://mast.stsci.edu/api/v0.1/Download/file?uri=mast:jwst/product/jw01701052001_02102_00001_nrcb4_uncal.fits to /content/data/stage0/jw01701052001_02102_00001_nrcb4_uncal.fits ... [Done]\n",
            "Downloading URL https://mast.stsci.edu/api/v0.1/Download/file?uri=mast:jwst/product/jw01701052001_02102_00002_nrcb1_uncal.fits to /content/data/stage0/jw01701052001_02102_00002_nrcb1_uncal.fits ... [Done]\n",
            "Downloading URL https://mast.stsci.edu/api/v0.1/Download/file?uri=mast:jwst/product/jw01701052001_02102_00002_nrcb2_uncal.fits to /content/data/stage0/jw01701052001_02102_00002_nrcb2_uncal.fits ... [Done]\n",
            "Downloading URL https://mast.stsci.edu/api/v0.1/Download/file?uri=mast:jwst/product/jw01701052001_02102_00002_nrcb3_uncal.fits to /content/data/stage0/jw01701052001_02102_00002_nrcb3_uncal.fits ... [Done]\n",
            "Downloading URL https://mast.stsci.edu/api/v0.1/Download/file?uri=mast:jwst/product/jw01701052001_02102_00002_nrcb4_uncal.fits to /content/data/stage0/jw01701052001_02102_00002_nrcb4_uncal.fits ... [Done]\n",
            "Downloading URL https://mast.stsci.edu/api/v0.1/Download/file?uri=mast:jwst/product/jw01701052001_02102_00003_nrcb1_uncal.fits to /content/data/stage0/jw01701052001_02102_00003_nrcb1_uncal.fits ... [Done]\n",
            "Downloading URL https://mast.stsci.edu/api/v0.1/Download/file?uri=mast:jwst/product/jw01701052001_02102_00003_nrcb2_uncal.fits to /content/data/stage0/jw01701052001_02102_00003_nrcb2_uncal.fits ... [Done]\n",
            "Downloading URL https://mast.stsci.edu/api/v0.1/Download/file?uri=mast:jwst/product/jw01701052001_02102_00003_nrcb3_uncal.fits to /content/data/stage0/jw01701052001_02102_00003_nrcb3_uncal.fits ... [Done]\n",
            "Downloading URL https://mast.stsci.edu/api/v0.1/Download/file?uri=mast:jwst/product/jw01701052001_02102_00003_nrcb4_uncal.fits to /content/data/stage0/jw01701052001_02102_00003_nrcb4_uncal.fits ... [Done]\n",
            "Downloading URL https://mast.stsci.edu/api/v0.1/Download/file?uri=mast:jwst/product/jw01701052001_02102_00004_nrcb1_uncal.fits to /content/data/stage0/jw01701052001_02102_00004_nrcb1_uncal.fits ... [Done]\n",
            "Downloading URL https://mast.stsci.edu/api/v0.1/Download/file?uri=mast:jwst/product/jw01701052001_02102_00004_nrcb2_uncal.fits to /content/data/stage0/jw01701052001_02102_00004_nrcb2_uncal.fits ... [Done]\n",
            "Downloading URL https://mast.stsci.edu/api/v0.1/Download/file?uri=mast:jwst/product/jw01701052001_02102_00004_nrcb3_uncal.fits to /content/data/stage0/jw01701052001_02102_00004_nrcb3_uncal.fits ... [Done]\n",
            "Downloading URL https://mast.stsci.edu/api/v0.1/Download/file?uri=mast:jwst/product/jw01701052001_02102_00004_nrcb4_uncal.fits to /content/data/stage0/jw01701052001_02102_00004_nrcb4_uncal.fits ... [Done]\n",
            "Downloading URL https://mast.stsci.edu/api/v0.1/Download/file?uri=mast:jwst/product/jw01701052001_02102_00005_nrcb1_uncal.fits to /content/data/stage0/jw01701052001_02102_00005_nrcb1_uncal.fits ... [Done]\n",
            "Downloading URL https://mast.stsci.edu/api/v0.1/Download/file?uri=mast:jwst/product/jw01701052001_02102_00005_nrcb2_uncal.fits to /content/data/stage0/jw01701052001_02102_00005_nrcb2_uncal.fits ... [Done]\n",
            "Downloading URL https://mast.stsci.edu/api/v0.1/Download/file?uri=mast:jwst/product/jw01701052001_02102_00005_nrcb3_uncal.fits to /content/data/stage0/jw01701052001_02102_00005_nrcb3_uncal.fits ... [Done]\n",
            "Downloading URL https://mast.stsci.edu/api/v0.1/Download/file?uri=mast:jwst/product/jw01701052001_02102_00005_nrcb4_uncal.fits to /content/data/stage0/jw01701052001_02102_00005_nrcb4_uncal.fits ... [Done]\n",
            "Downloading URL https://mast.stsci.edu/api/v0.1/Download/file?uri=mast:jwst/product/jw01701052001_02102_00006_nrcb1_uncal.fits to /content/data/stage0/jw01701052001_02102_00006_nrcb1_uncal.fits ... [Done]\n",
            "Downloading URL https://mast.stsci.edu/api/v0.1/Download/file?uri=mast:jwst/product/jw01701052001_02102_00006_nrcb2_uncal.fits to /content/data/stage0/jw01701052001_02102_00006_nrcb2_uncal.fits ..."
          ]
        }
      ]
    },
    {
      "cell_type": "markdown",
      "source": [
        "# **Pipeline**"
      ],
      "metadata": {
        "id": "IOuSv78Gg7B8"
      }
    },
    {
      "cell_type": "code",
      "source": [
        "input_files = glob(f'/content/data/stage0/*')\n",
        "out_dir = '/content/'\n",
        "jwst_data = jpipe(input_files, out_dir,'jwst_1241.pmap')\n",
        "jwst_data()"
      ],
      "metadata": {
        "id": "wzZw61DNbpMZ"
      },
      "execution_count": 19,
      "outputs": []
    },
    {
      "cell_type": "markdown",
      "source": [
        "# **DOLPHOT Photometry**"
      ],
      "metadata": {
        "id": "X8XcuX1Qg-n8"
      }
    },
    {
      "cell_type": "code",
      "source": [],
      "metadata": {
        "id": "eREPYzbPg-Cx"
      },
      "execution_count": null,
      "outputs": []
    },
    {
      "cell_type": "code",
      "source": [],
      "metadata": {
        "id": "h5zvd6wwgHmG"
      },
      "execution_count": null,
      "outputs": []
    }
  ]
}