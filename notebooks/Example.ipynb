{
  "cells": [
    {
      "cell_type": "markdown",
      "metadata": {
        "id": "view-in-github",
        "colab_type": "text"
      },
      "source": [
        "<a href=\"https://colab.research.google.com/github/Jack3690/pydol/blob/main/notebooks/Example.ipynb\" target=\"_parent\"><img src=\"https://colab.research.google.com/assets/colab-badge.svg\" alt=\"Open In Colab\"/></a>"
      ]
    },
    {
      "cell_type": "markdown",
      "source": [
        "# **Imports**"
      ],
      "metadata": {
        "id": "GWnPVTAOwRLq"
      }
    },
    {
      "cell_type": "code",
      "execution_count": null,
      "metadata": {
        "id": "I_SGU3ki4fJA"
      },
      "outputs": [],
      "source": [
        "from glob import glob\n",
        "import astropy.io.fits as fits\n",
        "import json\n",
        "import os, sys\n",
        "import astroquery\n",
        "from astroquery.mast import Observations\n",
        "import pandas as pd\n",
        "\n",
        "from astropy.table import Table,unique, vstack\n",
        "from astropy.wcs import WCS\n",
        "import numpy as np\n",
        "import multiprocessing as mp\n",
        "import matplotlib.pyplot as plt\n",
        "import json\n",
        "from astropy.coordinates import angular_separation\n",
        "import astropy.units as u\n",
        "from pydol.pipeline.jwst import jpipe\n",
        "import multiprocessing as mp\n",
        "from pydol.photometry.scripts import cmdtools\n",
        "from pydol.photometry import nircam"
      ]
    },
    {
      "cell_type": "markdown",
      "metadata": {
        "id": "bXvalReGg3I9"
      },
      "source": [
        "# **Data**"
      ]
    },
    {
      "cell_type": "markdown",
      "metadata": {
        "id": "JQO0yL2ghiXr"
      },
      "source": [
        "**Observation ID format**\n",
        "\n",
        "jw\\<ppppp>\\<ooo><vvv>\\_\\<gg>\\<s>\\<aa>\\_\\<eeeee>(-<\"seg\"NNN>)\\_\\<detector>\\_\\<prodType>.fits\n",
        "\n",
        "where\n",
        "\n",
        "ppppp: program ID number\n",
        "\n",
        "ooo: observation number\n",
        "\n",
        "vvv: visit number\n",
        "\n",
        "gg: visit group\n",
        "\n",
        "s: parallel sequence ID (1=prime, 2-5=parallel)\n",
        "\n",
        "aa: activity number (base 36)\n",
        "\n",
        "eeeee: exposure number\n",
        "\n",
        "segNNN: the text “seg” followed by a three-digit segment number (optional)\n",
        "\n",
        "detector: detector name (e.g. ‘nrca1’, ‘nrcblong’, ‘mirimage’)\n",
        "\n",
        "prodType: product type identifier (e.g. ‘uncal’, ‘rate’, ‘cal’)"
      ]
    },
    {
      "cell_type": "code",
      "execution_count": null,
      "metadata": {
        "id": "jV4q8fPza7n4"
      },
      "outputs": [],
      "source": [
        "#Example data for F200W filter for NGC628\n",
        "obs_table = Observations.query_criteria(proposal_id=[\"1783\"],objectname=\"NGC628\",\n",
        "                                        filters= ['F115W', 'F150W', 'F200W'],\n",
        "                                        dataRights='PUBLIC')[:3]\n",
        "\n",
        "t = [Observations.get_product_list(obs) for obs in obs_table]\n",
        "files = unique(vstack(t), keys='productFilename')"
      ]
    },
    {
      "cell_type": "code",
      "source": [
        "mast_dir = 'mast:jwst/product' # Download from MAST\n",
        "data_dir = '../data/ngc628/data/stage0/'  # save downloaded data\n",
        "os.makedirs(data_dir, exist_ok=True)\n",
        "\n",
        "manifest = Observations.download_products(\n",
        "           files,\n",
        "           dataRights = 'PUBLIC',\n",
        "           productSubGroupDescription = 'UNCAL',\n",
        "           download_dir = data_dir,\n",
        "           flat = True,\n",
        "           )\"\""
      ],
      "metadata": {
        "id": "FHGPwGWhvqPr"
      },
      "execution_count": null,
      "outputs": []
    },
    {
      "cell_type": "markdown",
      "metadata": {
        "id": "IOuSv78Gg7B8"
      },
      "source": [
        "# **Pipeline**"
      ]
    },
    {
      "cell_type": "code",
      "execution_count": null,
      "metadata": {
        "id": "wzZw61DNbpMZ"
      },
      "outputs": [],
      "source": [
        "input_files = glob(f'../data/ngc628/data/stage0/*4003*')\n",
        "input_files += glob(f'../data/ngc628/data/stage0/*4004*')\n",
        "out_dir     = '../data/ngc628/data'\n",
        "jwst_data   = jpipe(input_files, out_dir,crds_dir='../CRDS/', filter='F115W',\n",
        "                    crds_context='jwst_1303.pmap', n_cores=1)\n",
        "jwst_data()\n",
        "\n",
        "input_files = glob(f'../data/ngc628/data/stage0/*4005*')\n",
        "input_files += glob(f'../data/ngc628/data/stage0/*4006*')\n",
        "out_dir     = '../data/ngc628/data'\n",
        "jwst_data   = jpipe(input_files, out_dir,crds_dir='../CRDS/', filter='F150W',\n",
        "                    crds_context='jwst_1303.pmap', n_cores=1)\n",
        "jwst_data()\n",
        "\n",
        "input_files = glob(f'../data/ngc628/data/stage0/*4007*')\n",
        "input_files += glob(f'../data/ngc628/data/stage0/*4008*')\n",
        "out_dir     = '../data/ngc628/data'\n",
        "jwst_data   = jpipe(input_files, out_dir,crds_dir='../CRDS/', filter='F200W',\n",
        "                    crds_context='jwst_1303.pmap', n_cores=1)\n",
        "jwst_data()"
      ]
    },
    {
      "cell_type": "markdown",
      "metadata": {
        "id": "X8XcuX1Qg-n8"
      },
      "source": [
        "# **DOLPHOT Photometry**"
      ]
    },
    {
      "cell_type": "code",
      "source": [
        "for j in ['a1', 'a2', 'a3', 'a4', 'b1', 'b2', 'b3', 'b4']:\n",
        "    crf_files = glob(f'../data/ngc628/data/stage3/*{j}*_crf.fits')\n",
        "    crf_files = sorted(crf_files, key=lambda x: float(x.split('/')[-1].split('_')[0][-4:])) # Sorting filters for increasing wavelength\n",
        "    nircam.nircam_phot(crf_files,\n",
        "               filter='f115w_f150w_f200w',\n",
        "               output_dir= f'../data/ngc628/photometry/{j}',\n",
        "               drz_path='../data/ngc628/photometry/F200W_step_i2d',\n",
        "               cat_name= f'_{j}')"
      ],
      "metadata": {
        "id": "W5X-BKYPKtff"
      },
      "execution_count": null,
      "outputs": []
    },
    {
      "cell_type": "markdown",
      "source": [
        "# **Photometric Analysis**"
      ],
      "metadata": {
        "id": "bsz0HbECPT3J"
      }
    },
    {
      "cell_type": "code",
      "source": [
        "Av_dict = {\n",
        "            'f275w': 2.02499,\n",
        "            'f336w': 1.67536,\n",
        "            'f435w': 1.33879,\n",
        "            'f555w': 1.03065,\n",
        "            'f814w': 0.59696,\n",
        "\n",
        "            'f090w': 0.583,\n",
        "            'f115w': 0.419,\n",
        "            'f150w': 0.287,\n",
        "            'f200w': 0.195,\n",
        "\n",
        "            'f438w': 1.34148,\n",
        "            'f606w': 0.90941,\n",
        "            'f814w': 0.59845\n",
        "          }"
      ],
      "metadata": {
        "id": "Crm_l6WKQ8R_"
      },
      "execution_count": null,
      "outputs": []
    },
    {
      "cell_type": "code",
      "source": [
        "df_cmd_jwst = pd.read_csv(\"../data/isochrones_master/cmd_jwst.csv\") # Needs to be generated"
      ],
      "metadata": {
        "id": "vLvvW3aBPFq5"
      },
      "execution_count": null,
      "outputs": []
    },
    {
      "cell_type": "markdown",
      "source": [
        "## **CMDs**"
      ],
      "metadata": {
        "id": "Dny_yfvzQHCD"
      }
    },
    {
      "cell_type": "code",
      "source": [
        "ages_ = [6.8,7,7.2, 7.5,7.8,8,8.2,8.5,8.8,9,9.6,10]\n",
        "\n",
        "ages_y = [6.8, 7.0,7.3,7.6,7.8,8,8.5,8.8]\n",
        "ages_o = [9.0, 9.6,10]\n",
        "mag_err_lim = 0.2"
      ],
      "metadata": {
        "id": "lEf72M28QCoE"
      },
      "execution_count": null,
      "outputs": []
    },
    {
      "cell_type": "code",
      "source": [
        "tab = Table.read('../photometry/ngc628/f115w_f200w_photometry.fits')\n",
        "\n",
        "filters = {'filt1':'f115w',\n",
        "           'filt2':'f200w',\n",
        "           'filt3':'f200w'}\n",
        "\n",
        "ra_cen = 24.1738983\n",
        "dec_cen = 15.7836543\n",
        "\n",
        "positions = {'ra_col': 'ra',\n",
        "             'dec_col' : 'dec',\n",
        "             'ra_cen': ra_cen,\n",
        "             'dec_cen': dec_cen}\n",
        "\n",
        "region = {'r_in' : 0,\n",
        "          'r_out' : 2000,\n",
        "          'spatial_filter': 'circle'}\n",
        "\n",
        "extinction = {'Av': 0.19,\n",
        "              'Av_x': 3,\n",
        "              'Av_y': 26,\n",
        "              'Av_': 3}\n",
        "\n",
        "axis_limits= {'xlims': [-1, 5],\n",
        "              'ylims': [17.5, 28]}\n",
        "\n",
        "isochrone_params={'met': [0.02],\n",
        "                  'label_min':1,\n",
        "                  'label_max':10,\n",
        "                  'ages': [ 6.8,7,7.5, 8,8.5, 9]}\n",
        "\n",
        "error_settings = {'ref_xpos': -0.25,\n",
        "                  'mag_err_lim':0.2}\n",
        "\n",
        "kde_contours = {'gen_kde':False,\n",
        "                'gen_contours':False}\n",
        "\n",
        "\n",
        "fig,ax, tab1 = cmdtools.gen_CMD(tab,\n",
        "                      df_cmd_jwst,\n",
        "                      filters,\n",
        "                      positions,\n",
        "                      region,\n",
        "                      extinction,\n",
        "                      29.83,\n",
        "                      axis_limits,\n",
        "                      isochrone_params,\n",
        "                      kde_contours=kde_contours,\n",
        "                      error_settings=error_settings,\n",
        "                      other_settings = {'ab_dist':False})\n",
        "\n",
        "isochrone_params['met'] = [0.002]\n",
        "isochrone_params['ages'] = [9.1,10]\n",
        "\n",
        "fig,ax, tab1 = cmdtools.gen_CMD(tab,\n",
        "                      df_cmd_jwst,\n",
        "                      filters,\n",
        "                      positions,\n",
        "                      region,\n",
        "                      extinction,\n",
        "                      29.8484,\n",
        "                      axis_limits,\n",
        "                      isochrone_params,\n",
        "                      kde_contours=kde_contours,\n",
        "                      error_settings=error_settings,\n",
        "                      other_settings={'ab_dist':True, 'skip_data':True},\n",
        "                      fig=fig,\n",
        "                      ax=ax)"
      ],
      "metadata": {
        "id": "Q6b8ViQYQI61"
      },
      "execution_count": null,
      "outputs": []
    }
  ],
  "metadata": {
    "colab": {
      "provenance": [],
      "include_colab_link": true
    },
    "kernelspec": {
      "display_name": "Python 3",
      "name": "python3"
    },
    "language_info": {
      "name": "python"
    }
  },
  "nbformat": 4,
  "nbformat_minor": 0
}