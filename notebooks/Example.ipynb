{
  "cells": [
    {
      "cell_type": "markdown",
      "metadata": {
        "id": "view-in-github",
        "colab_type": "text"
      },
      "source": [
        "<a href=\"https://colab.research.google.com/github/Jack3690/pydol/blob/main/notebooks/Example.ipynb\" target=\"_parent\"><img src=\"https://colab.research.google.com/assets/colab-badge.svg\" alt=\"Open In Colab\"/></a>"
      ]
    },
    {
      "cell_type": "code",
      "execution_count": null,
      "metadata": {
        "id": "ABMluMUr2zrw"
      },
      "outputs": [],
      "source": [
        "!pip install git+https://github.com/Jack3690/pydol/ -q\n",
        "!pip install astroquery -q"
      ]
    },
    {
      "cell_type": "code",
      "execution_count": null,
      "metadata": {
        "id": "I_SGU3ki4fJA"
      },
      "outputs": [],
      "source": [
        "from glob import glob\n",
        "import astropy.io.fits as fits\n",
        "\n",
        "import os\n",
        "import astroquery\n",
        "from astroquery.mast import Observations\n",
        "import pandas as pd\n",
        "\n",
        "from astropy.table import Table\n",
        "from astropy.wcs import WCS\n",
        "import numpy as np\n",
        "import multiprocessing as mp\n",
        "import matplotlib.pyplot as plt\n",
        "import json\n",
        "from astropy.coordinates import angular_separation\n",
        "import astropy.units as u\n",
        "from pydol.pipeline.jwst import jpipe\n",
        "import multiprocessing as mp"
      ]
    },
    {
      "cell_type": "markdown",
      "metadata": {
        "id": "bXvalReGg3I9"
      },
      "source": [
        "# **Data**"
      ]
    },
    {
      "cell_type": "markdown",
      "metadata": {
        "id": "JQO0yL2ghiXr"
      },
      "source": [
        "**Observation ID format**\n",
        "\n",
        "jw\\<ppppp>\\<ooo><vvv>\\_\\<gg>\\<s>\\<aa>\\_\\<eeeee>(-<\"seg\"NNN>)\\_\\<detector>\\_\\<prodType>.fits\n",
        "\n",
        "where\n",
        "\n",
        "ppppp: program ID number\n",
        "\n",
        "ooo: observation number\n",
        "\n",
        "vvv: visit number\n",
        "\n",
        "gg: visit group\n",
        "\n",
        "s: parallel sequence ID (1=prime, 2-5=parallel)\n",
        "\n",
        "aa: activity number (base 36)\n",
        "\n",
        "eeeee: exposure number\n",
        "\n",
        "segNNN: the text “seg” followed by a three-digit segment number (optional)\n",
        "\n",
        "detector: detector name (e.g. ‘nrca1’, ‘nrcblong’, ‘mirimage’)\n",
        "\n",
        "prodType: product type identifier (e.g. ‘uncal’, ‘rate’, ‘cal’)"
      ]
    },
    {
      "cell_type": "code",
      "execution_count": null,
      "metadata": {
        "id": "jV4q8fPza7n4"
      },
      "outputs": [],
      "source": [
        "#Example data for M82\n",
        "\n",
        "mast_dir = 'mast:jwst/product' # Download from MAST\n",
        "data_dir = '/content/data/stage0/'  # save downloaded data\n",
        "os.makedirs(data_dir, exist_ok=True)\n",
        "\n",
        "ext = 'uncal'\n",
        "# JWST images to be analyzed\n",
        "image_files = []\n",
        "\n",
        "# ngc 628: f\"jw0178390400{k}_02101_0000{i}\n",
        "for i in range(1,10):\n",
        "    for j in range(1,5):\n",
        "            for l in ['b']:\n",
        "                image_files.append( f\"jw01701052001_02102_0000{i}_nrc{l}{j}_uncal.fits\")\n",
        "\n",
        "for image_file in image_files:\n",
        "    # Download file (if not already downloaded)\n",
        "    mast_path  = os.path.join(mast_dir, image_file)\n",
        "    local_path = os.path.join(data_dir, image_file)\n",
        "    Observations.download_file(mast_path, local_path=local_path)"
      ]
    },
    {
      "cell_type": "markdown",
      "metadata": {
        "id": "IOuSv78Gg7B8"
      },
      "source": [
        "# **Pipeline**"
      ]
    },
    {
      "cell_type": "code",
      "execution_count": null,
      "metadata": {
        "id": "wzZw61DNbpMZ"
      },
      "outputs": [],
      "source": [
        "input_files = glob(f'/content/data/stage0/*')\n",
        "out_dir = '/content/'p\n",
        "jwst_data = jpipe(input_files, out_dir)\n",
        "jwst_data()"
      ]
    },
    {
      "cell_type": "code",
      "execution_count": 5,
      "metadata": {
        "colab": {
          "base_uri": "https://localhost:8080/"
        },
        "id": "IVX2SIRgmTI9",
        "outputId": "3ecb3be6-b50b-49a9-f265-275f6d8d9f57"
      },
      "outputs": [
        {
          "output_type": "stream",
          "name": "stderr",
          "text": [
            "WARNING:py.warnings:/usr/local/lib/python3.10/dist-packages/ipykernel/ipkernel.py:283: DeprecationWarning: `should_run_async` will not call `transform_cell` automatically in the future. Please pass the result to `transformed_cell` argument and any exception that happen during thetransform in `preprocessing_exc_tuple` in IPython 7.17 and above.\n",
            "  and should_run_async(code)\n",
            "\n",
            "2024-06-27 05:11:18,032 - stpipe - WARNING - /usr/local/lib/python3.10/dist-packages/ipykernel/ipkernel.py:283: DeprecationWarning: `should_run_async` will not call `transform_cell` automatically in the future. Please pass the result to `transformed_cell` argument and any exception that happen during thetransform in `preprocessing_exc_tuple` in IPython 7.17 and above.\n",
            "  and should_run_async(code)\n",
            "\n",
            "WARNING:stpipe:/usr/local/lib/python3.10/dist-packages/ipykernel/ipkernel.py:283: DeprecationWarning: `should_run_async` will not call `transform_cell` automatically in the future. Please pass the result to `transformed_cell` argument and any exception that happen during thetransform in `preprocessing_exc_tuple` in IPython 7.17 and above.\n",
            "  and should_run_async(code)\n",
            "\n"
          ]
        }
      ],
      "source": [
        "cal_files = glob(f'/content/data/stage2/*cal.fits')"
      ]
    },
    {
      "cell_type": "code",
      "source": [
        "cal_files"
      ],
      "metadata": {
        "id": "E70dFGiqGxRy",
        "outputId": "156e318d-0630-4686-acc2-cc00ee05f704",
        "colab": {
          "base_uri": "https://localhost:8080/"
        }
      },
      "execution_count": 6,
      "outputs": [
        {
          "output_type": "execute_result",
          "data": {
            "text/plain": [
              "['/content/data/stage2/jw01701052001_02102_00002_nrcb3_cal.fits',\n",
              " '/content/data/stage2/jw01701052001_02102_00008_nrcb4_cal.fits',\n",
              " '/content/data/stage2/jw01701052001_02102_00003_nrcb2_cal.fits',\n",
              " '/content/data/stage2/jw01701052001_02102_00001_nrcb1_cal.fits',\n",
              " '/content/data/stage2/jw01701052001_02102_00005_nrcb2_cal.fits',\n",
              " '/content/data/stage2/jw01701052001_02102_00008_nrcb3_cal.fits',\n",
              " '/content/data/stage2/jw01701052001_02102_00004_nrcb1_cal.fits',\n",
              " '/content/data/stage2/jw01701052001_02102_00001_nrcb4_cal.fits',\n",
              " '/content/data/stage2/jw01701052001_02102_00005_nrcb4_cal.fits',\n",
              " '/content/data/stage2/jw01701052001_02102_00003_nrcb1_cal.fits',\n",
              " '/content/data/stage2/jw01701052001_02102_00005_nrcb1_cal.fits',\n",
              " '/content/data/stage2/jw01701052001_02102_00001_nrcb3_cal.fits',\n",
              " '/content/data/stage2/jw01701052001_02102_00007_nrcb2_cal.fits',\n",
              " '/content/data/stage2/jw01701052001_02102_00009_nrcb1_cal.fits',\n",
              " '/content/data/stage2/jw01701052001_02102_00004_nrcb2_cal.fits',\n",
              " '/content/data/stage2/jw01701052001_02102_00001_nrcb2_cal.fits',\n",
              " '/content/data/stage2/jw01701052001_02102_00006_nrcb4_cal.fits',\n",
              " '/content/data/stage2/jw01701052001_02102_00008_nrcb1_cal.fits',\n",
              " '/content/data/stage2/jw01701052001_02102_00007_nrcb3_cal.fits',\n",
              " '/content/data/stage2/jw01701052001_02102_00006_nrcb1_cal.fits',\n",
              " '/content/data/stage2/jw01701052001_02102_00002_nrcb1_cal.fits',\n",
              " '/content/data/stage2/jw01701052001_02102_00006_nrcb2_cal.fits',\n",
              " '/content/data/stage2/jw01701052001_02102_00002_nrcb4_cal.fits',\n",
              " '/content/data/stage2/jw01701052001_02102_00007_nrcb1_cal.fits',\n",
              " '/content/data/stage2/jw01701052001_02102_00006_nrcb3_cal.fits',\n",
              " '/content/data/stage2/jw01701052001_02102_00009_nrcb2_cal.fits',\n",
              " '/content/data/stage2/jw01701052001_02102_00009_nrcb3_cal.fits',\n",
              " '/content/data/stage2/jw01701052001_02102_00002_nrcb2_cal.fits',\n",
              " '/content/data/stage2/jw01701052001_02102_00007_nrcb4_cal.fits',\n",
              " '/content/data/stage2/jw01701052001_02102_00003_nrcb4_cal.fits',\n",
              " '/content/data/stage2/jw01701052001_02102_00009_nrcb4_cal.fits',\n",
              " '/content/data/stage2/jw01701052001_02102_00008_nrcb2_cal.fits',\n",
              " '/content/data/stage2/jw01701052001_02102_00005_nrcb3_cal.fits',\n",
              " '/content/data/stage2/jw01701052001_02102_00004_nrcb3_cal.fits',\n",
              " '/content/data/stage2/jw01701052001_02102_00003_nrcb3_cal.fits',\n",
              " '/content/data/stage2/jw01701052001_02102_00004_nrcb4_cal.fits']"
            ]
          },
          "metadata": {},
          "execution_count": 6
        }
      ]
    },
    {
      "cell_type": "markdown",
      "metadata": {
        "id": "X8XcuX1Qg-n8"
      },
      "source": [
        "# **DOLPHOT Photometry**"
      ]
    },
    {
      "cell_type": "code",
      "execution_count": null,
      "metadata": {
        "id": "eREPYzbPg-Cx"
      },
      "outputs": [],
      "source": []
    },
    {
      "cell_type": "code",
      "execution_count": null,
      "metadata": {
        "id": "h5zvd6wwgHmG"
      },
      "outputs": [],
      "source": []
    }
  ],
  "metadata": {
    "colab": {
      "provenance": [],
      "authorship_tag": "ABX9TyMLUnA6Biwr0CwdG2tTSygx",
      "include_colab_link": true
    },
    "kernelspec": {
      "display_name": "Python 3",
      "name": "python3"
    },
    "language_info": {
      "name": "python"
    }
  },
  "nbformat": 4,
  "nbformat_minor": 0
}