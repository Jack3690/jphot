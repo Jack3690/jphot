{
  "cells": [
    {
      "cell_type": "markdown",
      "metadata": {
        "id": "view-in-github",
        "colab_type": "text"
      },
      "source": [
        "<a href=\"https://colab.research.google.com/github/Jack3690/pydol/blob/main/notebooks/Example.ipynb\" target=\"_parent\"><img src=\"https://colab.research.google.com/assets/colab-badge.svg\" alt=\"Open In Colab\"/></a>"
      ]
    },
    {
      "cell_type": "code",
      "execution_count": 1,
      "metadata": {
        "id": "ABMluMUr2zrw",
        "colab": {
          "base_uri": "https://localhost:8080/"
        },
        "outputId": "b8e4dfe9-6749-4f7d-c7c4-65c58ac3eeac"
      },
      "outputs": [
        {
          "output_type": "stream",
          "name": "stdout",
          "text": [
            "  Preparing metadata (setup.py) ... \u001b[?25l\u001b[?25hdone\n",
            "\u001b[2K     \u001b[90m━━━━━━━━━━━━━━━━━━━━━━━━━━━━━━━━━━━━━━━━\u001b[0m \u001b[32m1.1/1.1 MB\u001b[0m \u001b[31m13.5 MB/s\u001b[0m eta \u001b[36m0:00:00\u001b[0m\n",
            "\u001b[2K     \u001b[90m━━━━━━━━━━━━━━━━━━━━━━━━━━━━━━━━━━━━━━━━\u001b[0m \u001b[32m15.4/15.4 MB\u001b[0m \u001b[31m70.1 MB/s\u001b[0m eta \u001b[36m0:00:00\u001b[0m\n",
            "\u001b[2K     \u001b[90m━━━━━━━━━━━━━━━━━━━━━━━━━━━━━━━━━━━━━━━━\u001b[0m \u001b[32m1.2/1.2 MB\u001b[0m \u001b[31m43.9 MB/s\u001b[0m eta \u001b[36m0:00:00\u001b[0m\n",
            "\u001b[2K     \u001b[90m━━━━━━━━━━━━━━━━━━━━━━━━━━━━━━━━━━━━━━━━\u001b[0m \u001b[32m960.9/960.9 kB\u001b[0m \u001b[31m48.3 MB/s\u001b[0m eta \u001b[36m0:00:00\u001b[0m\n",
            "\u001b[2K     \u001b[90m━━━━━━━━━━━━━━━━━━━━━━━━━━━━━━━━━━━━━━━━\u001b[0m \u001b[32m88.9/88.9 kB\u001b[0m \u001b[31m10.1 MB/s\u001b[0m eta \u001b[36m0:00:00\u001b[0m\n",
            "\u001b[2K     \u001b[90m━━━━━━━━━━━━━━━━━━━━━━━━━━━━━━━━━━━━━━━━\u001b[0m \u001b[32m5.7/5.7 MB\u001b[0m \u001b[31m77.8 MB/s\u001b[0m eta \u001b[36m0:00:00\u001b[0m\n",
            "\u001b[2K     \u001b[90m━━━━━━━━━━━━━━━━━━━━━━━━━━━━━━━━━━━━━━━━\u001b[0m \u001b[32m296.5/296.5 kB\u001b[0m \u001b[31m21.4 MB/s\u001b[0m eta \u001b[36m0:00:00\u001b[0m\n",
            "\u001b[2K     \u001b[90m━━━━━━━━━━━━━━━━━━━━━━━━━━━━━━━━━━━━━━━━\u001b[0m \u001b[32m155.3/155.3 kB\u001b[0m \u001b[31m17.8 MB/s\u001b[0m eta \u001b[36m0:00:00\u001b[0m\n",
            "\u001b[2K     \u001b[90m━━━━━━━━━━━━━━━━━━━━━━━━━━━━━━━━━━━━━━━━\u001b[0m \u001b[32m2.8/2.8 MB\u001b[0m \u001b[31m93.4 MB/s\u001b[0m eta \u001b[36m0:00:00\u001b[0m\n",
            "\u001b[2K     \u001b[90m━━━━━━━━━━━━━━━━━━━━━━━━━━━━━━━━━━━━━━━━\u001b[0m \u001b[32m8.6/8.6 MB\u001b[0m \u001b[31m21.4 MB/s\u001b[0m eta \u001b[36m0:00:00\u001b[0m\n",
            "\u001b[2K     \u001b[90m━━━━━━━━━━━━━━━━━━━━━━━━━━━━━━━━━━━━━━━━\u001b[0m \u001b[32m2.6/2.6 MB\u001b[0m \u001b[31m68.9 MB/s\u001b[0m eta \u001b[36m0:00:00\u001b[0m\n",
            "\u001b[2K     \u001b[90m━━━━━━━━━━━━━━━━━━━━━━━━━━━━━━━━━━━━━━━━\u001b[0m \u001b[32m316.2/316.2 kB\u001b[0m \u001b[31m26.0 MB/s\u001b[0m eta \u001b[36m0:00:00\u001b[0m\n",
            "\u001b[2K     \u001b[90m━━━━━━━━━━━━━━━━━━━━━━━━━━━━━━━━━━━━━━━━\u001b[0m \u001b[32m49.8/49.8 kB\u001b[0m \u001b[31m4.1 MB/s\u001b[0m eta \u001b[36m0:00:00\u001b[0m\n",
            "\u001b[2K     \u001b[90m━━━━━━━━━━━━━━━━━━━━━━━━━━━━━━━━━━━━━━━━\u001b[0m \u001b[32m915.0/915.0 kB\u001b[0m \u001b[31m46.3 MB/s\u001b[0m eta \u001b[36m0:00:00\u001b[0m\n",
            "\u001b[2K     \u001b[90m━━━━━━━━━━━━━━━━━━━━━━━━━━━━━━━━━━━━━━━━\u001b[0m \u001b[32m160.4/160.4 kB\u001b[0m \u001b[31m12.5 MB/s\u001b[0m eta \u001b[36m0:00:00\u001b[0m\n",
            "\u001b[2K     \u001b[90m━━━━━━━━━━━━━━━━━━━━━━━━━━━━━━━━━━━━━━━━\u001b[0m \u001b[32m83.6/83.6 kB\u001b[0m \u001b[31m8.5 MB/s\u001b[0m eta \u001b[36m0:00:00\u001b[0m\n",
            "\u001b[2K     \u001b[90m━━━━━━━━━━━━━━━━━━━━━━━━━━━━━━━━━━━━━━━━\u001b[0m \u001b[32m81.9/81.9 kB\u001b[0m \u001b[31m7.9 MB/s\u001b[0m eta \u001b[36m0:00:00\u001b[0m\n",
            "\u001b[2K     \u001b[90m━━━━━━━━━━━━━━━━━━━━━━━━━━━━━━━━━━━━━━━━\u001b[0m \u001b[32m275.4/275.4 kB\u001b[0m \u001b[31m24.3 MB/s\u001b[0m eta \u001b[36m0:00:00\u001b[0m\n",
            "\u001b[2K     \u001b[90m━━━━━━━━━━━━━━━━━━━━━━━━━━━━━━━━━━━━━━━━\u001b[0m \u001b[32m45.9/45.9 kB\u001b[0m \u001b[31m4.7 MB/s\u001b[0m eta \u001b[36m0:00:00\u001b[0m\n",
            "\u001b[2K     \u001b[90m━━━━━━━━━━━━━━━━━━━━━━━━━━━━━━━━━━━━━━━━\u001b[0m \u001b[32m10.0/10.0 MB\u001b[0m \u001b[31m48.2 MB/s\u001b[0m eta \u001b[36m0:00:00\u001b[0m\n",
            "\u001b[2K     \u001b[90m━━━━━━━━━━━━━━━━━━━━━━━━━━━━━━━━━━━━━━━━\u001b[0m \u001b[32m1.9/1.9 MB\u001b[0m \u001b[31m52.2 MB/s\u001b[0m eta \u001b[36m0:00:00\u001b[0m\n",
            "\u001b[2K     \u001b[90m━━━━━━━━━━━━━━━━━━━━━━━━━━━━━━━━━━━━━━━━\u001b[0m \u001b[32m150.3/150.3 kB\u001b[0m \u001b[31m14.9 MB/s\u001b[0m eta \u001b[36m0:00:00\u001b[0m\n",
            "\u001b[?25h  Building wheel for pydol (setup.py) ... \u001b[?25l\u001b[?25hdone\n",
            "\u001b[2K     \u001b[90m━━━━━━━━━━━━━━━━━━━━━━━━━━━━━━━━━━━━━━━━\u001b[0m \u001b[32m5.3/5.3 MB\u001b[0m \u001b[31m12.5 MB/s\u001b[0m eta \u001b[36m0:00:00\u001b[0m\n",
            "\u001b[2K     \u001b[90m━━━━━━━━━━━━━━━━━━━━━━━━━━━━━━━━━━━━━━━━\u001b[0m \u001b[32m910.8/910.8 kB\u001b[0m \u001b[31m21.4 MB/s\u001b[0m eta \u001b[36m0:00:00\u001b[0m\n",
            "\u001b[?25h"
          ]
        }
      ],
      "source": [
        "!pip install git+https://github.com/Jack3690/pydol/ -q\n",
        "!pip install astroquery -q"
      ]
    },
    {
      "cell_type": "markdown",
      "source": [
        "# **DOLPHOT Installation**"
      ],
      "metadata": {
        "id": "HdotZvxJpGb-"
      }
    },
    {
      "cell_type": "code",
      "source": [
        "!wget http://americano.dolphinsim.com/dolphot/dolphot2.0.tar.gz\n",
        "!wget http://americano.dolphinsim.com/dolphot/dolphot2.0.NIRCAM.tar.gz\n",
        "!wget http://americano.dolphinsim.com/dolphot/nircam_F140M.tar.gz\n",
        "!wget http://americano.dolphinsim.com/dolphot/nircam_F212N.tar.gz"
      ],
      "metadata": {
        "id": "8i7obQzlwD77",
        "colab": {
          "base_uri": "https://localhost:8080/"
        },
        "outputId": "56319632-50e5-4497-d4cd-5775887a7dd3"
      },
      "execution_count": 2,
      "outputs": [
        {
          "output_type": "stream",
          "name": "stdout",
          "text": [
            "--2024-06-28 04:31:40--  http://americano.dolphinsim.com/dolphot/dolphot2.0.tar.gz\n",
            "Resolving americano.dolphinsim.com (americano.dolphinsim.com)... 64.139.89.252\n",
            "Connecting to americano.dolphinsim.com (americano.dolphinsim.com)|64.139.89.252|:80... connected.\n",
            "HTTP request sent, awaiting response... 200 OK\n",
            "Length: 270579 (264K) [application/x-gzip]\n",
            "Saving to: ‘dolphot2.0.tar.gz’\n",
            "\n",
            "dolphot2.0.tar.gz   100%[===================>] 264.24K   393KB/s    in 0.7s    \n",
            "\n",
            "2024-06-28 04:31:41 (393 KB/s) - ‘dolphot2.0.tar.gz’ saved [270579/270579]\n",
            "\n",
            "--2024-06-28 04:31:41--  http://americano.dolphinsim.com/dolphot/dolphot2.0.NIRCAM.tar.gz\n",
            "Resolving americano.dolphinsim.com (americano.dolphinsim.com)... 64.139.89.252\n",
            "Connecting to americano.dolphinsim.com (americano.dolphinsim.com)|64.139.89.252|:80... connected.\n",
            "HTTP request sent, awaiting response... 200 OK\n",
            "Length: 82691 (81K) [application/x-gzip]\n",
            "Saving to: ‘dolphot2.0.NIRCAM.tar.gz’\n",
            "\n",
            "dolphot2.0.NIRCAM.t 100%[===================>]  80.75K   190KB/s    in 0.4s    \n",
            "\n",
            "2024-06-28 04:31:42 (190 KB/s) - ‘dolphot2.0.NIRCAM.tar.gz’ saved [82691/82691]\n",
            "\n",
            "--2024-06-28 04:31:42--  http://americano.dolphinsim.com/dolphot/nircam_F140M.tar.gz\n",
            "Resolving americano.dolphinsim.com (americano.dolphinsim.com)... 64.139.89.252\n",
            "Connecting to americano.dolphinsim.com (americano.dolphinsim.com)|64.139.89.252|:80... connected.\n",
            "HTTP request sent, awaiting response... 200 OK\n",
            "Length: 86252498 (82M) [application/x-gzip]\n",
            "Saving to: ‘nircam_F140M.tar.gz’\n",
            "\n",
            "nircam_F140M.tar.gz 100%[===================>]  82.26M   611KB/s    in 2m 19s  \n",
            "\n",
            "2024-06-28 04:34:01 (604 KB/s) - ‘nircam_F140M.tar.gz’ saved [86252498/86252498]\n",
            "\n",
            "--2024-06-28 04:34:01--  http://americano.dolphinsim.com/dolphot/nircam_F212N.tar.gz\n",
            "Resolving americano.dolphinsim.com (americano.dolphinsim.com)... 64.139.89.252\n",
            "Connecting to americano.dolphinsim.com (americano.dolphinsim.com)|64.139.89.252|:80... connected.\n",
            "HTTP request sent, awaiting response... 200 OK\n",
            "Length: 86490290 (82M) [application/x-gzip]\n",
            "Saving to: ‘nircam_F212N.tar.gz’\n",
            "\n",
            "nircam_F212N.tar.gz 100%[===================>]  82.48M   620KB/s    in 2m 10s  \n",
            "\n",
            "2024-06-28 04:36:12 (648 KB/s) - ‘nircam_F212N.tar.gz’ saved [86490290/86490290]\n",
            "\n"
          ]
        }
      ]
    },
    {
      "cell_type": "code",
      "source": [
        "!tar -xf dolphot2.0.tar.gz\n",
        "!tar -xf dolphot2.0.NIRCAM.tar.gz\n",
        "!tar -xf nircam_F140M.tar.gz\n",
        "!tar -xf nircam_F212N.tar.gz"
      ],
      "metadata": {
        "id": "wdueubA3wF_a"
      },
      "execution_count": 3,
      "outputs": []
    },
    {
      "cell_type": "code",
      "source": [
        "with open('/content/dolphot2.0/Makefile') as f:\n",
        "  dat = f.readlines()\n",
        "dat[28]= dat[28][1:]\n",
        "\n",
        "with open('/content/dolphot2.0/Makefile','w') as f:\n",
        "  f.writelines(dat)"
      ],
      "metadata": {
        "id": "jKCsMpb6wH_r"
      },
      "execution_count": 4,
      "outputs": []
    },
    {
      "cell_type": "code",
      "source": [
        "cd /content/dolphot2.0/"
      ],
      "metadata": {
        "colab": {
          "base_uri": "https://localhost:8080/"
        },
        "id": "NlkPlng2wLgD",
        "outputId": "81f8daa5-d482-4286-92dc-aab4705d14cb"
      },
      "execution_count": 5,
      "outputs": [
        {
          "output_type": "stream",
          "name": "stdout",
          "text": [
            "/content/dolphot2.0\n"
          ]
        }
      ]
    },
    {
      "cell_type": "code",
      "source": [
        "import os"
      ],
      "metadata": {
        "id": "WRly3C-Mx2l5"
      },
      "execution_count": 6,
      "outputs": []
    },
    {
      "cell_type": "code",
      "source": [
        "os.system('make all')"
      ],
      "metadata": {
        "colab": {
          "base_uri": "https://localhost:8080/"
        },
        "id": "ypCNlUNdwOtE",
        "outputId": "44d4b000-e99d-49b1-e690-a56197947325"
      },
      "execution_count": 7,
      "outputs": [
        {
          "output_type": "execute_result",
          "data": {
            "text/plain": [
              "0"
            ]
          },
          "metadata": {},
          "execution_count": 7
        }
      ]
    },
    {
      "cell_type": "code",
      "source": [
        "cd /content/"
      ],
      "metadata": {
        "colab": {
          "base_uri": "https://localhost:8080/"
        },
        "id": "DElkTjjuyUe4",
        "outputId": "1a1b0983-5f14-49fc-c73b-880bb5f7c94d"
      },
      "execution_count": 8,
      "outputs": [
        {
          "output_type": "stream",
          "name": "stdout",
          "text": [
            "/content\n"
          ]
        }
      ]
    },
    {
      "cell_type": "code",
      "source": [
        "os.environ['PATH'] += ':/content/dolphot2.0/bin'\n",
        "os.environ['PATH'] += ':/content/dolphot2.0/nircam'"
      ],
      "metadata": {
        "id": "30C9YUDnBqTR"
      },
      "execution_count": 9,
      "outputs": []
    },
    {
      "cell_type": "markdown",
      "source": [
        "# **Imports**"
      ],
      "metadata": {
        "id": "GWnPVTAOwRLq"
      }
    },
    {
      "cell_type": "code",
      "execution_count": 10,
      "metadata": {
        "id": "I_SGU3ki4fJA"
      },
      "outputs": [],
      "source": [
        "from glob import glob\n",
        "import astropy.io.fits as fits\n",
        "\n",
        "import os\n",
        "import astroquery\n",
        "from astroquery.mast import Observations\n",
        "import pandas as pd\n",
        "\n",
        "from astropy.table import Table\n",
        "from astropy.wcs import WCS\n",
        "import numpy as np\n",
        "import multiprocessing as mp\n",
        "import matplotlib.pyplot as plt\n",
        "import json\n",
        "from astropy.coordinates import angular_separation\n",
        "import astropy.units as u\n",
        "from pydol.pipeline.jwst import jpipe\n",
        "import multiprocessing as mp"
      ]
    },
    {
      "cell_type": "markdown",
      "metadata": {
        "id": "bXvalReGg3I9"
      },
      "source": [
        "# **Data**"
      ]
    },
    {
      "cell_type": "markdown",
      "metadata": {
        "id": "JQO0yL2ghiXr"
      },
      "source": [
        "**Observation ID format**\n",
        "\n",
        "jw\\<ppppp>\\<ooo><vvv>\\_\\<gg>\\<s>\\<aa>\\_\\<eeeee>(-<\"seg\"NNN>)\\_\\<detector>\\_\\<prodType>.fits\n",
        "\n",
        "where\n",
        "\n",
        "ppppp: program ID number\n",
        "\n",
        "ooo: observation number\n",
        "\n",
        "vvv: visit number\n",
        "\n",
        "gg: visit group\n",
        "\n",
        "s: parallel sequence ID (1=prime, 2-5=parallel)\n",
        "\n",
        "aa: activity number (base 36)\n",
        "\n",
        "eeeee: exposure number\n",
        "\n",
        "segNNN: the text “seg” followed by a three-digit segment number (optional)\n",
        "\n",
        "detector: detector name (e.g. ‘nrca1’, ‘nrcblong’, ‘mirimage’)\n",
        "\n",
        "prodType: product type identifier (e.g. ‘uncal’, ‘rate’, ‘cal’)"
      ]
    },
    {
      "cell_type": "code",
      "execution_count": 11,
      "metadata": {
        "id": "jV4q8fPza7n4",
        "outputId": "37d9531a-7660-48df-c429-a46fdd80aaaa",
        "colab": {
          "base_uri": "https://localhost:8080/"
        }
      },
      "outputs": [
        {
          "output_type": "stream",
          "name": "stdout",
          "text": [
            "Downloading URL https://mast.stsci.edu/api/v0.1/Download/file?uri=mast:jwst/product/jw01701052001_02102_00001_nrcb1_uncal.fits to /content/data/stage0/jw01701052001_02102_00001_nrcb1_uncal.fits ... [Done]\n",
            "Downloading URL https://mast.stsci.edu/api/v0.1/Download/file?uri=mast:jwst/product/jw01701052001_02102_00001_nrcb2_uncal.fits to /content/data/stage0/jw01701052001_02102_00001_nrcb2_uncal.fits ... [Done]\n",
            "Downloading URL https://mast.stsci.edu/api/v0.1/Download/file?uri=mast:jwst/product/jw01701052001_02102_00001_nrcb3_uncal.fits to /content/data/stage0/jw01701052001_02102_00001_nrcb3_uncal.fits ... [Done]\n",
            "Downloading URL https://mast.stsci.edu/api/v0.1/Download/file?uri=mast:jwst/product/jw01701052001_02102_00001_nrcb4_uncal.fits to /content/data/stage0/jw01701052001_02102_00001_nrcb4_uncal.fits ... [Done]\n",
            "Downloading URL https://mast.stsci.edu/api/v0.1/Download/file?uri=mast:jwst/product/jw01701052001_02102_00002_nrcb1_uncal.fits to /content/data/stage0/jw01701052001_02102_00002_nrcb1_uncal.fits ... [Done]\n",
            "Downloading URL https://mast.stsci.edu/api/v0.1/Download/file?uri=mast:jwst/product/jw01701052001_02102_00002_nrcb2_uncal.fits to /content/data/stage0/jw01701052001_02102_00002_nrcb2_uncal.fits ... [Done]\n",
            "Downloading URL https://mast.stsci.edu/api/v0.1/Download/file?uri=mast:jwst/product/jw01701052001_02102_00002_nrcb3_uncal.fits to /content/data/stage0/jw01701052001_02102_00002_nrcb3_uncal.fits ... [Done]\n",
            "Downloading URL https://mast.stsci.edu/api/v0.1/Download/file?uri=mast:jwst/product/jw01701052001_02102_00002_nrcb4_uncal.fits to /content/data/stage0/jw01701052001_02102_00002_nrcb4_uncal.fits ... [Done]\n",
            "Downloading URL https://mast.stsci.edu/api/v0.1/Download/file?uri=mast:jwst/product/jw01701052001_02102_00003_nrcb1_uncal.fits to /content/data/stage0/jw01701052001_02102_00003_nrcb1_uncal.fits ... [Done]\n",
            "Downloading URL https://mast.stsci.edu/api/v0.1/Download/file?uri=mast:jwst/product/jw01701052001_02102_00003_nrcb2_uncal.fits to /content/data/stage0/jw01701052001_02102_00003_nrcb2_uncal.fits ... [Done]\n",
            "Downloading URL https://mast.stsci.edu/api/v0.1/Download/file?uri=mast:jwst/product/jw01701052001_02102_00003_nrcb3_uncal.fits to /content/data/stage0/jw01701052001_02102_00003_nrcb3_uncal.fits ... [Done]\n",
            "Downloading URL https://mast.stsci.edu/api/v0.1/Download/file?uri=mast:jwst/product/jw01701052001_02102_00003_nrcb4_uncal.fits to /content/data/stage0/jw01701052001_02102_00003_nrcb4_uncal.fits ... [Done]\n",
            "Downloading URL https://mast.stsci.edu/api/v0.1/Download/file?uri=mast:jwst/product/jw01701052001_02102_00004_nrcb1_uncal.fits to /content/data/stage0/jw01701052001_02102_00004_nrcb1_uncal.fits ... [Done]\n",
            "Downloading URL https://mast.stsci.edu/api/v0.1/Download/file?uri=mast:jwst/product/jw01701052001_02102_00004_nrcb2_uncal.fits to /content/data/stage0/jw01701052001_02102_00004_nrcb2_uncal.fits ... [Done]\n",
            "Downloading URL https://mast.stsci.edu/api/v0.1/Download/file?uri=mast:jwst/product/jw01701052001_02102_00004_nrcb3_uncal.fits to /content/data/stage0/jw01701052001_02102_00004_nrcb3_uncal.fits ... [Done]\n",
            "Downloading URL https://mast.stsci.edu/api/v0.1/Download/file?uri=mast:jwst/product/jw01701052001_02102_00004_nrcb4_uncal.fits to /content/data/stage0/jw01701052001_02102_00004_nrcb4_uncal.fits ... [Done]\n",
            "Downloading URL https://mast.stsci.edu/api/v0.1/Download/file?uri=mast:jwst/product/jw01701052001_02102_00005_nrcb1_uncal.fits to /content/data/stage0/jw01701052001_02102_00005_nrcb1_uncal.fits ... [Done]\n",
            "Downloading URL https://mast.stsci.edu/api/v0.1/Download/file?uri=mast:jwst/product/jw01701052001_02102_00005_nrcb2_uncal.fits to /content/data/stage0/jw01701052001_02102_00005_nrcb2_uncal.fits ... [Done]\n",
            "Downloading URL https://mast.stsci.edu/api/v0.1/Download/file?uri=mast:jwst/product/jw01701052001_02102_00005_nrcb3_uncal.fits to /content/data/stage0/jw01701052001_02102_00005_nrcb3_uncal.fits ... [Done]\n",
            "Downloading URL https://mast.stsci.edu/api/v0.1/Download/file?uri=mast:jwst/product/jw01701052001_02102_00005_nrcb4_uncal.fits to /content/data/stage0/jw01701052001_02102_00005_nrcb4_uncal.fits ... [Done]\n",
            "Downloading URL https://mast.stsci.edu/api/v0.1/Download/file?uri=mast:jwst/product/jw01701052001_02102_00006_nrcb1_uncal.fits to /content/data/stage0/jw01701052001_02102_00006_nrcb1_uncal.fits ... [Done]\n",
            "Downloading URL https://mast.stsci.edu/api/v0.1/Download/file?uri=mast:jwst/product/jw01701052001_02102_00006_nrcb2_uncal.fits to /content/data/stage0/jw01701052001_02102_00006_nrcb2_uncal.fits ... [Done]\n",
            "Downloading URL https://mast.stsci.edu/api/v0.1/Download/file?uri=mast:jwst/product/jw01701052001_02102_00006_nrcb3_uncal.fits to /content/data/stage0/jw01701052001_02102_00006_nrcb3_uncal.fits ... [Done]\n",
            "Downloading URL https://mast.stsci.edu/api/v0.1/Download/file?uri=mast:jwst/product/jw01701052001_02102_00006_nrcb4_uncal.fits to /content/data/stage0/jw01701052001_02102_00006_nrcb4_uncal.fits ... [Done]\n",
            "Downloading URL https://mast.stsci.edu/api/v0.1/Download/file?uri=mast:jwst/product/jw01701052001_02102_00007_nrcb1_uncal.fits to /content/data/stage0/jw01701052001_02102_00007_nrcb1_uncal.fits ... [Done]\n",
            "Downloading URL https://mast.stsci.edu/api/v0.1/Download/file?uri=mast:jwst/product/jw01701052001_02102_00007_nrcb2_uncal.fits to /content/data/stage0/jw01701052001_02102_00007_nrcb2_uncal.fits ... [Done]\n",
            "Downloading URL https://mast.stsci.edu/api/v0.1/Download/file?uri=mast:jwst/product/jw01701052001_02102_00007_nrcb3_uncal.fits to /content/data/stage0/jw01701052001_02102_00007_nrcb3_uncal.fits ... [Done]\n",
            "Downloading URL https://mast.stsci.edu/api/v0.1/Download/file?uri=mast:jwst/product/jw01701052001_02102_00007_nrcb4_uncal.fits to /content/data/stage0/jw01701052001_02102_00007_nrcb4_uncal.fits ... [Done]\n",
            "Downloading URL https://mast.stsci.edu/api/v0.1/Download/file?uri=mast:jwst/product/jw01701052001_02102_00008_nrcb1_uncal.fits to /content/data/stage0/jw01701052001_02102_00008_nrcb1_uncal.fits ... [Done]\n",
            "Downloading URL https://mast.stsci.edu/api/v0.1/Download/file?uri=mast:jwst/product/jw01701052001_02102_00008_nrcb2_uncal.fits to /content/data/stage0/jw01701052001_02102_00008_nrcb2_uncal.fits ... [Done]\n",
            "Downloading URL https://mast.stsci.edu/api/v0.1/Download/file?uri=mast:jwst/product/jw01701052001_02102_00008_nrcb3_uncal.fits to /content/data/stage0/jw01701052001_02102_00008_nrcb3_uncal.fits ... [Done]\n",
            "Downloading URL https://mast.stsci.edu/api/v0.1/Download/file?uri=mast:jwst/product/jw01701052001_02102_00008_nrcb4_uncal.fits to /content/data/stage0/jw01701052001_02102_00008_nrcb4_uncal.fits ... [Done]\n",
            "Downloading URL https://mast.stsci.edu/api/v0.1/Download/file?uri=mast:jwst/product/jw01701052001_02102_00009_nrcb1_uncal.fits to /content/data/stage0/jw01701052001_02102_00009_nrcb1_uncal.fits ... [Done]\n",
            "Downloading URL https://mast.stsci.edu/api/v0.1/Download/file?uri=mast:jwst/product/jw01701052001_02102_00009_nrcb2_uncal.fits to /content/data/stage0/jw01701052001_02102_00009_nrcb2_uncal.fits ... [Done]\n",
            "Downloading URL https://mast.stsci.edu/api/v0.1/Download/file?uri=mast:jwst/product/jw01701052001_02102_00009_nrcb3_uncal.fits to /content/data/stage0/jw01701052001_02102_00009_nrcb3_uncal.fits ... [Done]\n",
            "Downloading URL https://mast.stsci.edu/api/v0.1/Download/file?uri=mast:jwst/product/jw01701052001_02102_00009_nrcb4_uncal.fits to /content/data/stage0/jw01701052001_02102_00009_nrcb4_uncal.fits ... [Done]\n"
          ]
        }
      ],
      "source": [
        "#Example data for M82\n",
        "\n",
        "mast_dir = 'mast:jwst/product' # Download from MAST\n",
        "data_dir = '/content/data/stage0/'  # save downloaded data\n",
        "os.makedirs(data_dir, exist_ok=True)\n",
        "\n",
        "ext = 'uncal'\n",
        "# JWST images to be analyzed\n",
        "image_files = []\n",
        "\n",
        "# ngc 628: f\"jw0178390400{k}_02101_0000{i}\n",
        "for i in range(1,10):\n",
        "    for j in range(1,5):\n",
        "            for l in ['b']:\n",
        "                image_files.append( f\"jw01701052001_02102_0000{i}_nrc{l}{j}_uncal.fits\")\n",
        "\n",
        "for image_file in image_files:\n",
        "    # Download file (if not already downloaded)\n",
        "    mast_path  = os.path.join(mast_dir, image_file)\n",
        "    local_path = os.path.join(data_dir, image_file)\n",
        "    Observations.download_file(mast_path, local_path=local_path)"
      ]
    },
    {
      "cell_type": "code",
      "source": [
        "#Example data for M82\n",
        "\n",
        "mast_dir = 'mast:jwst/product' # Download from MAST\n",
        "data_dir = '/content/photometry/'  # save downloaded data\n",
        "os.makedirs(data_dir, exist_ok=True)\n",
        "\n",
        "# JWST images to be analyzed\n",
        "image_files = [ f\"jw01701-o052_t007_nircam_clear-f140m-sub640_i2d.fits\"]\n",
        "\n",
        "for image_file in image_files:\n",
        "    # Download file (if not already downloaded)\n",
        "    mast_path  = os.path.join(mast_dir, image_file)\n",
        "    local_path = os.path.join(data_dir, image_file)\n",
        "    Observations.download_file(mast_path, local_path=local_path)"
      ],
      "metadata": {
        "colab": {
          "base_uri": "https://localhost:8080/"
        },
        "id": "XQ2iUY0vHp3O",
        "outputId": "2f176f61-883d-409d-ec82-b6df2706a685"
      },
      "execution_count": 12,
      "outputs": [
        {
          "output_type": "stream",
          "name": "stdout",
          "text": [
            "Downloading URL https://mast.stsci.edu/api/v0.1/Download/file?uri=mast:jwst/product/jw01701-o052_t007_nircam_clear-f140m-sub640_i2d.fits to /content/photometry/jw01701-o052_t007_nircam_clear-f140m-sub640_i2d.fits ... [Done]\n"
          ]
        }
      ]
    },
    {
      "cell_type": "markdown",
      "metadata": {
        "id": "IOuSv78Gg7B8"
      },
      "source": [
        "# **Pipeline**"
      ]
    },
    {
      "cell_type": "code",
      "execution_count": null,
      "metadata": {
        "id": "wzZw61DNbpMZ"
      },
      "outputs": [],
      "source": [
        "input_files = glob(f'/content/data/stage0/*')\n",
        "out_dir = '/content/'\n",
        "jwst_data = jpipe(input_files, out_dir)\n",
        "jwst_data()"
      ]
    },
    {
      "cell_type": "code",
      "execution_count": 14,
      "metadata": {
        "id": "IVX2SIRgmTI9"
      },
      "outputs": [],
      "source": [
        "cal_files = glob(f'/content/data/stage2/*cal.fits')"
      ]
    },
    {
      "cell_type": "code",
      "source": [
        "cal_files"
      ],
      "metadata": {
        "id": "E70dFGiqGxRy"
      },
      "execution_count": null,
      "outputs": []
    },
    {
      "cell_type": "markdown",
      "metadata": {
        "id": "X8XcuX1Qg-n8"
      },
      "source": [
        "# **DOLPHOT Photometry**"
      ]
    },
    {
      "cell_type": "code",
      "source": [
        "from pydol.photometry import nircam"
      ],
      "metadata": {
        "id": "cXRkmvwmFJJW"
      },
      "execution_count": 16,
      "outputs": []
    },
    {
      "cell_type": "code",
      "source": [
        "nircam.nircam_phot(cal_files, 'f140m','/content/photometry/',\n",
        "                          '/content/photometry/jw01701-o052_t007_nircam_clear-f140m-sub640_i2d')"
      ],
      "metadata": {
        "id": "gmhNVpzjGarr"
      },
      "execution_count": null,
      "outputs": []
    },
    {
      "cell_type": "code",
      "source": [
        "import subprocess"
      ],
      "metadata": {
        "colab": {
          "base_uri": "https://localhost:8080/"
        },
        "id": "Yz_9JgAvJNg3",
        "outputId": "33ed53e1-7c9c-4c88-a26e-66d66ccf5afc"
      },
      "execution_count": null,
      "outputs": [
        {
          "output_type": "stream",
          "name": "stderr",
          "text": [
            "WARNING:py.warnings:/usr/local/lib/python3.10/dist-packages/ipykernel/ipkernel.py:283: DeprecationWarning: `should_run_async` will not call `transform_cell` automatically in the future. Please pass the result to `transformed_cell` argument and any exception that happen during thetransform in `preprocessing_exc_tuple` in IPython 7.17 and above.\n",
            "  and should_run_async(code)\n",
            "\n",
            "2024-06-28 00:00:40,635 - stpipe - WARNING - /usr/local/lib/python3.10/dist-packages/ipykernel/ipkernel.py:283: DeprecationWarning: `should_run_async` will not call `transform_cell` automatically in the future. Please pass the result to `transformed_cell` argument and any exception that happen during thetransform in `preprocessing_exc_tuple` in IPython 7.17 and above.\n",
            "  and should_run_async(code)\n",
            "\n",
            "WARNING:stpipe:/usr/local/lib/python3.10/dist-packages/ipykernel/ipkernel.py:283: DeprecationWarning: `should_run_async` will not call `transform_cell` automatically in the future. Please pass the result to `transformed_cell` argument and any exception that happen during thetransform in `preprocessing_exc_tuple` in IPython 7.17 and above.\n",
            "  and should_run_async(code)\n",
            "\n"
          ]
        }
      ]
    },
    {
      "cell_type": "code",
      "source": [
        "out= subprocess.run(['nircammask', '/content/photometry/jw01701-o052_t007_nircam_clear-f140m-sub640_i2d.fits'\n",
        "],stdout= subprocess.PIPE)"
      ],
      "metadata": {
        "id": "2yhacXwZHMov"
      },
      "execution_count": null,
      "outputs": []
    },
    {
      "cell_type": "code",
      "source": [
        "out.stdout"
      ],
      "metadata": {
        "colab": {
          "base_uri": "https://localhost:8080/"
        },
        "id": "wmH4dxsoJMAj",
        "outputId": "758aebdf-01da-488d-b7bd-363db94fa6e5"
      },
      "execution_count": null,
      "outputs": [
        {
          "output_type": "execute_result",
          "data": {
            "text/plain": [
              "b'Reading FITS file /content/photometry/jw01701-o052_t007_nircam_clear-f140m-sub640_i2d.fits\\nReading IMAGE extension: 1644x1634\\n**Neither DQ nor WHT extension found\\n'"
            ]
          },
          "metadata": {},
          "execution_count": 57
        }
      ]
    },
    {
      "cell_type": "code",
      "source": [
        "subprocess.check_output(out)"
      ],
      "metadata": {
        "colab": {
          "base_uri": "https://localhost:8080/",
          "height": 497
        },
        "id": "gRj5mmRHKV2A",
        "outputId": "df595157-d9f0-4e47-b721-809ec32fcd95"
      },
      "execution_count": null,
      "outputs": [
        {
          "output_type": "stream",
          "name": "stderr",
          "text": [
            "WARNING:py.warnings:/usr/local/lib/python3.10/dist-packages/ipykernel/ipkernel.py:283: DeprecationWarning: `should_run_async` will not call `transform_cell` automatically in the future. Please pass the result to `transformed_cell` argument and any exception that happen during thetransform in `preprocessing_exc_tuple` in IPython 7.17 and above.\n",
            "  and should_run_async(code)\n",
            "\n",
            "2024-06-28 00:07:15,239 - stpipe - WARNING - /usr/local/lib/python3.10/dist-packages/ipykernel/ipkernel.py:283: DeprecationWarning: `should_run_async` will not call `transform_cell` automatically in the future. Please pass the result to `transformed_cell` argument and any exception that happen during thetransform in `preprocessing_exc_tuple` in IPython 7.17 and above.\n",
            "  and should_run_async(code)\n",
            "\n",
            "WARNING:stpipe:/usr/local/lib/python3.10/dist-packages/ipykernel/ipkernel.py:283: DeprecationWarning: `should_run_async` will not call `transform_cell` automatically in the future. Please pass the result to `transformed_cell` argument and any exception that happen during thetransform in `preprocessing_exc_tuple` in IPython 7.17 and above.\n",
            "  and should_run_async(code)\n",
            "\n"
          ]
        },
        {
          "output_type": "error",
          "ename": "TypeError",
          "evalue": "'CompletedProcess' object is not iterable",
          "traceback": [
            "\u001b[0;31m---------------------------------------------------------------------------\u001b[0m",
            "\u001b[0;31mTypeError\u001b[0m                                 Traceback (most recent call last)",
            "\u001b[0;32m<ipython-input-59-3e30e8d89668>\u001b[0m in \u001b[0;36m<cell line: 1>\u001b[0;34m()\u001b[0m\n\u001b[0;32m----> 1\u001b[0;31m \u001b[0msubprocess\u001b[0m\u001b[0;34m.\u001b[0m\u001b[0mcheck_output\u001b[0m\u001b[0;34m(\u001b[0m\u001b[0mout\u001b[0m\u001b[0;34m)\u001b[0m\u001b[0;34m\u001b[0m\u001b[0;34m\u001b[0m\u001b[0m\n\u001b[0m",
            "\u001b[0;32m/usr/lib/python3.10/subprocess.py\u001b[0m in \u001b[0;36mcheck_output\u001b[0;34m(timeout, *popenargs, **kwargs)\u001b[0m\n\u001b[1;32m    419\u001b[0m         \u001b[0mkwargs\u001b[0m\u001b[0;34m[\u001b[0m\u001b[0;34m'input'\u001b[0m\u001b[0;34m]\u001b[0m \u001b[0;34m=\u001b[0m \u001b[0mempty\u001b[0m\u001b[0;34m\u001b[0m\u001b[0;34m\u001b[0m\u001b[0m\n\u001b[1;32m    420\u001b[0m \u001b[0;34m\u001b[0m\u001b[0m\n\u001b[0;32m--> 421\u001b[0;31m     return run(*popenargs, stdout=PIPE, timeout=timeout, check=True,\n\u001b[0m\u001b[1;32m    422\u001b[0m                **kwargs).stdout\n\u001b[1;32m    423\u001b[0m \u001b[0;34m\u001b[0m\u001b[0m\n",
            "\u001b[0;32m/usr/lib/python3.10/subprocess.py\u001b[0m in \u001b[0;36mrun\u001b[0;34m(input, capture_output, timeout, check, *popenargs, **kwargs)\u001b[0m\n\u001b[1;32m    501\u001b[0m         \u001b[0mkwargs\u001b[0m\u001b[0;34m[\u001b[0m\u001b[0;34m'stderr'\u001b[0m\u001b[0;34m]\u001b[0m \u001b[0;34m=\u001b[0m \u001b[0mPIPE\u001b[0m\u001b[0;34m\u001b[0m\u001b[0;34m\u001b[0m\u001b[0m\n\u001b[1;32m    502\u001b[0m \u001b[0;34m\u001b[0m\u001b[0m\n\u001b[0;32m--> 503\u001b[0;31m     \u001b[0;32mwith\u001b[0m \u001b[0mPopen\u001b[0m\u001b[0;34m(\u001b[0m\u001b[0;34m*\u001b[0m\u001b[0mpopenargs\u001b[0m\u001b[0;34m,\u001b[0m \u001b[0;34m**\u001b[0m\u001b[0mkwargs\u001b[0m\u001b[0;34m)\u001b[0m \u001b[0;32mas\u001b[0m \u001b[0mprocess\u001b[0m\u001b[0;34m:\u001b[0m\u001b[0;34m\u001b[0m\u001b[0;34m\u001b[0m\u001b[0m\n\u001b[0m\u001b[1;32m    504\u001b[0m         \u001b[0;32mtry\u001b[0m\u001b[0;34m:\u001b[0m\u001b[0;34m\u001b[0m\u001b[0;34m\u001b[0m\u001b[0m\n\u001b[1;32m    505\u001b[0m             \u001b[0mstdout\u001b[0m\u001b[0;34m,\u001b[0m \u001b[0mstderr\u001b[0m \u001b[0;34m=\u001b[0m \u001b[0mprocess\u001b[0m\u001b[0;34m.\u001b[0m\u001b[0mcommunicate\u001b[0m\u001b[0;34m(\u001b[0m\u001b[0minput\u001b[0m\u001b[0;34m,\u001b[0m \u001b[0mtimeout\u001b[0m\u001b[0;34m=\u001b[0m\u001b[0mtimeout\u001b[0m\u001b[0;34m)\u001b[0m\u001b[0;34m\u001b[0m\u001b[0;34m\u001b[0m\u001b[0m\n",
            "\u001b[0;32m/usr/lib/python3.10/subprocess.py\u001b[0m in \u001b[0;36m__init__\u001b[0;34m(self, args, bufsize, executable, stdin, stdout, stderr, preexec_fn, close_fds, shell, cwd, env, universal_newlines, startupinfo, creationflags, restore_signals, start_new_session, pass_fds, user, group, extra_groups, encoding, errors, text, umask, pipesize)\u001b[0m\n\u001b[1;32m    969\u001b[0m                             encoding=encoding, errors=errors)\n\u001b[1;32m    970\u001b[0m \u001b[0;34m\u001b[0m\u001b[0m\n\u001b[0;32m--> 971\u001b[0;31m             self._execute_child(args, executable, preexec_fn, close_fds,\n\u001b[0m\u001b[1;32m    972\u001b[0m                                 \u001b[0mpass_fds\u001b[0m\u001b[0;34m,\u001b[0m \u001b[0mcwd\u001b[0m\u001b[0;34m,\u001b[0m \u001b[0menv\u001b[0m\u001b[0;34m,\u001b[0m\u001b[0;34m\u001b[0m\u001b[0;34m\u001b[0m\u001b[0m\n\u001b[1;32m    973\u001b[0m                                 \u001b[0mstartupinfo\u001b[0m\u001b[0;34m,\u001b[0m \u001b[0mcreationflags\u001b[0m\u001b[0;34m,\u001b[0m \u001b[0mshell\u001b[0m\u001b[0;34m,\u001b[0m\u001b[0;34m\u001b[0m\u001b[0;34m\u001b[0m\u001b[0m\n",
            "\u001b[0;32m/usr/lib/python3.10/subprocess.py\u001b[0m in \u001b[0;36m_execute_child\u001b[0;34m(self, args, executable, preexec_fn, close_fds, pass_fds, cwd, env, startupinfo, creationflags, shell, p2cread, p2cwrite, c2pread, c2pwrite, errread, errwrite, restore_signals, gid, gids, uid, umask, start_new_session)\u001b[0m\n\u001b[1;32m   1720\u001b[0m                 \u001b[0margs\u001b[0m \u001b[0;34m=\u001b[0m \u001b[0;34m[\u001b[0m\u001b[0margs\u001b[0m\u001b[0;34m]\u001b[0m\u001b[0;34m\u001b[0m\u001b[0;34m\u001b[0m\u001b[0m\n\u001b[1;32m   1721\u001b[0m             \u001b[0;32melse\u001b[0m\u001b[0;34m:\u001b[0m\u001b[0;34m\u001b[0m\u001b[0;34m\u001b[0m\u001b[0m\n\u001b[0;32m-> 1722\u001b[0;31m                 \u001b[0margs\u001b[0m \u001b[0;34m=\u001b[0m \u001b[0mlist\u001b[0m\u001b[0;34m(\u001b[0m\u001b[0margs\u001b[0m\u001b[0;34m)\u001b[0m\u001b[0;34m\u001b[0m\u001b[0;34m\u001b[0m\u001b[0m\n\u001b[0m\u001b[1;32m   1723\u001b[0m \u001b[0;34m\u001b[0m\u001b[0m\n\u001b[1;32m   1724\u001b[0m             \u001b[0;32mif\u001b[0m \u001b[0mshell\u001b[0m\u001b[0;34m:\u001b[0m\u001b[0;34m\u001b[0m\u001b[0;34m\u001b[0m\u001b[0m\n",
            "\u001b[0;31mTypeError\u001b[0m: 'CompletedProcess' object is not iterable"
          ]
        }
      ]
    },
    {
      "cell_type": "code",
      "source": [],
      "metadata": {
        "id": "W5X-BKYPKtff"
      },
      "execution_count": null,
      "outputs": []
    }
  ],
  "metadata": {
    "colab": {
      "provenance": [],
      "include_colab_link": true
    },
    "kernelspec": {
      "display_name": "Python 3",
      "name": "python3"
    },
    "language_info": {
      "name": "python"
    }
  },
  "nbformat": 4,
  "nbformat_minor": 0
}