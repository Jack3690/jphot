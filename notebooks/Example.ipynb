{
  "cells": [
    {
      "cell_type": "markdown",
      "metadata": {
        "id": "view-in-github",
        "colab_type": "text"
      },
      "source": [
        "<a href=\"https://colab.research.google.com/github/Jack3690/pydol/blob/main/notebooks/Example.ipynb\" target=\"_parent\"><img src=\"https://colab.research.google.com/assets/colab-badge.svg\" alt=\"Open In Colab\"/></a>"
      ]
    },
    {
      "cell_type": "code",
      "execution_count": 2,
      "metadata": {
        "id": "ABMluMUr2zrw",
        "colab": {
          "base_uri": "https://localhost:8080/"
        },
        "outputId": "7c7c493f-d9a1-4fec-addf-208c7374855f"
      },
      "outputs": [
        {
          "output_type": "stream",
          "name": "stdout",
          "text": [
            "  Preparing metadata (setup.py) ... \u001b[?25l\u001b[?25hdone\n",
            "  Building wheel for pydol (setup.py) ... \u001b[?25l\u001b[?25hdone\n"
          ]
        }
      ],
      "source": [
        "!pip install git+https://github.com/Jack3690/pydol/ -q\n",
        "!pip install astroquery -q"
      ]
    },
    {
      "cell_type": "markdown",
      "source": [
        "# **DOLPHOT Installation**"
      ],
      "metadata": {
        "id": "HdotZvxJpGb-"
      }
    },
    {
      "cell_type": "code",
      "source": [
        "!wget http://americano.dolphinsim.com/dolphot/dolphot2.0.tar.gz\n",
        "!wget http://americano.dolphinsim.com/dolphot/dolphot2.0.NIRCAM.tar.gz\n",
        "!wget http://americano.dolphinsim.com/dolphot/nircam_F140M.tar.gz\n",
        "!wget http://americano.dolphinsim.com/dolphot/nircam_F212N.tar.gz"
      ],
      "metadata": {
        "id": "8i7obQzlwD77"
      },
      "execution_count": null,
      "outputs": []
    },
    {
      "cell_type": "code",
      "source": [
        "!tar -xf dolphot2.0.tar.gz\n",
        "!tar -xf dolphot2.0.NIRCAM.tar.gz\n",
        "!tar -xf nircam_F140M.tar.gz\n",
        "!tar -xf nircam_F212N.tar.gz"
      ],
      "metadata": {
        "id": "wdueubA3wF_a"
      },
      "execution_count": 3,
      "outputs": []
    },
    {
      "cell_type": "code",
      "source": [
        "with open('/content/dolphot2.0/Makefile') as f:\n",
        "  dat = f.readlines()\n",
        "dat[28]= dat[28][1:]\n",
        "\n",
        "with open('/content/dolphot2.0/Makefile','w') as f:\n",
        "  f.writelines(dat)"
      ],
      "metadata": {
        "id": "jKCsMpb6wH_r"
      },
      "execution_count": 4,
      "outputs": []
    },
    {
      "cell_type": "code",
      "source": [
        "cd /content/dolphot2.0/"
      ],
      "metadata": {
        "colab": {
          "base_uri": "https://localhost:8080/"
        },
        "id": "NlkPlng2wLgD",
        "outputId": "bb067bd1-9902-4aa8-a60d-f172e1e0379a"
      },
      "execution_count": 5,
      "outputs": [
        {
          "output_type": "stream",
          "name": "stdout",
          "text": [
            "/content/dolphot2.0\n"
          ]
        }
      ]
    },
    {
      "cell_type": "code",
      "source": [
        "import os"
      ],
      "metadata": {
        "id": "WRly3C-Mx2l5"
      },
      "execution_count": 6,
      "outputs": []
    },
    {
      "cell_type": "code",
      "source": [
        "os.system('make all')"
      ],
      "metadata": {
        "colab": {
          "base_uri": "https://localhost:8080/"
        },
        "id": "ypCNlUNdwOtE",
        "outputId": "0726ddeb-1316-47ed-ee0d-0dd1b81635d9"
      },
      "execution_count": 7,
      "outputs": [
        {
          "output_type": "execute_result",
          "data": {
            "text/plain": [
              "0"
            ]
          },
          "metadata": {},
          "execution_count": 7
        }
      ]
    },
    {
      "cell_type": "code",
      "source": [
        "cd /content/"
      ],
      "metadata": {
        "colab": {
          "base_uri": "https://localhost:8080/"
        },
        "id": "DElkTjjuyUe4",
        "outputId": "5442ffb4-28a4-4b8f-a1c7-7c82a882f75b"
      },
      "execution_count": 8,
      "outputs": [
        {
          "output_type": "stream",
          "name": "stdout",
          "text": [
            "/content\n"
          ]
        }
      ]
    },
    {
      "cell_type": "code",
      "source": [
        "os.environ['PATH'] += ':/content/dolphot2.0/bin'\n",
        "os.environ['PATH'] += ':/content/dolphot2.0/nircam'"
      ],
      "metadata": {
        "id": "30C9YUDnBqTR"
      },
      "execution_count": 11,
      "outputs": []
    },
    {
      "cell_type": "markdown",
      "source": [
        "# **Imports**"
      ],
      "metadata": {
        "id": "GWnPVTAOwRLq"
      }
    },
    {
      "cell_type": "code",
      "execution_count": 6,
      "metadata": {
        "id": "I_SGU3ki4fJA"
      },
      "outputs": [],
      "source": [
        "from glob import glob\n",
        "import astropy.io.fits as fits\n",
        "\n",
        "import os\n",
        "import astroquery\n",
        "from astroquery.mast import Observations\n",
        "import pandas as pd\n",
        "\n",
        "from astropy.table import Table\n",
        "from astropy.wcs import WCS\n",
        "import numpy as np\n",
        "import multiprocessing as mp\n",
        "import matplotlib.pyplot as plt\n",
        "import json\n",
        "from astropy.coordinates import angular_separation\n",
        "import astropy.units as u\n",
        "from pydol.pipeline.jwst import jpipe\n",
        "import multiprocessing as mp"
      ]
    },
    {
      "cell_type": "markdown",
      "metadata": {
        "id": "bXvalReGg3I9"
      },
      "source": [
        "# **Data**"
      ]
    },
    {
      "cell_type": "markdown",
      "metadata": {
        "id": "JQO0yL2ghiXr"
      },
      "source": [
        "**Observation ID format**\n",
        "\n",
        "jw\\<ppppp>\\<ooo><vvv>\\_\\<gg>\\<s>\\<aa>\\_\\<eeeee>(-<\"seg\"NNN>)\\_\\<detector>\\_\\<prodType>.fits\n",
        "\n",
        "where\n",
        "\n",
        "ppppp: program ID number\n",
        "\n",
        "ooo: observation number\n",
        "\n",
        "vvv: visit number\n",
        "\n",
        "gg: visit group\n",
        "\n",
        "s: parallel sequence ID (1=prime, 2-5=parallel)\n",
        "\n",
        "aa: activity number (base 36)\n",
        "\n",
        "eeeee: exposure number\n",
        "\n",
        "segNNN: the text “seg” followed by a three-digit segment number (optional)\n",
        "\n",
        "detector: detector name (e.g. ‘nrca1’, ‘nrcblong’, ‘mirimage’)\n",
        "\n",
        "prodType: product type identifier (e.g. ‘uncal’, ‘rate’, ‘cal’)"
      ]
    },
    {
      "cell_type": "code",
      "execution_count": null,
      "metadata": {
        "id": "jV4q8fPza7n4"
      },
      "outputs": [],
      "source": [
        "#Example data for M82\n",
        "\n",
        "mast_dir = 'mast:jwst/product' # Download from MAST\n",
        "data_dir = '/content/data/stage0/'  # save downloaded data\n",
        "os.makedirs(data_dir, exist_ok=True)\n",
        "\n",
        "ext = 'uncal'\n",
        "# JWST images to be analyzed\n",
        "image_files = []\n",
        "\n",
        "# ngc 628: f\"jw0178390400{k}_02101_0000{i}\n",
        "for i in range(1,10):\n",
        "    for j in range(1,5):\n",
        "            for l in ['b']:\n",
        "                image_files.append( f\"jw01701052001_02102_0000{i}_nrc{l}{j}_uncal.fits\")\n",
        "\n",
        "for image_file in image_files:\n",
        "    # Download file (if not already downloaded)\n",
        "    mast_path  = os.path.join(mast_dir, image_file)\n",
        "    local_path = os.path.join(data_dir, image_file)\n",
        "    Observations.download_file(mast_path, local_path=local_path)"
      ]
    },
    {
      "cell_type": "code",
      "source": [
        "#Example data for M82\n",
        "\n",
        "mast_dir = 'mast:jwst/product' # Download from MAST\n",
        "data_dir = '/content/photometry/'  # save downloaded data\n",
        "os.makedirs(data_dir, exist_ok=True)\n",
        "\n",
        "# JWST images to be analyzed\n",
        "image_files = [ f\"jw01701-o052_t007_nircam_clear-f140m-sub640_i2d.fits\"]\n",
        "\n",
        "for image_file in image_files:\n",
        "    # Download file (if not already downloaded)\n",
        "    mast_path  = os.path.join(mast_dir, image_file)\n",
        "    local_path = os.path.join(data_dir, image_file)\n",
        "    Observations.download_file(mast_path, local_path=local_path)"
      ],
      "metadata": {
        "colab": {
          "base_uri": "https://localhost:8080/"
        },
        "id": "XQ2iUY0vHp3O",
        "outputId": "acd836ae-c658-473f-925c-4179912a3707"
      },
      "execution_count": 41,
      "outputs": [
        {
          "output_type": "stream",
          "name": "stdout",
          "text": [
            "Downloading URL https://mast.stsci.edu/api/v0.1/Download/file?uri=mast:jwst/product/jw01701-o052_t007_nircam_clear-f140m-sub640_i2d.fits to /content/photometry/jw01701-o052_t007_nircam_clear-f140m-sub640_i2d.fits ... [Done]\n"
          ]
        }
      ]
    },
    {
      "cell_type": "markdown",
      "metadata": {
        "id": "IOuSv78Gg7B8"
      },
      "source": [
        "# **Pipeline**"
      ]
    },
    {
      "cell_type": "code",
      "execution_count": null,
      "metadata": {
        "id": "wzZw61DNbpMZ"
      },
      "outputs": [],
      "source": [
        "input_files = glob(f'/content/data/stage0/*')\n",
        "out_dir = '/content/'\n",
        "jwst_data = jpipe(input_files, out_dir)\n",
        "jwst_data()"
      ]
    },
    {
      "cell_type": "code",
      "execution_count": 8,
      "metadata": {
        "id": "IVX2SIRgmTI9"
      },
      "outputs": [],
      "source": [
        "cal_files = glob(f'/content/data/stage2/*cal.fits')"
      ]
    },
    {
      "cell_type": "code",
      "source": [
        "cal_files"
      ],
      "metadata": {
        "id": "E70dFGiqGxRy"
      },
      "execution_count": null,
      "outputs": []
    },
    {
      "cell_type": "markdown",
      "metadata": {
        "id": "X8XcuX1Qg-n8"
      },
      "source": [
        "# **DOLPHOT Photometry**"
      ]
    },
    {
      "cell_type": "code",
      "source": [
        "!rm -r /usr/local/lib/python3.10/dist-packages/pydol"
      ],
      "metadata": {
        "colab": {
          "base_uri": "https://localhost:8080/"
        },
        "id": "wmtM9tjGGrgu",
        "outputId": "937d5668-0cc7-41a7-9fc4-cef052c8cce4"
      },
      "execution_count": 72,
      "outputs": [
        {
          "output_type": "stream",
          "name": "stdout",
          "text": [
            "rm: cannot remove '/usr/local/lib/python3.10/dist-packages/pydol': No such file or directory\n"
          ]
        }
      ]
    },
    {
      "cell_type": "code",
      "source": [
        "!pip uninstall pydol"
      ],
      "metadata": {
        "colab": {
          "base_uri": "https://localhost:8080/"
        },
        "id": "51dA5bQSM9Hs",
        "outputId": "b0393a27-75f5-4936-c3c3-e82961870b25"
      },
      "execution_count": 71,
      "outputs": [
        {
          "output_type": "stream",
          "name": "stdout",
          "text": [
            "\u001b[33mWARNING: Skipping pydol as it is not installed.\u001b[0m\u001b[33m\n",
            "\u001b[0m"
          ]
        }
      ]
    },
    {
      "cell_type": "code",
      "source": [
        "from pydol.photometry import nircam"
      ],
      "metadata": {
        "id": "cXRkmvwmFJJW"
      },
      "execution_count": 3,
      "outputs": []
    },
    {
      "cell_type": "code",
      "source": [
        "phot = nircam.nircam_phot(cal_files, 'f140m','/content/photometry/',\n",
        "                          '/content/photometry/jw01701-o052_t007_nircam_clear-f140m-sub640_i2d')"
      ],
      "metadata": {
        "colab": {
          "base_uri": "https://localhost:8080/",
          "height": 315
        },
        "id": "gmhNVpzjGarr",
        "outputId": "5bb6c977-11ef-4e9d-b68c-d65bd9dbd1ed"
      },
      "execution_count": 9,
      "outputs": [
        {
          "output_type": "error",
          "ename": "FileNotFoundError",
          "evalue": "[Errno 2] No such file or directory: '/usr/local/lib/python3.10/dist-packages/pydol/photometry/params/nircam_dolphot.param'",
          "traceback": [
            "\u001b[0;31m---------------------------------------------------------------------------\u001b[0m",
            "\u001b[0;31mFileNotFoundError\u001b[0m                         Traceback (most recent call last)",
            "\u001b[0;32m<ipython-input-9-951777e66d52>\u001b[0m in \u001b[0;36m<cell line: 1>\u001b[0;34m()\u001b[0m\n\u001b[0;32m----> 1\u001b[0;31m phot = nircam.nircam_phot(cal_files, 'f140m','/content/photometry/',\n\u001b[0m\u001b[1;32m      2\u001b[0m                           '/content/photometry/jw01701-o052_t007_nircam_clear-f140m-sub640_i2d')\n",
            "\u001b[0;32m/usr/local/lib/python3.10/dist-packages/pydol/photometry/nircam.py\u001b[0m in \u001b[0;36mnircam_phot\u001b[0;34m(cal_files, name, output_dir, drz_path)\u001b[0m\n\u001b[1;32m     36\u001b[0m \u001b[0;34m\u001b[0m\u001b[0m\n\u001b[1;32m     37\u001b[0m     \u001b[0;31m# Preparing Parameter file DOLPHOT NIRCAM\u001b[0m\u001b[0;34m\u001b[0m\u001b[0;34m\u001b[0m\u001b[0m\n\u001b[0;32m---> 38\u001b[0;31m     \u001b[0;32mwith\u001b[0m \u001b[0mopen\u001b[0m\u001b[0;34m(\u001b[0m\u001b[0;34mf\"{param_dir}/nircam_dolphot.param\"\u001b[0m\u001b[0;34m)\u001b[0m \u001b[0;32mas\u001b[0m \u001b[0mf\u001b[0m\u001b[0;34m:\u001b[0m\u001b[0;34m\u001b[0m\u001b[0;34m\u001b[0m\u001b[0m\n\u001b[0m\u001b[1;32m     39\u001b[0m                 \u001b[0mdat\u001b[0m \u001b[0;34m=\u001b[0m \u001b[0mf\u001b[0m\u001b[0;34m.\u001b[0m\u001b[0mreadlines\u001b[0m\u001b[0;34m(\u001b[0m\u001b[0;34m)\u001b[0m\u001b[0;34m\u001b[0m\u001b[0;34m\u001b[0m\u001b[0m\n\u001b[1;32m     40\u001b[0m \u001b[0;34m\u001b[0m\u001b[0m\n",
            "\u001b[0;31mFileNotFoundError\u001b[0m: [Errno 2] No such file or directory: '/usr/local/lib/python3.10/dist-packages/pydol/photometry/params/nircam_dolphot.param'"
          ]
        }
      ]
    },
    {
      "cell_type": "code",
      "source": [
        "import subprocess"
      ],
      "metadata": {
        "colab": {
          "base_uri": "https://localhost:8080/"
        },
        "id": "Yz_9JgAvJNg3",
        "outputId": "33ed53e1-7c9c-4c88-a26e-66d66ccf5afc"
      },
      "execution_count": 45,
      "outputs": [
        {
          "output_type": "stream",
          "name": "stderr",
          "text": [
            "WARNING:py.warnings:/usr/local/lib/python3.10/dist-packages/ipykernel/ipkernel.py:283: DeprecationWarning: `should_run_async` will not call `transform_cell` automatically in the future. Please pass the result to `transformed_cell` argument and any exception that happen during thetransform in `preprocessing_exc_tuple` in IPython 7.17 and above.\n",
            "  and should_run_async(code)\n",
            "\n",
            "2024-06-28 00:00:40,635 - stpipe - WARNING - /usr/local/lib/python3.10/dist-packages/ipykernel/ipkernel.py:283: DeprecationWarning: `should_run_async` will not call `transform_cell` automatically in the future. Please pass the result to `transformed_cell` argument and any exception that happen during thetransform in `preprocessing_exc_tuple` in IPython 7.17 and above.\n",
            "  and should_run_async(code)\n",
            "\n",
            "WARNING:stpipe:/usr/local/lib/python3.10/dist-packages/ipykernel/ipkernel.py:283: DeprecationWarning: `should_run_async` will not call `transform_cell` automatically in the future. Please pass the result to `transformed_cell` argument and any exception that happen during thetransform in `preprocessing_exc_tuple` in IPython 7.17 and above.\n",
            "  and should_run_async(code)\n",
            "\n"
          ]
        }
      ]
    },
    {
      "cell_type": "code",
      "source": [
        "out= subprocess.run(['nircammask', '/content/photometry/jw01701-o052_t007_nircam_clear-f140m-sub640_i2d.fits'\n",
        "],stdout= subprocess.PIPE)"
      ],
      "metadata": {
        "id": "2yhacXwZHMov"
      },
      "execution_count": 56,
      "outputs": []
    },
    {
      "cell_type": "code",
      "source": [
        "out.stdout"
      ],
      "metadata": {
        "colab": {
          "base_uri": "https://localhost:8080/"
        },
        "id": "wmH4dxsoJMAj",
        "outputId": "758aebdf-01da-488d-b7bd-363db94fa6e5"
      },
      "execution_count": 57,
      "outputs": [
        {
          "output_type": "execute_result",
          "data": {
            "text/plain": [
              "b'Reading FITS file /content/photometry/jw01701-o052_t007_nircam_clear-f140m-sub640_i2d.fits\\nReading IMAGE extension: 1644x1634\\n**Neither DQ nor WHT extension found\\n'"
            ]
          },
          "metadata": {},
          "execution_count": 57
        }
      ]
    },
    {
      "cell_type": "code",
      "source": [
        "subprocess.check_output(out)"
      ],
      "metadata": {
        "colab": {
          "base_uri": "https://localhost:8080/",
          "height": 497
        },
        "id": "gRj5mmRHKV2A",
        "outputId": "df595157-d9f0-4e47-b721-809ec32fcd95"
      },
      "execution_count": 59,
      "outputs": [
        {
          "output_type": "stream",
          "name": "stderr",
          "text": [
            "WARNING:py.warnings:/usr/local/lib/python3.10/dist-packages/ipykernel/ipkernel.py:283: DeprecationWarning: `should_run_async` will not call `transform_cell` automatically in the future. Please pass the result to `transformed_cell` argument and any exception that happen during thetransform in `preprocessing_exc_tuple` in IPython 7.17 and above.\n",
            "  and should_run_async(code)\n",
            "\n",
            "2024-06-28 00:07:15,239 - stpipe - WARNING - /usr/local/lib/python3.10/dist-packages/ipykernel/ipkernel.py:283: DeprecationWarning: `should_run_async` will not call `transform_cell` automatically in the future. Please pass the result to `transformed_cell` argument and any exception that happen during thetransform in `preprocessing_exc_tuple` in IPython 7.17 and above.\n",
            "  and should_run_async(code)\n",
            "\n",
            "WARNING:stpipe:/usr/local/lib/python3.10/dist-packages/ipykernel/ipkernel.py:283: DeprecationWarning: `should_run_async` will not call `transform_cell` automatically in the future. Please pass the result to `transformed_cell` argument and any exception that happen during thetransform in `preprocessing_exc_tuple` in IPython 7.17 and above.\n",
            "  and should_run_async(code)\n",
            "\n"
          ]
        },
        {
          "output_type": "error",
          "ename": "TypeError",
          "evalue": "'CompletedProcess' object is not iterable",
          "traceback": [
            "\u001b[0;31m---------------------------------------------------------------------------\u001b[0m",
            "\u001b[0;31mTypeError\u001b[0m                                 Traceback (most recent call last)",
            "\u001b[0;32m<ipython-input-59-3e30e8d89668>\u001b[0m in \u001b[0;36m<cell line: 1>\u001b[0;34m()\u001b[0m\n\u001b[0;32m----> 1\u001b[0;31m \u001b[0msubprocess\u001b[0m\u001b[0;34m.\u001b[0m\u001b[0mcheck_output\u001b[0m\u001b[0;34m(\u001b[0m\u001b[0mout\u001b[0m\u001b[0;34m)\u001b[0m\u001b[0;34m\u001b[0m\u001b[0;34m\u001b[0m\u001b[0m\n\u001b[0m",
            "\u001b[0;32m/usr/lib/python3.10/subprocess.py\u001b[0m in \u001b[0;36mcheck_output\u001b[0;34m(timeout, *popenargs, **kwargs)\u001b[0m\n\u001b[1;32m    419\u001b[0m         \u001b[0mkwargs\u001b[0m\u001b[0;34m[\u001b[0m\u001b[0;34m'input'\u001b[0m\u001b[0;34m]\u001b[0m \u001b[0;34m=\u001b[0m \u001b[0mempty\u001b[0m\u001b[0;34m\u001b[0m\u001b[0;34m\u001b[0m\u001b[0m\n\u001b[1;32m    420\u001b[0m \u001b[0;34m\u001b[0m\u001b[0m\n\u001b[0;32m--> 421\u001b[0;31m     return run(*popenargs, stdout=PIPE, timeout=timeout, check=True,\n\u001b[0m\u001b[1;32m    422\u001b[0m                **kwargs).stdout\n\u001b[1;32m    423\u001b[0m \u001b[0;34m\u001b[0m\u001b[0m\n",
            "\u001b[0;32m/usr/lib/python3.10/subprocess.py\u001b[0m in \u001b[0;36mrun\u001b[0;34m(input, capture_output, timeout, check, *popenargs, **kwargs)\u001b[0m\n\u001b[1;32m    501\u001b[0m         \u001b[0mkwargs\u001b[0m\u001b[0;34m[\u001b[0m\u001b[0;34m'stderr'\u001b[0m\u001b[0;34m]\u001b[0m \u001b[0;34m=\u001b[0m \u001b[0mPIPE\u001b[0m\u001b[0;34m\u001b[0m\u001b[0;34m\u001b[0m\u001b[0m\n\u001b[1;32m    502\u001b[0m \u001b[0;34m\u001b[0m\u001b[0m\n\u001b[0;32m--> 503\u001b[0;31m     \u001b[0;32mwith\u001b[0m \u001b[0mPopen\u001b[0m\u001b[0;34m(\u001b[0m\u001b[0;34m*\u001b[0m\u001b[0mpopenargs\u001b[0m\u001b[0;34m,\u001b[0m \u001b[0;34m**\u001b[0m\u001b[0mkwargs\u001b[0m\u001b[0;34m)\u001b[0m \u001b[0;32mas\u001b[0m \u001b[0mprocess\u001b[0m\u001b[0;34m:\u001b[0m\u001b[0;34m\u001b[0m\u001b[0;34m\u001b[0m\u001b[0m\n\u001b[0m\u001b[1;32m    504\u001b[0m         \u001b[0;32mtry\u001b[0m\u001b[0;34m:\u001b[0m\u001b[0;34m\u001b[0m\u001b[0;34m\u001b[0m\u001b[0m\n\u001b[1;32m    505\u001b[0m             \u001b[0mstdout\u001b[0m\u001b[0;34m,\u001b[0m \u001b[0mstderr\u001b[0m \u001b[0;34m=\u001b[0m \u001b[0mprocess\u001b[0m\u001b[0;34m.\u001b[0m\u001b[0mcommunicate\u001b[0m\u001b[0;34m(\u001b[0m\u001b[0minput\u001b[0m\u001b[0;34m,\u001b[0m \u001b[0mtimeout\u001b[0m\u001b[0;34m=\u001b[0m\u001b[0mtimeout\u001b[0m\u001b[0;34m)\u001b[0m\u001b[0;34m\u001b[0m\u001b[0;34m\u001b[0m\u001b[0m\n",
            "\u001b[0;32m/usr/lib/python3.10/subprocess.py\u001b[0m in \u001b[0;36m__init__\u001b[0;34m(self, args, bufsize, executable, stdin, stdout, stderr, preexec_fn, close_fds, shell, cwd, env, universal_newlines, startupinfo, creationflags, restore_signals, start_new_session, pass_fds, user, group, extra_groups, encoding, errors, text, umask, pipesize)\u001b[0m\n\u001b[1;32m    969\u001b[0m                             encoding=encoding, errors=errors)\n\u001b[1;32m    970\u001b[0m \u001b[0;34m\u001b[0m\u001b[0m\n\u001b[0;32m--> 971\u001b[0;31m             self._execute_child(args, executable, preexec_fn, close_fds,\n\u001b[0m\u001b[1;32m    972\u001b[0m                                 \u001b[0mpass_fds\u001b[0m\u001b[0;34m,\u001b[0m \u001b[0mcwd\u001b[0m\u001b[0;34m,\u001b[0m \u001b[0menv\u001b[0m\u001b[0;34m,\u001b[0m\u001b[0;34m\u001b[0m\u001b[0;34m\u001b[0m\u001b[0m\n\u001b[1;32m    973\u001b[0m                                 \u001b[0mstartupinfo\u001b[0m\u001b[0;34m,\u001b[0m \u001b[0mcreationflags\u001b[0m\u001b[0;34m,\u001b[0m \u001b[0mshell\u001b[0m\u001b[0;34m,\u001b[0m\u001b[0;34m\u001b[0m\u001b[0;34m\u001b[0m\u001b[0m\n",
            "\u001b[0;32m/usr/lib/python3.10/subprocess.py\u001b[0m in \u001b[0;36m_execute_child\u001b[0;34m(self, args, executable, preexec_fn, close_fds, pass_fds, cwd, env, startupinfo, creationflags, shell, p2cread, p2cwrite, c2pread, c2pwrite, errread, errwrite, restore_signals, gid, gids, uid, umask, start_new_session)\u001b[0m\n\u001b[1;32m   1720\u001b[0m                 \u001b[0margs\u001b[0m \u001b[0;34m=\u001b[0m \u001b[0;34m[\u001b[0m\u001b[0margs\u001b[0m\u001b[0;34m]\u001b[0m\u001b[0;34m\u001b[0m\u001b[0;34m\u001b[0m\u001b[0m\n\u001b[1;32m   1721\u001b[0m             \u001b[0;32melse\u001b[0m\u001b[0;34m:\u001b[0m\u001b[0;34m\u001b[0m\u001b[0;34m\u001b[0m\u001b[0m\n\u001b[0;32m-> 1722\u001b[0;31m                 \u001b[0margs\u001b[0m \u001b[0;34m=\u001b[0m \u001b[0mlist\u001b[0m\u001b[0;34m(\u001b[0m\u001b[0margs\u001b[0m\u001b[0;34m)\u001b[0m\u001b[0;34m\u001b[0m\u001b[0;34m\u001b[0m\u001b[0m\n\u001b[0m\u001b[1;32m   1723\u001b[0m \u001b[0;34m\u001b[0m\u001b[0m\n\u001b[1;32m   1724\u001b[0m             \u001b[0;32mif\u001b[0m \u001b[0mshell\u001b[0m\u001b[0;34m:\u001b[0m\u001b[0;34m\u001b[0m\u001b[0;34m\u001b[0m\u001b[0m\n",
            "\u001b[0;31mTypeError\u001b[0m: 'CompletedProcess' object is not iterable"
          ]
        }
      ]
    },
    {
      "cell_type": "code",
      "source": [],
      "metadata": {
        "id": "W5X-BKYPKtff"
      },
      "execution_count": null,
      "outputs": []
    }
  ],
  "metadata": {
    "colab": {
      "provenance": [],
      "include_colab_link": true
    },
    "kernelspec": {
      "display_name": "Python 3",
      "name": "python3"
    },
    "language_info": {
      "name": "python"
    }
  },
  "nbformat": 4,
  "nbformat_minor": 0
}