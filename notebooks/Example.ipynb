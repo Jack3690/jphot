{
  "cells": [
    {
      "cell_type": "markdown",
      "metadata": {
        "id": "view-in-github",
        "colab_type": "text"
      },
      "source": [
        "<a href=\"https://colab.research.google.com/github/Jack3690/pydol/blob/main/notebooks/Example.ipynb\" target=\"_parent\"><img src=\"https://colab.research.google.com/assets/colab-badge.svg\" alt=\"Open In Colab\"/></a>"
      ]
    },
    {
      "cell_type": "code",
      "execution_count": null,
      "metadata": {
        "id": "ABMluMUr2zrw",
        "colab": {
          "base_uri": "https://localhost:8080/"
        },
        "outputId": "4652c6ec-8d10-402b-bd42-52efd5a6ef4d"
      },
      "outputs": [
        {
          "output_type": "stream",
          "name": "stdout",
          "text": [
            "  Preparing metadata (setup.py) ... \u001b[?25l\u001b[?25hdone\n",
            "\u001b[2K     \u001b[90m━━━━━━━━━━━━━━━━━━━━━━━━━━━━━━━━━━━━━━━━\u001b[0m \u001b[32m1.1/1.1 MB\u001b[0m \u001b[31m7.1 MB/s\u001b[0m eta \u001b[36m0:00:00\u001b[0m\n",
            "\u001b[2K     \u001b[90m━━━━━━━━━━━━━━━━━━━━━━━━━━━━━━━━━━━━━━━━\u001b[0m \u001b[32m15.4/15.4 MB\u001b[0m \u001b[31m20.2 MB/s\u001b[0m eta \u001b[36m0:00:00\u001b[0m\n",
            "\u001b[2K     \u001b[90m━━━━━━━━━━━━━━━━━━━━━━━━━━━━━━━━━━━━━━━━\u001b[0m \u001b[32m1.2/1.2 MB\u001b[0m \u001b[31m13.7 MB/s\u001b[0m eta \u001b[36m0:00:00\u001b[0m\n",
            "\u001b[2K     \u001b[90m━━━━━━━━━━━━━━━━━━━━━━━━━━━━━━━━━━━━━━━━\u001b[0m \u001b[32m960.9/960.9 kB\u001b[0m \u001b[31m12.1 MB/s\u001b[0m eta \u001b[36m0:00:00\u001b[0m\n",
            "\u001b[2K     \u001b[90m━━━━━━━━━━━━━━━━━━━━━━━━━━━━━━━━━━━━━━━━\u001b[0m \u001b[32m88.9/88.9 kB\u001b[0m \u001b[31m760.9 kB/s\u001b[0m eta \u001b[36m0:00:00\u001b[0m\n",
            "\u001b[2K     \u001b[90m━━━━━━━━━━━━━━━━━━━━━━━━━━━━━━━━━━━━━━━━\u001b[0m \u001b[32m5.7/5.7 MB\u001b[0m \u001b[31m22.6 MB/s\u001b[0m eta \u001b[36m0:00:00\u001b[0m\n",
            "\u001b[2K     \u001b[90m━━━━━━━━━━━━━━━━━━━━━━━━━━━━━━━━━━━━━━━━\u001b[0m \u001b[32m296.5/296.5 kB\u001b[0m \u001b[31m8.8 MB/s\u001b[0m eta \u001b[36m0:00:00\u001b[0m\n",
            "\u001b[2K     \u001b[90m━━━━━━━━━━━━━━━━━━━━━━━━━━━━━━━━━━━━━━━━\u001b[0m \u001b[32m155.3/155.3 kB\u001b[0m \u001b[31m11.2 MB/s\u001b[0m eta \u001b[36m0:00:00\u001b[0m\n",
            "\u001b[2K     \u001b[90m━━━━━━━━━━━━━━━━━━━━━━━━━━━━━━━━━━━━━━━━\u001b[0m \u001b[32m2.8/2.8 MB\u001b[0m \u001b[31m11.1 MB/s\u001b[0m eta \u001b[36m0:00:00\u001b[0m\n",
            "\u001b[2K     \u001b[90m━━━━━━━━━━━━━━━━━━━━━━━━━━━━━━━━━━━━━━━━\u001b[0m \u001b[32m8.6/8.6 MB\u001b[0m \u001b[31m25.8 MB/s\u001b[0m eta \u001b[36m0:00:00\u001b[0m\n",
            "\u001b[2K     \u001b[90m━━━━━━━━━━━━━━━━━━━━━━━━━━━━━━━━━━━━━━━━\u001b[0m \u001b[32m2.6/2.6 MB\u001b[0m \u001b[31m42.9 MB/s\u001b[0m eta \u001b[36m0:00:00\u001b[0m\n",
            "\u001b[2K     \u001b[90m━━━━━━━━━━━━━━━━━━━━━━━━━━━━━━━━━━━━━━━━\u001b[0m \u001b[32m316.2/316.2 kB\u001b[0m \u001b[31m16.7 MB/s\u001b[0m eta \u001b[36m0:00:00\u001b[0m\n",
            "\u001b[2K     \u001b[90m━━━━━━━━━━━━━━━━━━━━━━━━━━━━━━━━━━━━━━━━\u001b[0m \u001b[32m49.8/49.8 kB\u001b[0m \u001b[31m2.5 MB/s\u001b[0m eta \u001b[36m0:00:00\u001b[0m\n",
            "\u001b[2K     \u001b[90m━━━━━━━━━━━━━━━━━━━━━━━━━━━━━━━━━━━━━━━━\u001b[0m \u001b[32m915.0/915.0 kB\u001b[0m \u001b[31m16.8 MB/s\u001b[0m eta \u001b[36m0:00:00\u001b[0m\n",
            "\u001b[2K     \u001b[90m━━━━━━━━━━━━━━━━━━━━━━━━━━━━━━━━━━━━━━━━\u001b[0m \u001b[32m160.4/160.4 kB\u001b[0m \u001b[31m7.0 MB/s\u001b[0m eta \u001b[36m0:00:00\u001b[0m\n",
            "\u001b[2K     \u001b[90m━━━━━━━━━━━━━━━━━━━━━━━━━━━━━━━━━━━━━━━━\u001b[0m \u001b[32m83.6/83.6 kB\u001b[0m \u001b[31m3.5 MB/s\u001b[0m eta \u001b[36m0:00:00\u001b[0m\n",
            "\u001b[2K     \u001b[90m━━━━━━━━━━━━━━━━━━━━━━━━━━━━━━━━━━━━━━━━\u001b[0m \u001b[32m81.9/81.9 kB\u001b[0m \u001b[31m9.3 MB/s\u001b[0m eta \u001b[36m0:00:00\u001b[0m\n",
            "\u001b[2K     \u001b[90m━━━━━━━━━━━━━━━━━━━━━━━━━━━━━━━━━━━━━━━━\u001b[0m \u001b[32m275.4/275.4 kB\u001b[0m \u001b[31m22.5 MB/s\u001b[0m eta \u001b[36m0:00:00\u001b[0m\n",
            "\u001b[2K     \u001b[90m━━━━━━━━━━━━━━━━━━━━━━━━━━━━━━━━━━━━━━━━\u001b[0m \u001b[32m45.9/45.9 kB\u001b[0m \u001b[31m4.8 MB/s\u001b[0m eta \u001b[36m0:00:00\u001b[0m\n",
            "\u001b[2K     \u001b[90m━━━━━━━━━━━━━━━━━━━━━━━━━━━━━━━━━━━━━━━━\u001b[0m \u001b[32m10.0/10.0 MB\u001b[0m \u001b[31m47.8 MB/s\u001b[0m eta \u001b[36m0:00:00\u001b[0m\n",
            "\u001b[2K     \u001b[90m━━━━━━━━━━━━━━━━━━━━━━━━━━━━━━━━━━━━━━━━\u001b[0m \u001b[32m1.9/1.9 MB\u001b[0m \u001b[31m51.2 MB/s\u001b[0m eta \u001b[36m0:00:00\u001b[0m\n",
            "\u001b[2K     \u001b[90m━━━━━━━━━━━━━━━━━━━━━━━━━━━━━━━━━━━━━━━━\u001b[0m \u001b[32m150.3/150.3 kB\u001b[0m \u001b[31m15.7 MB/s\u001b[0m eta \u001b[36m0:00:00\u001b[0m\n",
            "\u001b[?25h  Building wheel for pydol (setup.py) ... \u001b[?25l\u001b[?25hdone\n"
          ]
        }
      ],
      "source": [
        "!pip install git+https://github.com/Jack3690/pydol/ -q\n",
        "!pip install astroquery -q"
      ]
    },
    {
      "cell_type": "markdown",
      "source": [
        "# **DOLPHOT Installation**"
      ],
      "metadata": {
        "id": "HdotZvxJpGb-"
      }
    },
    {
      "cell_type": "code",
      "source": [
        "!wget http://americano.dolphinsim.com/dolphot/dolphot2.0.tar.gz\n",
        "!wget http://americano.dolphinsim.com/dolphot/dolphot2.0.NIRCAM.tar.gz\n",
        "!wget http://americano.dolphinsim.com/dolphot/nircam_F140M.tar.gz\n",
        "!wget http://americano.dolphinsim.com/dolphot/nircam_F212N.tar.gz"
      ],
      "metadata": {
        "id": "8i7obQzlwD77"
      },
      "execution_count": null,
      "outputs": []
    },
    {
      "cell_type": "code",
      "source": [
        "!tar -xf dolphot2.0.tar.gz\n",
        "!tar -xf dolphot2.0.NIRCAM.tar.gz\n",
        "!tar -xf nircam_F140M.tar.gz\n",
        "!tar -xf nircam_F212N.tar.gz"
      ],
      "metadata": {
        "id": "wdueubA3wF_a"
      },
      "execution_count": null,
      "outputs": []
    },
    {
      "cell_type": "code",
      "source": [
        "with open('/content/dolphot2.0/Makefile') as f:\n",
        "  dat = f.readlines()\n",
        "dat[28]= dat[28][1:]\n",
        "\n",
        "with open('/content/dolphot2.0/Makefile','w') as f:\n",
        "  f.writelines(dat)"
      ],
      "metadata": {
        "id": "jKCsMpb6wH_r"
      },
      "execution_count": null,
      "outputs": []
    },
    {
      "cell_type": "code",
      "source": [
        "cd /content/dolphot2.0/"
      ],
      "metadata": {
        "id": "NlkPlng2wLgD"
      },
      "execution_count": null,
      "outputs": []
    },
    {
      "cell_type": "code",
      "source": [
        "import os"
      ],
      "metadata": {
        "id": "WRly3C-Mx2l5"
      },
      "execution_count": null,
      "outputs": []
    },
    {
      "cell_type": "code",
      "source": [
        "os.system('make all')"
      ],
      "metadata": {
        "id": "ypCNlUNdwOtE"
      },
      "execution_count": null,
      "outputs": []
    },
    {
      "cell_type": "code",
      "source": [
        "cd /content/"
      ],
      "metadata": {
        "id": "DElkTjjuyUe4"
      },
      "execution_count": null,
      "outputs": []
    },
    {
      "cell_type": "code",
      "source": [
        "if 'dolphot2.0' not in os.environ['PATH']:\n",
        "  os.environ['PATH'] += ':/content/dolphot2.0/bin'\n",
        "  os.environ['PATH'] += ':/content/dolphot2.0/nircam'"
      ],
      "metadata": {
        "id": "30C9YUDnBqTR"
      },
      "execution_count": null,
      "outputs": []
    },
    {
      "cell_type": "markdown",
      "source": [
        "# **Imports**"
      ],
      "metadata": {
        "id": "GWnPVTAOwRLq"
      }
    },
    {
      "cell_type": "code",
      "execution_count": null,
      "metadata": {
        "id": "I_SGU3ki4fJA"
      },
      "outputs": [],
      "source": [
        "from glob import glob\n",
        "import astropy.io.fits as fits\n",
        "\n",
        "import os\n",
        "import astroquery\n",
        "from astroquery.mast import Observations\n",
        "import pandas as pd\n",
        "\n",
        "from astropy.table import Table\n",
        "from astropy.wcs import WCS\n",
        "import numpy as np\n",
        "import multiprocessing as mp\n",
        "import matplotlib.pyplot as plt\n",
        "import json\n",
        "from astropy.coordinates import angular_separation\n",
        "import astropy.units as u\n",
        "from pydol.pipeline.jwst import jpipe\n",
        "import multiprocessing as mp"
      ]
    },
    {
      "cell_type": "markdown",
      "metadata": {
        "id": "bXvalReGg3I9"
      },
      "source": [
        "# **Data**"
      ]
    },
    {
      "cell_type": "markdown",
      "metadata": {
        "id": "JQO0yL2ghiXr"
      },
      "source": [
        "**Observation ID format**\n",
        "\n",
        "jw\\<ppppp>\\<ooo><vvv>\\_\\<gg>\\<s>\\<aa>\\_\\<eeeee>(-<\"seg\"NNN>)\\_\\<detector>\\_\\<prodType>.fits\n",
        "\n",
        "where\n",
        "\n",
        "ppppp: program ID number\n",
        "\n",
        "ooo: observation number\n",
        "\n",
        "vvv: visit number\n",
        "\n",
        "gg: visit group\n",
        "\n",
        "s: parallel sequence ID (1=prime, 2-5=parallel)\n",
        "\n",
        "aa: activity number (base 36)\n",
        "\n",
        "eeeee: exposure number\n",
        "\n",
        "segNNN: the text “seg” followed by a three-digit segment number (optional)\n",
        "\n",
        "detector: detector name (e.g. ‘nrca1’, ‘nrcblong’, ‘mirimage’)\n",
        "\n",
        "prodType: product type identifier (e.g. ‘uncal’, ‘rate’, ‘cal’)"
      ]
    },
    {
      "cell_type": "code",
      "execution_count": null,
      "metadata": {
        "id": "jV4q8fPza7n4"
      },
      "outputs": [],
      "source": [
        "#Example data for F212N filter for M82\n",
        "\n",
        "mast_dir = 'mast:jwst/product' # Download from MAST\n",
        "data_dir = '/content/data/stage0/'  # save downloaded data\n",
        "os.makedirs(data_dir, exist_ok=True)\n",
        "\n",
        "ext = 'uncal'\n",
        "# JWST images to be analyzed\n",
        "image_files = []\n",
        "\n",
        "for i in range(1,10):\n",
        "    for j in range(1,5):\n",
        "            for l in ['b']:\n",
        "                image_files.append( f\"jw01701052001_02102_0000{i}_nrc{l}{j}_uncal.fits\")\n",
        "\n",
        "for i in range(10,17):\n",
        "    for j in range(1,5):\n",
        "            for l in ['b']:\n",
        "                image_files.append( f\"jw01701052001_02102_000{i}_nrc{l}{j}_uncal.fits\")\n",
        "\n",
        "for image_file in image_files:\n",
        "    # Download file (if not already downloaded)\n",
        "    mast_path  = os.path.join(mast_dir, image_file)\n",
        "    local_path = os.path.join(data_dir, image_file)\n",
        "    Observations.download_file(mast_path, local_path=local_path)"
      ]
    },
    {
      "cell_type": "code",
      "source": [
        "#Example data for M82\n",
        "\n",
        "mast_dir = 'mast:jwst/product' # Download from MAST\n",
        "data_dir = '/content/photometry/'  # save downloaded data\n",
        "os.makedirs(data_dir, exist_ok=True)\n",
        "\n",
        "# JWST images to be analyzed\n",
        "image_files = [ f\"jw01701-o052_t007_nircam_clear-f212n-sub640_i2d.fits\"]\n",
        "\n",
        "for image_file in image_files:\n",
        "    # Download file (if not already downloaded)\n",
        "    mast_path  = os.path.join(mast_dir, image_file)\n",
        "    local_path = os.path.join(data_dir, image_file)\n",
        "    Observations.download_file(mast_path, local_path=local_path)"
      ],
      "metadata": {
        "id": "XQ2iUY0vHp3O"
      },
      "execution_count": null,
      "outputs": []
    },
    {
      "cell_type": "markdown",
      "metadata": {
        "id": "IOuSv78Gg7B8"
      },
      "source": [
        "# **Pipeline**"
      ]
    },
    {
      "cell_type": "code",
      "execution_count": null,
      "metadata": {
        "id": "wzZw61DNbpMZ"
      },
      "outputs": [],
      "source": [
        "# For reducing load on the RAM. Let's split pipeline into two steps\n",
        "\n",
        "input_files = glob(f'/content/data/stage0/*b1*')\n",
        "out_dir = '/content/'\n",
        "jwst_data = jpipe(input_files, out_dir)\n",
        "jwst_data()"
      ]
    },
    {
      "cell_type": "markdown",
      "metadata": {
        "id": "X8XcuX1Qg-n8"
      },
      "source": [
        "# **DOLPHOT Photometry**"
      ]
    },
    {
      "cell_type": "code",
      "source": [
        "if 'dolphot2.0' not in os.environ['PATH']:\n",
        "  os.environ['PATH'] += ':/content/dolphot2.0/bin'\n",
        "  os.environ['PATH'] += ':/content/dolphot2.0/nircam'"
      ],
      "metadata": {
        "id": "JEPYVHXS8Mik"
      },
      "execution_count": null,
      "outputs": []
    },
    {
      "cell_type": "code",
      "source": [
        "crf_files = glob(f'/content/data/stage3/*b1*crf.fits')"
      ],
      "metadata": {
        "id": "pbySBAI57mIm"
      },
      "execution_count": null,
      "outputs": []
    },
    {
      "cell_type": "code",
      "source": [
        "from pydol.photometry import nircam"
      ],
      "metadata": {
        "id": "cXRkmvwmFJJW"
      },
      "execution_count": null,
      "outputs": []
    },
    {
      "cell_type": "code",
      "source": [
        "nircam.nircam_phot(crf_files,\n",
        "                   filter='f212n',\n",
        "                   output_dir='/content/photometry/',\n",
        "                   drz_path='/content/photometry/jw01701-o052_t007_nircam_clear-f212n-sub640_i2d',\n",
        "                   cat_name= 'b1')"
      ],
      "metadata": {
        "id": "gmhNVpzjGarr"
      },
      "execution_count": null,
      "outputs": []
    },
    {
      "cell_type": "code",
      "source": [],
      "metadata": {
        "id": "W5X-BKYPKtff"
      },
      "execution_count": null,
      "outputs": []
    }
  ],
  "metadata": {
    "colab": {
      "provenance": [],
      "include_colab_link": true
    },
    "kernelspec": {
      "display_name": "Python 3",
      "name": "python3"
    },
    "language_info": {
      "name": "python"
    }
  },
  "nbformat": 4,
  "nbformat_minor": 0
}