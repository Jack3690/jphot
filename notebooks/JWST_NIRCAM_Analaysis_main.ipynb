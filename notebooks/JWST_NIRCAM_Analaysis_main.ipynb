{
 "cells": [
  {
   "cell_type": "markdown",
   "id": "cnJPXox0qrnQ",
   "metadata": {
    "id": "cnJPXox0qrnQ",
    "jp-MarkdownHeadingCollapsed": true,
    "tags": []
   },
   "source": [
    "# **Installs**"
   ]
  },
  {
   "cell_type": "code",
   "execution_count": null,
   "id": "2UT-qaOGqu7_",
   "metadata": {
    "colab": {
     "base_uri": "https://localhost:8080/"
    },
    "id": "2UT-qaOGqu7_",
    "outputId": "1e98f95d-04b5-4a4a-9ad8-6c7d5b4b7d26"
   },
   "outputs": [],
   "source": [
    "!pip install photutils --quiet\n",
    "!pip install webbpsf --quiet"
   ]
  },
  {
   "cell_type": "code",
   "execution_count": null,
   "id": "4VFyv_WOrJlL",
   "metadata": {
    "colab": {
     "base_uri": "https://localhost:8080/"
    },
    "id": "4VFyv_WOrJlL",
    "outputId": "01adc58c-00ad-48d6-b141-6cfcf79c6c04",
    "tags": []
   },
   "outputs": [],
   "source": [
    "!wget https://stsci.box.com/shared/static/qxpiaxsjwo15ml6m4pkhtk36c9jgj70k.gz -O webbpsf-data-1.2.1.tar.gz"
   ]
  },
  {
   "cell_type": "code",
   "execution_count": null,
   "id": "XAxyttMFsyQ-",
   "metadata": {
    "id": "XAxyttMFsyQ-"
   },
   "outputs": [],
   "source": [
    "!tar -xf webbpsf-data-1.2.1.tar.gz"
   ]
  },
  {
   "cell_type": "code",
   "execution_count": null,
   "id": "8gLYVxMBtU18",
   "metadata": {
    "id": "8gLYVxMBtU18"
   },
   "outputs": [],
   "source": [
    "!rm webbpsf-data-1.2.1.tar.gz"
   ]
  },
  {
   "cell_type": "code",
   "execution_count": null,
   "id": "FWeYzQ8cH1sM",
   "metadata": {
    "id": "FWeYzQ8cH1sM"
   },
   "outputs": [],
   "source": [
    "!pip uninstall numexpr --quiet -y"
   ]
  },
  {
   "cell_type": "markdown",
   "id": "jj0UgSIcqvYI",
   "metadata": {
    "id": "jj0UgSIcqvYI",
    "tags": []
   },
   "source": [
    "# **Imports**"
   ]
  },
  {
   "cell_type": "code",
   "execution_count": null,
   "id": "823b1b74-9f1f-47c6-9736-719828cc21ed",
   "metadata": {
    "tags": []
   },
   "outputs": [],
   "source": [
    "from gloess import gloess"
   ]
  },
  {
   "cell_type": "code",
   "execution_count": null,
   "id": "1a3615bd-bb61-415f-a3a1-0181ac2b99cc",
   "metadata": {
    "id": "1a3615bd-bb61-415f-a3a1-0181ac2b99cc",
    "tags": []
   },
   "outputs": [],
   "source": [
    "import sys\n",
    "import time\n",
    "import json\n",
    "import numpy as np\n",
    "import pandas as pd\n",
    "import glob as glob\n",
    "import urllib.request\n",
    "import tarfile\n",
    "import os\n",
    "import itertools\n",
    "\n",
    "from scipy.ndimage import gaussian_filter\n",
    "from scipy.interpolate import interp1d\n",
    "\n",
    "from astropy.io import fits\n",
    "from astropy.visualization import simple_norm\n",
    "from astropy.nddata import NDData\n",
    "from astropy.wcs import WCS\n",
    "from astropy.modeling import models, fitting\n",
    "from astropy.modeling.fitting import LevMarLSQFitter\n",
    "from astropy.table import Table, QTable, vstack\n",
    "from astropy.coordinates import SkyCoord, match_coordinates_sky, angular_separation\n",
    "from astropy import units as u\n",
    "from astropy.stats import SigmaClip, sigma_clipped_stats, gaussian_fwhm_to_sigma\n",
    "from astropy.convolution import Gaussian2DKernel, convolve_fft\n",
    "from astropy.nddata.utils import Cutout2D\n",
    "\n",
    "import photutils as phot\n",
    "from photutils.background import MMMBackground, MADStdBackgroundRMS, Background2D, LocalBackground\n",
    "from photutils.detection import DAOStarFinder\n",
    "from photutils.psf import EPSFBuilder, GriddedPSFModel\n",
    "from photutils.psf import SourceGrouper, extract_stars, IterativePSFPhotometry, DAOPhotPSFPhotometry\n",
    "\n",
    "from photutils.aperture import CircularAperture, CircularAnnulus, aperture_photometry, EllipticalAperture\n",
    "\n",
    "from scipy.interpolate import interp1d\n",
    "from scipy.stats import gaussian_kde\n",
    "from scipy.ndimage import sobel, gaussian_filter, convolve\n",
    "from scipy.signal import savgol_filter\n",
    "from astropy.stats.biweight import biweight_location, biweight_midvariance,biweight_scale\n",
    "from matplotlib.colors import LinearSegmentedColormap\n",
    "from scipy.signal import find_peaks"
   ]
  },
  {
   "cell_type": "code",
   "execution_count": null,
   "id": "092bee71-2ab2-4181-bed4-4987f6b70764",
   "metadata": {
    "tags": []
   },
   "outputs": [],
   "source": [
    "from reproject import reproject_exact\n",
    "from reproject.mosaicking import find_optimal_celestial_wcs"
   ]
  },
  {
   "cell_type": "code",
   "execution_count": null,
   "id": "byllZn7ivXYo",
   "metadata": {
    "id": "byllZn7ivXYo",
    "tags": []
   },
   "outputs": [],
   "source": [
    "os.environ['WEBBPSF_PATH'] = '../data/webbpsf-data'"
   ]
  },
  {
   "cell_type": "code",
   "execution_count": null,
   "id": "35cf8997-34e8-444a-8229-d32462781bc6",
   "metadata": {
    "id": "35cf8997-34e8-444a-8229-d32462781bc6",
    "tags": []
   },
   "outputs": [],
   "source": [
    "%matplotlib inline\n",
    "from matplotlib import style, pyplot as plt\n",
    "import matplotlib.patches as patches\n",
    "import matplotlib.ticker as ticker\n",
    "import matplotlib.colors as col\n",
    "from matplotlib.colors import ListedColormap\n",
    "from matplotlib.patches import Circle\n",
    "import seaborn as sb\n",
    "import matplotlib.gridspec as gridspec\n",
    "sb.set_style('white')\n",
    "from matplotlib.ticker import (MultipleLocator, AutoLocator, AutoMinorLocator)\n",
    "from matplotlib.patches import Rectangle\n",
    "\n",
    "from mpl_toolkits.axes_grid1 import make_axes_locatable\n",
    "\n",
    "plt.rcParams['image.cmap'] = 'jet'\n",
    "plt.rcParams['image.origin'] = 'lower'\n",
    "plt.rcParams['figure.figsize'] = (7,5)\n",
    "plt.rcParams['axes.titlesize'] = plt.rcParams['axes.labelsize'] = 25\n",
    "plt.rcParams['xtick.labelsize'] = plt.rcParams['ytick.labelsize'] = 25\n",
    "\n",
    "font1 = {'family': 'sans-serif', 'color': 'black', 'weight': 'normal', 'size': '15'}\n",
    "font2 = {'family': 'sans-serif', 'color': 'black', 'weight': 'normal', 'size': '25'}"
   ]
  },
  {
   "cell_type": "code",
   "execution_count": null,
   "id": "Hx4tx7ZCvf81",
   "metadata": {
    "colab": {
     "base_uri": "https://localhost:8080/"
    },
    "id": "Hx4tx7ZCvf81",
    "outputId": "a012de6a-54ff-428b-89f1-f6053c76a24b",
    "tags": []
   },
   "outputs": [],
   "source": [
    "import webbpsf\n",
    "from webbpsf.utils import to_griddedpsfmodel"
   ]
  },
  {
   "cell_type": "code",
   "execution_count": null,
   "id": "99b0de01-a357-4825-a297-f8b14886088f",
   "metadata": {
    "id": "iABVs61pUbAq",
    "tags": []
   },
   "outputs": [],
   "source": [
    "\"\"\" Simulated (Webb PSF)\n",
    "filters = ['F070W', 'F090W', 'F115W', 'F140M', 'F150W2','F150W', 'F162M', 'F164N', 'F182M',\n",
    "           'F187N', 'F200W', 'F210M', 'F212N', 'F250M', 'F277W', 'F300M', 'F322W2','F323N',\n",
    "           'F335M', 'F356W', 'F360M', 'F405N', 'F410M', 'F430M', 'F444W', 'F460M', 'F466N', 'F470N', 'F480M']\n",
    "\n",
    "psf_fwhm = [0.987,   1.103,   1.298,   1.553,   1.628,   1.770,   1.801,   1.494,   1.990, \n",
    "            2.060,   2.141,   2.304,   2.341,   1.340,   1.444,   1.585,   1.547,   1.711, \n",
    "            1.760,   1.830,   1.901,   2.165,   2.179,   2.300,   2.302,   2.459,   2.507, 2.535, 2.574]\n",
    "\n",
    "dict_utils = {filters[i]: {'psf fwhm': psf_fwhm[i]} for i in range(len(filters))}\n",
    "\"\"\";"
   ]
  },
  {
   "cell_type": "code",
   "execution_count": null,
   "id": "6c3191f5-e85b-4198-8508-9f857f2c8ebd",
   "metadata": {
    "tags": []
   },
   "outputs": [],
   "source": [
    "# Empirical (Rigby et al. 2022). https://jwst-docs.stsci.edu/jwst-near-infrared-camera/nircam-performance/nircam-point-spread-functions\n",
    "filters = ['F070W', 'F090W', 'F115W', 'F140M', 'F150W2','F150W', 'F162M', 'F164N', 'F182M',\n",
    "           'F187N', 'F200W', 'F210M', 'F212N', 'F250M', 'F277W', 'F300M', 'F322W2','F323N',\n",
    "           'F335M', 'F356W', 'F360M', 'F405N', 'F410M', 'F430M', 'F444W', 'F460M', 'F466N', 'F470N', 'F480M']\n",
    "\n",
    "psf_fwhm = [0.935,   1.065,   1.290,   1.548,   1.628,   1.613,   1.774,   1.806,   2.000, \n",
    "            2.065,   2.129,   2.290,   2.323,   1.349,   1.460,   1.587,   1.547,   1.714, \n",
    "            1.762,   1.841,   1.905,   2.159,   2.175,   2.286,   2.302,   2.492,   2.508, 2.540, 2.603]\n",
    "\n",
    "dict_utils = {filters[i]: {'psf fwhm': psf_fwhm[i]} for i in range(len(filters))}"
   ]
  },
  {
   "cell_type": "markdown",
   "id": "s_h0xh_kCxZH",
   "metadata": {
    "id": "s_h0xh_kCxZH",
    "jp-MarkdownHeadingCollapsed": true,
    "tags": []
   },
   "source": [
    "# **Synthetic PSF using Webb PSF**"
   ]
  },
  {
   "cell_type": "code",
   "execution_count": null,
   "id": "Y8PWVhSWC0Pn",
   "metadata": {
    "id": "Y8PWVhSWC0Pn",
    "tags": []
   },
   "outputs": [],
   "source": [
    "psfs_dir = 'PSF_MODELS/'\n",
    "\n",
    "if not os.path.exists(psfs_dir):\n",
    "    os.makedirs(psfs_dir)\n",
    "\n",
    "def create_psf_model(det='NRCA1', filt='F770W', fov=101, source=None,\n",
    "                     create_grid=False, num=9, save_psf=False,\n",
    "                     detsampled=False,all_detectors=False,oversample=5):\n",
    "\n",
    "    nrc = webbpsf.NIRCam()\n",
    "\n",
    "    nrc.detector = det\n",
    "    nrc.filter = filt\n",
    "\n",
    "    print(\"Using a {field}\".format(field=fov), \"px fov\")\n",
    "\n",
    "    if create_grid:\n",
    "        print(\"\")\n",
    "        print(\"Creating a grid of PSF for filter {filt} and detector {det}\".format(filt=filt, det=det))\n",
    "        print(\"\")\n",
    "        num = num\n",
    "\n",
    "        if save_psf:\n",
    "\n",
    "            outname = 'PSF_%s_samp%s_fov%d_npsfs%d.fits' % (filt,oversample, fov, num)\n",
    "            psf = nrc.psf_grid(num_psfs=num, oversample=oversample, source=source, all_detectors=all_detectors,fov_pixels=fov,\n",
    "                               save=True, outfile=os.path.join(psfs_dir,outname), use_detsampled_psf=detsampled)\n",
    "\n",
    "        else:\n",
    "\n",
    "            psf = nrc.psf_grid(num_psfs=num, oversample=oversample, source=source, all_detectors=all_detectors, fov_pixels=fov,\n",
    "                               use_detsampled_psf=detsampled)\n",
    "\n",
    "    else:\n",
    "        print(\"\")\n",
    "        print(\"Creating a single PSF for filter {filt} and detector {det}\".format(filt=filt, det=det))\n",
    "        print(\"\")\n",
    "        num = 1\n",
    "\n",
    "        if save_psf:\n",
    "\n",
    "            outname = 'PSF_%s_samp%s_fov%d_npsfs%d.fits' % (filt, oversample, fov, num)\n",
    "            psf = nrc.psf_grid(num_psfs=num, oversample=oversample, source=source, all_detectors=False, fov_pixels=fov,\n",
    "                               save=True, outfile=os.path.join(psfs_dir,outname), use_detsampled_psf=detsampled)\n",
    "\n",
    "        else:\n",
    "\n",
    "            psf = nrc.psf_grid(num_psfs=num, oversample=oversample, source=source, all_detectors=False, fov_pixels=fov,\n",
    "                               use_detsampled_psf=detsampled)\n",
    "\n",
    "    return psf"
   ]
  },
  {
   "cell_type": "code",
   "execution_count": null,
   "id": "09RkiQoHC0ZW",
   "metadata": {
    "id": "09RkiQoHC0ZW"
   },
   "outputs": [],
   "source": [
    "\n",
    "psf_webbpsf_single = create_psf_model(det=det_n, filt=filt_n, fov=51, source=None, create_grid=False, save_psf=False,\n",
    "                                      detsampled=False)"
   ]
  },
  {
   "cell_type": "code",
   "execution_count": null,
   "id": "cQ09VqoqOhqm",
   "metadata": {
    "colab": {
     "base_uri": "https://localhost:8080/"
    },
    "id": "cQ09VqoqOhqm",
    "outputId": "3250c3f8-5f5f-479e-ec33-b076f6dbf450",
    "tags": []
   },
   "outputs": [],
   "source": [
    "filts = [i.split('_')[2] for i in glob.glob(os.path.join(psfs_dir, \"*fits\"))]\n",
    "if filt_n not in filts:\n",
    "    psf_webbpsf_grid = create_psf_model(det=det_n, filt=filt_n, fov=51, source=None, create_grid=True, num=9,\n",
    "                                        save_psf=True, detsampled=False, all_detectors=False, oversample=5)\n",
    "else:\n",
    "    psf_filename = glob.glob(os.path.join('PSF_MODELS/',f'PSF_{filt_n}*{det_n.lower()}.fits'))\n",
    "    \n",
    "    with fits.open(psf_filename) as hdu:\n",
    "        psf_webbpsf_grid = to_griddedpsfmodel(hdu, ext_data=0, ext_header=0)"
   ]
  },
  {
   "cell_type": "code",
   "execution_count": null,
   "id": "aa5518a2-062c-4d59-afac-15ba35544d2d",
   "metadata": {
    "tags": []
   },
   "outputs": [],
   "source": [
    "webbpsf.gridded_library.display_psf_grid(psf_webbpsf_grid, zoom_in=False, figsize=(14, 10))"
   ]
  },
  {
   "cell_type": "code",
   "execution_count": null,
   "id": "71fa92c2-e81f-467b-aa58-94299746be9f",
   "metadata": {
    "id": "71fa92c2-e81f-467b-aa58-94299746be9f",
    "tags": []
   },
   "outputs": [],
   "source": [
    "def calc_bkg(data, sigma=3.0, box_size=(100,100), filter_size=(3,3)):\n",
    "\n",
    "    bkgrms = MADStdBackgroundRMS()\n",
    "    mmm_bkg = MMMBackground()\n",
    "\n",
    "    #sigma_clip = SigmaClip(sigma=sigma)\n",
    "    sigma_clip = SigmaClip(sigma=sigma)\n",
    "    coverage_mask = (data == 0)\n",
    "\n",
    "    bkg = Background2D(data, box_size, filter_size=filter_size,\n",
    "                       sigma_clip=sigma_clip, bkg_estimator=mmm_bkg,\n",
    "                        coverage_mask=coverage_mask, fill_value=0.0)\n",
    "\n",
    "    data_bkgsub = data.copy()\n",
    "    data_bkgsub = data_bkgsub - bkg.background\n",
    "\n",
    "    _, _, std = sigma_clipped_stats(data_bkgsub)\n",
    "\n",
    "    return data_bkgsub, bkg, std"
   ]
  },
  {
   "cell_type": "code",
   "execution_count": null,
   "id": "f5bda153-e96a-4167-a3b5-86f21344ba67",
   "metadata": {
    "id": "f5bda153-e96a-4167-a3b5-86f21344ba67",
    "tags": []
   },
   "outputs": [],
   "source": [
    "def find_stars(data, det='NRCA1', filt='F070W', threshold=3, sigma=3.0, sigma_psf=None, smoothen=True, kernel=None,ZP=0):\n",
    "\n",
    "    if sigma_psf is None:\n",
    "        sigma_psf = dict_utils[filt]['psf fwhm']\n",
    "\n",
    "    if smoothen and kernel is not None:\n",
    "        data = convolve_fft(data, kernel)\n",
    "\n",
    "    data_bkgsub, bkg, std = calc_bkg(data, sigma)\n",
    "\n",
    "    daofind = DAOStarFinder(threshold=threshold*std, fwhm=sigma_psf)\n",
    "    found_stars = daofind(data_bkgsub)\n",
    "    found_stars['mag'] = ZP + found_stars['mag']\n",
    "\n",
    "    print('\\nNumber of sources found in the image:', len(found_stars))\n",
    "    print('-------------------------------------\\n')\n",
    "\n",
    "    return found_stars, data_bkgsub,bkg"
   ]
  },
  {
   "cell_type": "markdown",
   "id": "i4KdK1Ye7jiI",
   "metadata": {
    "id": "i4KdK1Ye7jiI",
    "jp-MarkdownHeadingCollapsed": true,
    "tags": []
   },
   "source": [
    "# **Input Data**"
   ]
  },
  {
   "cell_type": "markdown",
   "id": "bc3ce6a5-5234-453c-af05-67093b63b697",
   "metadata": {
    "tags": []
   },
   "source": [
    "### **JWST**"
   ]
  },
  {
   "cell_type": "code",
   "execution_count": null,
   "id": "445f0366-008f-456b-8fa9-f9dfc73b53a9",
   "metadata": {
    "tags": []
   },
   "outputs": [],
   "source": [
    "dict_images = {'NRCA1': {}, 'NRCA2': {}, 'NRCA3': {}, 'NRCA4': {}, 'NRCA5': {},\n",
    "               'NRCB1': {}, 'NRCB2': {}, 'NRCB3': {}, 'NRCB4': {}, 'NRCB5': {}}\n",
    "\n",
    "dict_cats = {}\n",
    "\n",
    "images_dir = '../data/NGC_628/JWST/'\n",
    "\n",
    "images = sorted(glob.glob(os.path.join(images_dir, \"*/*i2d.fits\")))\n",
    "cats  = sorted(glob.glob(os.path.join(images_dir, \"*/*cat.ecsv\")))\n",
    "\n",
    "for image in images:\n",
    "\n",
    "    im = fits.open(image)\n",
    "    f = im[0].header['FILTER']\n",
    "    d = im[0].header['DETECTOR']\n",
    "\n",
    "    if d == 'MULTIPLE':\n",
    "        d = 'NRCB3'\n",
    "\n",
    "    # Image\n",
    "    if d not in dict_images.keys():\n",
    "        dict_images[d] = {}\n",
    "        \n",
    "    if f not in dict_images[d].keys():\n",
    "        dict_images[d][f] =  {'images': [image]}\n",
    "    else:\n",
    "        dict_images[d][f]['images'].append(image)\n",
    "    \n",
    "    # Catalog\n",
    "    if d not in dict_cats.keys():\n",
    "        dict_cats[d] = {}\n",
    "        \n",
    "    if f not in dict_cats[d].keys():\n",
    "        dict_cats[d][f] =  {'cats': [image[:-8] + 'cat.ecsv']}\n",
    "    else:\n",
    "        dict_cats[d][f]['cats'].append(image[:-8] + 'cat.ecsv')\n",
    "        \n",
    " \n",
    "print('Available Detectors and Filters\\n-------------------------------')\n",
    "      \n",
    "for i in dict_images.keys():\n",
    "    if len(dict_images[i])>0:\n",
    "        print(f'{i} :', list(dict_images[i].keys()))"
   ]
  },
  {
   "cell_type": "code",
   "execution_count": null,
   "id": "2aea156e-b297-4f1d-aeb1-fa7fdad8117f",
   "metadata": {
    "colab": {
     "base_uri": "https://localhost:8080/"
    },
    "id": "2aea156e-b297-4f1d-aeb1-fa7fdad8117f",
    "outputId": "34ddbcc7-dd03-4106-ba46-e050fbbd8062",
    "tags": []
   },
   "outputs": [],
   "source": [
    "# MIRI\n",
    "det_m = 'MIRIMAGE'\n",
    "filt_m = 'F770W'\n",
    "\n",
    "hdul_m = fits.open(dict_images[det_m][filt_m]['images'][0])\n",
    "data_m = hdul_m[1].data\n",
    "area_m = hdul_m[4].data\n",
    "\n",
    "imh_m = hdul_m[1].header\n",
    "wcs_m = WCS(imh_m)\n",
    "ZAB_m = -6.1 - 2.5*np.log10(imh_m['PIXAR_SR'])\n",
    "hdul_m.close()\n",
    "print(f\"Flux units of {filt_m}: {imh_m['BUNIT']}, Zero point (AB) : {ZAB_m}\")\n",
    "# NIRCAM\n",
    "det_n = 'NRCB3'\n",
    "filt_n = 'F200W'\n",
    "\n",
    "hdul_n = fits.open(dict_images[det_n][filt_n]['images'][0])\n",
    "data_n = hdul_n[1].data\n",
    "\n",
    "imh_n = hdul_n[1].header\n",
    "wcs_n = WCS(imh_n)\n",
    "ZAB_n = -6.1 -2.5*np.log10(imh_n['PIXAR_SR'])\n",
    "\n",
    "print(f\"Flux units of {filt_n}: {imh_n['BUNIT']}, Zero point (AB) : {ZAB_n}\")\n",
    "hdul_n.close()"
   ]
  },
  {
   "cell_type": "code",
   "execution_count": null,
   "id": "8094d7b9-a268-4ebe-87f3-e49dd0c12772",
   "metadata": {
    "tags": []
   },
   "outputs": [],
   "source": [
    "\"\"\"\n",
    "wcs_new = wcs_m.deepcopy()\n",
    "\n",
    "wcs_new.wcs.pc= [[-1,0],\n",
    "                 [0,1]]\n",
    "wcs_new.wcs.crpix = np.array([750,750])\n",
    "wcs_new.wcs.crval= np.array([24.173953, 15.783691])\n",
    "\n",
    "out, footprint= reproject_exact((data_m, wcs_m), wcs_new, (1500,1500))\n",
    "\"\"\";"
   ]
  },
  {
   "cell_type": "code",
   "execution_count": null,
   "id": "5af2148c-fe08-448a-a07e-dd57b704c33b",
   "metadata": {
    "tags": []
   },
   "outputs": [],
   "source": [
    "\"\"\"\n",
    "fig = plt.figure(figsize=(15,15))\n",
    "ax = fig.add_subplot(projection=wcs_new)\n",
    "\n",
    "norm = simple_norm(out, log_a=100, stretch= 'log',min_cut=12.6, max_cut = 65)\n",
    "\n",
    "img = ax.imshow(out, norm = norm , cmap='gray')\n",
    "cb = plt.colorbar(img, shrink=0.75, orientation='horizontal', pad=0.09)\n",
    "cb.set_label('MJy/Sr')\n",
    "cb.ax.tick_params(labelsize=20)\n",
    "\n",
    "\n",
    "pos_bub = wcs_new.world_to_pixel_values([[24.186079, 15.772189]])\n",
    "pos_gal = wcs_new.world_to_pixel_values([[24.173953, 15.783691]])\n",
    "\n",
    "aper_in = EllipticalAperture(pos_bub, 162.26, 127.11, 216*u.degree)\n",
    "aper_out = EllipticalAperture(pos_bub, 90.15, 70.62, 216*u.degree)\n",
    "\n",
    "aper_in.plot(ax)\n",
    "aper_out.plot(ax)\n",
    "\n",
    "ax.annotate('', xy=pos_bub[0],\n",
    "             xycoords='data',\n",
    "             xytext=pos_gal[0],\n",
    "             textcoords='data',\n",
    "             arrowprops=dict(arrowstyle= '<|-|>',\n",
    "                             color='white',\n",
    "                             lw=1.5,\n",
    "                             ls='-')\n",
    "           )\n",
    "\n",
    "ax.text(450,502,\"1'=2.8kpc\",rotation=46, color='white', fontsize=20)\n",
    "\n",
    "ax.xaxis.set_major_locator(AutoLocator())\n",
    "ax.xaxis.set_minor_locator(AutoMinorLocator())\n",
    "\n",
    "ax.yaxis.set_major_locator(AutoLocator())\n",
    "ax.yaxis.set_minor_locator(AutoMinorLocator())\n",
    "\n",
    "ax.tick_params(which='both', length=7,direction=\"in\")\n",
    "ax.tick_params(which='minor', length=4)\n",
    "\n",
    "lon = ax.coords[0]\n",
    "lat = ax.coords[1]\n",
    "\n",
    "lon.display_minor_ticks(True)\n",
    "lat.display_minor_ticks(True)\n",
    "ax.set_xlabel('Right Ascension')\n",
    "ax.set_ylabel('Declination')\n",
    "\"\"\";"
   ]
  },
  {
   "cell_type": "code",
   "execution_count": null,
   "id": "Y4h0aZIv7nr8",
   "metadata": {
    "colab": {
     "base_uri": "https://localhost:8080/",
     "height": 645
    },
    "id": "Y4h0aZIv7nr8",
    "outputId": "6f6dc77a-ca9b-454c-beb9-db421bcb811d",
    "tags": []
   },
   "outputs": [],
   "source": [
    "\"\"\"\n",
    "plt.figure(figsize=(20, 12))\n",
    "\n",
    "ax1= plt.subplot(1, 2, 1, projection=wcs_m)\n",
    "\n",
    "ax1.set_title(filt_m, fontdict=font2)\n",
    "norm = simple_norm(data_m, 'sqrt',min_cut=12, max_cut = 40)\n",
    "\n",
    "img = ax1.imshow(data_m, norm = norm, cmap='gray')\n",
    "ax1.grid(color='red', ls='solid')\n",
    "cb = plt.colorbar(img, orientation='horizontal', anchor = (0.5, 1.5))\n",
    "cb.set_label(f\"{imh_m['BUNIT']}\")\n",
    "\n",
    "ax2 = plt.subplot(1, 2, 2, projection=wcs_n)\n",
    "\n",
    "ax2.set_title(filt_n, fontdict=font2)\n",
    "norm = simple_norm(data_n, 'sqrt',percent=99.)\n",
    "\n",
    "\n",
    "img = ax2.imshow(data_n, norm = norm, cmap='gray')\n",
    "ax2.grid(color='red', ls='solid')\n",
    "cb = plt.colorbar(img, orientation='horizontal', anchor = (0.5, 1.5))\n",
    "cb.set_label(f\"{imh_n['BUNIT']}\")\n",
    "\"\"\";"
   ]
  },
  {
   "cell_type": "markdown",
   "id": "352837a8-821b-49e4-9c51-0c532815f4dc",
   "metadata": {
    "jp-MarkdownHeadingCollapsed": true,
    "tags": []
   },
   "source": [
    "### **Photometry strategy**"
   ]
  },
  {
   "cell_type": "code",
   "execution_count": null,
   "id": "9935b38b-7fc5-4084-aa97-107091b83c6d",
   "metadata": {
    "tags": []
   },
   "outputs": [],
   "source": [
    "ps = imh_n['CDELT1']*3600"
   ]
  },
  {
   "cell_type": "code",
   "execution_count": null,
   "id": "9d29c4b9-da6b-40b3-a5ce-6becbc6205dd",
   "metadata": {
    "tags": []
   },
   "outputs": [],
   "source": [
    "l = 24/ps"
   ]
  },
  {
   "cell_type": "code",
   "execution_count": null,
   "id": "e0986353-9e53-4f16-8798-b0b99a5bba10",
   "metadata": {
    "tags": []
   },
   "outputs": [],
   "source": [
    "l"
   ]
  },
  {
   "cell_type": "code",
   "execution_count": null,
   "id": "a0150e29-256f-46f4-8937-1e1da9f95f50",
   "metadata": {
    "tags": []
   },
   "outputs": [],
   "source": [
    "y = np.arange(0, 4640 + l, l)\n",
    "x = np.arange(0, 11604 + l, l)\n",
    "\n",
    "x_cen = 0.5*(x[:-1] + x[1:])\n",
    "y_cen = 0.5*(y[:-1] + y[1:])"
   ]
  },
  {
   "cell_type": "code",
   "execution_count": null,
   "id": "6dfd8ee3-a30c-474c-b2e0-f5904209f1b1",
   "metadata": {
    "tags": []
   },
   "outputs": [],
   "source": [
    "len(x_cen), len(y_cen)"
   ]
  },
  {
   "cell_type": "code",
   "execution_count": null,
   "id": "8bc9aa5b-1aaa-460e-9ab9-d64e098ee90b",
   "metadata": {
    "tags": []
   },
   "outputs": [],
   "source": [
    "poss = []\n",
    "\n",
    "x_offset = 0\n",
    "y_offset = 0\n",
    "for i in x_cen:\n",
    "    for j in y_cen:\n",
    "        poss.append([i-x_offset,j-y_offset])\n",
    "        \n",
    "poss = np.array(poss)"
   ]
  },
  {
   "cell_type": "code",
   "execution_count": null,
   "id": "8abb37bc-e912-4c62-a0d5-8659308d6089",
   "metadata": {
    "tags": []
   },
   "outputs": [],
   "source": [
    "x = poss[:,0]\n",
    "y = poss[:,1]\n",
    "fig, ax = plt.subplots(figsize=(12,4))\n",
    "ax.scatter(x,y)\n",
    "\n",
    "for i,j in poss:\n",
    "        ax.add_patch(Rectangle((i-l/2, j-l/2), l,l, fill = False,\n",
    "                              edgecolor='black', lw=1))\n",
    "\n",
    "ax.set_xlim(0,11604)\n",
    "ax.set_ylim(0,4640)"
   ]
  },
  {
   "cell_type": "code",
   "execution_count": null,
   "id": "2125ba71-a639-460e-ab50-0956d52fc839",
   "metadata": {
    "tags": []
   },
   "outputs": [],
   "source": [
    "coords  = np.array(wcs_n.pixel_to_world_values(poss)).astype(np.float64)"
   ]
  },
  {
   "cell_type": "code",
   "execution_count": null,
   "id": "5a15bae9-95ed-415f-89d6-380aa283e3f3",
   "metadata": {
    "tags": []
   },
   "outputs": [],
   "source": [
    "coords_cen  = np.array(wcs_n.pixel_to_world_values([[0,7*20/ps]]))"
   ]
  },
  {
   "cell_type": "code",
   "execution_count": null,
   "id": "13e5a84d-4802-4c70-a340-7e81cb6d8a1c",
   "metadata": {
    "tags": []
   },
   "outputs": [],
   "source": [
    "ra_cen, dec_cen = coords_cen[0]"
   ]
  },
  {
   "cell_type": "code",
   "execution_count": null,
   "id": "e0c6acc4-4b04-46d5-a60a-a337ede46254",
   "metadata": {
    "tags": []
   },
   "outputs": [],
   "source": [
    "fig, ax = plt.subplots(figsize=(12,4))\n",
    "\n",
    "x = coords[:,0]\n",
    "y = coords[:,1]\n",
    "ax.scatter(x,y)\n",
    "\n",
    "regions = {}\n",
    "for n,coord in enumerate(coords):\n",
    "    i = coord[0]\n",
    "    j = coord[1]\n",
    "    regions[f'reg_{n}'] = {}\n",
    "    regions[f'reg_{n}']['ra'] = i\n",
    "    regions[f'reg_{n}']['dec'] = j\n",
    "    print(f\"\"\"box({np.round(i,9)}, {np.round(j,9)}, {l*ps}\", {l*ps}\",245.00492) # text=\"\"\" + '{' + f'Reg {n}' + '}')\n",
    "\n",
    "ax.add_patch(Rectangle((ra_cen, dec_cen), 18*20/3600,7*20/3600, fill = False,\n",
    "                              edgecolor='black', lw=1, angle=180-245.00492))\n",
    "\n",
    "ra_t = regions['reg_0']['ra']\n",
    "dec_t = regions['reg_0']['dec']\n",
    "\n",
    "ax.scatter([ra_t], [dec_t], marker='x', color='black')\n",
    "ax.invert_xaxis()\n",
    "ax.axis('equal')"
   ]
  },
  {
   "cell_type": "code",
   "execution_count": null,
   "id": "ebbdbb64-ed10-4bd9-b5cd-c743b64f870d",
   "metadata": {
    "tags": []
   },
   "outputs": [],
   "source": [
    "with open('regions90.json', 'w') as convert_file: \n",
    "     convert_file.write(json.dumps(regions))"
   ]
  },
  {
   "cell_type": "markdown",
   "id": "fa3babf1-f7d0-46a2-b160-422ec021db52",
   "metadata": {
    "jp-MarkdownHeadingCollapsed": true,
    "tags": []
   },
   "source": [
    "#### **Radial Completeness**"
   ]
  },
  {
   "cell_type": "raw",
   "id": "7ba0720f-16db-46ee-a9df-c8fc01a278bb",
   "metadata": {},
   "source": []
  },
  {
   "cell_type": "code",
   "execution_count": null,
   "id": "aac854c4-0103-408b-8bad-cc42a64b28c7",
   "metadata": {
    "tags": []
   },
   "outputs": [],
   "source": [
    "poss_cen = wcs_n.world_to_pixel_values([[ra,dec]])[0]"
   ]
  },
  {
   "cell_type": "code",
   "execution_count": null,
   "id": "e3a3e805-35f2-4c14-99a4-92a951c203a8",
   "metadata": {
    "tags": []
   },
   "outputs": [],
   "source": [
    "poss_cen[0]"
   ]
  },
  {
   "cell_type": "code",
   "execution_count": null,
   "id": "7fc501fd-7e5b-4b5c-9484-d7be4286d4e9",
   "metadata": {
    "tags": []
   },
   "outputs": [],
   "source": [
    "poss = []\n",
    "for i in range(5):\n",
    "    poss.append([poss_cen[0]+1307.*i,poss_cen[1]])\n",
    "\n",
    "poss = np.array(poss)"
   ]
  },
  {
   "cell_type": "code",
   "execution_count": null,
   "id": "76939bab-45bf-4915-8b3a-4e8e41fd2011",
   "metadata": {
    "tags": []
   },
   "outputs": [],
   "source": [
    "x = poss[:,0]\n",
    "y = poss[:,1]\n",
    "fig, ax = plt.subplots(figsize=(12,4))\n",
    "ax.scatter(x,y)\n",
    "\n",
    "for i,j in poss:\n",
    "        ax.add_patch(Rectangle((i-653.5, j-653.5), 1307,1307, fill = False,\n",
    "                              edgecolor='black', lw=1))\n",
    "\n",
    "\n",
    "ax.set_xlim(0,11417)\n",
    "ax.set_ylim(0,4486)"
   ]
  },
  {
   "cell_type": "code",
   "execution_count": null,
   "id": "c228f8bf-94f5-4133-9b62-ea4f3f7a2c5d",
   "metadata": {
    "tags": []
   },
   "outputs": [],
   "source": [
    "940/20"
   ]
  },
  {
   "cell_type": "code",
   "execution_count": null,
   "id": "b7c200b9-eae7-495c-b2bc-52b5b6f56cb4",
   "metadata": {
    "tags": []
   },
   "outputs": [],
   "source": [
    "coords = np.array(wcs_n.pixel_to_world_values(poss))"
   ]
  },
  {
   "cell_type": "code",
   "execution_count": null,
   "id": "79957c24-9d43-4126-85ad-34d6eb7323d7",
   "metadata": {
    "tags": []
   },
   "outputs": [],
   "source": [
    "coords[0,1]"
   ]
  },
  {
   "cell_type": "code",
   "execution_count": null,
   "id": "35af3dbc-3b65-4004-8642-7aa98feeec25",
   "metadata": {
    "tags": []
   },
   "outputs": [],
   "source": [
    "r = angular_separation(coords[:,0]*u.deg, coords[:,1]*u.deg,\n",
    "                                         coords[0,0]*u.deg, coords[0,1]*u.deg).to(u.arcsec).value*47/1e3"
   ]
  },
  {
   "cell_type": "code",
   "execution_count": null,
   "id": "40e008ec-08cb-4730-acd8-97bbd4ffea63",
   "metadata": {
    "tags": []
   },
   "outputs": [],
   "source": [
    "f115w_c = [24.3, 25.02, 25.76, 26.33, 27.06]\n",
    "f150w_c = [23.45, 24.17, 25.01, 25.51, 25.88]\n",
    "f200w_c = [22.3,  23.03, 23.95, 24.58, 25.04]"
   ]
  },
  {
   "cell_type": "code",
   "execution_count": null,
   "id": "44ff7042-0cc8-4b33-a9ee-e42c94aed286",
   "metadata": {
    "tags": []
   },
   "outputs": [],
   "source": [
    "fig,ax = plt.subplots(figsize=(7,5))\n",
    "\n",
    "ax.plot(r, f115w_c,'-o')\n",
    "ax.plot(r, f150w_c,'-o')\n",
    "ax.plot(r, f200w_c,'-o')\n",
    "ax.legend(['F115W','F150W','F200W'])\n",
    "ax.set_xlabel('r [Mpc]')\n",
    "ax.set_ylabel(r'$m_{50}$')\n",
    "\n",
    "ax.xaxis.set_major_locator(AutoLocator())\n",
    "ax.xaxis.set_minor_locator(AutoMinorLocator())\n",
    "\n",
    "ax.yaxis.set_major_locator(AutoLocator())\n",
    "ax.yaxis.set_minor_locator(AutoMinorLocator())\n",
    "\n",
    "#ax.set_yticks(np.arange(22.5,27,0.5))\n",
    "ax.tick_params(which='both', length=14,direction=\"in\", bottom=True, top=True,left=True, labelsize=12)\n",
    "ax.tick_params(which='minor', length=8)\n",
    "ax.set_title(r'Radial Compleness limit variation')"
   ]
  },
  {
   "cell_type": "code",
   "execution_count": null,
   "id": "71a129b0-2be1-4ca8-85ba-d951ab447f63",
   "metadata": {
    "tags": []
   },
   "outputs": [],
   "source": [
    "regions = {}\n",
    "for n,coord in enumerate(coords):\n",
    "    i = coord[0]\n",
    "    j = coord[1]\n",
    "    regions[f'reg_{n}'] = {}\n",
    "    regions[f'reg_{n}']['ra'] = i\n",
    "    regions[f'reg_{n}']['dec'] = j"
   ]
  },
  {
   "cell_type": "code",
   "execution_count": null,
   "id": "d18a46f4-1a92-4a9c-b290-25471d3d6a5e",
   "metadata": {
    "tags": []
   },
   "outputs": [],
   "source": [
    "regions"
   ]
  },
  {
   "cell_type": "markdown",
   "id": "e272fc95-9a88-4b9e-83a9-b8181f770f9d",
   "metadata": {
    "jp-MarkdownHeadingCollapsed": true,
    "tags": []
   },
   "source": [
    "### **Plots**"
   ]
  },
  {
   "cell_type": "code",
   "execution_count": null,
   "id": "f159ea51-04e4-4ff1-b3fe-59d99db299b1",
   "metadata": {
    "tags": []
   },
   "outputs": [],
   "source": [
    "pos = SkyCoord(ra=ra, dec=dec, unit='deg')"
   ]
  },
  {
   "cell_type": "code",
   "execution_count": null,
   "id": "435fd207-dc92-445e-be91-f1754a8702e4",
   "metadata": {
    "tags": []
   },
   "outputs": [],
   "source": [
    "cutout_m = Cutout2D(data_m,pos,size = 41*u.arcsec, wcs = wcs_m)\n",
    "cutout_n = Cutout2D(data_n,pos,size = 41*u.arcsec, wcs = wcs_n)"
   ]
  },
  {
   "cell_type": "code",
   "execution_count": null,
   "id": "fbdf12cf-77d0-45d3-b1cd-7a968ea94944",
   "metadata": {
    "tags": []
   },
   "outputs": [],
   "source": [
    "cutout_n.data.shape"
   ]
  },
  {
   "cell_type": "code",
   "execution_count": null,
   "id": "ee62c293-6ccf-4686-838c-d5cc2d9559d8",
   "metadata": {
    "tags": []
   },
   "outputs": [],
   "source": [
    "plt.figure(figsize=(32, 20))\n",
    "\n",
    "ax1 = plt.subplot(1, 2, 1, projection=cutout_m.wcs)\n",
    "\n",
    "ax1.set_title(filt_m, fontdict=font2)\n",
    "norm = simple_norm(cutout_m.data, 'sqrt',min_cut=13, max_cut = 40)\n",
    "\n",
    "img = ax1.imshow(cutout_m.data, norm = norm, cmap='gray')\n",
    "# MIRI Contours\n",
    "levels = [13.2,15]\n",
    "cmap = ListedColormap(['yellow','cyan'])\n",
    "smooth_data = gaussian_filter(cutout_m.data, 2)\n",
    "ax1.contour(smooth_data, levels=levels, cmap=cmap)\n",
    "\n",
    "#ax1.grid(color='red', ls='solid')\n",
    "cb = plt.colorbar(img, orientation='horizontal', anchor = (0.5, 1.6))\n",
    "cb.set_label(f\"{imh_m['BUNIT']}\")\n",
    "\n",
    "ax2 = plt.subplot(1, 2, 2, projection=cutout_n.wcs)\n",
    "\n",
    "ax2.set_title(filt_n, fontdict=font2)\n",
    "norm = simple_norm(cutout_n.data, 'log',min_percent=10, max_percent=99., log_a =10)\n",
    "\n",
    "img = ax2.imshow(cutout_n.data, norm = norm, cmap='gray')\n",
    "ax2.contour(smooth_data, levels=levels, cmap=cmap, transform=ax2.get_transform(cutout_m.wcs))\n",
    "#ax2.grid(color='red', ls='solid')\n",
    "cb = plt.colorbar(img, orientation='horizontal', anchor = (0.5, 1.6))\n",
    "cb.set_label(f\"{imh_n['BUNIT']}\")\n",
    "\n",
    "#plt.savefig('MIRI_NIRCAM_bubble.eps', bbox_inches='tight')"
   ]
  },
  {
   "cell_type": "code",
   "execution_count": null,
   "id": "0507aa27-0c14-4354-bd5f-3effce30d68c",
   "metadata": {
    "tags": []
   },
   "outputs": [],
   "source": [
    "cutout_n.data.shape"
   ]
  },
  {
   "cell_type": "markdown",
   "id": "c5ed7b9f-6d58-44b1-b2b8-339e6314adc7",
   "metadata": {
    "jp-MarkdownHeadingCollapsed": true,
    "tags": []
   },
   "source": [
    "### **HST**"
   ]
  },
  {
   "cell_type": "code",
   "execution_count": null,
   "id": "2268ceb0-be8d-4802-b24d-4f25bcfec1d0",
   "metadata": {
    "tags": []
   },
   "outputs": [],
   "source": [
    "images_dir = '../data/NGC_628/HST/'\n",
    "images = sorted(glob.glob(os.path.join(images_dir, \"*/*drc.fits\")))\n",
    "\n",
    "dict_images_hst = {}\n",
    "\n",
    "for image in images:\n",
    "\n",
    "    im = fits.open(image)\n",
    "    if 'FILTER2' in im[0].header.keys():\n",
    "        f = im[0].header['FILTER2']\n",
    "    elif 'FILTER' in im[0].header.keys():\n",
    "        f = im[0].header['FILTER']\n",
    "    \n",
    "    if 'CLEAR' in f:\n",
    "        f = im[0].header['FILTER1']\n",
    "        \n",
    "    d = im[0].header['DETECTOR']\n",
    "\n",
    "    # Image\n",
    "    if d not in dict_images_hst.keys():\n",
    "        dict_images_hst[d] = {}\n",
    "        \n",
    "    if f not in dict_images_hst[d].keys():\n",
    "        dict_images_hst[d][f] =  {'images': [image]}\n",
    "    else:\n",
    "        dict_images_hst[d][f]['images'].append(image)    \n",
    " \n",
    "print('Available Detectors and Filters\\n-------------------------------')\n",
    "      \n",
    "for i in dict_images_hst.keys():\n",
    "    if len(dict_images_hst[i])>0:\n",
    "        print(f'{i} :', list(dict_images_hst[i].keys()))"
   ]
  },
  {
   "cell_type": "code",
   "execution_count": null,
   "id": "cc0818c7-5c2c-4fa9-863a-3bf564deba17",
   "metadata": {
    "tags": []
   },
   "outputs": [],
   "source": [
    "det_n = 'WFC'\n",
    "filt_n = 'F814W'\n",
    "\n",
    "hdul_n = fits.open(dict_images_hst[det_n][filt_n]['images'][0])\n",
    "data_n = hdul_n[1].data\n",
    "\n",
    "imh_n = hdul_n[1].header\n",
    "wcs_n = WCS(imh_n)\n",
    "\n",
    "print(f\"Flux units of {filt_n}: {imh_n['BUNIT']}\")\n",
    "hdul_n.close()"
   ]
  },
  {
   "cell_type": "code",
   "execution_count": null,
   "id": "eac18c30-21d5-40a5-b95f-306503741ac6",
   "metadata": {
    "tags": []
   },
   "outputs": [],
   "source": [
    "pos = SkyCoord(ra=ra, dec=dec, unit='deg')"
   ]
  },
  {
   "cell_type": "code",
   "execution_count": null,
   "id": "2aaffb2f-1efa-42bf-afc5-7948141e55b4",
   "metadata": {
    "tags": []
   },
   "outputs": [],
   "source": [
    "cutout_m = Cutout2D(data_m,pos,size = 50*u.arcsec, wcs = wcs_m)\n",
    "cutout_n = Cutout2D(data_n,pos,size = 50*u.arcsec, wcs = wcs_n)"
   ]
  },
  {
   "cell_type": "code",
   "execution_count": null,
   "id": "63fe45e3-aa3b-4bda-894a-739d60e55757",
   "metadata": {
    "tags": []
   },
   "outputs": [],
   "source": [
    "plt.figure(figsize=(30, 20))\n",
    "\n",
    "ax1 = plt.subplot(1, 2, 1, projection=cutout_m.wcs)\n",
    "\n",
    "ax1.set_title(filt_m, fontdict=font2)\n",
    "norm = simple_norm(cutout_m.data, 'sqrt',min_cut=13, max_cut = 40)\n",
    "\n",
    "img = ax1.imshow(cutout_m.data, norm = norm, cmap='gray')\n",
    "# MIRI Contours\n",
    "levels = [13.2,15]\n",
    "cmap = ListedColormap(['yellow','cyan'])\n",
    "smooth_data = gaussian_filter(cutout_m.data, 2)\n",
    "ax1.contour(smooth_data, levels=levels, cmap=cmap)\n",
    "\n",
    "ax1.grid(color='red', ls='solid')\n",
    "cb = plt.colorbar(img, orientation='horizontal', anchor = (0.5, 1.5))\n",
    "cb.set_label(f\"{imh_m['BUNIT']}\")\n",
    "\n",
    "ax2 = plt.subplot(1, 2, 2, projection=cutout_n.wcs)\n",
    "\n",
    "ax2.set_title(filt_n, fontdict=font2)\n",
    "norm = simple_norm(cutout_n.data, 'sqrt',percent=99.)\n",
    "\n",
    "img = ax2.imshow(cutout_n.data, norm = norm, cmap='gray')\n",
    "ax2.contour(smooth_data, levels=levels, cmap=cmap, transform=ax2.get_transform(cutout_m.wcs))\n",
    "ax2.grid(color='red', ls='solid')\n",
    "cb = plt.colorbar(img, orientation='horizontal', anchor = (0.5, 1.5))\n",
    "cb.set_label(f\"{imh_n['BUNIT']}\")"
   ]
  },
  {
   "cell_type": "markdown",
   "id": "hyqPoq-5U2Iy",
   "metadata": {
    "id": "hyqPoq-5U2Iy",
    "tags": []
   },
   "source": [
    "### **PSF**"
   ]
  },
  {
   "cell_type": "markdown",
   "id": "5kKO70KnU4ho",
   "metadata": {
    "id": "5kKO70KnU4ho",
    "tags": []
   },
   "source": [
    "#### **Synthetic PSF**"
   ]
  },
  {
   "cell_type": "markdown",
   "id": "c9e7594c-d088-4d11-9878-b3ac120ac959",
   "metadata": {
    "tags": []
   },
   "source": [
    "# **Photometric Analysis**"
   ]
  },
  {
   "cell_type": "markdown",
   "id": "e9e219f2-6713-4c34-a0e8-b63e9c0901ff",
   "metadata": {
    "tags": []
   },
   "source": [
    "## **Functions**"
   ]
  },
  {
   "cell_type": "code",
   "execution_count": null,
   "id": "e27a660d-3916-4752-a6e9-bbd3a7d2c17d",
   "metadata": {
    "tags": []
   },
   "outputs": [],
   "source": [
    "def rotate_coords(x,y,h=0,k=0,theta=0,Sx=1,Sy=1):\n",
    "    \n",
    "    X = np.array([x,y,x**0])\n",
    "\n",
    "    T = np.array([[1,0,h],\n",
    "                 [0,1,k],\n",
    "                 [0,0,1]])\n",
    "\n",
    "    Tinv =  np.array([[1,0,-h],\n",
    "                      [0,1,-k],\n",
    "                      [0,0,1]])\n",
    "\n",
    "    R = np.array([[np.cos(theta), -np.sin(theta),0],\n",
    "                  [np.sin(theta),  np.cos(theta),0],\n",
    "                  [0            ,              0,1]])\n",
    "    \n",
    "    S = np.array([[Sx,0,0],\n",
    "                  [0, Sy,0],\n",
    "                  [0,0,1]])\n",
    "    \n",
    "    X_n = T@S@R@Tinv@X\n",
    "    \n",
    "    return X_n[0], X_n[1]"
   ]
  },
  {
   "cell_type": "code",
   "execution_count": null,
   "id": "e8d9bce3-8c9b-401e-a373-61bb96f21d83",
   "metadata": {
    "tags": []
   },
   "outputs": [],
   "source": [
    "def gen_CMD(filt1='f115w', filt2='f150w', filt3=None,name=None,r=333, r_in=None, r_out=None, mag_err_lim=0.2,\n",
    "             out_dir='PHOT_OUTPUT_EPSF',Av=0.19,  Av_ = 3, Av_x=2, Av_y=19, sqr_field=False, ab_dist = True,\n",
    "            dismod=29.95, xlims=[-0.5,2.5], ylims=[18,28], label=3, met=0.02, gen_contours=False,\n",
    "            cmd=None, regions=['bubble','bkg1', 'bkg2','bkg3'], mag_err_cols = ['mag_err_1','mag_err_2'],\n",
    "            gen_kde=False, add_ref=False, add_ext='', fig = None, ax= None, label_min=None, label_max=None,\n",
    "             ra_col = 'ra_1', dec_col= 'dec_1', ages=[7.,8.,9.], alpha=1, age_Z = False,s =0.2,\n",
    "            comp_flag=False, ref_xpos=-0.25):\n",
    "    \n",
    "    if label_min is None or label_max is None:\n",
    "        label_min=0\n",
    "        label_max=label\n",
    "    if filt3 is None:\n",
    "        filt3 = filt2\n",
    "    if met is not None and cmd is not None:\n",
    "        cmd = cmd[cmd['Zini']==met]\n",
    "        \n",
    "    age_lin = []\n",
    "    for i in ages:\n",
    "        if i<6:\n",
    "            age_lin.append(f'{np.ceil(10**i)} Myr')\n",
    "        if i >= 6  and i <9:\n",
    "            i-=6\n",
    "            age_lin.append(f'{np.ceil(10**i)} Myr')\n",
    "        elif i >= 9:\n",
    "            i-=9\n",
    "            age_lin.append(f'{np.ceil(10**i)} Gyr')\n",
    "            \n",
    "    if fig is None:        \n",
    "        fig = plt.figure(figsize=(len(regions)*12,10))\n",
    "        \n",
    "    for i,region in enumerate(regions):\n",
    "        if ax is None:\n",
    "            ax = fig.add_subplot(1,len(regions),int(i+1))\n",
    "        \n",
    "        if name is None:\n",
    "            tab_bub = Table.read(f\"../{out_dir}/{region}/{filt1}_{filt2}{add_ext}.fits\")\n",
    "        else:\n",
    "            tab_bub = Table.read(f\"../{out_dir}/{name}.fits\")\n",
    "            \n",
    "        for i in mag_err_cols:\n",
    "            tab_bub = tab_bub[tab_bub[i]<=mag_err_lim]\n",
    "\n",
    "        AF1 =  Av_dict[filt1]*Av\n",
    "        AF2 =  Av_dict[filt2]*Av\n",
    "        AF3 =  Av_dict[filt3]*Av\n",
    "        \n",
    "        ra_cen = regions_dict[region]['ra']\n",
    "        dec_cen = regions_dict[region]['dec']\n",
    "        \n",
    "        ang = 245.00492\n",
    "        ra_new = (tab_bub[ra_col]-ra_cen)*np.cos(np.pi/180*ang) - (tab_bub[dec_col]-dec_cen)*np.sin(np.pi/180*ang) + ra_cen\n",
    "        dec_new = (tab_bub[ra_col]-ra_cen)*np.sin(np.pi/180*ang) + (tab_bub[dec_col]-dec_cen)*np.cos(np.pi/180*ang) + dec_cen\n",
    "        \n",
    "        tab_bub['temp_ra'] = tab_bub[ra_col]\n",
    "        tab_bub['temp_dec'] = tab_bub[dec_col] \n",
    "        tab_bub[ra_col] = ra_new\n",
    "        tab_bub[dec_col] = dec_new\n",
    "        \n",
    "        tab_bub['r'] = angular_separation(tab_bub[ra_col]*u.deg,tab_bub[dec_col]*u.deg,\n",
    "                                          ra_cen*u.deg, dec_cen*u.deg).to(u.arcsec).value\n",
    "        \n",
    "        if (r_out is None or r_in is None) :\n",
    "            r_in = 0\n",
    "            r_out = r\n",
    "            \n",
    "        if r_out is not None:  \n",
    "            if not sqr_field:\n",
    "                tab_bub = tab_bub[ (tab_bub['r']>=r_in) & (tab_bub['r'] <r_out)]\n",
    "            else:\n",
    "                tab_bub = tab_bub[ (tab_bub[ra_col]>=ra_cen-r_out/3600) & (tab_bub[ra_col]<=ra_cen+r_out/3600) ]\n",
    "                tab_bub = tab_bub[ (tab_bub[dec_col]>=dec_cen-r_out/3600) & (tab_bub[dec_col]<=dec_cen+r_out/3600) ]\n",
    "        \n",
    "        tab_bub[ra_col] = tab_bub['temp_ra']\n",
    "        tab_bub[dec_col] = tab_bub['temp_dec']\n",
    "        tab_bub.remove_columns(['temp_ra', 'temp_dec'])\n",
    "        \n",
    "        x = tab_bub[f'mag_vega_{filt1.upper()}'] - tab_bub[f'mag_vega_{filt2.upper()}']\n",
    "        y = tab_bub[f'mag_vega_{filt3.upper()}'] \n",
    "        \n",
    "        x = x.value.astype(float)\n",
    "        y = y.value.astype(float)\n",
    "        \n",
    "        n_sources = len(x)\n",
    "        \n",
    "        if gen_kde and not gen_contours:\n",
    "            # Peform the kernel density estimate\n",
    "            xx, yy = np.mgrid[xlims[0]:xlims[1]:100j, ylims[0]:ylims[1]:100j]\n",
    "            positions = np.vstack([xx.ravel(), yy.ravel()])\n",
    "            values = np.vstack([x, y])\n",
    "\n",
    "            kernel = gaussian_kde(values, bw_method=0.05)\n",
    "            f = np.reshape(kernel(positions), xx.shape)\n",
    "\n",
    "            f = f.T\n",
    "            img = ax.imshow(f, cmap='gray_r', \n",
    "                          extent=[xlims[0], xlims[1], \n",
    "                                  ylims[0], ylims[1]],\n",
    "                           interpolation='nearest', aspect='auto')\n",
    "\n",
    "            \n",
    "        elif gen_contours:\n",
    "            cmap_custom = LinearSegmentedColormap.from_list(\"custom_grey_to_white\", [\"grey\", \"white\"], N=256)\n",
    "            ax.scatter(x,y, s=0.2, color='black', label='data')\n",
    "            sb.kdeplot(x=x, y=y, levels=[0.1, 0.25,0.5,0.75,0.9,0.95,0.99],\n",
    "                       ax=ax, fill=True, cmap=cmap_custom)\n",
    "            sb.kdeplot(x=x, y=y, levels=[0.1, 0.25,0.5,0.75,0.9,0.95,0.99],\n",
    "                       ax=ax,  color='black')\n",
    "            \n",
    "            \n",
    "        else:\n",
    "            ax.scatter(x,y, s=s, color='black', label='data')\n",
    "         \n",
    "        if ab_dist:\n",
    "            ax1 = ax.twinx()  # instantiate a second axes that shares the same x-axis\n",
    "\n",
    "            ax1.set_ylabel(r'$M_{' + f'{filt3.upper()}' + r'}$')  # we already handled the x-label with ax1\n",
    "\n",
    "        ax.set_xlabel(f\"{filt1.upper()} - {filt2.upper()}\")\n",
    "        ax.set_ylabel(filt3.upper())\n",
    "        \n",
    "        # Error bars\n",
    "        ref = tab_bub[f'mag_vega_{filt2.upper()}']\n",
    "        ref_new = np.arange(np.ceil(y.min()),np.ceil(y.max()) + 0.5,0.5)\n",
    "        \n",
    "        mag_err1 = tab_bub[mag_err_cols[0]]\n",
    "        mag_err2 = tab_bub[mag_err_cols[1]]\n",
    "        \n",
    "        if len(mag_err_cols)>2:\n",
    "            mag_err3 = tab_bub[mag_err_cols[2]]\n",
    "        else:\n",
    "            mag_err3 = mag_err2\n",
    "\n",
    "        col_err = np.sqrt(mag_err1**2 + mag_err2**2)\n",
    "        \n",
    "        init = models.Exponential1D()\n",
    "        fit = fitting.LevMarLSQFitter()\n",
    "        model_col = fit(init,ref,col_err)\n",
    "        \n",
    "        init = models.Exponential1D()\n",
    "        fit = fitting.LevMarLSQFitter()\n",
    "        model_mag = fit(init,ref,mag_err3)\n",
    "        \n",
    "        x = ref_xpos + 0*ref_new\n",
    "        y = ref_new\n",
    "        yerr = model_mag(ref_new)\n",
    "        xerr = model_col(ref_new)\n",
    "\n",
    "        ax.errorbar(x, y, yerr,xerr ,fmt='o', color = 'red', markersize=0.5, capsize=2) \n",
    "        \n",
    "        if cmd is not None:\n",
    "            for i, age in enumerate(ages):\n",
    "                t = cmd[np.round(cmd['logAge'],1)==age].copy()\n",
    "                \n",
    "                mags = np.unique(t['Zini'])\n",
    "                \n",
    "                for Z in mags:\n",
    "                    t_ = t[t['Zini']==Z]\n",
    "                    t_ = t_[(t_['label']>=label_min) & (t_['label']<=label_max)]\n",
    "\n",
    "                    x =  (t_[f'{filt1.upper()}mag'] + AF1) - (t_[f'{filt2.upper()}mag'] + AF2)\n",
    "                    y =  t_[f'{filt3.upper()}mag'] + AF3 + dismod\n",
    "\n",
    "                    mask = (y.values[1:]- y.values[:-1])<1\n",
    "                    mask = np.array([True] + list(mask))\n",
    "                    mask = np.where(~mask, np.nan, 1)\n",
    "\n",
    "                    if len(mags)>1:\n",
    "                        ax.plot(x*mask, y*mask, linewidth=3, label=age_lin[i]+ f' {Z}', alpha=0.6)\n",
    "                    else:\n",
    "                        ax.plot(x*mask, y*mask, linewidth=3, label=age_lin[i], alpha=alpha)\n",
    "                \n",
    "        else: \n",
    "            met = ' '\n",
    "\n",
    "        ax.set_ylim(ylims[0], ylims[1])\n",
    "        ax.set_xlim(xlims[0], xlims[1]) \n",
    "        \n",
    "        yticks = ax.get_yticks()\n",
    "        yticks_n = yticks - dismod\n",
    "        \n",
    "        dy = yticks_n - np.floor(yticks_n)\n",
    "        if ab_dist:\n",
    "            ax1.set_yticks(yticks + dy, np.floor(yticks_n))\n",
    "\n",
    "            ax1.set_ylim(ylims[0], ylims[1])\n",
    "            ax1.set_xlim(xlims[0], xlims[1]) \n",
    "\n",
    "        ax.invert_yaxis()\n",
    "        if ab_dist:\n",
    "            ax1.invert_yaxis()\n",
    "        ax.set_title(region.capitalize() + f\" | No of sources: {n_sources} | Z : {met}\", fontsize=30)\n",
    "            \n",
    "        if add_ref:\n",
    "            ax.plot([xlims[0], xlims[1]],[25,25], '--r', zorder=200)\n",
    "            ax.plot([xlims[0], xlims[1]],[24.5,24.5], '--r', zorder=200)\n",
    "            ax.plot([xlims[0], xlims[1]],[23,23], '--r', zorder=200)\n",
    "         \n",
    "        if comp_flag:\n",
    "            comp_f1 = comp[region][filt1]\n",
    "            comp_f2 = comp[region][filt2]\n",
    "\n",
    "            y0 = comp_f2\n",
    "            x0 = comp_f1 - comp_f2\n",
    "\n",
    "            ax.plot([x0,xlims[1]],[y0,y0])\n",
    "            \n",
    "        ax.legend(fontsize=15)\n",
    "        ax.xaxis.set_major_locator(AutoLocator())\n",
    "        ax.xaxis.set_minor_locator(AutoMinorLocator())\n",
    "\n",
    "        ax.yaxis.set_major_locator(AutoLocator())\n",
    "        ax.yaxis.set_minor_locator(AutoMinorLocator())\n",
    "        \n",
    "\n",
    "        ax.tick_params(which='both', length=14,direction=\"in\", bottom=True, top=True,left=True)\n",
    "        ax.tick_params(which='minor', length=8)\n",
    "        \n",
    "        if ab_dist:\n",
    "            ax1.yaxis.set_minor_locator(AutoMinorLocator())\n",
    "            ax1.tick_params(which='both', length=14,direction=\"in\", right=True)\n",
    "            ax1.tick_params(which='minor', length=8)\n",
    "\n",
    "        AF1_ =  Av_dict[filt1]*Av_\n",
    "        AF2_ =  Av_dict[filt2]*Av_\n",
    "        AF3_ =  Av_dict[filt3]*Av_\n",
    "\n",
    "        dx = AF1_ - AF2_\n",
    "        dy = AF3_\n",
    "\n",
    "        ax.annotate('', xy=(Av_x, Av_y),\n",
    "                     xycoords='data',\n",
    "                     xytext=(Av_x+dx, Av_y+dy),\n",
    "                     textcoords='data',\n",
    "                     arrowprops=dict(arrowstyle= '<|-',\n",
    "                                     color='black',\n",
    "                                     lw=0.5,\n",
    "                                     ls='-')\n",
    "                   )\n",
    "            \n",
    "        ax.annotate(f'Av = {Av_}', xy=(Av_x-0.1, Av_y-0.1))\n",
    "        \n",
    "    fig.tight_layout()\n",
    "    return fig, ax, tab_bub"
   ]
  },
  {
   "cell_type": "code",
   "execution_count": null,
   "id": "69d890f7-0438-46cb-99d3-5bed1a4401eb",
   "metadata": {
    "tags": []
   },
   "outputs": [],
   "source": [
    "def gen_CMD_xcut( filt1='f115w', filt2='f150w',filt3=None,region='bubble', \n",
    "                 name=None, Av=0.19, r=333, sqr_field=False,\n",
    "                 r_in=None, r_out=None, met=0.02, mag_err_cols = ['mag_err_1','mag_err_2'],\n",
    "                 dismod=29.95, fit_slope=False, cmd_ylo=None, cmd_yhi=None,\n",
    "                 mag_err_lim=0.2,label_min=0, label_max=10,\n",
    "                 cmd=None, ra_col = 'ra_1', dec_col= 'dec_1',\n",
    "                out_dir='PHOT_OUTPUT_EPSF', xlims=[-0.5,2.5], ylims=[18,30],\n",
    "                age=9.0, cmd_xlo = None, cmd_xhi= None, age_Z=False,\n",
    "                l_lo = 22, l_hi=26.5, dl=0.5, Av_ = 3,\n",
    "                Av_x=2, Av_y=22, flag=111, fit_isochrone=True, fig=None, ax=None):\n",
    "        \n",
    "    if filt3 is None:\n",
    "        filt3 = filt2\n",
    "        \n",
    "    if met is not None:\n",
    "        cmd = cmd[cmd['Zini']==met]\n",
    "        \n",
    "    if cmd_ylo is None or cmd_yhi is None:\n",
    "        cmd_ylo = l_lo - dl\n",
    "        cmd_yhi = l_hi + dl\n",
    "    \n",
    "    if name is None:\n",
    "        tab_bub = Table.read(f\"../{out_dir}/{region}/{filt1}_{filt2}.fits\")\n",
    "    else:\n",
    "        tab_bub = Table.read(f\"../{out_dir}/{name}.fits\")\n",
    "        \n",
    "    for i in mag_err_cols:\n",
    "        tab_bub = tab_bub[tab_bub[i]<=mag_err_lim]\n",
    "    \n",
    "    AF1 =  Av_dict[filt1]*Av\n",
    "    AF2 =  Av_dict[filt2]*Av\n",
    "    AF3 =  Av_dict[filt3]*Av\n",
    "\n",
    "    ra_cen = regions_dict[region]['ra']\n",
    "    dec_cen = regions_dict[region]['dec']\n",
    "    \n",
    "    ang = 245.00492\n",
    "    ra_new = (tab_bub[ra_col]-ra_cen)*np.cos(np.pi/180*ang) - (tab_bub[dec_col]-dec_cen)*np.sin(np.pi/180*ang) + ra_cen\n",
    "    dec_new = (tab_bub[ra_col]-ra_cen)*np.sin(np.pi/180*ang) + (tab_bub[dec_col]-dec_cen)*np.cos(np.pi/180*ang) + dec_cen\n",
    "\n",
    "    tab_bub['temp_ra'] = tab_bub[ra_col] \n",
    "    tab_bub['temp_dec'] = tab_bub[dec_col] \n",
    "    tab_bub[ra_col] = ra_new\n",
    "    tab_bub[dec_col] = dec_new\n",
    "\n",
    "    tab_bub['r'] = angular_separation(tab_bub[ra_col]*u.deg,tab_bub[dec_col]*u.deg,\n",
    "                                      ra_cen*u.deg, dec_cen*u.deg).to(u.arcsec).value\n",
    "\n",
    "    if (r_out is None or r_in is None) and r is not None:\n",
    "        r_in = 0\n",
    "        r_out = r\n",
    "        \n",
    "    if r_out is not None:    \n",
    "        if not sqr_field:\n",
    "            tab_bub = tab_bub[ (tab_bub['r']>=r_in) & (tab_bub['r'] < r_out)]\n",
    "        else:\n",
    "            tab_bub = tab_bub[ (tab_bub[ra_col]>=ra_cen-r_out/3600) & (tab_bub[ra_col]<=ra_cen+r_out/3600) ]\n",
    "            tab_bub = tab_bub[ (tab_bub[dec_col]>=dec_cen-r_out/3600) & (tab_bub[dec_col]<=dec_cen+r_out/3600) ]\n",
    "\n",
    "    tab_bub[ra_col] = tab_bub['temp_ra']\n",
    "    tab_bub[dec_col] = tab_bub['temp_dec']\n",
    "    tab_bub.remove_columns(['temp_ra', 'temp_dec'])\n",
    "    \n",
    "    x = tab_bub[f'mag_vega_{filt1.upper()}'] - tab_bub[f'mag_vega_{filt2.upper()}']\n",
    "    y = tab_bub[f'mag_vega_{filt3.upper()}'] \n",
    "\n",
    "    x = x.value.astype(float)\n",
    "    y = y.value.astype(float)\n",
    "\n",
    "    if cmd_xlo is None or cmd_xhi is None:\n",
    "        cmd_xlo = x.mean() - 0.5\n",
    "\n",
    "        cmd_xhi = x.mean() + 0.5\n",
    "    \n",
    "    if fig is None or ax is None:\n",
    "        fig = plt.figure(figsize=(7,7))\n",
    "        ax = fig.add_subplot(1,1,1)\n",
    "    \n",
    "    theta = np.arctan(AF3/(AF1-AF2)) #\n",
    "    \n",
    "    ax.scatter(x,y, s=0.1, color='black')\n",
    "    \n",
    "    if cmd is not None:\n",
    "        cmd = cmd[(cmd['label']>=label_min) & (cmd['label']<=label_max)]\n",
    "\n",
    "        t = cmd[np.round(cmd['logAge'],1)==age].copy()\n",
    "\n",
    "        met = np.array(cmd['Zini'])[0]\n",
    "        x_i =  (t[f'{filt1.upper()}mag'] + AF1) - (t[f'{filt2.upper()}mag'] + AF2)\n",
    "        y_i =  t[f'{filt3.upper()}mag'] + AF3 + dismod\n",
    "        \n",
    "        x_i = np.array(x_i)\n",
    "        y_i = np.array(y_i)\n",
    "        \n",
    "        x_iso = x_i.copy()\n",
    "        y_iso = y_i.copy()\n",
    "        \n",
    "        x_i = x_i[np.where( (y_i>=cmd_ylo) & (y_i<=cmd_yhi))[0]]\n",
    "        y_i = y_i[np.where( (y_i>=cmd_ylo) & (y_i<=cmd_yhi))[0]]\n",
    "        \n",
    "        ax.plot(x_iso,y_iso, zorder=300,color='red')\n",
    "\n",
    "        ax.legend(['data', f'age = {age}'])\n",
    "\n",
    "    x_l = np.linspace(cmd_xlo, cmd_xhi)    \n",
    "\n",
    "    # Bin mid points\n",
    "    y_rgbn = np.arange(l_lo, l_hi, dl)\n",
    "    \n",
    "    y_rgb_mid = y_rgbn[:-1] + dl/2   \n",
    "    \n",
    "    if fit_isochrone:\n",
    "        init = models.Linear1D()\n",
    "        fit = fitting.LinearLSQFitter()\n",
    "        model_iso = fit(init, y_i, x_i)\n",
    "        \n",
    "        ax.plot(model_iso(np.linspace(l_lo-0.1,l_hi+0.1)),\n",
    "                          np.linspace(l_lo-0.1,l_hi+0.1),'--g', \n",
    "               zorder=400)\n",
    "                \n",
    "        if fit_slope:\n",
    "            theta = np.arctan(-model_iso.slope.value)\n",
    "        \n",
    "    else:\n",
    "        model_iso = interp1d(y_i, x_i)\n",
    "        \n",
    "    x_rgb_mid = model_iso(y_rgb_mid)\n",
    "    \n",
    "    ax.scatter(x_rgb_mid, y_rgb_mid, c='r' ,zorder = 200)\n",
    "\n",
    "    dats = []\n",
    "    \n",
    "    dx = (cmd_xhi-cmd_xlo)/2\n",
    "    for i,y0 in enumerate(y_rgbn[:-1]):\n",
    "\n",
    "        # Extinction Vector\n",
    "        x0 = model_iso(y0)\n",
    "        y_Avl = y0 + np.tan(theta)*(x_l-x0)\n",
    "        \n",
    "        x01 = model_iso(y0 + dl)\n",
    "        y_Avu = y0 + dl + np.tan(theta)*(x_l-x01)\n",
    "\n",
    "        ax.plot(x_l,y_Avl, color='grey')\n",
    "        ax.plot(x_l,y_Avu, color='grey')\n",
    "\n",
    "        init = models.Linear1D()\n",
    "        fit = fitting.LinearLSQFitter()\n",
    "        \n",
    "        model_Avl = fit(init, x_l, y_Avl)\n",
    "        model_Avu = fit(init, x_l, y_Avu)\n",
    "\n",
    "        c1 = (y>model_Avl(x)) & (y<=model_Avu(x))\n",
    "        c2 = (x>=x_rgb_mid[i]-dx) & (x<=x_rgb_mid[i]+dx) \n",
    "\n",
    "        yn = y[np.where(c1&c2)]\n",
    "        xn = x[np.where(c1&c2)]\n",
    "        \n",
    "        dat = np.array([xn, yn])\n",
    "        dats.append(dat)\n",
    "    \n",
    "    ax.set_xlabel(f\"{filt1.upper()} - {filt2.upper()}\")\n",
    "    ax.set_ylabel(filt3.upper())\n",
    "\n",
    "    ax.set_ylim(ylims[0], ylims[1])\n",
    "    ax.set_xlim(xlims[0], xlims[1])  \n",
    "    ax.invert_yaxis()\n",
    "    ax.set_title(region.capitalize())\n",
    "\n",
    "    ax.xaxis.set_major_locator(AutoLocator())\n",
    "    ax.xaxis.set_minor_locator(AutoMinorLocator())\n",
    "\n",
    "    ax.yaxis.set_major_locator(AutoLocator())\n",
    "    ax.yaxis.set_minor_locator(AutoMinorLocator())\n",
    "\n",
    "    ax.tick_params(which='both', length=7,direction=\"in\", bottom=True, top=True,left=True, right=True)\n",
    "    ax.tick_params(which='minor', length=4)\n",
    "    \n",
    "    AF1_ =  Av_dict[filt1]*Av_\n",
    "    AF2_ =  Av_dict[filt2]*Av_\n",
    "    AF3_ =  Av_dict[filt3]*Av_\n",
    "    \n",
    "    dx = AF1_ - AF2_\n",
    "    dy = AF3_\n",
    "\n",
    "    ax.annotate('', xy=(Av_x, Av_y),\n",
    "                 xycoords='data',\n",
    "                 xytext=(Av_x+dx, Av_y+dy),\n",
    "                 textcoords='data',\n",
    "                 arrowprops=dict(arrowstyle= '<|-',\n",
    "                                 color='black',\n",
    "                                 lw=0.5,\n",
    "                                 ls='-')\n",
    "               )\n",
    "\n",
    "    ax.annotate(f'Av = {Av_}', xy=(Av_x-0.1, Av_y-0.1))\n",
    "    \n",
    "    return fig, ax, dats, x_rgb_mid, y_rgb_mid, y_rgbn"
   ]
  },
  {
   "cell_type": "code",
   "execution_count": null,
   "id": "743965c2-6a93-4998-8053-35aaab9b906d",
   "metadata": {
    "tags": []
   },
   "outputs": [],
   "source": [
    "def gen_CMD_ycut( filt1='f115w', filt2='f150w', filt3=None,region='bubble',name=None, Av=0.19, r=333,\n",
    "                r_in=None, r_out=None, fig = None, ax = None, met=0.02, mag_err_lim=0.2, mag_err_cols = ['mag_err_1','mag_err_2'],\n",
    "                dismod=29.95, cmd=None, label=3, ra_col = 'ra_1', dec_col= 'dec_1',\n",
    "                out_dir='PHOT_OUTPUT_r25', xlims=[-0.5,2.5], ylims=[18,30], sqr_field=False,\n",
    "                age=9.0, cmd_xlo = None, cmd_xhi= None, gen_kde=False, age_Z=False, perp_iso=False,\n",
    "                l_lo = 22, l_hi=26.5, dl=0.5, Av_ = 3,ref_xpos=0.25,\n",
    "                Av_x=2, Av_y=22, fit_isochrone=True,y0=None):\n",
    "    \n",
    "    if filt3 is None:\n",
    "        filt3 = filt2\n",
    "    if met is not None:\n",
    "        if 'Zini' in cmd.keys():\n",
    "            cmd = cmd[cmd['Zini']==met]\n",
    "        else:\n",
    "            cmd = cmd[cmd['Zini_1']==met]  \n",
    "            \n",
    "    cmd_ylo = l_lo\n",
    "    cmd_yhi = l_hi\n",
    "    \n",
    "    age_lin = []\n",
    "    for i in [age]:\n",
    "        if i<6:\n",
    "            age_lin.append(f'{np.ceil(10**i)} Myr')\n",
    "        if i >= 6  and i <9:\n",
    "            i-=6\n",
    "            age_lin.append(f'{np.ceil(10**i)} Myr')\n",
    "        elif i >= 9:\n",
    "            i-=9\n",
    "            age_lin.append(f'{np.ceil(10**i)} Gyr')\n",
    "            \n",
    "    \n",
    "    if name is None:\n",
    "        tab_bub = Table.read(f\"../{out_dir}/{region}/{filt1}_{filt2}.fits\")\n",
    "    else:\n",
    "        tab_bub = Table.read(f\"../{out_dir}/{name}.fits\")\n",
    "        \n",
    "    mag_errs = [i for i in tab_bub.keys() if 'mag_err' in i]\n",
    "        \n",
    "    for i in mag_errs:\n",
    "        tab_bub = tab_bub[tab_bub[i]<=mag_err_lim]\n",
    "\n",
    "    AF1 =  Av_dict[filt1]*Av\n",
    "    AF2 =  Av_dict[filt2]*Av\n",
    "    AF3 =  Av_dict[filt3]*Av\n",
    "\n",
    "    ra_cen = regions_dict[region]['ra']\n",
    "    dec_cen = regions_dict[region]['dec']\n",
    "\n",
    "    tab_bub['r'] = angular_separation(tab_bub[ra_col]*u.deg,tab_bub[dec_col]*u.deg,\n",
    "                                      ra_cen*u.deg, dec_cen*u.deg).to(u.arcsec).value\n",
    "    \n",
    "    ang = 245.00492\n",
    "    ra_new = (tab_bub[ra_col]-ra_cen)*np.cos(np.pi/180*ang) - (tab_bub[dec_col]-dec_cen)*np.sin(np.pi/180*ang) + ra_cen\n",
    "    dec_new = (tab_bub[ra_col]-ra_cen)*np.sin(np.pi/180*ang) + (tab_bub[dec_col]-dec_cen)*np.cos(np.pi/180*ang) + dec_cen\n",
    "\n",
    "    tab_bub['temp_ra'] = tab_bub[ra_col].copy()\n",
    "    tab_bub['temp_dec'] = tab_bub[dec_col].copy()\n",
    "    tab_bub[ra_col] = ra_new\n",
    "    tab_bub[dec_col] = dec_new\n",
    "    \n",
    "    if r_out is None or r_in is None :\n",
    "        r_in = 0\n",
    "        r_out = r\n",
    "\n",
    "    if r_out is not None:    \n",
    "        if not sqr_field:\n",
    "            tab_bub = tab_bub[ (tab_bub['r']>=r_in) & (tab_bub['r'] < r_out)]\n",
    "        else:\n",
    "            \n",
    "            tab_bub = tab_bub[ (tab_bub[ra_col]>=ra_cen-r_out/3600) & (tab_bub[ra_col]<=ra_cen+r_out/3600) ]\n",
    "            tab_bub = tab_bub[ (tab_bub[dec_col]>=dec_cen-r_out/3600) & (tab_bub[dec_col]<=dec_cen+r_out/3600) ]\n",
    "\n",
    "    tab_bub[ra_col] = tab_bub['temp_ra']\n",
    "    tab_bub[dec_col] = tab_bub['temp_dec']\n",
    "    tab_bub.remove_columns(['temp_ra', 'temp_dec'])\n",
    "    \n",
    "    x = tab_bub[f'mag_vega_{filt1.upper()}'] - tab_bub[f'mag_vega_{filt2.upper()}']\n",
    "    y = tab_bub[f'mag_vega_{filt3.upper()}'] \n",
    "    \n",
    "    x = x.value.astype(float)\n",
    "    y = y.value.astype(float)\n",
    "    \n",
    "    if cmd_xlo is None or cmd_xhi is None:\n",
    "        cmd_xlo = x.mean() - 1\n",
    "\n",
    "        cmd_xhi = x.mean() + 1\n",
    "    \n",
    "    if fig is None or ax is None:\n",
    "        fig = plt.figure(figsize=(7,7))\n",
    "        ax = fig.add_subplot(1,1,1)\n",
    "    l = []\n",
    "    if gen_kde:\n",
    "\n",
    "        # Peform the kernel density estimate\n",
    "        xx, yy = np.mgrid[xlims[0]:xlims[1]:100j, ylims[0]:ylims[1]:100j]\n",
    "        positions = np.vstack([xx.ravel(), yy.ravel()])\n",
    "        values = np.vstack([x, y])\n",
    "\n",
    "        kernel = gaussian_kde(values, bw_method=0.05)\n",
    "        f = np.reshape(kernel(positions), xx.shape)\n",
    "\n",
    "        f = f.T\n",
    "        img = ax.imshow(f, cmap='jet', \n",
    "                      extent=[xlims[0], xlims[1], \n",
    "                              ylims[0], ylims[1]],\n",
    "                       interpolation='nearest', aspect='auto')\n",
    "            \n",
    "    else:\n",
    "        ax.scatter(x,y, s=0.2, color='black')\n",
    "        l.append('data')\n",
    "        \n",
    "    l_ = [i for i in cmd.keys() if 'logAge' in i][0]\n",
    "    \n",
    "    if cmd is not None:\n",
    "        t = cmd[np.round(cmd[l_],1)==age].copy()\n",
    "        t = t[t['label']<=label]\n",
    "        x_i =  (t[f'{filt1.upper()}mag'] + AF1) - (t[f'{filt2.upper()}mag'] + AF2)\n",
    "        y_i =  t[f'{filt3.upper()}mag']\n",
    "        # Max mag and Color\n",
    "        M = y_i.min()\n",
    "        c_ = x_i[y_i==y_i.min()].values[0]\n",
    "        \n",
    "        y_i +=   AF3 + dismod\n",
    "        \n",
    "        x_i = np.array(x_i)\n",
    "        y_i = np.array(y_i)\n",
    "        \n",
    "        x_iso = x_i.copy()\n",
    "        y_iso = y_i.copy()\n",
    "        \n",
    "\n",
    "        x_i = x_i[np.where( (y_i>=cmd_ylo-0.5) & (y_i<=cmd_yhi+0.5))[0]]\n",
    "        y_i = y_i[np.where( (y_i>=cmd_ylo-0.5) & (y_i<=cmd_yhi+0.5))[0]]\n",
    "\n",
    "        y_i = y_i[np.where( (x_i>=cmd_xlo-0.2) & (x_i<=cmd_xhi+0.2))[0]]\n",
    "        x_i = x_i[np.where( (x_i>=cmd_xlo-0.2) & (x_i<=cmd_xhi+0.2))[0]]\n",
    "        \n",
    "        ax.plot(x_iso,y_iso, zorder=200, color='black')\n",
    "        \n",
    "        l.append(f'Age = {age_lin[0]}')\n",
    "\n",
    "    x_l = np.linspace(0, 2)    \n",
    "\n",
    "    # Bin mid points\n",
    "    x_rgbn = np.arange(cmd_xlo, cmd_xhi, dl)\n",
    "    \n",
    "    x_rgb_mid = x_rgbn[:-1]+dl/2   \n",
    "    \n",
    "    if fit_isochrone:\n",
    "        init = models.Linear1D()\n",
    "        fit = fitting.LinearLSQFitter()\n",
    "        model_iso = fit(init, x_i, y_i)\n",
    "        slope = 1/model_iso.slope.value\n",
    "    \n",
    "    elif perp_iso:\n",
    "        slope=0\n",
    "        \n",
    "    else:\n",
    "        model_iso = interp1d(x_i, y_i)\n",
    "        slope = 1/model_iso.slope.value\n",
    "    \n",
    "    if y0 is None:\n",
    "        y0 = y.mean()\n",
    "    y_rgb_mid = y0 + x_rgb_mid*0\n",
    "\n",
    "    dats = []\n",
    "    \n",
    "    x0 = 1# x.mean()\n",
    "    init = models.Linear1D()\n",
    "    fit = fitting.LinearLSQFitter()\n",
    "    for x0 in x_rgbn[:-1]:\n",
    "        \n",
    "        y_l = np.linspace(cmd_ylo, cmd_yhi)\n",
    "        x_l = slope*(y_l - y0) + x0\n",
    "        \n",
    "        y_r = np.linspace(cmd_ylo, cmd_yhi)\n",
    "        x_r = slope*(y_r - y0) + x0 + dl\n",
    "\n",
    "        ax.plot(x_l,y_l, color='red')\n",
    "        ax.plot(x_r,y_r, color='red')\n",
    "\n",
    "        init = models.Linear1D()\n",
    "        fit = fitting.LinearLSQFitter()\n",
    "        \n",
    "        model_l = fit(init, y_l,x_l)\n",
    "        model_r = fit(init, y_r,x_r)\n",
    "\n",
    "        c1 = (x>model_l(y)) & (x<=model_r(y))\n",
    "\n",
    "        yn = y[np.where(c1)]\n",
    "        xn = x[np.where(c1)]\n",
    "        if not gen_kde:\n",
    "            ax.scatter(xn,yn, s =0.1, color='green', zorder=100)\n",
    "        dat = np.array([xn, yn])\n",
    "        dats.append(dat)\n",
    "    \n",
    "    ref = tab_bub[f'mag_vega_{filt2.upper()}']\n",
    "    ref_new = np.arange(np.ceil(y.min()),np.ceil(y.max()) + 0.5,0.5)\n",
    "\n",
    "    mag_err1 = tab_bub[mag_err_cols[0]]\n",
    "    mag_err2 = tab_bub[mag_err_cols[1]]\n",
    "\n",
    "    if len(mag_err_cols)>2:\n",
    "        mag_err3 = tab_bub[mag_err_cols[2]]\n",
    "    else:\n",
    "        mag_err3 = mag_err2\n",
    "\n",
    "    col_err = np.sqrt(mag_err1**2 + mag_err2**2)\n",
    "\n",
    "    init = models.Exponential1D()\n",
    "    fit = fitting.LevMarLSQFitter()\n",
    "    model_col = fit(init,ref,col_err)\n",
    "\n",
    "    init = models.Exponential1D()\n",
    "    fit = fitting.LevMarLSQFitter()\n",
    "    model_mag = fit(init,ref,mag_err3)\n",
    "\n",
    "    x = ref_xpos + 0*ref_new\n",
    "    y = ref_new\n",
    "    yerr = model_mag(ref_new)\n",
    "    xerr = model_col(ref_new)\n",
    "\n",
    "    ax.errorbar(x, y, yerr,xerr ,fmt='o', color = 'red', markersize=0.5, capsize=2) \n",
    "    \n",
    "    AF1_ =  Av_dict[filt1]*Av_\n",
    "    AF2_ =  Av_dict[filt2]*Av_\n",
    "    AF3_ =  Av_dict[filt3]*Av_\n",
    "    \n",
    "    dx = AF1_ - AF2_\n",
    "    dy = AF3_\n",
    "\n",
    "    ax.annotate('', xy=(Av_x, Av_y),\n",
    "                 xycoords='data',\n",
    "                 xytext=(Av_x+dx, Av_y+dy),\n",
    "                 textcoords='data',\n",
    "                 arrowprops=dict(arrowstyle= '<|-',\n",
    "                                 color='black',\n",
    "                                 lw=0.5,\n",
    "                                 ls='-')\n",
    "               )\n",
    "\n",
    "    ax.annotate(f'Av = {Av_}', xy=(Av_x-0.1, Av_y-0.1))\n",
    "    \n",
    "    ax.set_xlabel(f\"{filt1.upper()} - {filt2.upper()}\")\n",
    "    ax.set_ylabel(filt3.upper())\n",
    "\n",
    "    ax.set_ylim(ylims[0], ylims[1])\n",
    "    ax.set_xlim(xlims[0], xlims[1])  \n",
    "    ax.invert_yaxis()\n",
    "    title = f\" | Z : {met} | \" + \"$M_\" + \"{\" + f\"{filt3.upper()}\" +r\"}^{TRGB}$ : \" + f\"{M} | \"\n",
    "    title += r\"$A_{\" + f\"{filt3.upper()}\" + r\"}$ : \" + f\"{np.round(AF3,3)}\"\n",
    "    ax.set_title(region.capitalize() + title,\n",
    "                fontsize=15)\n",
    "\n",
    "    ax.xaxis.set_major_locator(AutoLocator())\n",
    "    ax.xaxis.set_minor_locator(AutoMinorLocator())\n",
    "\n",
    "    ax.yaxis.set_major_locator(AutoLocator())\n",
    "    ax.yaxis.set_minor_locator(AutoMinorLocator())\n",
    "\n",
    "    ax.tick_params(which='both', length=7,direction=\"in\", bottom=True, top=True,left=True, right=True)\n",
    "    ax.tick_params(which='minor', length=4)\n",
    "    ax.legend(l)\n",
    "    \n",
    "    return fig, ax, dats, x_rgb_mid, y_rgb_mid, x_rgbn, [M, AF3, c_]"
   ]
  },
  {
   "cell_type": "code",
   "execution_count": null,
   "id": "949cd894-e6d6-4f01-8515-b94c32db219e",
   "metadata": {
    "tags": []
   },
   "outputs": [],
   "source": [
    "Av_dict = { \n",
    "            'f275w': 2.02499,\n",
    "            'f336w': 1.67536,\n",
    "            'f435w': 1.33879,\n",
    "            'f555w': 1.03065,\n",
    "            'f814w': 0.59696,\n",
    "            'f115w': 0.32726,\n",
    "            'f150w': 0.21461,\n",
    "            'f200w': 0.13589,\n",
    "          }"
   ]
  },
  {
   "cell_type": "code",
   "execution_count": null,
   "id": "86f1f6df-c1ea-4606-bd00-8aef661619f2",
   "metadata": {
    "tags": []
   },
   "outputs": [],
   "source": [
    "Av_dict = { \n",
    "            'f275w': 2.02499,\n",
    "            'f336w': 1.67536,\n",
    "            'f435w': 1.33879,\n",
    "            'f555w': 1.03065,\n",
    "            'f814w': 0.59696,\n",
    "            'f115w': 0.419,\n",
    "            'f150w': 0.287,\n",
    "            'f200w': 0.195,\n",
    "          }"
   ]
  },
  {
   "cell_type": "code",
   "execution_count": null,
   "id": "47d1134f-5e70-4b58-9ac6-cba04c1c6b91",
   "metadata": {
    "tags": []
   },
   "outputs": [],
   "source": [
    "regions_dict = {'bubble' : {'ra'   : 24.1858128,  \n",
    "                       'dec'  : 15.7725802,\n",
    "                       'F115W': 25.4, \n",
    "                       'F150W': 24.63,\n",
    "                       'F200W': 23.53,\n",
    "                      \n",
    "                       'F435W': 27.88, \n",
    "                       'F555W': 27.48,\n",
    "                       'F814W': 26.52},\n",
    "           \n",
    "           'bkg1'   : {'ra'   : 24.1918038,\n",
    "                       'dec'  : 15.7600032,\n",
    "                       'F115W': 26., \n",
    "                       'F150W': 25.26,\n",
    "                       'F200W': 24.21,\n",
    "                      \n",
    "                      'F435W': 28.26, \n",
    "                       'F555W': 27.94,\n",
    "                       'F814W': 27.05},\n",
    "              \n",
    "           'bkg2'   : {'ra'   : 24.1787197,\n",
    "                       'dec'  : 15.7543227,\n",
    "                       'F115W': 26.31, \n",
    "                       'F150W': 25.39,\n",
    "                       'F200W': 24.39,\n",
    "                      \n",
    "                      'F435W': 28.26, \n",
    "                       'F555W': 27.94,\n",
    "                       'F814W': 27.05},\n",
    "              \n",
    "           'bkg3'   : {'ra'   : 24.1728133,\n",
    "                       'dec'  : 15.7669357,\n",
    "                       'F115W': 25.42, \n",
    "                       'F150W': 24.55,\n",
    "                       'F200W': 23.56,\n",
    "                      \n",
    "                      'F435W': 27.88, \n",
    "                       'F555W': 27.48,\n",
    "                       'F814W': 26.52},\n",
    "                \n",
    "            'galaxy' : {'ra'   : 24.1738983, \n",
    "                       'dec'  : 15.7836543,\n",
    "                       'F115W': 25.42, \n",
    "                       'F150W': 24.55,\n",
    "                       'F200W': 23.56},\n",
    "                             \n",
    "            'filament' : {'ra': 24.1498621,\n",
    "                           'dec': 15.8016441,\n",
    "                          },  \n",
    "                \n",
    "            'bubble_2' : {'ra': 24.1700350,\n",
    "                           'dec': 15.8027816,\n",
    "                          },\n",
    "                \n",
    "            'bubble_3' : {'ra':  24.1812907,\n",
    "                           'dec': 15.7964848,\n",
    "                          },\n",
    "                 \n",
    "            'bubble_4' : {'ra':  24.1802360,\n",
    "                           'dec': 15.8082074,\n",
    "                          },\n",
    "                 \n",
    "            'bubble_5' : {'ra':  24.1654172,\n",
    "                           'dec': 15.7645942,\n",
    "                          },  \n",
    "            'bubble_6' : {'ra':  24.1783925,\n",
    "                           'dec': 15.7485323,\n",
    "                          }, \n",
    "                \n",
    "            'outer' : {'ra':  24.1495874,\n",
    "                           'dec': 15.8120031,\n",
    "                          },\n",
    "               }\n",
    "with open('regions90.json') as json_file:\n",
    "    data = json.load(json_file)\n",
    "    \n",
    "regions_dict.update(data)"
   ]
  },
  {
   "cell_type": "markdown",
   "id": "57eb036e-d3e4-4849-ac65-df4053204509",
   "metadata": {
    "tags": []
   },
   "source": [
    "## **JWST**"
   ]
  },
  {
   "cell_type": "markdown",
   "id": "e7711860-4f61-45c7-9c88-b7d2a3261163",
   "metadata": {
    "tags": []
   },
   "source": [
    "### **PARSEC Isochrones**"
   ]
  },
  {
   "cell_type": "code",
   "execution_count": null,
   "id": "e8e3f8b7-5733-455e-8331-003863940877",
   "metadata": {
    "tags": []
   },
   "outputs": [],
   "source": [
    "with open(\"../data/isochrones_master/cmd_jwst_n.dat\") as f:\n",
    "    dat = f.readlines()\n",
    "\n",
    "data = []\n",
    "\n",
    "for i,d in enumerate(dat[13:]):\n",
    "    if 'Zini' not in d and 'terminated' not in d:\n",
    "        data.append([float(i) for i in d.split()])\n",
    "        \n",
    "df_cmd = pd.DataFrame(data,columns=dat[13][2:].split())\n",
    "df_cmd.to_csv(\"../data/isochrones_master/cmd_jwst.csv\")"
   ]
  },
  {
   "cell_type": "code",
   "execution_count": null,
   "id": "49b87217-4ed0-48cd-9acf-99b71495e039",
   "metadata": {
    "tags": []
   },
   "outputs": [],
   "source": [
    "df_cmd_jwst = pd.read_csv(\"../data/isochrones_master/cmd_jwst.csv\")"
   ]
  },
  {
   "cell_type": "code",
   "execution_count": null,
   "id": "dc116844-bcf8-45c2-a058-8e2bf4ca0244",
   "metadata": {
    "tags": []
   },
   "outputs": [],
   "source": [
    "ages= np.unique(df_cmd_jwst['logAge'])\n",
    "mets = np.unique(df_cmd_jwst['Zini'])"
   ]
  },
  {
   "cell_type": "code",
   "execution_count": null,
   "id": "e6a1cc34-6dbe-4beb-983f-f98de9151dbe",
   "metadata": {
    "tags": []
   },
   "outputs": [],
   "source": [
    "ages,mets"
   ]
  },
  {
   "cell_type": "code",
   "execution_count": null,
   "id": "b7316881-62d0-409d-92a0-def433e9cf80",
   "metadata": {
    "tags": []
   },
   "outputs": [],
   "source": [
    "if not os.path.exists('../data/isochrones/JWST'):\n",
    "    os.mkdir('../data/isochrones/JWST/')\n",
    "else:\n",
    "    os.system('rm ../data/isochrones/JWST/*')\n",
    "\n",
    "\n",
    "for i, age in enumerate([10]):  \n",
    "\n",
    "    print(age)\n",
    "    if len(str(i+1))==1:\n",
    "        i = '0' + str(i+1)\n",
    "    else:\n",
    "        i =  str(i+1)\n",
    "\n",
    "    for met in mets:\n",
    "        temp = df_cmd_jwst[np.round(df_cmd_jwst['logAge'],1)==age]\n",
    "        temp = temp[(temp['Zini']==met) & (temp['label']<=10)]\n",
    "\n",
    "        temp = temp[['label', 'Mini', 'F115Wmag', 'F150Wmag', 'F200Wmag', 'Zini', 'logAge']]\n",
    "\n",
    "        header = list(temp.keys())\n",
    "        header[0] = '#' + header[0]\n",
    "        \n",
    "#        if (met==0.02 and age<=9) or (met==0.006 and age>9):\n",
    "        temp = temp[temp['label']<=3]\n",
    "        temp.to_csv(f'../data/isochrones/JWST/{i}_PARSEC1.2S_Z{met}_logAGE{age}Myr_JWST_JHK.isoc',sep=' ',\n",
    "                       index=None, header = header)"
   ]
  },
  {
   "cell_type": "code",
   "execution_count": null,
   "id": "dee8fc8b-463c-4d4a-8110-9500a61c82f0",
   "metadata": {
    "tags": []
   },
   "outputs": [],
   "source": [
    "ages_ = np.round(np.log10([6e6, 1e7,2e7, 3e7, 5e7,1e8,5e8, 1e9, 5e9, 1e10]),1)\n",
    "mag_err_lim = 0.2"
   ]
  },
  {
   "cell_type": "markdown",
   "id": "2bb152bd-abfb-4dc8-ab2f-2f477e10b541",
   "metadata": {
    "jp-MarkdownHeadingCollapsed": true,
    "tags": []
   },
   "source": [
    "### **CMD**\n",
    "\n",
    "Label: 0=PMS, 1=MS, 2=SGB, 3=RGB, (4,5,6)=different stages of CHEB, 7=EAGB, 8=TPAGB, 9=post-AGB"
   ]
  },
  {
   "cell_type": "code",
   "execution_count": null,
   "id": "ff369b0d-e831-4496-8e5b-fa27794e070a",
   "metadata": {
    "tags": []
   },
   "outputs": [],
   "source": [
    "r_in = 0\n",
    "r_out = 10\n",
    "\n",
    "fig,ax,tab = gen_CMD('f115w', 'f150w', cmd=df_cmd_jwst, r=None, gen_kde=False, \n",
    "                 r_in=r_in, r_out=r_out,Av_x=2, Av_y=27, Av_=2, ages=ages,\n",
    "                 dismod=30.04,\n",
    "                 label=3, met=0.006, out_dir='PHOT_OUTPUT_r25',  regions=['bubble'])"
   ]
  },
  {
   "cell_type": "code",
   "execution_count": null,
   "id": "84bc7e30-0dc6-4e33-943a-686a0dfa1590",
   "metadata": {
    "tags": []
   },
   "outputs": [],
   "source": [
    "r_in = 0\n",
    "r_out = 10\n",
    "\n",
    "fig,ax,tab = gen_CMD('f115w', 'f200w', cmd=df_cmd_jwst, r=None, xlims=[-0.5,1.8], Av_x=1,Av_y=27,\n",
    "                  label=9, met=0.006, r_in=r_in, r_out=r_out, ages=ages,\n",
    "                 out_dir='PHOT_OUTPUT_r25', regions=['bubble'])"
   ]
  },
  {
   "cell_type": "code",
   "execution_count": null,
   "id": "0dfba157-f820-4245-b4e6-bc00aca62566",
   "metadata": {
    "tags": []
   },
   "outputs": [],
   "source": [
    "r_in = 0\n",
    "r_out = 0.3\n",
    "\n",
    "fig,ax1, tab = gen_CMD('f115w', 'f200w', 'f200w',name = 'stage2/f115w_f150w_f200w',\n",
    "                       cmd=df_cmd_jwst[(df_cmd_jwst['Zini']>=0.003)&(df_cmd_jwst['Zini']<0.009)], r=None, Av_=1, Av_x=1.5, Av_y=27, xlims=[-0.5,2], ylims=[17,30],\n",
    "                 out_dir='PHOT_OUTPUT_r40.5',gen_kde=False, label_min=0, label_max=3, met=None,dismod=30.04, ages=[9.0,9.2,9.4,9.6,9.8,10.,10.1],\n",
    "                 r_in=r_in, r_out=r_out,regions=['bubble'])\n",
    "ax1.set_title('')\n",
    "#ax1.get_legend().remove() "
   ]
  },
  {
   "cell_type": "code",
   "execution_count": null,
   "id": "379fa7e9-4d64-43f2-aca3-b652e4bef1db",
   "metadata": {
    "tags": []
   },
   "outputs": [],
   "source": [
    "r_in = 0\n",
    "r_out = 12\n",
    "fig,ax1, tab = gen_CMD('f115w', 'f200w', 'f115w',name = 'ngc628/f115w_f200w',  cmd=None, r=None, Av_=1, Av_x=2.5, Av_y=26, xlims=[-0.5,4], ylims=[17,28],\n",
    "                 out_dir='photometry',gen_kde=False, label=10, met=0.003,dismod=29.95, ages=ages_,\n",
    "                 r_in=r_in, r_out=r_out,\n",
    "                regions=['bkg3'])"
   ]
  },
  {
   "cell_type": "code",
   "execution_count": null,
   "id": "af7916a5-2051-4f61-ba6d-94cbe8eaa623",
   "metadata": {
    "tags": []
   },
   "outputs": [],
   "source": [
    "x = tab['mag_vega_F200W']\n",
    "y = tab['mag_err_2']\n",
    "\n",
    "fig, ax = plt.subplots()\n",
    "\n",
    "ax.scatter(x,y,s=0.1, color='black')\n",
    "\n",
    "ax.set_xlabel('F200W (vega)')\n",
    "ax.set_ylabel('mag_err')\n",
    "\n",
    "ax.xaxis.set_major_locator(AutoLocator())\n",
    "ax.xaxis.set_minor_locator(AutoMinorLocator())\n",
    "\n",
    "ax.yaxis.set_major_locator(AutoLocator())\n",
    "ax.yaxis.set_minor_locator(AutoMinorLocator())\n",
    "\n",
    "ax.tick_params(which='both', length=7,direction=\"in\", bottom=True, top=True,left=True, right=True)\n",
    "ax.tick_params(which='minor', length=4)"
   ]
  },
  {
   "cell_type": "code",
   "execution_count": null,
   "id": "ff3b5884-0166-41eb-afc4-09c8e91b23a5",
   "metadata": {
    "tags": []
   },
   "outputs": [],
   "source": [
    "r_in = 0\n",
    "r_out = 10\n",
    "\n",
    "fig, ax = plt.subplots(1,2, sharey=False,figsize=(22,10))\n",
    "\n",
    "\n",
    "fig,ax1, tab = gen_CMD('f115w', 'f200w', cmd=df_cmd_jwst, r=None, Av_=1, Av_x=2.5, Av_y=26, xlims=[-0.5,4], ylims=[17,28],\n",
    "                 out_dir='PHOT_OUTPUT_r25',gen_kde=False, label=10, met=0.006,dismod=30.04, ages=ages,\n",
    "                 r_in=r_in, r_out=r_out, fig=fig,ax=ax[0],\n",
    "                regions=['bubble'])\n",
    "\n",
    "fig,ax2, tab = gen_CMD('f115w', 'f200w', cmd=df_cmd_jwst, r=None, Av_=1, Av_x=2.5, Av_y=26, xlims=[-0.5,4], ylims=[17,28],\n",
    "                 out_dir='PHOT_OUTPUT_r25',gen_kde=True, label=3, met=0.006,dismod=30.04, ages=ages,\n",
    "                 r_in=r_in, r_out=r_out, fig=fig,ax=ax[1],\n",
    "                regions=['bubble'])"
   ]
  },
  {
   "cell_type": "code",
   "execution_count": null,
   "id": "d36818b3-8392-4cf2-960b-8a243e4d798f",
   "metadata": {
    "tags": []
   },
   "outputs": [],
   "source": [
    "r_in = 0\n",
    "r_out = 12\n",
    "\n",
    "fig,ax, tab1 = gen_CMD('f115w', 'f200w', 'f115w', name = 'ngc628n/f115w_f200w', cmd=None, Av_=1, Av_x=2.5, Av_y=26, xlims=[-1,3], ylims=[17,28],\n",
    "                 out_dir='photometry',gen_kde=False,gen_contours=False, label=10, met=0.02,mag_err_lim=0.2, alpha=0.5,\n",
    "                dismod=29.95, ages=ages_, sqr_field=True, r_in=r_in, r_out=r_out, regions=['bubble'])"
   ]
  },
  {
   "cell_type": "code",
   "execution_count": null,
   "id": "1ab5f9ff-e3d9-4bd9-8fff-874ce9ab5c8e",
   "metadata": {
    "tags": []
   },
   "outputs": [],
   "source": [
    "x = tab1['ra_1']\n",
    "y = tab1['dec_1']\n",
    "c = tab1['mag_vega_F200W']\n",
    "fig, ax = plt.subplots()\n",
    "\n",
    "ra_cen = regions_dict['bubble']['ra']\n",
    "dec_cen = regions_dict['bubble']['dec']\n",
    "\n",
    "ax.scatter([ra_cen],[dec_cen], marker='x', color='black')\n",
    "\n",
    "ax.invert_xaxis()\n",
    "ax.scatter(x,y,c=c,s=5, cmap='jet')\n",
    "ax.axis('equal')"
   ]
  },
  {
   "cell_type": "code",
   "execution_count": null,
   "id": "3baac672-c345-4d9a-96c1-273238982047",
   "metadata": {},
   "outputs": [],
   "source": [
    "r_in = 0\n",
    "r_out = 12\n",
    "\n",
    "fig, ax = plt.subplots(1,3, sharey=False,figsize=(34,10))\n",
    "\n",
    "filt1 = 'f115w'\n",
    "\n",
    "filt2 = 'f200w'\n",
    "\n",
    "filt3 = 'f115w'\n",
    "\n",
    "fig,ax1, tab = gen_CMD(filt1, filt2,filt3, name = 'ngc628/f115w_f200w',\n",
    "                       cmd=None, Av_=1, Av_x=1.5, Av_y=18, xlims=[-1,5], ylims=[17,28],\n",
    "                     out_dir='photometry',gen_kde=False,gen_contours=True, label=10, met=0.02,\n",
    "                    dismod=30.04, ages=ages_, sqr_field=False, r_in=r_in, r_out=r_out, regions=['galaxy'],\n",
    "                    fig=fig,ax=ax[0],ref_xpos=-0.5)\n",
    "\n",
    "fig,ax2, tab = gen_CMD(filt1, filt2,filt3, name = 'ngc628/f115w_f200w',\n",
    "                       cmd=df_cmd_jwst, r=None, Av_=1, Av_x=1.5, Av_y=18, xlims=[-1,4], ylims=[17,28],\n",
    "                 out_dir='photometry',gen_kde=False, label=3, met=0.003,dismod=29.95, ages=ages_,\n",
    "                 r_in=r_in, r_out=r_out, fig=fig,ax=ax[1],ref_xpos=-0.5,\n",
    "                regions=['bubble'])\n",
    "\n",
    "fig,ax3, tab = gen_CMD(filt1, filt2, filt3,name = 'ngc628/f115w_f200w',\n",
    "                       cmd=df_cmd_jwst, r=None, Av_=1, Av_x=1.5, Av_y=18, xlims=[-1,4], ylims=[17,28],\n",
    "                 out_dir='photometry',gen_kde=False, label=3, met=0.02,dismod=29.95, ages=ages_,\n",
    "                 r_in=r_in, r_out=r_out, fig=fig,ax=ax[2],ref_xpos=-0.5,\n",
    "                regions=['bubble'])"
   ]
  },
  {
   "cell_type": "code",
   "execution_count": null,
   "id": "7ec1a2db-db31-4758-8a33-9c62f433a646",
   "metadata": {
    "tags": []
   },
   "outputs": [],
   "source": [
    "#ages_ = np.round(np.log10([6e6, 1e7,2e7, 3e7, 5e7,1e8,5e8]),1)\n",
    "ages_ = np.round(np.log10([1e9, 5e9, 1e10]),1)"
   ]
  },
  {
   "cell_type": "code",
   "execution_count": null,
   "id": "b99de82a-a7ed-4146-9f93-a72857ce8ee8",
   "metadata": {
    "tags": []
   },
   "outputs": [],
   "source": [
    "r_in = 0\n",
    "r_out = 10\n",
    "\n",
    "fig, ax = plt.subplots(1,4, sharey=False,figsize=(44,10))\n",
    "\n",
    "fig,ax1, tab = gen_CMD('f115w', 'f150w', 'f150w', name = '3004/f115w_f150w_f200w',\n",
    "                       cmd=df_cmd_jwst, Av_=1, Av_x=-2.5, Av_y=18, xlims=[-0.5,1.5], ylims=[17,28],\n",
    "                     out_dir='PHOT_OUTPUT_r40.5',gen_kde=True,gen_contours=False, label=3, met=0.003,\n",
    "                    dismod=30.04, ages=ages_, sqr_field=False, r_in=r_in, r_out=r_out, \n",
    "                       regions=['bubble'],\n",
    "                    fig=fig,ax=ax[0],ref_xpos=-0.5)\n",
    "\n",
    "fig,ax2, tab = gen_CMD('f150w', 'f200w', 'f200w', name = '3004/f115w_f150w_f200w',\n",
    "                       cmd=df_cmd_jwst, r=None, Av_=-2.5, Av_x=1.5, Av_y=18, xlims=[-0.5,1.5], ylims=[17,28],\n",
    "                 out_dir='PHOT_OUTPUT_r40.5',gen_kde=True, label=3, met=0.003,dismod=30.04, ages=ages_,\n",
    "                 r_in=r_in, r_out=r_out, fig=fig,ax=ax[1],ref_xpos=-0.5,\n",
    "                regions=['bubble'])\n",
    "\n",
    "fig,ax3, tab = gen_CMD('f115w', 'f200w', 'f200w',name = '3004/f115w_f150w_f200w',\n",
    "                       cmd=df_cmd_jwst, r=None, Av_=1, Av_x=1.5, Av_y=18, xlims=[0.5,2.5], ylims=[20,28],\n",
    "                 out_dir='PHOT_OUTPUT_r40.5',gen_kde=True, label=3, met=0.003,dismod=30.04, ages=ages_,\n",
    "                 r_in=r_in, r_out=r_out, fig=fig,ax=ax[2],ref_xpos=-0.5,\n",
    "                regions=['bubble'])\n",
    "\n",
    "fig,ax4, tab = gen_CMD('f115w', 'f200w', 'f115w',name = '3004/f115w_f150w_f200w',\n",
    "                       cmd=df_cmd_jwst, r=None, Av_=1, Av_x=1.5, Av_y=18, xlims=[0.5,2.5], ylims=[20,28],\n",
    "                 out_dir='PHOT_OUTPUT_r40.5',gen_kde=True, label=3, met=0.003,dismod=30.04, ages=ages_,\n",
    "                 r_in=r_in, r_out=r_out, fig=fig,ax=ax[3],ref_xpos=-0.5,\n",
    "                regions=['bubble'])"
   ]
  },
  {
   "cell_type": "code",
   "execution_count": null,
   "id": "18ebb3e6-4a31-4b10-ba5f-ee3d2a8b9de4",
   "metadata": {
    "tags": []
   },
   "outputs": [],
   "source": [
    "r_in = 0\n",
    "r_out = 12\n",
    "\n",
    "fig, ax = plt.subplots(6,15,figsize=(120,60), sharex=True, sharey=True)\n",
    "\n",
    "k=0\n",
    "for i in range(15):\n",
    "    for j in range(6):\n",
    "        fig,ax1, _ = gen_CMD('f115w', 'f200w', name = 'ngc628/f115w_f200w', cmd=None, r=None, Av_=1, Av_x=2.5, Av_y=26, xlims=[-0.5,4], ylims=[17,28],\n",
    "                         out_dir='photometry',gen_kde=False, label=10, met=0.006,dismod=30.04, ages=ages_, sqr_field=True,\n",
    "                         r_in=r_in, r_out=r_out, fig=fig,ax=ax[5-j,i], ab_dist=False,\n",
    "                         regions=[f'reg_{k}'])\n",
    "        if j!=0:\n",
    "            ax1.set_xlabel(None)\n",
    "        if i!=0:\n",
    "            ax1.set_ylabel(None)\n",
    "        k+=1"
   ]
  },
  {
   "cell_type": "markdown",
   "id": "6eff7190-a6e7-47fc-bf8f-f4c42ee86534",
   "metadata": {
    "jp-MarkdownHeadingCollapsed": true,
    "tags": []
   },
   "source": [
    "### **Extinction Vector**"
   ]
  },
  {
   "cell_type": "code",
   "execution_count": null,
   "id": "2086c83c-c8af-4e4b-b409-168f335f9e41",
   "metadata": {
    "tags": []
   },
   "outputs": [],
   "source": [
    "23.4+0.025"
   ]
  },
  {
   "cell_type": "code",
   "execution_count": null,
   "id": "687f68d0-c0fc-425a-bd0c-b25b866cef0a",
   "metadata": {
    "tags": []
   },
   "outputs": [],
   "source": [
    "filt1 = 'f115w'\n",
    "filt2 = 'f200w'\n",
    "r_in  = 0\n",
    "r_out = 10\n",
    "\n",
    "dl= 0.05\n",
    "\n",
    "l_lo = 23 \n",
    "l_hi = 23.5\n",
    "cmd_xlo = 0.5\n",
    "cmd_xhi = 2\n",
    "fig, ax, dats_bub, x_val, y_val, y_bins = gen_CMD_xcut(filt1, filt2,  name = 'stage2/f115w_f150w_f200w',\n",
    "                                                       cmd=df_cmd_jwst, label_min=0, label_max=3,\n",
    "                                                      r_in=r_in, r_out=r_out, age=10, met=0.006,\n",
    "                                                      l_lo=l_lo, l_hi=l_hi, out_dir='PHOT_OUTPUT_r40.5',\n",
    "                                                      dl=dl,cmd_xlo=cmd_xlo, cmd_xhi=cmd_xhi,\n",
    "                                                       region='bubble',\n",
    "                                                     fit_isochrone=True)\n",
    "\n",
    "\n",
    "fig, ax, dats_bkg3, x_val, y_val, y_bins = gen_CMD_xcut(filt1, filt2,  name = 'stage2/f115w_f150w_f200w',\n",
    "                                                        cmd=df_cmd_jwst,label_min=0, label_max=3,\n",
    "                                                       r_in=r_in, r_out=r_out, age=10, met=0.006,\n",
    "                                                       l_lo=l_lo, l_hi=l_hi,out_dir='PHOT_OUTPUT_r40.5',\n",
    "                                                      dl=dl,cmd_xlo=cmd_xlo, cmd_xhi=cmd_xhi,\n",
    "                                                         region='bkg3',fit_isochrone=True)"
   ]
  },
  {
   "cell_type": "code",
   "execution_count": null,
   "id": "8e880ffb-dcc3-452b-b815-b0c03fcbb80b",
   "metadata": {
    "tags": []
   },
   "outputs": [],
   "source": [
    "min_ = 1\n",
    "max_ = 2\n",
    "step = 0.025\n",
    "bins = np.arange(min_, max_, step)\n",
    "\n",
    "init = models.Gaussian1D()\n",
    "fit = fitting.LevMarLSQFitter()\n",
    "\n",
    "for i in range(len(y_val)):\n",
    "    \n",
    "    fig, ax = plt.subplots()\n",
    "    dat1 = dats_bub[i][0]\n",
    "    dat2 = dats_bkg3[i][0]\n",
    "\n",
    "   # Bubble\n",
    "    y, x = np.histogram(dat1, bins=bins)\n",
    "    max_bub = y.max()\n",
    "    \n",
    "    x = 0.5*(x[1:] + x[:-1])\n",
    "    \n",
    "    ax.step(x,y, where='mid', color='black')\n",
    "    \n",
    "    model = fit(init,x,y)\n",
    "    xn = np.linspace(x.min(),x.max(),1000)\n",
    "    \n",
    "    ax.plot(xn,model(xn),'-b')\n",
    "    \n",
    "    x_p1 = model.mean.value\n",
    "    s_p1 = model.stddev.value\n",
    "    ax.plot([x_p1, x_p1],[0,model.amplitude.value], '--b')\n",
    "    \n",
    "    # Bkg3\n",
    "    y, x = np.histogram(dat2, bins=bins)\n",
    "    \n",
    "    max_bkg3 = y.max()\n",
    "    \n",
    "    x = 0.5*(x[1:] + x[:-1])\n",
    "    \n",
    "    ax.step(x,y, where='mid', color='gold')\n",
    "    \n",
    "    model = fit(init,x,y)\n",
    "    xn = np.linspace(x.min(),x.max(),1000)\n",
    "    ax.plot(xn,model(xn),'-', color='orange')\n",
    "    \n",
    "    x_p3 = model.mean.value\n",
    "    s_p3 = model.stddev.value\n",
    "    ax.plot([x_p3, x_p3],[0,model.amplitude.value], '--', color='orange')\n",
    "    \n",
    "    max_ = np.max([max_bub,  max_bkg3])\n",
    "    \n",
    "    \n",
    "    ax.plot([x_val[i], x_val[i]], [0, max_+10],'-g',linewidth=3)\n",
    "    title = f\"{np.round(y_bins[i],2)} - {np.round(y_bins[i+1],3)} (mag)| \"\n",
    "    title += r\"$\\mu_{bubble} :$\" + f\"{np.round(x_p1,3)}\" + r\" $\\mu_{bkg3} :$\" + f\"{np.round(x_p3,3)} \" \n",
    "    \n",
    "    title += r'$\\sigma_{bubble} : $ ' + f\"{np.round(s_p1,3)} \" + r' $\\sigma_{bkg3} : $ ' + f\"{np.round(s_p3,3)}\\n\"\n",
    "    title +=  r\"$\\ dist_{bub,ref}$ : \" + f\"{np.round(x_p1 - x_val[i],3)}  \" \n",
    "    title +=   r\"$\\ dist_{bkg3,ref}$ : \" + f\"{np.round(x_p3 - x_val[i],3)}\"\n",
    "    \n",
    "    ax.set_title(title, fontsize=15)\n",
    "    ax.set_ylabel('Counts', fontsize=15)\n",
    "    ax.legend(['Bubble', 'Bubble Gaussian Fit', 'Bubble mean', 'Bkg3', 'Bkg3 Gaussian Fit', 'Bkg3 mean',\n",
    "                 'Reference line'])\n",
    "    \n",
    "    ax.set_xlabel('Color');\n",
    "    plt.show()"
   ]
  },
  {
   "cell_type": "markdown",
   "id": "2008e3f3-a0da-4dad-b8ab-3769efa97d8c",
   "metadata": {
    "tags": []
   },
   "source": [
    "## **TRGB**"
   ]
  },
  {
   "cell_type": "markdown",
   "id": "6d5c647a-ff2a-4ac9-992a-3556b89ee65b",
   "metadata": {
    "tags": []
   },
   "source": [
    "### **Magnitude**"
   ]
  },
  {
   "cell_type": "code",
   "execution_count": null,
   "id": "1a9d4391-117c-4898-a6ba-eee03903406b",
   "metadata": {
    "tags": []
   },
   "outputs": [],
   "source": [
    "dismod = 30.04"
   ]
  },
  {
   "cell_type": "code",
   "execution_count": null,
   "id": "bf6ce9c5-6d14-425d-9aa5-c0f1993d46ae",
   "metadata": {
    "tags": []
   },
   "outputs": [],
   "source": [
    "filt1 = 'f115w'\n",
    "filt2 = 'f200w'\n",
    "filt3 = 'f115w'\n",
    "\n",
    "r_in  = 0\n",
    "r_out = 12\n",
    "\n",
    "if filt3 == 'f200w':\n",
    "    dl= 0.25\n",
    "elif filt3 == 'f115w':\n",
    "    dl = 0.25\n",
    "elif filt3== 'f150w':\n",
    "    dl = 0.25\n",
    "    \n",
    "l_lo = 19\n",
    "l_hi = 28\n",
    "\n",
    "if filt3 == 'f200w':\n",
    "    cmd_xlo = 1.25\n",
    "    y0 = 23.5\n",
    "elif filt3 == 'f115w':\n",
    "    cmd_xlo = 1.25\n",
    "    y0 = 24.8\n",
    "elif filt3 == 'f150w':\n",
    "    cmd_xlo = 1.23\n",
    "    y0 = 24.\n",
    "\n",
    "cmd_xhi = cmd_xlo + dl*1.1\n",
    "\n",
    "nx = 15\n",
    "ny = 6\n",
    "\n",
    "trgb_mags = np.zeros((nx, ny, 6))*np.nan\n",
    "\n",
    "if filt3 == 'f200w':\n",
    "    col_lims = [23.20, 23.7]\n",
    "    \n",
    "elif filt3 == 'f115w':\n",
    "    col_lims = [24.4, 25.1]\n",
    "    \n",
    "elif filt3 == 'f150w':\n",
    "    col_lims = [23.5, 24.3]\n",
    "\n",
    "k = 72\n",
    "\n",
    "for i in range(nx):\n",
    "    for j in range(ny):\n",
    "        mss = []\n",
    "        for b in np.arange(0.001,0.011,0.001):\n",
    "            bins = np.arange(l_lo, l_hi, b)\n",
    "            ms = []\n",
    "            for sigma_s in np.arange(0.05,0.11,0.01):\n",
    "\n",
    "                fig = plt.figure(figsize=(14, 7))\n",
    "                gs = fig.add_gridspec(1, 3,  width_ratios=(4, 1,1),\n",
    "                                      left=0.1, right=0.9, bottom=0.1, top=0.9,\n",
    "                                      wspace=0.05, hspace=0.05)\n",
    "\n",
    "                ax =  fig.add_subplot(gs[0, 0])\n",
    "\n",
    "                fig, ax, dats_bub, x_val, y_val, y_bins,params = gen_CMD_ycut(filt1, filt2, filt3, name= 'ngc628/f115w_f200w',\n",
    "                                                                      region=f'reg_{k}',cmd=df_cmd_jwst, \n",
    "                                                                      r_in=r_in, r_out=r_out, label=3,\n",
    "                                                                      met=0.003, sqr_field=False, mag_err_lim=0.2,\n",
    "                                                                      age=10, fig=fig, ax=ax, gen_kde=True,\n",
    "                                                                      l_lo=l_lo, l_hi=l_hi, out_dir='photometry',\n",
    "                                                                      dl=dl, cmd_xlo=cmd_xlo, cmd_xhi=cmd_xhi,\n",
    "                                                                       xlims=[0.,3], ylims=[21,27], y0=y0,\n",
    "                                                                      fit_isochrone=True, perp_iso=True, dismod=29.83)\n",
    "\n",
    "                ax_hist = fig.add_subplot(gs[0, 1], sharey=ax)\n",
    "                ax_edge = fig.add_subplot(gs[0, 2], sharey=ax)\n",
    "\n",
    "\n",
    "                for dat in dats_bub:\n",
    "                    x = dat[0]\n",
    "                    y = dat[1]\n",
    "\n",
    "                    yh,xh,_, = ax_hist.hist(y,bins, orientation='horizontal' , histtype='step', color='grey')\n",
    "                    xh = 0.5*(xh[1:] + xh[:-1])\n",
    "                    #yf = gaussian_filter(yh,5) \n",
    "\n",
    "                    yf = gloess(xh,yh,sigma_s,1)\n",
    "                    ysob = np.convolve(yf,np.array([-1,0,1]), mode='same')\n",
    "\n",
    "                    ax_hist.plot(yf, xh, color='black')\n",
    "                    ax_edge.plot(ysob, xh,'b')\n",
    "                    c1 = (xh>=col_lims[0]) & (xh<=col_lims[1])\n",
    "                    m = xh[c1][ysob[c1]==ysob[c1].min()][0]\n",
    "\n",
    "                    ax_hist.tick_params(axis=\"y\", labelleft=False)\n",
    "                    ax_edge.tick_params(axis=\"x\", labelbottom=False)\n",
    "                    ax_edge.tick_params(axis=\"y\", labelleft=False)\n",
    "\n",
    "                    ax_edge.set_title(f'{filt3.upper()}'+ '$_{TRGB}$' f': {np.round(m,5)}', fontsize=12)\n",
    "                    ax.plot([0,3],[m,m],'--k', zorder=201)\n",
    "                    ax_hist.plot([0,yh.max()],[m,m],'--k',label=f'{filt3.upper()}'+ '$_{TRGB}$')\n",
    "                    ax_hist.legend()\n",
    "                    ax_hist.set_xticks([np.ceil(yh.max())],[np.ceil(yh.max())])\n",
    "                    ax_hist.tick_params(axis='both', labelsize=15)\n",
    "                    dismod = m - params[0]-params[1]\n",
    "                    ax_hist.set_title(f'DM : {np.round(dismod, 3)}', fontsize=15)\n",
    "                    ax_edge.plot([ysob.min(),ysob.max()],[m,m],'--k')\n",
    "                    ax_edge.set_xlim([ysob.min()*1.1,0])\n",
    "                    #ax_edge.invert_xaxis()\n",
    "\n",
    "                    for ax_ in [ax_hist, ax_edge]:\n",
    "                        ax_.xaxis.set_major_locator(AutoLocator())\n",
    "                        ax_.xaxis.set_minor_locator(AutoMinorLocator())\n",
    "\n",
    "                        ax_.yaxis.set_major_locator(AutoLocator())\n",
    "                        ax_.yaxis.set_minor_locator(AutoMinorLocator())\n",
    "\n",
    "                        ax_.tick_params(which='both', length=7,direction=\"in\", bottom=True, top=True,left=True, right=True)\n",
    "                        ax_.tick_params(which='minor', length=4)\n",
    "\n",
    "                    if m >= col_lims[0] and m <= col_lims[1] and ysob[c1].min() < 0:\n",
    "                        trgb_mags[i,j,0] = m\n",
    "                        trgb_mags[i,j,1]= len(y[(y>m) & (y<m+0.1)]) # TRGB Window\n",
    "                        trgb_mags[i,j,2]= len(y[(y>m) & (y<m+1)]) # RGB stars\n",
    "                        trgb_mags[i,j,3]= len(y[(y<m)]) # AGB stars\n",
    "                        \n",
    "                    \n",
    "                    fig.savefig(f\"TRGB/{filt3}/reg_{filt3}_{k}_{sigma_s}_{b}_mag.png\")\n",
    "                    plt.close(fig) \n",
    "                            \n",
    "                ms.append(m)\n",
    "            mss.append(ms)\n",
    "\n",
    "        print(k)\n",
    "        \n",
    "        k+=1\n",
    "        m_t= np.array(mss)\n",
    "        trgb_mags[i,j,4] = np.median(m_t)\n",
    "        trgb_mags[i,j,5] = m_t.std()\n",
    "        break\n",
    "    break\n",
    "    \n",
    "#np.save(f'TRGB/trgb_mags_{filt3}.npy', trgb_mags)"
   ]
  },
  {
   "cell_type": "code",
   "execution_count": null,
   "id": "073a1a39-38ae-484c-8c19-38bb5245b793",
   "metadata": {
    "tags": []
   },
   "outputs": [],
   "source": [
    "m_t = np.array(mss)\n",
    "np.nanmedian(m_t), np.nanstd(m_t), np.nanmedian(m_t) - params[0] - params[1]"
   ]
  },
  {
   "cell_type": "code",
   "execution_count": null,
   "id": "62652aa1-08c0-4e44-bab4-cb4b3c94f77b",
   "metadata": {
    "tags": []
   },
   "outputs": [],
   "source": [
    "bins = np.arange(0.001, 0.011, 0.001)\n",
    "\n",
    "for n,i in enumerate(m_t.T):\n",
    "    plt.plot(bins, i, '-o')\n",
    "    plt.legend(np.arange(0.05, 0.11, 0.01))"
   ]
  },
  {
   "cell_type": "code",
   "execution_count": null,
   "id": "3e9c4996-cf76-4687-aeba-0b86a250fe94",
   "metadata": {},
   "outputs": [],
   "source": [
    "bubble_f115w        = 24.785\n",
    "bubble_f115w_dismod = 29.81439000000091\n",
    "bubble_f115w_err    = 0.0062\n",
    "\n",
    "trgb_f115w_mag = np.array([[24.8545, 24.8557, 24.9077, 25.0250, 24.903, 24.86749],\n",
    "                           [24.8329, 24.9319, 24.9220, 24.8900, 24.83475, 24.8749],\n",
    "                           [24.8529, 24.94475, np.nan, 24.9198, 24.8465,  24.851999],\n",
    "                           [ 24.84850,  24.8905,  24.84575,  24.914249,  25.015,  np.nan],\n",
    "                           [ 24.947999,  24.89425,  24.860749,  24.819999,  24.804750,  24.866749],\n",
    "                           [ 24.893249,  24.835250,  24.7930,  24.8485,  24.82750,  24.697249],\n",
    "                           [ 24.8445,  24.885250,  np.nan,  np.nan,  np.nan,  np.nan],\n",
    "                           [ np.nan,  np.nan,  np.nan,  np.nan,  np.nan,  np.nan],\n",
    "                           [ 24.79950,  np.nan,  np.nan,  np.nan,  24.79375,  24.799500],\n",
    "                           [ 24.782749,  24.8774999,  24.8905,  24.75100,  24.87075,  24.9100],\n",
    "                           [ 24.947749,  24.8895,  24.862500,  24.89050,  24.86950,  24.85749],\n",
    "                           [ 24.83325,  24.890250,  24.835750,  24.80399,  24.82550,  24.8974999],\n",
    "                           [ 24.83650,  True,  True,  True,  True,  True],\n",
    "                           [ True,  True,  True,  True,  True,  True],\n",
    "                           [ True,  True,  True,  True,  True,  True]])\n",
    "\n",
    "trgb_f115w_err = np.array([[0.0037,  0.0080,  0.0081,  0.0083, 0.0084, 0.0094],\n",
    "                           [0.0106,  0.0114,  0.00695, 0.0149, 0.0117, 0.01469],\n",
    "                           [0.0018,  0.01113, np.nan,  0.0156, 0.0031,  0.00652],\n",
    "                           [0.00266, 0.00355, 0.00126,  0.005261,  0.009413,  np.nan],\n",
    "                           [0.0083595,  0.002936,  0.00395,   0.00794,  0.004538,  0.00480],\n",
    "                           [0.007299,  0.00282690,  0.0064,  0.002324,  0.00114,  0.00606],\n",
    "                           [0.00533,  0.001123,  np.nan, np.nan,  np.nan,  np.nan],\n",
    "                           [np.nan,  np.nan,  np.nan,  np.nan,  np.nan,  np.nan],\n",
    "                           [ 0.0023,   np.nan,  np.nan,  np.nan,  0.01046,  0.00276],\n",
    "                           [ 0.0031679,  0.002494,  0.001929,  0.00310,  0.0160412,  0.020460],\n",
    "                           [ 0.0051674,  0.0062207,  0.0079311,  0.00734773,  0.007624,  0.00735921],\n",
    "                           [ 0.0085020,  0.0031088,  0.0057223,  0.00722214,  0.00694712,  0.0034528],\n",
    "                           [ 0.006362,  True,  True,  True,  True,  True],\n",
    "                           [ True,  True,  True,  True,  True,  True],\n",
    "                           [ True,  True,  True,  True,  True,  True]])"
   ]
  },
  {
   "cell_type": "code",
   "execution_count": null,
   "id": "187fe708-c7c0-4ddb-95c0-fd34a7a70302",
   "metadata": {
    "tags": []
   },
   "outputs": [],
   "source": [
    "bubble_f200w         = 23.36699999999758\n",
    "bubble_f200w_dismod  = 29.80094999999758\n",
    "bubble_f200w_err     = 0.00514\n",
    "\n",
    "trgb_f200w_mag = np.array([[23.48575, 23.465, 23.525, 23.56575, 23.53075, 23.4455],\n",
    "                           [23.47325, 23.5937, 23.53775, 23.5065, 23.4595, 23.4955],\n",
    "                           [23.49150, 23.47599, np.nan, 23.540249,  23.44150,  23.4625],\n",
    "                           [23.46975, 23.3575,  23.49925,  23.3965,  23.58700,  np.nan],\n",
    "                           [23.45500,  23.4599,  23.46250,  23.429499,  23.417249,  23.39850],\n",
    "                           [23.38749,  23.4650,  23.40100,  23.347999,  23.34799,  23.15350],\n",
    "                           [ 23.38300,  23.4332500,  np.nan,  np.nan,  np.nan, np.nan],\n",
    "                           [ np.nan,  np.nan,  np.nan,  np.nan,  np.nan,  np.nan],\n",
    "                           [ 23.36924,  np.nan,  np.nan,  np.nan,  23.26950, 23.33650],\n",
    "                           [ 23.3065,  23.534250,  23.448750,  23.35150,  23.40875,  23.394499],\n",
    "                           [ 23.52850,  23.47500,  23.468500,  23.39599,  23.425000,  23.46250],\n",
    "                           [ 23.46250,  23.46824999,  23.49050,  23.3967499,  23.45350,  23.4985000],\n",
    "                           [ True,  True,  True,  True,  True,  True],\n",
    "                           [ True,  True,  True,  True,  True,  True],\n",
    "                           [ True,  True,  True,  True,  True,  True]])\n",
    "\n",
    "trgb_f200w_err = np.array([[0.0125,  0.0067,  0.0054,  0.0084,  0.0052,  0.0089],\n",
    "                           [0.0035,  0.01058,  0.00536, 0.0154, 0.0044,  0.0043],\n",
    "                           [0.0054,   0.0039,  np.nan,  0.0046, 0.00475,  0.005595],\n",
    "                           [0.00513,  0.00212,  0.00270,  0.00758,  0.009482,  np.nan],\n",
    "                           [ 0.005,  0.005885,  0.00442,  0.011658926,  0.00768,  0.00431],\n",
    "                           [ 0.006399,  0.00402,  0.01538,  0.007429,  0.003502,  0.002646],\n",
    "                           [ 0.0032626,  0.008600,  np.nan,  np.nan,  np.nan, np.nan],\n",
    "                           [ np.nan,  np.nan,  np.nan,  np.nan,  np.nan,  np.nan],\n",
    "                           [ 0.0028210, np.nan,  np.nan,  np.nan, 0.0085117, 0.008598],\n",
    "                           [ 0.013819,  0.006270,   0.001844,  0.00821,  0.0141245,  0.00789011],\n",
    "                           [ 0.005601,  0.005485,  0.005807,  0.00734773,  0.00714082, 0.0028327],\n",
    "                           [ 0.003719,  0.0094440,  0.00442574,  0.005583,  0.001789553,  0.00652],\n",
    "                           [ True,  True,  True,  True,  True,  True],\n",
    "                           [ True,  True,  True,  True,  True,  True],\n",
    "                           [ True,  True,  True,  True,  True,  True]])"
   ]
  },
  {
   "cell_type": "code",
   "execution_count": null,
   "id": "0b41f44f-a362-4d40-933f-469c1c397958",
   "metadata": {
    "tags": []
   },
   "outputs": [],
   "source": [
    "trgb_mags_J = trgb_f115w_mag#np.load('TRGB/trgb_mags_f115w.npy')\n",
    "trgb_mags_K = trgb_f200w_mag#np.load('TRGB/trgb_mags_f200w.npy')"
   ]
  },
  {
   "cell_type": "code",
   "execution_count": null,
   "id": "70ae3174-27e6-4e25-a9c1-78d7c5b79fec",
   "metadata": {
    "tags": []
   },
   "outputs": [],
   "source": [
    "mags_f115w = []\n",
    "mags_f200w = []\n",
    "\n",
    "ages__ = [9.4, 9.6,9.8,10.00001]\n",
    "for age in ages__:\n",
    "    mags1 = []\n",
    "    mags2 = []\n",
    "    for met in [0.002,0.003,0.004, 0.006,0.008]:\n",
    "        df = df_cmd_jwst[ (df_cmd_jwst['logAge']==age) & (df_cmd_jwst['Zini']==met) & (df_cmd_jwst['label']<=3)]\n",
    "\n",
    "        t = df[df['F115Wmag']==df['F115Wmag'].min()]\n",
    "        mag = t['F115Wmag'].values[0]       \n",
    "        mags1.append(mag)\n",
    "        \n",
    "        t = df[df['F200Wmag']==df['F200Wmag'].min()]\n",
    "        mag = t['F200Wmag'].values[0]       \n",
    "        mags2.append(mag)\n",
    "        \n",
    "    mags_f115w.append(mags1)\n",
    "    mags_f200w.append(mags2)\n",
    "\n",
    "mags_f115w = np.array(mags_f115w)\n",
    "mags_f200w = np.array(mags_f200w)"
   ]
  },
  {
   "cell_type": "code",
   "execution_count": null,
   "id": "f2dadea1-45db-4564-8fd6-81242023affd",
   "metadata": {
    "tags": []
   },
   "outputs": [],
   "source": [
    "yy, xx  =np.mgrid[0:5,0:15]"
   ]
  },
  {
   "cell_type": "code",
   "execution_count": null,
   "id": "9b8671c8-09ce-42c2-b3f7-9a0e20dddb70",
   "metadata": {
    "tags": []
   },
   "outputs": [],
   "source": [
    "z = (xx-7)**2 + (yy-2)**2"
   ]
  },
  {
   "cell_type": "code",
   "execution_count": null,
   "id": "617f1e29-e8a6-407c-8ddc-0f23becd6537",
   "metadata": {
    "tags": []
   },
   "outputs": [],
   "source": [
    "nx = 15\n",
    "ny = 6\n",
    "\n",
    "k=0\n",
    "reg_arr = np.zeros_like(trgb_mags_J[:,:])\n",
    "for i in range(nx):\n",
    "    for j in range(ny):\n",
    "        reg_arr[i,j]=k\n",
    "        k+=1"
   ]
  },
  {
   "cell_type": "code",
   "execution_count": null,
   "id": "0d1b6e57-aa2d-40e5-8350-72d393798d79",
   "metadata": {},
   "outputs": [],
   "source": [
    "Av = 0.19\n",
    "y_r = mags_f200w[-1] + Av_dict['f200w']*Av\n",
    "x_r = mags_f115w[-1] + Av_dict['f115w']*Av - (mags_f200w[-1] +  Av_dict['f200w']*Av)\n",
    "\n",
    "x_10 = np.arange(1.35,1.5,0.001)\n",
    "y_10 = np.interp(x_10,x_r,y_r)\n",
    "met_10 = np.interp(x_10,x_r, [0.002,0.003,0.004, 0.006,0.008])\n",
    "x_c = bubble_f115w-bubble_f200w\n",
    "y_c = bubble_f200w  \n",
    "\n",
    "d = np.arange(29,30,0.0001).reshape(-1,1)\n",
    "    \n",
    "r = np.sqrt( (x_10 - x_c)**2 + (y_10 + d - y_c)**2)\n",
    "\n",
    "dismod= d[np.argwhere(r==r.min())[0][0]][0]\n",
    "met_10[np.argwhere(r==r.min())[0][1]]"
   ]
  },
  {
   "cell_type": "code",
   "execution_count": null,
   "id": "b71f2133-46ea-4f32-b718-76d988e16bd3",
   "metadata": {
    "tags": []
   },
   "outputs": [],
   "source": [
    "print(dismod)"
   ]
  },
  {
   "cell_type": "code",
   "execution_count": null,
   "id": "01b76988-a6f1-4ef9-ad4c-18de64532a17",
   "metadata": {
    "tags": []
   },
   "outputs": [],
   "source": [
    "fig, ax = plt.subplots(figsize=(9,7))\n",
    "\n",
    "dismod = 29.831499\n",
    "Av = 0.19\n",
    "\n",
    "Av_t = 0.0\n",
    "\n",
    "x = (mags_f115w.T + Av_dict['f115w']*(Av+Av_t)) - (mags_f200w.T + Av_dict['f200w']*(Av+Av_t))\n",
    "y = mags_f200w.T + Av_dict['f200w']*(Av+Av_t) + dismod\n",
    "\n",
    "ax.plot(x,y, '-o',\n",
    "       linewidth=0.5, markersize=1)\n",
    "\n",
    "start = 50\n",
    "end = 71\n",
    "    \n",
    "x = trgb_mags_J[:,:].ravel()[start:end+1] - trgb_mags_K[:,:].ravel()[start:end+1]\n",
    "y = trgb_mags_K[:,:].ravel()[start:end+1]\n",
    "    \n",
    "xerr = trgb_f115w_err[:,:].ravel()[start:end+1]\n",
    "yerr = trgb_f200w_err[:,:].ravel()[start:end+1]\n",
    "\n",
    "xerr = np.sqrt(xerr**2 + yerr**2)\n",
    "\n",
    "c = z.ravel()*12\n",
    "    \n",
    "img = ax.errorbar(x,y,xerr=xerr, yerr=yerr, fmt='.k',elinewidth=0.5,\n",
    "            markersize=0.5, capsize=2, zorder=100)\n",
    "\n",
    "ax.invert_yaxis()\n",
    "#ax.invert_xaxis()\n",
    "\n",
    "Av_x = 24.781\n",
    "Av_y = 23.349 \n",
    "\n",
    "Av_x = Av_x-Av_y\n",
    "\n",
    "Av_ = 0.3\n",
    "\n",
    "AF1_ =  Av_dict['f115w']*Av_\n",
    "AF2_ =  Av_dict['f200w']*Av_\n",
    "\n",
    "dx = AF1_\n",
    "dy = AF2_\n",
    "\n",
    "dx = dx-dy\n",
    "ax.annotate('', xy=(Av_x, Av_y),\n",
    "             xycoords='data',\n",
    "             xytext=(Av_x+dx, Av_y+dy),\n",
    "             textcoords='data',\n",
    "             arrowprops=dict(arrowstyle= '<|-',\n",
    "                             color='black',\n",
    "                             lw=0.5,\n",
    "                             ls='-')\n",
    "           )\n",
    "\n",
    "for n,i,j in zip(reg_arr.ravel().astype(int)[start:end+1],x,y):\n",
    "    ax.annotate(f'{n}', xy=(i- 0.001, j-0.001),\n",
    "             xycoords='data', fontsize=7, color = 'red', zorder= 100, weight='bold'\n",
    "           )\n",
    "\n",
    "x = bubble_f115w-bubble_f200w\n",
    "y = bubble_f200w\n",
    "\n",
    "xerr = np.sqrt(bubble_f115w_err**2 + bubble_f200w_err**2)\n",
    "yerr = bubble_f200w_err\n",
    "ax.errorbar([x],[y],xerr=xerr,yerr=yerr, fmt='.r',elinewidth=0.5,\n",
    "            markersize=0.5, capsize=2)\n",
    "\n",
    "Av = 0.19\n",
    "r_ind = -1\n",
    "y_r = mags_f200w[r_ind] + Av_dict['f200w']*Av + dismod\n",
    "x_r = mags_f115w[r_ind] + Av_dict['f115w']*Av - (mags_f200w[r_ind] +  Av_dict['f200w']*Av)\n",
    "\n",
    "ax.plot(x_r, y_r,'--k')\n",
    "ax.set_xlabel('F115W-F200W')\n",
    "ax.set_ylabel('F200W')\n",
    "ax.set_title(f'Dismod = {np.round(dismod,4)}')\n",
    "ax.legend(ages__)"
   ]
  },
  {
   "cell_type": "code",
   "execution_count": null,
   "id": "4aed46ae-bbfa-42c0-b9cd-5e7e1e8710e0",
   "metadata": {
    "tags": []
   },
   "outputs": [],
   "source": [
    "Av = 0.19\n",
    "dismod = 29.831499\n",
    "ind = -1\n",
    "y_r = mags_f200w[ind] + Av_dict['f200w']*Av + dismod\n",
    "x_r = mags_f115w[ind] + Av_dict['f115w']*Av - (mags_f200w[ind] +  Av_dict['f200w']*Av)\n",
    "\n",
    "x_10 = np.arange(1.35,1.5,0.001)\n",
    "y_10 = np.interp(x_10,x_r,y_r)\n",
    "met_10 = np.interp(x_10,x_r, [0.002,0.003,0.004, 0.006,0.008])\n",
    "\n",
    "ind = 71\n",
    "\n",
    "x_c = trgb_mags_J[:,:].ravel()[ind] - trgb_mags_K[:,:].ravel()[ind]\n",
    "y_c = trgb_mags_K[:,:].ravel()[ind]\n",
    "\n",
    "Av_ = np.arange(0,0.5, 0.001).reshape(-1,1)\n",
    "\n",
    "dx = (Av_dict['f115w']-Av_dict['f200w'])*Av_\n",
    "dy = Av_dict['f200w']*Av_\n",
    "    \n",
    "r = np.sqrt( (x_10 - (x_c-dx))**2 + (y_10 - (y_c-dy))**2)\n",
    "\n",
    "Av_[np.argwhere(r==r.min())[0][0]][0], met_10[np.argwhere(r==r.min())[0][1]]"
   ]
  },
  {
   "cell_type": "code",
   "execution_count": null,
   "id": "5dc90515-1c9f-4dd7-a4ae-f7c288266fb0",
   "metadata": {},
   "outputs": [],
   "source": [
    "Av_map = np.array([[0.033, 0.067, 0.139, 0.44, 0.123, 0.131],\n",
    "                   [0, np.nan, 0.169, 0.111, 0.011, 0.082],\n",
    "                   [0.02, 0.322,  np.nan,  0.163,  0.073,  0.059000],\n",
    "                   [ 0.038,  0.364,  0.0,  0.363,  0.389,  np.nan],\n",
    "                   [ 0.368,  0.191,  0.0860,  0.01,  0.0,  0.2070],\n",
    "                   [ 0.313,  0.004,  0.0,  0.242,  0.171,  0.14300],\n",
    "                   [ 0.163,  0.203,  np.nan,  np.nan,  np.nan,  np.nan],\n",
    "                   [ np.nan,  np.nan,  np.nan,  np.nan,  np.nan, np.nan],\n",
    "                   [ 0.111,  0.044,  0.057,  0.0,  0.201,  0.353],\n",
    "                   [ 0.257,  0.156,  0.082,  0.2880,  0.168,  0.076],\n",
    "                   [ 0.001,  0.167,  0.0,  0.00900,  0.0,  0.146],\n",
    "                   [ True,  True,  True,  True,  True,  True],\n",
    "                   [ True,  True,  True,  True,  True,  True],\n",
    "                   [ True,  True,  True,  True,  True,  True],\n",
    "                   [ True,  True,  True,  True,  True,  True]])\n",
    "\n",
    "met_map = np.array([[0.002297, 0.002539, 0.0021361, 0.002297, 0.0021200, 0.002813],\n",
    "                   [0.002329, np.nan,   0.0021200, 0.002249, 0.0024909, 0.002297],\n",
    "                   [0.002232, 0.002861,  np.nan,  0.00212,  0.002749,  0.0025393],\n",
    "                   [0.0024425,  0.004419,  0.002120,  0.003849, 0.00212,  np.nan],\n",
    "                   [0.00317,  0.002781,  0.0025877,  0.0027490,  0.00281354,  0.0034713],\n",
    "                   [0.0038497,  0.00242,  0.002926,  0.0041973,  0.0039848,  0.0070366],\n",
    "                   [0.00355243,  0.0030389,  np.nan,  np.nan,  np.nan,  np.nan],\n",
    "                   [np.nan,  np.nan,  np.nan,  np.nan,  np.nan, np.nan],\n",
    "                   [0.0044639,  0.00540,  0.002120,  0.005242,  0.0033362,  0.003849],\n",
    "                   [ 0.0023135,  0.00260387,  0.00252,  0.003687567,  0.003065,  0.002571],\n",
    "                   [ 0.0024425,  0.002668,  0.00216838,  0.00303,  0.00250,  0.00237806],\n",
    "                   [ True,  True,  True,  True,  True,  True],\n",
    "                   [ True,  True,  True,  True,  True,  True],\n",
    "                   [ True,  True,  True,  True,  True,  True],\n",
    "                   [ True,  True,  True,  True,  True,  True]])"
   ]
  },
  {
   "cell_type": "code",
   "execution_count": null,
   "id": "6a54f816-cdac-4cd4-8837-bd6952006948",
   "metadata": {
    "tags": []
   },
   "outputs": [],
   "source": [
    "fig, ax = plt.subplots(1,2, figsize=(20,10))\n",
    "\n",
    "img = ax[0].imshow(Av_map.T, cmap='jet', vmin=0, vmax= 0.4)\n",
    "plt.colorbar(img,ax=ax[0], orientation='horizontal')\n",
    "img= ax[1].imshow(met_map.T, cmap='jet_r', vmin=0.002, vmax= 0.007)\n",
    "plt.colorbar(img,ax=ax[1], orientation='horizontal')"
   ]
  },
  {
   "cell_type": "markdown",
   "id": "ea2c3e8c-6a9c-498a-8713-12eced10a268",
   "metadata": {
    "tags": []
   },
   "source": [
    "### **TRGB Color**"
   ]
  },
  {
   "cell_type": "code",
   "execution_count": null,
   "id": "d8f3cb42-3457-499b-8144-0807e3a4b79f",
   "metadata": {
    "tags": []
   },
   "outputs": [],
   "source": [
    "filt1 = 'f115w'\n",
    "filt2 = 'f200w'\n",
    "filt3 = 'f200w'\n",
    "\n",
    "dl= 0.05\n",
    "cmd_xlo = 1.20\n",
    "cmd_xhi = 1.6\n",
    "\n",
    "r_in  = 0\n",
    "r_out =  10#29.987035918392053/2\n",
    "dats = []\n",
    "nx = 9\n",
    "ny = 4\n",
    "trgb_cols = np.zeros((nx,ny,7))*np.nan\n",
    "k = 0\n",
    "\n",
    "min_ = cmd_xlo\n",
    "max_ = cmd_xhi\n",
    "step = 0.01\n",
    "\n",
    "bins = np.arange(min_, max_, step)\n",
    "init = models.Gaussian1D()\n",
    "fit = fitting.LevMarLSQFitter()\n",
    "\n",
    "for i in range(nx):\n",
    "    for j in range(ny):\n",
    "        m = trgb_mags[i,j,0]\n",
    "        \n",
    "        if np.isnan(m):\n",
    "            print(k)\n",
    "            continue\n",
    "            \n",
    "        l_lo = m - 0.01\n",
    "        l_hi = m + 0.05\n",
    "        dats = []\n",
    "        fig, ax = plt.subplots(1,2,figsize=(16, 8))\n",
    "        _, _, dat, x_val, y_val, y_bins = gen_CMD_xcut(filt1, filt2, filt3,name= 'stage2/f115w_f200w', cmd=df_cmd_jwst,\n",
    "                                                           label_min=2, label_max=3, Av_=1, Av_x=1.5,Av_y=23.5,\n",
    "                                                           r_in=r_in, r_out=r_out, age=10., met=0.003, sqr_field=True,\n",
    "                                                           l_lo=l_lo, l_hi=l_hi, out_dir='PHOT_OUTPUT_r40.5',\n",
    "                                                           dl=dl, cmd_xlo=cmd_xlo, cmd_xhi=cmd_xhi,\n",
    "                                                           cmd_ylo=23, cmd_yhi=25,\n",
    "                                                           fit_slope=True,\n",
    "                                                           region=f'bubble',xlims=[0,3],ylims=[22, 26],\n",
    "                                                           fit_isochrone=True, dismod=29.718,\n",
    "                                                           fig=fig, ax=ax[0])\n",
    "        #plt.close(fig)\n",
    "        dats.append(dat)\n",
    "\n",
    "\n",
    "        dat = dats[0][0][0]\n",
    "\n",
    "        y, x = np.histogram(dat, bins=bins)\n",
    "        \n",
    "        max_bub = y.max()\n",
    "\n",
    "        x = 0.5*(x[1:] + x[:-1])\n",
    "        \n",
    "        ax[1].step(x,y, where='mid', color='black')\n",
    "        \n",
    "        model = fit(init, x,y)\n",
    "        ax[1].plot(np.linspace(min_, max_,100), model(np.linspace(min_, max_,100)),'-r')\n",
    "       \n",
    "        mean, median, stddev= sigma_clipped_stats(dat, sigma=2, cenfunc=biweight_location, stdfunc=biweight_scale, maxiters=10)\n",
    "\n",
    "        p = x[y==y.max()][0]\n",
    "        x_p1 = mean\n",
    "        s_p1 = stddev\n",
    "\n",
    "        ax[1].plot([x_p1, x_p1],[0,y.max()], '--b')\n",
    "\n",
    "        title = ''\n",
    "        title += r\"$Biweighted_{\\mu}:$ \" + f\"{np.round(x_p1,4)} | \"\n",
    "        title += r'$Biweighted_{\\sigma}:$ ' + f\"{np.round(s_p1,4)}\"\n",
    "        title += r' | $Peak :$' + f' {np.round(p,4)}\\n'\n",
    "        title += r' $Gaussian_{\\mu}: $' + f' {np.round(model.mean.value,4)} | '\n",
    "        title += r' $Gaussian_{\\sigma}: $' + f' {np.round(model.stddev.value,4)}'\n",
    "        \n",
    "\n",
    "        ax[1].set_title(title, fontsize=15)\n",
    "        ax[1].set_ylabel('Counts', fontsize=15)\n",
    "\n",
    "        ax[1].set_xlabel(f'{filt1.upper()}-{filt2.upper()}')\n",
    "\n",
    "        trgb_cols[i,j,0] = p   # Peak\n",
    "        trgb_cols[i,j,1] = mean # Bi weighted mean\n",
    "        trgb_cols[i,j,2] = np.mean(dat) # Mean color\n",
    "        trgb_cols[i,j,3] = median # Bi weighted median\n",
    "        \n",
    "        trgb_cols[i,j,4] = model.mean.value # Gaussian Mean\n",
    "        trgb_cols[i,j,5] = model.stddev.value\n",
    "        trgb_cols[i,j,6] = len(dat)\n",
    "        ax[1].legend(['Data','Gaussian Fit',f'Biweighted Mean of {len(dat)}'])\n",
    "        #fig.savefig(f\"TRGB/reg{k}_color.png\")\n",
    "        #plt.close(fig)\n",
    "        k+=1\n",
    "        break\n",
    "    break"
   ]
  },
  {
   "cell_type": "code",
   "execution_count": null,
   "id": "4650d266-1734-45c7-b919-c269995212d3",
   "metadata": {
    "tags": []
   },
   "outputs": [],
   "source": [
    "len(dat)"
   ]
  },
  {
   "cell_type": "code",
   "execution_count": null,
   "id": "9f808619-6034-4f84-a873-e17c50fa4707",
   "metadata": {
    "tags": []
   },
   "outputs": [],
   "source": [
    "x[find_peaks(y,height=12)[0]]"
   ]
  },
  {
   "cell_type": "code",
   "execution_count": null,
   "id": "3ab4ab2b-c9f9-4040-8ac6-2ff13adc56e7",
   "metadata": {
    "tags": []
   },
   "outputs": [],
   "source": [
    "mean, median, np.median(dat)"
   ]
  },
  {
   "cell_type": "code",
   "execution_count": null,
   "id": "e7aab5ec-2f36-45dc-9000-398c77bf695b",
   "metadata": {
    "tags": []
   },
   "outputs": [],
   "source": [
    "np.save('TRGB/trgb_cols_JK.npy', trgb_cols)"
   ]
  },
  {
   "cell_type": "code",
   "execution_count": null,
   "id": "a4ad05a9-c5f9-4328-b2dc-96b06b3e60cc",
   "metadata": {
    "tags": []
   },
   "outputs": [],
   "source": [
    "trgb_cols = np.load('TRGB/trgb_cols_JK.npy')"
   ]
  },
  {
   "cell_type": "code",
   "execution_count": null,
   "id": "85fe740a-50c8-48da-ba19-13882bb50539",
   "metadata": {
    "tags": []
   },
   "outputs": [],
   "source": [
    "plt.figure(figsize=(32,10))\n",
    "img = plt.imshow(trgb_cols.T[2], cmap='jet_r')\n",
    "cb = plt.colorbar(img, pad=0.02)\n",
    "cb.set_label('TRGB Color: Median')\n",
    "plt.xlabel('x')\n",
    "plt.ylabel('y')"
   ]
  },
  {
   "cell_type": "code",
   "execution_count": null,
   "id": "23e5237a-a2be-4c4c-92d3-74f183621ee5",
   "metadata": {
    "tags": []
   },
   "outputs": [],
   "source": [
    "magss = []\n",
    "colss = []\n",
    "\n",
    "filt1 = 'F115Wmag'\n",
    "filt2 = 'F200Wmag'\n",
    "filt3 = 'F115Wmag'\n",
    "\n",
    "for age in [9.6,9.8,10.00001]:\n",
    "    mags = []\n",
    "    cols = []\n",
    "    for met in [0.002,0.003,0.004, 0.006,0.008]:\n",
    "        df = df_cmd_jwst[ (df_cmd_jwst['logAge']==age) & (df_cmd_jwst['Zini']==met) & (df_cmd_jwst['label']<=3)]\n",
    "\n",
    "        t = df[df[filt3]==df[filt3].min()]\n",
    "        mag = t[filt3].values[0]\n",
    "        col = (t[filt1] - t[filt2]).values[0]\n",
    "        mags.append(mag)\n",
    "        cols.append(col)\n",
    "    magss.append(mags)\n",
    "    colss.append(cols)\n",
    "\n",
    "mags = np.array(magss)\n",
    "cols = np.array(colss)"
   ]
  },
  {
   "cell_type": "code",
   "execution_count": null,
   "id": "e90ffebe-0409-456c-a28e-1de92448eac9",
   "metadata": {
    "tags": []
   },
   "outputs": [],
   "source": [
    "fig, ax = plt.subplots()\n",
    "av_mag = Av_dict[filt3[:5].lower()]*0.19\n",
    "av_col = (Av_dict[filt1[:5].lower()]-Av_dict[filt2[:5].lower()])*0.19\n",
    "\n",
    "init = models.Polynomial1D(3)\n",
    "fit = fitting.LevMarLSQFitter()\n",
    "x = cols.ravel() + av_col\n",
    "y = mags.ravel() + av_mag\n",
    "\n",
    "#model = fit(init,x,y)\n",
    "\n",
    "ax.plot(cols.T + av_col, (mags.T + av_mag) + 29.729,'-o')\n",
    "\n",
    "\n",
    "x_new = np.linspace(1.25,1.55)\n",
    "#ax.plot(x_new, model(x_new),'--k')\n",
    "\n",
    "#ax.scatter([1.385,1.415,1.455],[23.295]*3,marker='x', color='black')\n",
    "ax.invert_yaxis()\n",
    "ax.legend([f'Log(Age) : {i}' for i in [9.6,9.8,10.00001]])\n",
    "ax.set_xlabel(f'{filt1.upper()}-{filt2.upper()}')\n",
    "ax.set_ylabel(f'{filt3.upper()}')"
   ]
  },
  {
   "cell_type": "code",
   "execution_count": null,
   "id": "0af7680f-c45c-4bdd-92da-66e4415bdcc4",
   "metadata": {
    "tags": []
   },
   "outputs": [],
   "source": [
    "fig, ax = plt.subplots()\n",
    "\"\"\"\n",
    "0: Peak\n",
    "1: Bi weighted mean\n",
    "2: Mean color\n",
    "3: Bi weighter median\n",
    "4: Gaussian Mean\n",
    "\"\"\"\n",
    "ind_ = 3\n",
    "for i in range(9):  \n",
    "    if i not in [7,8,9]:\n",
    "        x = trgb_cols.T[ind_][:,i]\n",
    "        y = trgb_mags.T[0][:,i]\n",
    "\n",
    "        ind = np.where((~np.isnan(x) & (x>0.1)))[0]\n",
    "\n",
    "        x = x[ind]\n",
    "        y = y[ind]\n",
    "\n",
    "    ax.scatter(x,y, label='_no_legend_')\n",
    "\n",
    "ax.plot(cols.T + av_col, (mags.T + av_mag) + 29.719,'-x')\n",
    "\n",
    "ax.legend([f'Log(Age) : {i}' for i in [ 9.6,9.8,10.00001]])\n",
    "\n",
    "\n",
    "ax.set_xlabel(f'TRGB ({filt1[:5].upper()} - {filt2[:5].upper()})')\n",
    "ax.set_ylabel(f'TRGB {filt3[:5].upper()}')\n",
    "\n",
    "ax.invert_yaxis()\n",
    "\n",
    "ax.xaxis.set_major_locator(AutoLocator())\n",
    "ax.xaxis.set_minor_locator(AutoMinorLocator())\n",
    "\n",
    "ax.yaxis.set_major_locator(AutoLocator())\n",
    "ax.yaxis.set_minor_locator(AutoMinorLocator())\n",
    "\n",
    "ax.tick_params(which='both', length=7,direction=\"in\", bottom=True, top=True,left=True, right=True)\n",
    "ax.tick_params(which='minor', length=4)\n",
    "\n",
    "Av_y = 26.3\n",
    "Av_x = 1.45\n",
    "Av_ = 0.1\n",
    "AF1_ =  Av_dict[filt1[:5].lower()]*Av_\n",
    "AF2_ =  Av_dict[filt2[:5].lower()]*Av_\n",
    "AF3_ =  Av_dict[filt3[:5].lower()]*Av_\n",
    "\n",
    "dx = AF1_ - AF2_\n",
    "dy = AF3_\n",
    "\n",
    "ax.annotate('', xy=(Av_x, Av_y),\n",
    "             xycoords='data',\n",
    "             xytext=(Av_x+dx, Av_y+dy),\n",
    "             textcoords='data',\n",
    "             arrowprops=dict(arrowstyle= '<|-',\n",
    "                             color='black',\n",
    "                             lw=0.5,\n",
    "                             ls='-')\n",
    "           )"
   ]
  },
  {
   "cell_type": "markdown",
   "id": "ecbce004-8ea7-4040-8d46-5f5d0399f731",
   "metadata": {
    "jp-MarkdownHeadingCollapsed": true,
    "tags": []
   },
   "source": [
    "## **Carbon Stars**"
   ]
  },
  {
   "cell_type": "code",
   "execution_count": null,
   "id": "697d2118-e4ef-4dac-bd3e-9911f6a54fa8",
   "metadata": {
    "tags": []
   },
   "outputs": [],
   "source": [
    "tab = Table.read('../PHOT_OUTPUT_r40.5/galaxy/f115w_f200w.fits')"
   ]
  },
  {
   "cell_type": "code",
   "execution_count": null,
   "id": "a6ff56bb-a016-4263-9ae1-4f94860b63b9",
   "metadata": {
    "tags": []
   },
   "outputs": [],
   "source": [
    "tab['f115w_f200w'] = tab['mag_vega_F115W'] - tab['mag_vega_F200W']\n",
    "\n",
    "x = np.linspace(1,4)\n",
    "y = (24-29)*(x-2.1) + 24\n",
    "\n",
    "init = models.Linear1D()\n",
    "fit = fitting.LinearLSQFitter()\n",
    "model_1 = fit(init, x,y)\n",
    "\n",
    "y = -(24-24.2)*(x-2.5) + 24\n",
    "\n",
    "model_2 = fit(init, x,y)\n",
    "\n",
    "ra_cen, dec_cen = 24.1739654, 15.7837025\n",
    "\n",
    "tab['r'] = angular_separation(tab['ra_1']*u.deg, tab['dec_1']*u.deg, ra_cen*u.deg, dec_cen*u.deg).to(u.arcsec).value\n",
    "\n",
    "x = tab['ra_1']\n",
    "y = tab['dec_1']\n",
    "c = tab['r']\n",
    "\n",
    "rs = [0, 10]\n",
    "A  = np.pi*rs[-1]**2\n",
    "\n",
    "while rs[-1] < 75:\n",
    "    r = np.sqrt((A+np.pi*rs[-1]**2)/np.pi)\n",
    "    \n",
    "    rs.append(r)\n",
    "    \n",
    "n_cs = [0]\n",
    "for i in range(len(rs)-1):\n",
    "    r_in = rs[i]\n",
    "    r_out = rs[i+1]\n",
    "    \n",
    "    # Annulus\n",
    "    t = tab[(tab['r']>=r_in) & (tab['r']<r_out)]\n",
    "    \n",
    "    # Carbon stars\n",
    "    t = t[t['mag_vega_F200W']>=model_1(t['f115w_f200w'])]\n",
    "    t = t[t['mag_vega_F200W']<=model_2(t['f115w_f200w'])]\n",
    "    \n",
    "    x = t['ra_1']\n",
    "    y = t['dec_1']\n",
    "    \n",
    "    n_cs.append(len(t))"
   ]
  },
  {
   "cell_type": "code",
   "execution_count": null,
   "id": "7800135b-96dd-45d7-a23f-1cd99c5975e7",
   "metadata": {
    "tags": []
   },
   "outputs": [],
   "source": [
    "\n",
    "fig, ax = plt.subplots()\n",
    "\n",
    "x = tab['f115w_f200w']\n",
    "y = tab['mag_vega_F200W']\n",
    "ax.scatter(x,y, s=0.5)\n",
    "\n",
    "x = t['f115w_f200w']\n",
    "y = t['mag_vega_F200W']\n",
    "\n",
    "ax.scatter(x,y, s=0.5)\n",
    "x = np.linspace(1,4)\n",
    "y1 = model_1(x)\n",
    "y2 = model_2(x)\n",
    "\n",
    "ax.plot(x,y1,'--r')\n",
    "ax.plot(x,y2,'--r')\n",
    "\n",
    "ax.invert_yaxis()\n",
    "ax.set_xlabel('F115W-F200W')\n",
    "ax.set_ylabel('F200W')\n",
    "\n",
    "ax.legend(['Total','Carbon Stars'])"
   ]
  },
  {
   "cell_type": "code",
   "execution_count": null,
   "id": "8b3144de-702e-47dd-b0c1-cfd437075074",
   "metadata": {
    "tags": []
   },
   "outputs": [],
   "source": [
    "x = rs\n",
    "y = n_cs\n",
    "\n",
    "plt.plot(x,y,'-ok')\n",
    "plt.xlabel('Radius (arcsecs)')\n",
    "plt.ylabel('No of Carbon stars')"
   ]
  },
  {
   "cell_type": "code",
   "execution_count": null,
   "id": "b11aa3ca-5ac4-472e-bde5-d71cee94e169",
   "metadata": {
    "tags": []
   },
   "outputs": [],
   "source": [
    "t = tab\n",
    "\n",
    "# Carbon stars\n",
    "t = t[t['mag_vega_F200W']>=model_1(t['f115w_f200w'])]\n",
    "t = t[t['mag_vega_F200W']<=model_2(t['f115w_f200w'])]\n",
    "\n",
    "x = t['ra_1']\n",
    "y = t['dec_1']\n",
    "\n",
    "scale = 11417/4486\n",
    "l = 5\n",
    "fig, ax = plt.subplots(figsize=(l*scale+3,l))\n",
    "\n",
    "theta = np.pi/2.75\n",
    "\n",
    "x,y = x*np.cos(theta) - y*np.sin(theta),x*np.sin(theta) + y*np.cos(theta)\n",
    "xmin, xmax = -4.259903639039913, -4.369990102024565\n",
    "ymin, ymax = 28.524099525386, 28.568378781292367\n",
    "\n",
    "# Peform the kernel density estimate\n",
    "xx, yy = np.mgrid[xmin:xmax:200j, ymin:ymax:200j]\n",
    "positions = np.vstack([xx.ravel(), yy.ravel()])\n",
    "values = np.vstack([x, y])\n",
    "\n",
    "kernel = gaussian_kde(values, bw_method=200/3600)\n",
    "f = np.reshape(kernel(positions), xx.shape)\n",
    "\n",
    "f = np.fliplr(f).T\n",
    "\n",
    "img = ax.contourf(f, cmap='jet', levels=np.linspace(200,f.max(),10),\n",
    "          extent=[xmax, xmin,\n",
    "                  ymin, ymax], zorder=200, alpha=0.3)\n",
    "\n",
    "df_f = df[(df['age']>7) &(df['age']<=9.5)]\n",
    "x = df_f['RA']\n",
    "y = df_f['DEC']\n",
    "c = df_f['age']\n",
    "scale = 11417/4486\n",
    "l = 5\n",
    "theta = np.pi/2.75\n",
    "ax.scatter(x*np.cos(theta) - y*np.sin(theta),x*np.sin(theta) + y*np.cos(theta),s=0.2,c=c, cmap='Greys',\n",
    "                zorder=199)\n",
    "ax.invert_xaxis()\n",
    "ax.set_xlim(-4.259903639039913, -4.369990102024565)\n",
    "ax.set_ylim(28.524099525386, 28.568378781292367)\n",
    "ax.axis('Off')\n",
    "cb = plt.colorbar(img, shrink=0.9, pad=-0.03)\n",
    "cb.set_label('Gaussian Kernel Density')\n",
    "fig.tight_layout()"
   ]
  },
  {
   "cell_type": "markdown",
   "id": "ac7ba3c6-b012-4760-a18b-96de45a0226a",
   "metadata": {
    "jp-MarkdownHeadingCollapsed": true,
    "tags": []
   },
   "source": [
    "#### **Simulated Carbon Star Image**"
   ]
  },
  {
   "cell_type": "code",
   "execution_count": null,
   "id": "d6ac1576-2cce-4a6f-94a3-6d1bd2c71fe5",
   "metadata": {
    "tags": []
   },
   "outputs": [],
   "source": [
    "tab = Table.read('Carbon_stars.fits')"
   ]
  },
  {
   "cell_type": "code",
   "execution_count": null,
   "id": "3ba66292-3f2d-46e4-99c2-533a0d7f61cc",
   "metadata": {
    "tags": []
   },
   "outputs": [],
   "source": [
    "df = tab[['ra_2', 'dec_2', 'flux_2','mag_vega_F200W']].to_pandas()"
   ]
  },
  {
   "cell_type": "code",
   "execution_count": null,
   "id": "cec0caf6-2c96-4c7b-959f-79621339b901",
   "metadata": {
    "tags": []
   },
   "outputs": [],
   "source": [
    "df = df.rename(columns={'ra_2':'ra',\n",
    "                'dec_2':'dec',\n",
    "                'flux_2': 'flux',\n",
    "                'mag_vega_F200W':'mag'})"
   ]
  },
  {
   "cell_type": "code",
   "execution_count": null,
   "id": "9bb5f52b-50f0-4c1d-935d-9f40b83d3635",
   "metadata": {
    "tags": []
   },
   "outputs": [],
   "source": [
    "zero_flux = df['flux']/pow(10,-0.4*df['mag'])\n",
    "zero_flux = np.median(zero_flux)"
   ]
  },
  {
   "cell_type": "code",
   "execution_count": null,
   "id": "acbdbf81-0122-4c04-8fe5-a9c54b75f62a",
   "metadata": {
    "tags": []
   },
   "outputs": [],
   "source": [
    "2.5*np.log10(zero_flux)"
   ]
  },
  {
   "cell_type": "code",
   "execution_count": null,
   "id": "82d0c1bb-10e7-4bf1-969b-4a3dc57fb268",
   "metadata": {
    "tags": []
   },
   "outputs": [],
   "source": [
    "hdul_n = fits.open(dict_images[det_n][filt_n]['images'][0])\n",
    "data_n = hdul_n[1].data\n",
    "\n",
    "pixel_scale = hdul_n[1].header['CDELT1']*3600\n",
    "\n",
    "wcs_n = WCS(hdul_n[1].header)"
   ]
  },
  {
   "cell_type": "code",
   "execution_count": null,
   "id": "1c102563-765c-4fdf-a573-71bac9c36bbf",
   "metadata": {
    "tags": []
   },
   "outputs": [],
   "source": [
    "hdul_n[1].header"
   ]
  },
  {
   "cell_type": "code",
   "execution_count": null,
   "id": "bf13d082-95cf-402a-98d3-d6b65fa3c27f",
   "metadata": {
    "tags": []
   },
   "outputs": [],
   "source": [
    "wcs_n"
   ]
  },
  {
   "cell_type": "code",
   "execution_count": null,
   "id": "3eb7b3e9-0980-4d32-9f76-fa0b933d5223",
   "metadata": {
    "tags": []
   },
   "outputs": [],
   "source": [
    "np.arccos(0.422540420042849)*180/np.pi"
   ]
  },
  {
   "cell_type": "code",
   "execution_count": null,
   "id": "c591b764-d7ac-4c13-9dca-d834cc9b91e7",
   "metadata": {
    "tags": []
   },
   "outputs": [],
   "source": [
    "psf = fits.open(f'../data/PSF/epsf/F200W/snap_test_psf.fits')[0].data[0,0]\n",
    "psf = psf.reshape(51,5,51,5).sum(axis=(1,3))\n",
    "psf /= psf.sum()\n",
    "\n",
    "hdu = fits.PrimaryHDU(psf)\n",
    "hdul = fits.HDUList([hdu])\n",
    "hdul.writeto('psf.fits', overwrite=True)\n",
    "\n",
    "tel_params ={\n",
    "            'aperture'       : 650,\n",
    "            'pixel_scale'    : pixel_scale,\n",
    "            'psf_file'       : f'psf.fits',\n",
    "            'response_funcs' :  [ f'{data_path}/INSIST/UV/Coating.dat,5,100',   # 6 mirrors\n",
    "                                ],\n",
    "             'coeffs'        : 1/11112.266256569348,\n",
    "             'theta'         : 65.00492096781794,\n",
    "             'M_sky' : 27,\n",
    "            }"
   ]
  },
  {
   "cell_type": "code",
   "execution_count": null,
   "id": "1ed5e340-a82c-496d-8dff-8f0c1f6d3863",
   "metadata": {
    "tags": []
   },
   "outputs": [],
   "source": [
    "sim = pt.Imager(df, coords=(24.17399193760206,  15.78396038669509),\n",
    "                tel_params=tel_params, n_x=11604, n_y=4630, exp_time = 2920.4)"
   ]
  },
  {
   "cell_type": "code",
   "execution_count": null,
   "id": "32add439-d7b0-4d20-aa56-aff1424676ed",
   "metadata": {
    "tags": []
   },
   "outputs": [],
   "source": [
    "2.5*np.log10(sim.zero_flux), "
   ]
  },
  {
   "cell_type": "code",
   "execution_count": null,
   "id": "e37cb6c9-1046-4381-9ad8-917b14628a01",
   "metadata": {
    "tags": []
   },
   "outputs": [],
   "source": [
    "sim.shot_noise = False\n",
    "sim.sky = False\n",
    "sim.Bias = False\n",
    "sim.QN = False\n",
    "sim.DC = False\n",
    "sim.PRNU = False\n",
    "det_params = {'shot_noise' :  'Poisson',\n",
    "              'qe_response': [],\n",
    "              'qe_mean'    : 1,\n",
    "              'G1'         :  1,\n",
    "              'bias'       : 1,\n",
    "              'PRNU_frac'  :  0.25/100,\n",
    "              'DCNU'       :  0.1/100,\n",
    "              'RN'         :  0.5,\n",
    "              'T'          :  218,\n",
    "              'DN'         :  0.01/100\n",
    "              }\n",
    "\n",
    "sim(det_params=det_params, photometry=None)"
   ]
  },
  {
   "cell_type": "code",
   "execution_count": null,
   "id": "23c29800-1339-45e2-86a6-53c71fad2156",
   "metadata": {
    "tags": []
   },
   "outputs": [],
   "source": [
    "sim.show_image()"
   ]
  },
  {
   "cell_type": "code",
   "execution_count": null,
   "id": "14039466-20bc-4350-a5c0-b60e364e5c82",
   "metadata": {
    "tags": []
   },
   "outputs": [],
   "source": [
    "sim.writeto('../data/pista_carbon_stars_II.fits')"
   ]
  },
  {
   "cell_type": "markdown",
   "id": "7c980f4d-baf8-439d-a5d9-3cefe7b46c93",
   "metadata": {
    "jp-MarkdownHeadingCollapsed": true,
    "tags": []
   },
   "source": [
    "## **Age gradient**"
   ]
  },
  {
   "cell_type": "code",
   "execution_count": null,
   "id": "357d079d-34ad-441e-ae04-6dbc0e3beab7",
   "metadata": {
    "tags": []
   },
   "outputs": [],
   "source": [
    "fs = glob.glob('data/*.csv')\n",
    "df = pd.read_csv(fs[0])\n",
    "\n",
    "for f in fs[1:]:\n",
    "    df_n = pd.read_csv(f)\n",
    "    df = pd.concat([df, df_n])"
   ]
  },
  {
   "cell_type": "code",
   "execution_count": null,
   "id": "c8ef21b2-96da-4c0b-b9c2-d5ff45ee454e",
   "metadata": {
    "tags": []
   },
   "outputs": [],
   "source": [
    "df.keys()"
   ]
  },
  {
   "cell_type": "code",
   "execution_count": null,
   "id": "6668c4ff-afaa-4b6a-8436-9e7c6203cb9b",
   "metadata": {
    "tags": []
   },
   "outputs": [],
   "source": [
    "df_f = df[(df['age']>5.9) &(df['age']<=7)]\n",
    "x = df_f['RA']\n",
    "y = df_f['DEC']\n",
    "c = df_f['age']\n",
    "scale = 11417/4486\n",
    "l = 5\n",
    "fig, ax = plt.subplots(figsize=(l*scale+3,l))\n",
    "\n",
    "theta = np.pi/2.75\n",
    "img = ax.scatter(x*np.cos(theta) - y*np.sin(theta),x*np.sin(theta) + y*np.cos(theta),s=5,c=c, cmap='jet')\n",
    "#ax.set_xlabel('RA')\n",
    "#ax.set_ylabel('DEC')\n",
    "ax.invert_xaxis()\n",
    "ax.set_xlim(-4.259903639039913, -4.369990102024565)\n",
    "ax.set_ylim(28.524099525386, 28.568378781292367)\n",
    "ax.axis('Off')\n",
    "cb = plt.colorbar(img, shrink=0.9, pad=-0.03)\n",
    "cb.set_label('log(Age)')\n",
    "fig.tight_layout()"
   ]
  },
  {
   "cell_type": "code",
   "execution_count": null,
   "id": "15cc3467-daf2-4ea1-bbf4-0b3ac764ce26",
   "metadata": {
    "tags": []
   },
   "outputs": [],
   "source": [
    "df_f = df[(df['age']>7) &(df['age']<=8)]\n",
    "x = df_f['RA']\n",
    "y = df_f['DEC']\n",
    "c = df_f['age']\n",
    "scale = 11417/4486\n",
    "l = 5\n",
    "fig, ax = plt.subplots(figsize=(l*scale+3,l))\n",
    "\n",
    "theta = np.pi/2.75\n",
    "img = ax.scatter(x*np.cos(theta) - y*np.sin(theta),x*np.sin(theta) + y*np.cos(theta),s=0.2,c=c, cmap='jet')\n",
    "#ax.set_xlabel('RA')\n",
    "#ax.set_ylabel('DEC')\n",
    "ax.invert_xaxis()\n",
    "ax.set_xlim(-4.259903639039913, -4.369990102024565)\n",
    "ax.set_ylim(28.524099525386, 28.568378781292367)\n",
    "ax.axis('Off')\n",
    "cb = plt.colorbar(img, shrink=0.9, pad=-0.03)\n",
    "cb.set_label('log(Age)')\n",
    "fig.tight_layout()"
   ]
  },
  {
   "cell_type": "code",
   "execution_count": null,
   "id": "44cfd283-854d-47ba-8a99-7852bff12080",
   "metadata": {
    "tags": []
   },
   "outputs": [],
   "source": [
    "df_f = df[(df['age']>8) &(df['age']<=9.6)]\n",
    "x = df_f['RA']\n",
    "y = df_f['DEC']\n",
    "c = df_f['age']\n",
    "scale = 11417/4486\n",
    "l = 5\n",
    "fig, ax = plt.subplots(figsize=(l*scale+3,l))\n",
    "\n",
    "theta = np.pi/2.75\n",
    "img = ax.scatter(x*np.cos(theta) - y*np.sin(theta),x*np.sin(theta) + y*np.cos(theta),s=0.2,c=c, cmap='jet')\n",
    "#ax.set_xlabel('RA')\n",
    "#ax.set_ylabel('DEC')\n",
    "ax.set_xlim(-4.259903639039913, -4.369990102024565)\n",
    "ax.set_ylim(28.524099525386, 28.568378781292367)\n",
    "ax.invert_xaxis()\n",
    "ax.axis('Off')\n",
    "cb = plt.colorbar(img, shrink=0.9, pad=-0.03)\n",
    "cb.set_label('log(Age)')\n",
    "fig.tight_layout()"
   ]
  },
  {
   "cell_type": "code",
   "execution_count": null,
   "id": "498edb53-0c01-42e7-9152-b1ea3ab0d2d4",
   "metadata": {
    "tags": []
   },
   "outputs": [],
   "source": [
    "df_f = df[(df['age']>9.6) &(df['age']<=10)]\n",
    "x = df_f['RA']\n",
    "y = df_f['DEC']\n",
    "c = df_f['age']\n",
    "scale = 11417/4486\n",
    "l = 5\n",
    "fig, ax = plt.subplots(figsize=(l*scale+3,l))\n",
    "\n",
    "theta = np.pi/2.75\n",
    "img = ax.scatter(x*np.cos(theta) - y*np.sin(theta),x*np.sin(theta) + y*np.cos(theta),s=0.2,c=c, cmap='jet')\n",
    "#ax.set_xlabel('RA')\n",
    "#ax.set_ylabel('DEC')\n",
    "ax.invert_xaxis()\n",
    "ax.axis('Off')\n",
    "cb = plt.colorbar(img, shrink=0.9, pad=-0.03)\n",
    "cb.set_label('log(Age)')\n",
    "fig.tight_layout()"
   ]
  },
  {
   "cell_type": "code",
   "execution_count": null,
   "id": "fd22a761-bec3-4a7b-8110-3cc8aaaaefc2",
   "metadata": {},
   "outputs": [],
   "source": []
  },
  {
   "cell_type": "code",
   "execution_count": null,
   "id": "d7bee6b6-c104-47f3-a7a8-96b9e7d6f2df",
   "metadata": {},
   "outputs": [],
   "source": []
  },
  {
   "cell_type": "code",
   "execution_count": null,
   "id": "fad81b72-8f40-499a-863a-746d4aa57887",
   "metadata": {},
   "outputs": [],
   "source": []
  },
  {
   "cell_type": "markdown",
   "id": "7d3cac00-2abb-4c20-9a65-74a13d12691d",
   "metadata": {
    "tags": []
   },
   "source": [
    "## **HST**"
   ]
  },
  {
   "cell_type": "markdown",
   "id": "2efe45ac-0745-42b3-a87c-c112d19f7d06",
   "metadata": {
    "tags": []
   },
   "source": [
    "### **PARSEC Isochrones**"
   ]
  },
  {
   "cell_type": "markdown",
   "id": "0ce5acad-d784-42ff-a1fa-1d8e79f457fe",
   "metadata": {},
   "source": [
    "#### **ACS/WFC**"
   ]
  },
  {
   "cell_type": "code",
   "execution_count": null,
   "id": "48d15a69-cd26-4890-b9ac-f36a416485e8",
   "metadata": {
    "tags": []
   },
   "outputs": [],
   "source": [
    "with open(\"../data/isochrones_master/cmd_hst_acs.dat\") as f:\n",
    "    dat = f.readlines()\n",
    "\n",
    "data = []\n",
    "\n",
    "for i,d in enumerate(dat[15:-1]):\n",
    "    if 'Zini' not in d:\n",
    "        data.append([float(i) for i in d.split()])\n",
    "        \n",
    "df_cmd_acs = pd.DataFrame(data,columns=dat[13][2:].split())[:-1]\n",
    "#df_cmd_acs = df_cmd_acs[df_cmd_acs['Zini']==0.02]\n",
    "df_cmd_acs.to_csv(\"../data/isochrones_master/cmd_hst_acs.csv\", index=None)\n",
    "\n",
    "#df_cmd_acs = df_cmd_acs[(df_cmd_acs['label']>-1) & (df_cmd_acs['label']<7)]"
   ]
  },
  {
   "cell_type": "code",
   "execution_count": null,
   "id": "e648b9c2-ef1b-4bcf-94c3-3c5c8830e562",
   "metadata": {
    "tags": []
   },
   "outputs": [],
   "source": [
    "df_cmd_acs= pd.read_csv(\"../data/isochrones_master/cmd_hst_acs.csv\")"
   ]
  },
  {
   "cell_type": "code",
   "execution_count": null,
   "id": "21d7e132-905e-4d3e-9fbf-0c2495075315",
   "metadata": {
    "tags": []
   },
   "outputs": [],
   "source": [
    "ages = np.unique(df_cmd_acs['logAge'])\n",
    "mets = np.unique(df_cmd_acs['Zini'])\n",
    "mag_err_lim = 0.2"
   ]
  },
  {
   "cell_type": "code",
   "execution_count": null,
   "id": "f5cc7842-1cd1-4459-a45b-4c919be04d00",
   "metadata": {
    "tags": []
   },
   "outputs": [],
   "source": [
    "mets"
   ]
  },
  {
   "cell_type": "code",
   "execution_count": null,
   "id": "51f09af3-0f16-47a5-addb-8212aac93aef",
   "metadata": {
    "tags": []
   },
   "outputs": [],
   "source": [
    "if not os.path.exists('../data/isochrones/HST_ACS'):\n",
    "    os.mkdir('../data/isochrones/HST_ACS/')\n",
    "else:\n",
    "    os.system('rm ../data/isochrones/HST_ACS/*')\n",
    "    \n",
    "for i, age in enumerate(ages):\n",
    "    if len(str(i+1))==1:\n",
    "        i = '0' + str(i+1)\n",
    "    else:\n",
    "        i =  str(i+1)\n",
    "    for met in [0.02, 0.008]:\n",
    "        \n",
    "        temp = df_cmd_acs[df_cmd_acs['logAge']==age]\n",
    "        temp = temp[temp['Zini']==met]\n",
    "        temp = temp[['label', 'Mini', 'F435Wmag', 'F555Wmag', 'F814Wmag', 'Zini', 'logAge']]\n",
    "        temp =  temp[temp['Mini']>=2]\n",
    "        header = list(temp.keys())\n",
    "        header[0] = '#' + header[0]\n",
    "\n",
    "        temp.to_csv(f'../data/isochrones/HST_ACS/{i}_PARSEC1.1_Z{met}_logAGE{age}Myr_HST_BVI.isoc',sep=' ',\n",
    "                   index=None, header = header)"
   ]
  },
  {
   "cell_type": "markdown",
   "id": "72e0c52f-019b-469d-9e2f-ca2f1e71b7cd",
   "metadata": {
    "jp-MarkdownHeadingCollapsed": true,
    "tags": []
   },
   "source": [
    "#### **WFC3/UVIS**"
   ]
  },
  {
   "cell_type": "code",
   "execution_count": null,
   "id": "fc17c01e-7035-475c-863d-035d67d8c29e",
   "metadata": {
    "tags": []
   },
   "outputs": [],
   "source": [
    "with open(\"../data/isochrones_master/cmd_hst_uvis.dat\") as f:\n",
    "    dat = f.readlines()\n",
    "\n",
    "data = []\n",
    "\n",
    "for i,d in enumerate(dat[13:-1]):\n",
    "    if 'Zini' not in d:\n",
    "        data.append([float(i) for i in d.split()])\n",
    "        \n",
    "df_cmd_uvis = pd.DataFrame(data,columns=dat[13][2:].split())[:-1]\n",
    "df_cmd_uvis.to_csv(\"../data/isochrones_master/cmd_hst_uvis.csv\")\n",
    "df_cmd_uvis = df_cmd_uvis[df_cmd_uvis['MH']==0.51508]\n",
    "#df_cmd_uvis = df_cmd_uvis[(df_cmd_uvis['label']>-1) & (df_cmd_uvis['label']<7)]"
   ]
  },
  {
   "cell_type": "code",
   "execution_count": null,
   "id": "f07e0f92-2eee-4389-b591-5edd0348a662",
   "metadata": {
    "tags": []
   },
   "outputs": [],
   "source": [
    "df_cmd_uvis = pd.read_csv(\"../data/isochrones_master/cmd_hst_uvis.csv\")"
   ]
  },
  {
   "cell_type": "code",
   "execution_count": null,
   "id": "95091cd2-318d-4340-9acb-411da1649358",
   "metadata": {
    "tags": []
   },
   "outputs": [],
   "source": [
    "ages = np.round(np.arange(6.0,8.1,0.1),1)\n",
    "\n",
    "mag_err_lim = 0.2"
   ]
  },
  {
   "cell_type": "code",
   "execution_count": null,
   "id": "b16a7a14-a9c5-42d6-a9de-c086fa7e061b",
   "metadata": {
    "tags": []
   },
   "outputs": [],
   "source": [
    "if not os.path.exists('../data/isochrones/HST_UVIS'):\n",
    "    os.mkdir('../data/isochrones/HST_UVIS/')\n",
    "else:\n",
    "    os.system('rm ../data/isochrones/HST_UVIS/*')\n",
    "    \n",
    "for i, age in enumerate(ages):\n",
    "    temp = df_cmd_uvis[df_cmd_uvis['logAge']==age]\n",
    "    if len(str(i+1))==1:\n",
    "        i = '0' + str(i+1)\n",
    "    else:\n",
    "        i =  str(i+1)\n",
    "    \n",
    "    temp = temp[['label', 'Mini', 'F275Wmag', 'F336Wmag', 'Zini', 'logAge']]\n",
    "    temp =  temp[temp['Mini']>=2]\n",
    "    header = list(temp.keys())\n",
    "    header[0] = '#' + header[0]\n",
    "        \n",
    "    temp.to_csv(f'../data/isochrones/HST_UVIS/{i}_PARSEC1.1_Z0.015_logAGE{age}Myr_HST_UVIS.isoc',sep=' ',\n",
    "               index=None, header = header)"
   ]
  },
  {
   "cell_type": "markdown",
   "id": "a093c6a6-4d8b-4105-9d78-42a94e8c1094",
   "metadata": {
    "tags": []
   },
   "source": [
    "### **CMD**"
   ]
  },
  {
   "cell_type": "code",
   "execution_count": null,
   "id": "a5eb0cbf-f14d-47f9-82c7-de55378c45b4",
   "metadata": {
    "tags": []
   },
   "outputs": [],
   "source": [
    "ages_ = np.round(np.log10([ 7e6, 1e7, 2e7, 3e7, 5e7,1e8]),1)"
   ]
  },
  {
   "cell_type": "code",
   "execution_count": null,
   "id": "ffb7b602-4392-4822-88c9-afc9a372567a",
   "metadata": {
    "tags": []
   },
   "outputs": [],
   "source": [
    "age_lin = []\n",
    "for i in ages_:\n",
    "    if i > 6  and i <9:\n",
    "        i-=6\n",
    "        age_lin.append(f'{np.ceil(10**i)} Myr')\n",
    "    elif i >= 9:\n",
    "        i-=9\n",
    "        age_lin.append(f'{np.ceil(10**i)} Gyr')\n",
    "        "
   ]
  },
  {
   "cell_type": "code",
   "execution_count": null,
   "id": "66bd7f2e-cde9-4092-a32d-5c958f51554a",
   "metadata": {
    "tags": []
   },
   "outputs": [],
   "source": [
    "r_in = 0\n",
    "r_out = 500\n",
    "\n",
    "fig, ax, tab = gen_CMD('f435w','f555w', name = 'f435w_f555w',cmd=df_cmd_acs, out_dir='photometry/ngc628',\n",
    "                 Av_=0.5, xlims=[-2,3], ylims=[20,28], r_in=r_in,r_out=r_out, ref_xpos = -1.5,\n",
    "                label = 9, met=0.02, regions=['filament'], ages=ages_, dismod=29.75,\n",
    "                  Av_x = 2, Av_y=27)"
   ]
  },
  {
   "cell_type": "code",
   "execution_count": null,
   "id": "f97c4c81-e452-4ab0-87ad-5a50d9d3db57",
   "metadata": {
    "tags": []
   },
   "outputs": [],
   "source": [
    "r_in = 0\n",
    "r_out = 500\n",
    "\n",
    "fig, ax, tab = gen_CMD('f555w','f814w', name = 'f555w_f814w',cmd=df_cmd_acs, out_dir='photometry/ngc628',\n",
    "                 Av_=0.5, xlims=[-2,6], ylims=[20,28], r_in=r_in,r_out=r_out, ref_xpos = -1.5,\n",
    "                label = 3, met=0.02, regions=['bubble'], ages=[9.0,9.4,9.8,10,10.1], dismod=29.75, gen_kde=True,\n",
    "                  Av_x = 2, Av_y=27)"
   ]
  },
  {
   "cell_type": "code",
   "execution_count": null,
   "id": "ee1d85db-3924-461d-876e-0bf3db945d6f",
   "metadata": {
    "tags": []
   },
   "outputs": [],
   "source": [
    "r_in = 0\n",
    "r_out = 12\n",
    "\n",
    "fig, ax = plt.subplots(1,2, sharey=False,figsize=(24,10))\n",
    "\n",
    "filt1 = 'f435w'\n",
    "\n",
    "filt2 = 'f814w'\n",
    "\n",
    "filt3 = 'f814w'\n",
    "\n",
    "fig,ax1, tab = gen_CMD(filt1, filt2,filt3, name = 'ngc628/f435w_f814w',\n",
    "                       cmd=None, Av_=1, Av_x=4, Av_y=26, xlims=[-1,6], ylims=[19,28],\n",
    "                     out_dir='photometry',gen_kde=True,gen_contours=False, label=10, met=0.02,\n",
    "                    dismod=29.8, ages=ages_, sqr_field=False, r_in=r_in, r_out=r_out, regions=['bubble'],\n",
    "                    fig=fig,ax=ax[0],ref_xpos=-0.5)\n",
    "\n",
    "fig,ax2, tab = gen_CMD(filt1, filt2,filt3, name = 'ngc628/f435w_f814w',\n",
    "                       cmd=None, r=None, Av_=1, Av_x=4, Av_y=26, xlims=[-1,6], ylims=[19,28],\n",
    "                 out_dir='photometry',gen_kde=False, label=10, met=0.02,dismod=29.95, ages=ages_,\n",
    "                 r_in=r_in, r_out=r_out, fig=fig,ax=ax[1],ref_xpos=-0.5, alpha=0.5, s=0.5,\n",
    "                regions=['bubble'])\n"
   ]
  },
  {
   "cell_type": "code",
   "execution_count": null,
   "id": "588c5476-ab76-411f-81e4-dabcc12ad7db",
   "metadata": {},
   "outputs": [],
   "source": []
  },
  {
   "cell_type": "code",
   "execution_count": null,
   "id": "d86558c8-ebba-44f8-b2db-9b3207d21136",
   "metadata": {
    "tags": []
   },
   "outputs": [],
   "source": [
    "r_in = 0\n",
    "r_out = 500\n",
    "\n",
    "fig,ax1, tab = gen_CMD('f435w', 'f814w', 'f814w',name = 'ngc628/f435w_f814w',\n",
    "                       cmd=df_cmd_acs, r=None, Av_=1, Av_x=1.5, Av_y=27, xlims=[-0.5,6], ylims=[17,30],\n",
    "                 out_dir='photometry',gen_kde=True, label_min=0, label_max=10, met=None,dismod=30.04, ages=[8],\n",
    "                 r_in=r_in, r_out=r_out,regions=['galaxy'])\n",
    "#ax1.set_title('')\n",
    "#ax1.get_legend().remove() "
   ]
  },
  {
   "cell_type": "code",
   "execution_count": null,
   "id": "f3545006-2dba-4957-bea4-ac912c4316d2",
   "metadata": {
    "tags": []
   },
   "outputs": [],
   "source": [
    "x = tab['mag_vega_F814W']\n",
    "y = tab['mag_err_2']\n",
    "\n",
    "fig, ax = plt.subplots()\n",
    "\n",
    "ax.scatter(x,y,s=0.05, color='black')\n",
    "\n",
    "ax.set_xlabel('F814W (vega)')\n",
    "ax.set_ylabel('mag_err')\n",
    "\n",
    "ax.xaxis.set_major_locator(AutoLocator())\n",
    "ax.xaxis.set_minor_locator(AutoMinorLocator())\n",
    "\n",
    "ax.yaxis.set_major_locator(AutoLocator())\n",
    "ax.yaxis.set_minor_locator(AutoMinorLocator())\n",
    "\n",
    "ax.tick_params(which='both', length=7,direction=\"in\", bottom=True, top=True,left=True, right=True)\n",
    "ax.tick_params(which='minor', length=4)"
   ]
  },
  {
   "cell_type": "code",
   "execution_count": null,
   "id": "ea344bdf-10de-4f03-83ba-e1f5132a893c",
   "metadata": {
    "tags": []
   },
   "outputs": [],
   "source": [
    "x = tab['ra_1']\n",
    "y = tab['dec_1']\n",
    "\n",
    "plt.scatter(x,y, s=0.1)"
   ]
  },
  {
   "cell_type": "code",
   "execution_count": null,
   "id": "f482b60b-0e9b-433d-98fe-1ce83bc245df",
   "metadata": {
    "tags": []
   },
   "outputs": [],
   "source": [
    "r_in = 0\n",
    "r_out = 10\n",
    "\n",
    "fig, ax, tab = gen_CMD('f435w','f814w', name = 'f435w_f814w',cmd=df_cmd_acs, out_dir='photometry/ngc628',\n",
    "                 Av_=0.5, xlims=[-2,6], ylims=[18,28], r_in=r_in,r_out=r_out, ref_xpos = -1.5,\n",
    "                label = 3, met=0.02, regions=['bubble'], ages=ages_, dismod=29.8,\n",
    "                  Av_x = 2, Av_y=27)"
   ]
  },
  {
   "cell_type": "code",
   "execution_count": null,
   "id": "2bf1998a-20ec-49cd-a8b8-3aa5d4e3ba26",
   "metadata": {
    "tags": []
   },
   "outputs": [],
   "source": [
    "ages_ = np.round(np.log10([4e6, 7e6, 1e7, 2e7, 3e7, 5e7]),1)"
   ]
  },
  {
   "cell_type": "code",
   "execution_count": null,
   "id": "8dac161f-942e-48ce-8e78-fc16458fbe2c",
   "metadata": {
    "tags": []
   },
   "outputs": [],
   "source": [
    "ages_"
   ]
  },
  {
   "cell_type": "code",
   "execution_count": null,
   "id": "1c8e3c3b-4472-4e12-a4d1-2a6368f338a4",
   "metadata": {
    "tags": []
   },
   "outputs": [],
   "source": [
    "age_lin = []\n",
    "for i in ages_:\n",
    "    if i > 6  and i <9:\n",
    "        i-=6\n",
    "        age_lin.append(f'{np.ceil(10**i)} Myr')\n",
    "    elif i >= 9:\n",
    "        i-=9\n",
    "        age_lin.append(f'{np.ceil(10**i)} Gyr')\n",
    "        "
   ]
  },
  {
   "cell_type": "code",
   "execution_count": null,
   "id": "10b55752-f598-44ef-b644-047b443f9dbe",
   "metadata": {
    "tags": []
   },
   "outputs": [],
   "source": [
    "fig, ax = gen_CMD('f275w','f336w', cmd=df_cmd_uvis, out_dir='PHOT_OUTPUT_r25',\n",
    "                 Av_=0.5, xlims=[-3,5], ylims=[18,28], r=10/0.04, met=0.008,label=9, ref_xpos=-2,\n",
    "                 x_cen=631/2, y_cen=631/2, regions=['bubble','bkg3'], Av_x=4, Av_y=24,\n",
    "                 flag=111)"
   ]
  },
  {
   "cell_type": "markdown",
   "id": "da6b6bfb-a722-4f19-b1d2-422fc73f1ea4",
   "metadata": {
    "jp-MarkdownHeadingCollapsed": true,
    "tags": []
   },
   "source": [
    "### **Extinction Vector**"
   ]
  },
  {
   "cell_type": "code",
   "execution_count": null,
   "id": "643ac120-bbb5-4600-bbee-ff4888394cf4",
   "metadata": {
    "tags": []
   },
   "outputs": [],
   "source": [
    "df_cmd_hst['Zini']"
   ]
  },
  {
   "cell_type": "code",
   "execution_count": null,
   "id": "3587afdb-8985-4eb7-98af-679c5dd1a062",
   "metadata": {},
   "outputs": [],
   "source": []
  },
  {
   "cell_type": "code",
   "execution_count": null,
   "id": "9f096329-485a-42d0-86e0-08df75dcb001",
   "metadata": {},
   "outputs": [],
   "source": []
  },
  {
   "cell_type": "markdown",
   "id": "6f6f4f1a-56ef-42bf-8799-fb5841a12df3",
   "metadata": {
    "jp-MarkdownHeadingCollapsed": true,
    "tags": []
   },
   "source": [
    "## **JWST-HST**"
   ]
  },
  {
   "cell_type": "code",
   "execution_count": null,
   "id": "af11c440-d2ad-4e4a-84ba-f8b2f69daf54",
   "metadata": {
    "tags": []
   },
   "outputs": [],
   "source": [
    "df_cmd_hst_jwst = pd.read_csv('../data/isochrones_master/cmd_jwst_hst.csv')"
   ]
  },
  {
   "cell_type": "code",
   "execution_count": null,
   "id": "ef582f8b-50da-4884-8dd8-aaad4a92247f",
   "metadata": {
    "tags": []
   },
   "outputs": [],
   "source": [
    "ages = ages = np.round(np.arange(6.0,9.1,0.1),1)"
   ]
  },
  {
   "cell_type": "code",
   "execution_count": null,
   "id": "a898d74f-1721-448e-80cd-b978c988cebe",
   "metadata": {
    "tags": []
   },
   "outputs": [],
   "source": [
    "if not os.path.exists('../data/isochrones/HST_JWST'):\n",
    "    os.mkdir('../data/isochrones/HST_JWST/')\n",
    "else:\n",
    "    os.system('rm ../data/isochrones/HST_JWST/*')\n",
    "    \n",
    "for i, age in enumerate(ages):\n",
    "    temp = df_cmd_hst_jwst[df_cmd_hst_jwst['logAge_1']==age]\n",
    "    if len(str(i+1))==1:\n",
    "        i = '0' + str(i+1)\n",
    "    else:\n",
    "        i =  str(i+1)\n",
    "    \n",
    "    temp = temp[['label_1', 'Mass_1', 'F435Wmag', 'F555Wmag', 'F814Wmag', 'F115Wmag', 'F150Wmag', 'F200Wmag', 'Zini_1', 'logAge_1']]\n",
    "    header = list(temp.keys())\n",
    "    header[0] = '#' + header[0]\n",
    "        \n",
    "    temp.to_csv(f'../data/isochrones/HST_JWST/{i}_PARSEC1.1_Z0.02_logAGE{age}Myr_JWST_JHK.isoc',sep=' ',\n",
    "               index=None, header = header)\n"
   ]
  },
  {
   "cell_type": "code",
   "execution_count": null,
   "id": "03c79d2d-6254-40d4-9128-79e5162efd35",
   "metadata": {
    "tags": []
   },
   "outputs": [],
   "source": [
    "r_in = 0\n",
    "r_out = 10\n",
    "\n",
    "fig,ax = gen_CMD('f200w', 'f555w', name='f115w_f150w_f200w_f435w_f555w_f814w',\n",
    "                 cmd=df_cmd_hst_jwst, r=None, ra_col='ra_1_1', dec_col='dec_1_1',\n",
    "                 Av_=3, Av_x=2.5, Av_y=26, xlims=[-7,5], ylims=[18,30],\n",
    "                 out_dir='PHOT_OUTPUT_r25',gen_kde=False, label=9, met=0.02,\n",
    "                 r_in=r_in, r_out=r_out,\n",
    "                regions=['bubble'])"
   ]
  },
  {
   "cell_type": "markdown",
   "id": "bbd6a705-ede8-4f24-a199-e6022c16f9ec",
   "metadata": {
    "jp-MarkdownHeadingCollapsed": true,
    "tags": []
   },
   "source": [
    "## **SED**"
   ]
  },
  {
   "cell_type": "code",
   "execution_count": null,
   "id": "43f3e276-9527-4cd3-a56b-faef29daded6",
   "metadata": {
    "tags": []
   },
   "outputs": [],
   "source": [
    "df_sed_bub = Table.read(\"../data/f275_f336w_f435w_f336w_f115w_f150w_f200w_bub.fits\")\n",
    "df_sed_bkg = Table.read(\"../data/f275_f336w_f435w_f336w_f115w_f150w_f200w_bkg.fits\")"
   ]
  },
  {
   "cell_type": "code",
   "execution_count": null,
   "id": "8b208126-c7e6-40ec-9f37-fb8ebff69c65",
   "metadata": {
    "tags": []
   },
   "outputs": [],
   "source": [
    "len(df_sed_bub), len(df_sed_bkg)"
   ]
  },
  {
   "cell_type": "code",
   "execution_count": null,
   "id": "70e86da7-c09c-4abf-876c-e273aeb8a964",
   "metadata": {
    "tags": []
   },
   "outputs": [],
   "source": [
    "filts = [i.upper() for i in list(Av_dict.keys())]\n",
    "filts_wav = [2709.7, 3354.5, 4322.0, 5368.0, 8146.9, 11490, 14970, 19680]\n",
    "Avs = np.array(list(Av_dict.values()))"
   ]
  },
  {
   "cell_type": "code",
   "execution_count": null,
   "id": "75bf57a9-ebee-4f82-a873-bf0c073185f9",
   "metadata": {
    "tags": []
   },
   "outputs": [],
   "source": [
    "m = 21\n",
    "dm = 0.5\n",
    "\n",
    "df_filt1 = df_sed_bub[(df_sed_bub['mag_vega_F115W']>= m) \n",
    "                      & (df_sed_bub['mag_vega_F115W']<= m + dm)]\n",
    "\n",
    "df_filt2 = df_sed_bkg[(df_sed_bkg['mag_vega_F115W']>= m) \n",
    "                      & (df_sed_bkg['mag_vega_F115W']<= m + dm)]\n",
    "\n",
    "fig, ax = plt.subplots(figsize=(15,8))\n",
    "\n",
    "for i in range(len(df_filt1)):\n",
    "\n",
    "    y = df_filt1[i:i+1]['mag_vega_F275W', 'mag_vega_F336W', 'mag_vega_F435W', 'mag_vega_F555W', 'mag_vega_F814W',\n",
    "                'mag_vega_F115W', 'mag_vega_F150W', 'mag_vega_F200W'].to_pandas().values[0]\n",
    "\n",
    "    ax.plot(filts_wav,y,'-ob')\n",
    " \n",
    "\n",
    "for i in range(len(df_filt2)):\n",
    "\n",
    "    y = df_filt2[i:i+1]['mag_vega_F275W', 'mag_vega_F336W', 'mag_vega_F435W', 'mag_vega_F555W', 'mag_vega_F814W',\n",
    "                'mag_vega_F115W', 'mag_vega_F150W', 'mag_vega_F200W'].to_pandas().values[0]\n",
    "\n",
    "    #ax.plot(filts_wav,y,'-or')\n",
    "    \n",
    "ax.xaxis.set_major_locator(AutoLocator())\n",
    "ax.xaxis.set_minor_locator(AutoMinorLocator())\n",
    "\n",
    "ax.yaxis.set_major_locator(AutoLocator())\n",
    "ax.yaxis.set_minor_locator(AutoMinorLocator())\n",
    "\n",
    "ax.tick_params(which='both', length=10,direction=\"in\", bottom=True, top=True,left=True, right=True)\n",
    "ax.tick_params(which='minor', length=4);\n",
    "ax.set_xticks(filts_wav, labels=filts, rotation=45, fontsize = 15)\n",
    "ax.invert_yaxis();"
   ]
  },
  {
   "cell_type": "markdown",
   "id": "d970d4d9-4051-4792-aad7-1fae3a231d68",
   "metadata": {
    "jp-MarkdownHeadingCollapsed": true,
    "tags": []
   },
   "source": [
    "## **CMD gradient**"
   ]
  },
  {
   "cell_type": "code",
   "execution_count": null,
   "id": "cc5e8271-036b-4e6a-9fe8-39055689d175",
   "metadata": {
    "tags": []
   },
   "outputs": [],
   "source": [
    "rs = [0,5/0.031]\n",
    "\n",
    "area = np.pi*(rs[-1]**2 - rs[-2]**2)\n",
    "\n",
    "while 1:\n",
    "    r = np.sqrt(area/np.pi + rs[-1]**2)\n",
    "    if r < 797/2:\n",
    "        rs.append(r)\n",
    "    else:\n",
    "        break\n",
    "    \n",
    "rs = np.array(rs)"
   ]
  },
  {
   "cell_type": "code",
   "execution_count": null,
   "id": "7d69e560-a797-4306-8768-d18b46c63b20",
   "metadata": {
    "tags": []
   },
   "outputs": [],
   "source": [
    "rs"
   ]
  },
  {
   "cell_type": "code",
   "execution_count": null,
   "id": "803b5be2-d2e0-43ef-94d4-554f47f30baf",
   "metadata": {
    "tags": []
   },
   "outputs": [],
   "source": [
    "rs[1:]**2 - rs[:-1]**2"
   ]
  },
  {
   "cell_type": "code",
   "execution_count": null,
   "id": "b6b9177f-1ca7-4695-9c08-c665787e4b5c",
   "metadata": {
    "tags": []
   },
   "outputs": [],
   "source": [
    "x_cen = 797/2\n",
    "y_cen = 797/2"
   ]
  },
  {
   "cell_type": "code",
   "execution_count": null,
   "id": "eb9c2d6d-1b71-4e24-8232-09a2b12c5021",
   "metadata": {
    "tags": []
   },
   "outputs": [],
   "source": [
    "plt.figure(figsize=(7, 10))\n",
    "\n",
    "ax1 = plt.subplot(1, 1, 1,projection=cutout_n.wcs)\n",
    "\n",
    "ax1.set_title(filt_n, fontdict=font2)\n",
    "norm = simple_norm(cutout_n.data, 'sqrt',percent=99.)\n",
    "\n",
    "img = ax1.imshow(cutout_n.data, norm = norm, cmap='gray')\n",
    "\n",
    "levels = [13.2,15]\n",
    "\n",
    "smooth_data = gaussian_filter(cutout_m.data, 2)\n",
    "cmap = ListedColormap(['yellow','cyan'])\n",
    "ax1.contour(smooth_data, levels=levels, cmap=cmap, transform=ax1.get_transform(cutout_m.wcs))\n",
    "#ax1.grid(color='red')\n",
    "\n",
    "\n",
    "for r in rs:\n",
    "    circle = Circle((x_cen, y_cen), r, fill=False,  color='black')\n",
    "    ax1.add_patch(circle)\n",
    " \n",
    "circle = Circle((x_cen, y_cen), 200, fill=False,  color='red')\n",
    "ax1.add_patch(circle)\n",
    "\n",
    "circle = Circle((x_cen, y_cen), 282.843, fill=False,  color='red')\n",
    "ax1.add_patch(circle)\n",
    "\n",
    "circle = Circle((x_cen, y_cen), rs.max(), fill=False,  color='red')\n",
    "ax1.add_patch(circle)\n",
    "    \n",
    "cb = plt.colorbar(img, orientation='horizontal', anchor = (0.5, 1.1))\n",
    "cb.set_label(f\"{imh_m['BUNIT']}\")"
   ]
  },
  {
   "cell_type": "code",
   "execution_count": null,
   "id": "88d1d905-11d6-491e-ab87-f37968fec56e",
   "metadata": {
    "tags": []
   },
   "outputs": [],
   "source": [
    "mag_err_lim = 0.1"
   ]
  },
  {
   "cell_type": "code",
   "execution_count": null,
   "id": "4c3fc053-bff6-4e16-9878-a48b6255f4ae",
   "metadata": {
    "tags": []
   },
   "outputs": [],
   "source": [
    "age_lin = []\n",
    "for i in ages_:\n",
    "    if i > 6  and i <9:\n",
    "        i-=6\n",
    "        age_lin.append(f'{np.round(10**i,2)} Myr')\n",
    "    elif i >= 9:\n",
    "        i-=9\n",
    "        age_lin.append(f'{np.round(10**i,2)} Gyr')   "
   ]
  },
  {
   "cell_type": "code",
   "execution_count": null,
   "id": "d0fa53ab-cafc-41e7-9e6b-4690b9441dde",
   "metadata": {
    "tags": []
   },
   "outputs": [],
   "source": [
    "for i in range(len(rs)-1):\n",
    "    fig,ax = gen_CMD('f115w', 'f150w', r_in=rs[i],r_out=rs[i+1],\n",
    "                     cmd=None, flag=111, gen_kde=False, add_ref=True,\n",
    "                     x_cen=797/2, y_cen=797/2, out_dir='PHOT_OUTPUT_r25')\n",
    "    fig.suptitle(f\"R = {np.round(rs[i],1)}-{np.round(rs[i+1],1)}\", fontsize=20)\n",
    "    plt.show()"
   ]
  },
  {
   "cell_type": "markdown",
   "id": "8ddc9b6d-bd2d-43db-91dd-1fad49d1c83f",
   "metadata": {
    "jp-MarkdownHeadingCollapsed": true,
    "tags": []
   },
   "source": [
    "## **Simulate Stars using PISTA**"
   ]
  },
  {
   "cell_type": "code",
   "execution_count": null,
   "id": "768c952c-b12b-4cb2-87dc-592c63ce3baf",
   "metadata": {
    "tags": []
   },
   "outputs": [],
   "source": [
    "region, filt_n"
   ]
  },
  {
   "cell_type": "code",
   "execution_count": null,
   "id": "0ce31b14-00c4-49e9-8698-87f862277062",
   "metadata": {
    "tags": []
   },
   "outputs": [],
   "source": [
    "filt_n = 'F435W'"
   ]
  },
  {
   "cell_type": "code",
   "execution_count": null,
   "id": "f564813c-fe73-4a2b-a4d8-9c8d99c089b4",
   "metadata": {
    "tags": []
   },
   "outputs": [],
   "source": [
    "if not os.path.exists(f\"../PHOT_OUTPUT_m50/{region}/{filt_n}\"):\n",
    "    os.mkdir(f\"../PHOT_OUTPUT_m50/{region}/{filt_n}\")"
   ]
  },
  {
   "cell_type": "code",
   "execution_count": null,
   "id": "04ed8a41-e0d6-455d-b39d-5280376f1ca1",
   "metadata": {
    "tags": []
   },
   "outputs": [],
   "source": [
    "hdu = fits.open(f\"../PHOT_OUTPUT_AUTO/{region}/{filt_n}/data_conv.fits\")[1]"
   ]
  },
  {
   "cell_type": "code",
   "execution_count": null,
   "id": "730d5f7c-c9cd-487b-ae1f-5b966969deb1",
   "metadata": {
    "tags": []
   },
   "outputs": [],
   "source": [
    "data_source = hdu.data\n",
    "pixel_scale = hdu.header['CDELT1']*3600"
   ]
  },
  {
   "cell_type": "code",
   "execution_count": null,
   "id": "5fa5cbea-7c9f-4d24-91f0-e5876f8b012e",
   "metadata": {
    "tags": []
   },
   "outputs": [],
   "source": [
    "norm = simple_norm(data_source, 'sqrt', percent=99.)\n",
    "plt.imshow(data_source, cmap='jet', norm=norm)"
   ]
  },
  {
   "cell_type": "code",
   "execution_count": null,
   "id": "eb606252-0da6-4638-9b0c-367245accbb9",
   "metadata": {
    "tags": []
   },
   "outputs": [],
   "source": [
    "phot_table = Table.read(f\"../PHOT_OUTPUT_AUTO/{region}/{filt_n}/{filt_n}_photometry_filt.fits\")"
   ]
  },
  {
   "cell_type": "code",
   "execution_count": null,
   "id": "fa3fe45c-913e-49ea-8db4-8df5d556d880",
   "metadata": {
    "tags": []
   },
   "outputs": [],
   "source": [
    "psf = np.median(fits.open(f'../data/PSF/epsf/{filt_n}/snap_test_psf.fits')[0].data, axis=(1,0))\n",
    "psf = psf.reshape(51,5,51,5).sum(axis=(1,3))\n",
    "#psf = np.where(psf>=0,psf,0)\n",
    "#psf -= psf.min()\n",
    "psf /= psf.sum()"
   ]
  },
  {
   "cell_type": "code",
   "execution_count": null,
   "id": "50d0fd79-ddc6-43b6-bce5-7cb946108e4c",
   "metadata": {
    "tags": []
   },
   "outputs": [],
   "source": [
    "hdu = fits.PrimaryHDU(psf)\n",
    "hdul = fits.HDUList([hdu])\n",
    "hdul.writeto('psf.fits', overwrite=True)"
   ]
  },
  {
   "cell_type": "code",
   "execution_count": null,
   "id": "2a4b4da5-8903-4d67-84dd-3ae9745bd030",
   "metadata": {
    "tags": []
   },
   "outputs": [],
   "source": [
    "data = psf\n",
    "norm = simple_norm(data, 'log', percent=99.99, log_a=100)\n",
    "img = plt.imshow(data, cmap='jet', norm=norm)\n",
    "plt.colorbar(img)"
   ]
  },
  {
   "cell_type": "code",
   "execution_count": null,
   "id": "fd30f5f8-a61d-44e4-9762-778a3cf21653",
   "metadata": {
    "tags": []
   },
   "outputs": [],
   "source": [
    "tel_params ={\n",
    "            'aperture'       : 650,\n",
    "            'pixel_scale'    : pixel_scale,\n",
    "            'psf_file'       : f'psf.fits',\n",
    "            'response_funcs' :  [ f'{data_path}/INSIST/UV/Coating.dat,5,100',   # 6 mirrors\n",
    "                                ],\n",
    "             'coeffs'        : 0.5 ,\n",
    "             'theta'         : 0\n",
    "            }"
   ]
  },
  {
   "cell_type": "code",
   "execution_count": null,
   "id": "9e078264-43b7-49d8-8859-fc3e8c4f3eb2",
   "metadata": {
    "tags": []
   },
   "outputs": [],
   "source": [
    "df = phot_table[ (phot_table['SNR']<20) ][['ra', 'dec',f'mag_vega_{filt_n}', 'flux','flag_phot']].to_pandas()"
   ]
  },
  {
   "cell_type": "code",
   "execution_count": null,
   "id": "ef10c4e6-4b26-4fea-84e6-a590c704fae3",
   "metadata": {
    "tags": []
   },
   "outputs": [],
   "source": [
    "df = df[df['flag_phot']==1]"
   ]
  },
  {
   "cell_type": "code",
   "execution_count": null,
   "id": "442a8234-cfa1-48af-9f7e-b5ee8595b199",
   "metadata": {
    "tags": []
   },
   "outputs": [],
   "source": [
    "zero_flux = (df['flux']/10**(-0.4*df[f'mag_vega_{filt_n}'])).mean()"
   ]
  },
  {
   "cell_type": "code",
   "execution_count": null,
   "id": "e047c6f0-fadd-4afe-8e6c-03d6d4ee3d94",
   "metadata": {
    "tags": []
   },
   "outputs": [],
   "source": [
    "zp = 2.5*np.log10(zero_flux)"
   ]
  },
  {
   "cell_type": "code",
   "execution_count": null,
   "id": "d6b394d5-ac42-4de8-b39c-51f0f15cf4b7",
   "metadata": {
    "tags": []
   },
   "outputs": [],
   "source": [
    "zero_flux = 10**(0.4*(zp+0.5))"
   ]
  },
  {
   "cell_type": "code",
   "execution_count": null,
   "id": "612a0063-c021-47c9-be9c-13cf58c6fd4a",
   "metadata": {
    "tags": []
   },
   "outputs": [],
   "source": [
    "df = df.rename(columns = {f'mag_vega_{filt_n}': 'mag'})"
   ]
  },
  {
   "cell_type": "code",
   "execution_count": null,
   "id": "6d621ecb-a9da-4f15-8141-6a6cdb584915",
   "metadata": {
    "tags": []
   },
   "outputs": [],
   "source": [
    "sim = pt.Imager(df=df, tel_params=tel_params, exp_time=2000,\n",
    "               n_x=data_source.shape[0], n_y=data_source.shape[1])"
   ]
  },
  {
   "cell_type": "code",
   "execution_count": null,
   "id": "0ae42cbd-2e30-4645-a9b4-b46af64b816c",
   "metadata": {
    "tags": []
   },
   "outputs": [],
   "source": [
    "det_params = {'shot_noise' :  'Poisson',\n",
    "              'qe_response': [],\n",
    "              'qe_mean'    : 1,\n",
    "              'G1'         :  1,\n",
    "              'bias'       : 10,\n",
    "              'PRNU_frac'  :  0.25/100,\n",
    "              'DCNU'       :  0.1/100,\n",
    "              'RN'         :  3,\n",
    "              'T'          :  218,\n",
    "              'DN'         :  0.01/100\n",
    "              }"
   ]
  },
  {
   "cell_type": "code",
   "execution_count": null,
   "id": "07256f28-4c1b-4079-a747-a42b6b61f5c8",
   "metadata": {
    "tags": []
   },
   "outputs": [],
   "source": [
    "(sim.n_x_sim - sim.n_x)/2, sim.n_x_sim - (sim.n_x_sim - sim.n_x)/2"
   ]
  },
  {
   "cell_type": "code",
   "execution_count": null,
   "id": "96733dbc-8443-404e-98bf-8cb3abfca169",
   "metadata": {
    "tags": []
   },
   "outputs": [],
   "source": [
    "sim.shot_noise=False"
   ]
  },
  {
   "cell_type": "code",
   "execution_count": null,
   "id": "7e8f2825-5f31-4dce-9354-b1786cdc7e7d",
   "metadata": {
    "tags": []
   },
   "outputs": [],
   "source": [
    "sim(det_params=det_params)"
   ]
  },
  {
   "cell_type": "code",
   "execution_count": null,
   "id": "9b89727b-e95c-4e10-9a86-8945690da512",
   "metadata": {
    "tags": []
   },
   "outputs": [],
   "source": [
    "sim.digital.min()"
   ]
  },
  {
   "cell_type": "code",
   "execution_count": null,
   "id": "ccabf30c-682c-437a-a6ee-c3881f7a80a2",
   "metadata": {
    "tags": []
   },
   "outputs": [],
   "source": [
    "sim.show_image()"
   ]
  },
  {
   "cell_type": "code",
   "execution_count": null,
   "id": "d5da55de-55c0-45c8-8dfb-57d9aa1c069a",
   "metadata": {
    "tags": []
   },
   "outputs": [],
   "source": [
    "x = np.random.uniform(100.0,sim.n_x_sim -100,3600)\n",
    "y = np.random.uniform(100.0,sim.n_y_sim -100,3600)\n",
    "\n",
    "mag = np.array(list(np.linspace(20,32,60))*60)\n",
    "df_add  = pd.DataFrame(zip(x,y,mag), columns = ['x','y','mag'])"
   ]
  },
  {
   "cell_type": "code",
   "execution_count": null,
   "id": "30c590fc-5d9d-4910-bba5-46731b81a8f4",
   "metadata": {
    "tags": []
   },
   "outputs": [],
   "source": [
    "sim.shot_noise = False"
   ]
  },
  {
   "cell_type": "code",
   "execution_count": null,
   "id": "5fa3ec01-7ea4-45a2-a5e8-e8154b681d0e",
   "metadata": {
    "tags": []
   },
   "outputs": [],
   "source": [
    "out_img = sim.add_stars(data_source, zero_flux, df_add)"
   ]
  },
  {
   "cell_type": "code",
   "execution_count": null,
   "id": "fc39d64e-6975-4d08-8751-49596cba483b",
   "metadata": {
    "tags": []
   },
   "outputs": [],
   "source": [
    "norm = simple_norm(out_img, 'sqrt', percent=99.)\n",
    "plt.imshow(out_img, cmap='jet', norm=norm)"
   ]
  },
  {
   "cell_type": "code",
   "execution_count": null,
   "id": "f163ec5a-2b20-487e-8214-b1cfce5ef1cb",
   "metadata": {
    "tags": []
   },
   "outputs": [],
   "source": [
    "hdu = fits.open(f\"../PHOT_OUTPUT_EPSF/{region}/{filt_n}/data_conv.fits\")"
   ]
  },
  {
   "cell_type": "code",
   "execution_count": null,
   "id": "d3b9e03f-ed01-4767-a246-2edee4f5924b",
   "metadata": {
    "tags": []
   },
   "outputs": [],
   "source": [
    "hdu[1].data = out_img\n",
    "wcs = WCS(hdu[1].header)"
   ]
  },
  {
   "cell_type": "code",
   "execution_count": null,
   "id": "7fa871ef-33b1-4534-a2d6-827f599771c8",
   "metadata": {
    "tags": []
   },
   "outputs": [],
   "source": [
    "coords = np.array(wcs.array_index_to_world_values(y-49,x-49))"
   ]
  },
  {
   "cell_type": "code",
   "execution_count": null,
   "id": "61f0ca2e-cfd1-4f01-bb9f-5fe4cac91be1",
   "metadata": {
    "tags": []
   },
   "outputs": [],
   "source": [
    "df_add['x'] = x - 49\n",
    "df_add['y'] = y - 49"
   ]
  },
  {
   "cell_type": "code",
   "execution_count": null,
   "id": "01047db2-c250-4478-a56a-a708154496ea",
   "metadata": {
    "tags": []
   },
   "outputs": [],
   "source": [
    "df_add['ra'] = coords[0,:]\n",
    "df_add['dec'] = coords[1,:]"
   ]
  },
  {
   "cell_type": "code",
   "execution_count": null,
   "id": "ec683abd-037e-4f74-a966-82cc8c49e12b",
   "metadata": {
    "tags": []
   },
   "outputs": [],
   "source": [
    "df_add.to_csv(f\"../PHOT_OUTPUT_m50/{region}/{filt_n}/add_stars.csv\", index=None)"
   ]
  },
  {
   "cell_type": "code",
   "execution_count": null,
   "id": "162f9e87-e5a5-416f-8f8a-fde22bd4b0e5",
   "metadata": {
    "tags": []
   },
   "outputs": [],
   "source": [
    "hdu.writeto(f\"../PHOT_OUTPUT_m50/{region}/{filt_n}/data_conv.fits\", \n",
    "            overwrite=True)"
   ]
  },
  {
   "cell_type": "markdown",
   "id": "90647315-295b-4030-8b3a-205ecdcaaed9",
   "metadata": {
    "tags": []
   },
   "source": [
    "## **Fitting Pritchet Function**"
   ]
  },
  {
   "cell_type": "code",
   "execution_count": null,
   "id": "1bedb170-4474-420c-8882-0f72d2181c78",
   "metadata": {
    "tags": []
   },
   "outputs": [],
   "source": [
    "@models.custom_model\n",
    "def pritchet(m,alpha=0.5,m_50=30):\n",
    "    return 0.5*(1 - alpha*(m - m_50)/np.sqrt(1 + alpha**2*(m-m_50)**2))"
   ]
  },
  {
   "cell_type": "code",
   "execution_count": null,
   "id": "a2811ba5-3a94-46d7-b586-eaa403fd6304",
   "metadata": {
    "tags": []
   },
   "outputs": [],
   "source": [
    "df_match = pd.read_csv(f\"../PHOT_OUTPUT_m50/{region}/{filt_n}/matched.csv\")"
   ]
  },
  {
   "cell_type": "code",
   "execution_count": null,
   "id": "1b45f1c8-0258-48e6-9609-94e1b34c006d",
   "metadata": {
    "tags": []
   },
   "outputs": [],
   "source": [
    "x = df_match['mag']\n",
    "y = df_match[f'mag_vega_{filt_n}'] \n",
    "yerr = df_match['mag_err']\n",
    "\n",
    "plt.figure(figsize=(5,5))\n",
    "plt.errorbar(x, y, yerr, fmt='o', color = 'black', markersize=1, capsize=2)\n",
    "plt.xlabel('Mag in')\n",
    "plt.ylabel('Mag out')\n",
    "plt.plot([25,30],[25,30],'--r')"
   ]
  },
  {
   "cell_type": "code",
   "execution_count": null,
   "id": "3a0282c4-ea22-45fd-af02-4c6971686c03",
   "metadata": {
    "tags": []
   },
   "outputs": [],
   "source": [
    "df_match = df_match[df_match['flag_phot']==1]\n",
    "df_match = df_match[abs(df_match['mag'] - df_match[f'mag_vega_{filt_n}'])<2]"
   ]
  },
  {
   "cell_type": "code",
   "execution_count": null,
   "id": "dfd911a7-0b1f-4af9-ad1a-0f70b50f0bce",
   "metadata": {
    "tags": []
   },
   "outputs": [],
   "source": [
    "x = df_match['mag']\n",
    "y = df_match[f'mag_vega_{filt_n}']\n",
    "yerr = df_match['mag_err']\n",
    "\n",
    "plt.figure(figsize=(5,5))\n",
    "plt.errorbar(x, y, yerr, fmt='o', color = 'black', markersize=1, capsize=2)\n",
    "plt.plot([25,30],[25,30],'--r')"
   ]
  },
  {
   "cell_type": "code",
   "execution_count": null,
   "id": "1e9f6baa-9404-476c-8ad2-7cfd0471cc51",
   "metadata": {
    "tags": []
   },
   "outputs": [],
   "source": [
    "x = np.array(df_match.groupby('mag').count().index)\n",
    "y = np.array(df_match.groupby('mag').count()['x_1']/60)\n",
    "\n",
    "y = y[np.where((x>22)&(x<30))[0]]\n",
    "x = x[np.where((x>22)&(x<30))[0]]\n",
    "init = pritchet()\n",
    "fit = fitting.LevMarLSQFitter()\n",
    "offset = y.max()\n",
    "model = fit(init, x, y/offset)\n",
    "\n",
    "fig, ax = plt.subplots(figsize=(9,7))\n",
    "ax.scatter(x,y)\n",
    "\n",
    "ax.plot(x, model(x)*offset, '--r')\n",
    "ax.set_xlabel('mags')\n",
    "ax.set_ylabel(r'$N_{out}/N_{in}$')\n",
    "ax.set_title(f\"{region} | {filt_n} | \"+ r\"$\\alpha =$\" + f\" {np.round(model.alpha.value,2)}\" + r\" | $m_{50}=$\" + f\"{np.round(model.m_50.value,2)}\")\n",
    "\n",
    "ax.xaxis.set_minor_locator(AutoMinorLocator())\n",
    "ax.yaxis.set_minor_locator(AutoMinorLocator())\n",
    "\n",
    "ax.tick_params(which='both', width=2,direction=\"in\", top = True,right = True,\n",
    "               bottom = True, left = True)\n",
    "ax.tick_params(which='major', length=7,direction=\"in\")\n",
    "ax.tick_params(which='minor', length=4, color='black',direction=\"in\")\n",
    "ax.set_ylim(0,1)"
   ]
  },
  {
   "cell_type": "markdown",
   "id": "c98030be-6e12-4670-966e-0c1624c3b7d1",
   "metadata": {},
   "source": [
    "bkg2, F115W 25.59"
   ]
  },
  {
   "cell_type": "code",
   "execution_count": null,
   "id": "46cdcf9f-aff2-48e4-a2cb-bb990e214b22",
   "metadata": {},
   "outputs": [],
   "source": [
    "float(np.array(1))"
   ]
  },
  {
   "cell_type": "code",
   "execution_count": null,
   "id": "c8443d29-fbd2-401f-899f-ff5404db737a",
   "metadata": {},
   "outputs": [],
   "source": [
    "y"
   ]
  },
  {
   "cell_type": "code",
   "execution_count": null,
   "id": "7df0ec4d-e3b0-4663-bf29-557072bbfc1e",
   "metadata": {},
   "outputs": [],
   "source": []
  }
 ],
 "metadata": {
  "colab": {
   "collapsed_sections": [
    "cnJPXox0qrnQ",
    "jj0UgSIcqvYI",
    "s_h0xh_kCxZH",
    "cd8779e6-b9b4-4673-8dbb-6a1f640754f9",
    "6044c421-167f-4602-8df2-cf809480e216",
    "i4KdK1Ye7jiI",
    "HICwHjfCU9YH"
   ],
   "provenance": []
  },
  "kernelspec": {
   "display_name": "Python [conda env:inaoe] *",
   "language": "python",
   "name": "conda-env-inaoe-py"
  },
  "language_info": {
   "codemirror_mode": {
    "name": "ipython",
    "version": 3
   },
   "file_extension": ".py",
   "mimetype": "text/x-python",
   "name": "python",
   "nbconvert_exporter": "python",
   "pygments_lexer": "ipython3",
   "version": "3.11.4"
  }
 },
 "nbformat": 4,
 "nbformat_minor": 5
}
