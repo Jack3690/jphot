{
 "cells": [
  {
   "cell_type": "code",
   "execution_count": 1,
   "id": "7b67778a-8c5c-4d89-9354-92f61ec33325",
   "metadata": {
    "tags": []
   },
   "outputs": [
    {
     "name": "stderr",
     "output_type": "stream",
     "text": [
      "2024-02-06 10:38:07,774 - stpipe - WARNING - /tmp/ipykernel_2420/2463252082.py:12: DeprecationWarning: \n",
      "Pyarrow will become a required dependency of pandas in the next major release of pandas (pandas 3.0),\n",
      "(to allow more performant data types, such as the Arrow string type, and better interoperability with other libraries)\n",
      "but was not found to be installed on your system.\n",
      "If this would cause problems for you,\n",
      "please provide us feedback at https://github.com/pandas-dev/pandas/issues/54466\n",
      "        \n",
      "  import pandas as pd\n",
      "\n"
     ]
    }
   ],
   "source": [
    "from jwst.pipeline import Detector1Pipeline, Image2Pipeline, Image3Pipeline\n",
    "import jwst.associations\n",
    "from jwst.associations.lib.rules_level3_base import DMS_Level3_Base\n",
    "\n",
    "from glob import glob\n",
    "import astropy.io.fits as fits\n",
    "\n",
    "import os\n",
    "import astroquery\n",
    "from astroquery.mast import Observations\n",
    "from crds import client\n",
    "import pandas as pd\n",
    "\n",
    "from astropy.table import Table\n",
    "from astropy.wcs import WCS\n",
    "import numpy as np"
   ]
  },
  {
   "cell_type": "code",
   "execution_count": 2,
   "id": "d2d98818-2a50-46c5-96ed-743be902fd2e",
   "metadata": {
    "tags": []
   },
   "outputs": [],
   "source": [
    "os.environ['CRDS_PATH'] = '../CRDS/crds_cache/'\n",
    "os.environ[\"CRDS_SERVER_URL\"] = \"https://jwst-crds.stsci.edu\"\n",
    "os.environ[\"CRDS_CONTEXT\"] = \"jwst_1188.pmap\""
   ]
  },
  {
   "cell_type": "code",
   "execution_count": 3,
   "id": "a3c37f1a-694c-4454-ac70-e641380b0f1a",
   "metadata": {
    "tags": []
   },
   "outputs": [],
   "source": [
    "client.set_crds_server(\"https://jwst-crds.stsci.edu\")"
   ]
  },
  {
   "cell_type": "code",
   "execution_count": 4,
   "id": "8e4afb3d-3d1e-4ec9-9d69-c0b9ac6a44cf",
   "metadata": {
    "tags": []
   },
   "outputs": [],
   "source": [
    "import matplotlib.pyplot as plt\n",
    "from matplotlib import rcParams\n",
    "\n",
    "# figure sizes and resolutions\n",
    "rcParams['figure.figsize'] = [11,8]\n",
    "rcParams['figure.dpi'] = 80\n",
    "rcParams['savefig.dpi'] = 80"
   ]
  },
  {
   "cell_type": "code",
   "execution_count": 5,
   "id": "fd89d722-8a2d-4a5a-b879-761a68aea244",
   "metadata": {
    "tags": []
   },
   "outputs": [
    {
     "name": "stdout",
     "output_type": "stream",
     "text": [
      "1.12.5\n"
     ]
    }
   ],
   "source": [
    "import jwst\n",
    "print(jwst.__version__)"
   ]
  },
  {
   "cell_type": "raw",
   "id": "c1dfb35e-94c8-4455-92b4-26de6e533379",
   "metadata": {},
   "source": [
    "jw<ppppp><ooo><vvv>_<gg><s><aa>_<eeeee>(-<”seg”NNN>)_<detector>_<prodType>.fits\n",
    "\n",
    "where\n",
    "\n",
    "ppppp: program ID number\n",
    "\n",
    "ooo: observation number\n",
    "\n",
    "vvv: visit number\n",
    "\n",
    "gg: visit group\n",
    "\n",
    "s: parallel sequence ID (1=prime, 2-5=parallel)\n",
    "\n",
    "aa: activity number (base 36)\n",
    "\n",
    "eeeee: exposure number\n",
    "\n",
    "segNNN: the text “seg” followed by a three-digit segment number (optional)\n",
    "\n",
    "detector: detector name (e.g. ‘nrca1’, ‘nrcblong’, ‘mirimage’)\n",
    "\n",
    "prodType: product type identifier (e.g. ‘uncal’, ‘rate’, ‘cal’)"
   ]
  },
  {
   "cell_type": "markdown",
   "id": "b141beb9-3db9-472c-af5f-a4e128a288a1",
   "metadata": {
    "tags": []
   },
   "source": [
    "# **Data**"
   ]
  },
  {
   "cell_type": "code",
   "execution_count": null,
   "id": "9c7ad8a2-63b8-487f-a123-dd85c77e1947",
   "metadata": {
    "tags": []
   },
   "outputs": [],
   "source": [
    "mast_dir = 'mast:jwst/product' # Download from MAST\n",
    "data_dir = '../data/stage1/'  # save downloaded data\n",
    "os.makedirs(data_dir, exist_ok=True)\n",
    "\n",
    "ext = 'rate'\n",
    "# JWST images to be analyzed\n",
    "image_files = []\n",
    "\n",
    "for i in range(1,5):\n",
    "    for j in range(1,5):\n",
    "        for k in [3,4]:\n",
    "            image_files.append( f\"jw0178300400{k}_02101_0000{i}_nrcb{j}_{ext}.fits\")\n",
    "\n",
    "for image_file in image_files:\n",
    "    # Download file (if not already downloaded)\n",
    "    mast_path  = os.path.join(mast_dir, image_file)\n",
    "    local_path = os.path.join(data_dir, image_file)\n",
    "    Observations.download_file(mast_path, local_path=local_path)"
   ]
  },
  {
   "cell_type": "markdown",
   "id": "854f00e6-79e3-41c3-952f-bf0f621831d1",
   "metadata": {
    "tags": []
   },
   "source": [
    "# **Stage 2**"
   ]
  },
  {
   "cell_type": "code",
   "execution_count": 12,
   "id": "d24fa2ff-2f3b-441d-b272-e4bd6b017d1c",
   "metadata": {
    "tags": []
   },
   "outputs": [],
   "source": [
    "def stage2(filename, output_dir):\n",
    "    # Instantiate the pipeline\n",
    "    img2 = Image2Pipeline()\n",
    "    # Specify where the output should go\n",
    "    img2.output_dir = output_dir\n",
    "    # Save the final resulting _rate.fits files\n",
    "    img2.save_results = True\n",
    "    # Run the pipeline on an input list of files\n",
    "    img2(filename)"
   ]
  },
  {
   "cell_type": "code",
   "execution_count": 33,
   "id": "67287fe8-f7e6-4417-acfe-45028aa0fcab",
   "metadata": {
    "tags": []
   },
   "outputs": [],
   "source": [
    "rate_files = glob(os.path.join(\"../data/stage1/\", '*4003*nrcb4_rate.fits'))\n",
    "rate_files += glob(os.path.join(\"../data/stage1/\", '*4004*nrcb4_rate.fits'))"
   ]
  },
  {
   "cell_type": "code",
   "execution_count": 34,
   "id": "801f5726-6d7c-4dbf-ad3c-888ffab73658",
   "metadata": {
    "tags": []
   },
   "outputs": [
    {
     "data": {
      "text/plain": [
       "8"
      ]
     },
     "execution_count": 34,
     "metadata": {},
     "output_type": "execute_result"
    }
   ],
   "source": [
    "len(rate_files)"
   ]
  },
  {
   "cell_type": "code",
   "execution_count": null,
   "id": "c923fc81-7440-4104-8f81-fc6e179f3520",
   "metadata": {
    "tags": []
   },
   "outputs": [],
   "source": [
    "for f in rate_files:\n",
    "    stage2(f,\"../data/stage2/\")"
   ]
  },
  {
   "cell_type": "markdown",
   "id": "a0de985f-c3e0-4a0c-b4bd-8f09be2109e2",
   "metadata": {
    "jp-MarkdownHeadingCollapsed": true,
    "tags": []
   },
   "source": [
    "# **Stage 3**"
   ]
  },
  {
   "cell_type": "code",
   "execution_count": 16,
   "id": "a331d2f4-48b1-4b53-b300-f8d847f5f145",
   "metadata": {},
   "outputs": [],
   "source": [
    "def stage3(filename, output_dir):\n",
    "    # Instantiate the pipeline\n",
    "    img3 = Image3Pipeline()\n",
    "    # Specify where the output should go\n",
    "    img3.output_dir = output_dir\n",
    "    # Save the final resulting _rate.fits files\n",
    "    img3.save_results = True\n",
    "    # Run the pipeline on an input list of files\n",
    "    img3(filename)"
   ]
  },
  {
   "cell_type": "code",
   "execution_count": 13,
   "id": "f1751426-7edb-41fa-b54e-dcfdd242843a",
   "metadata": {
    "tags": []
   },
   "outputs": [],
   "source": [
    "cal_files = glob(os.path.join(\"../data/stage2/\", '*cal.fits'))"
   ]
  },
  {
   "cell_type": "code",
   "execution_count": null,
   "id": "f2cd8a45-34c5-48a6-9e84-13487d1c49be",
   "metadata": {
    "tags": []
   },
   "outputs": [],
   "source": [
    "for f in cal_files:\n",
    "    stage3(f,\"../data/stage3/\")\n",
    "    break"
   ]
  },
  {
   "cell_type": "markdown",
   "id": "328ff245-8d1a-48c4-82bb-79cef97eb312",
   "metadata": {
    "tags": []
   },
   "source": [
    "# **DOLPHOT**"
   ]
  },
  {
   "cell_type": "code",
   "execution_count": null,
   "id": "351e5274-684c-4d65-98a1-751e69af9a54",
   "metadata": {
    "tags": []
   },
   "outputs": [],
   "source": [
    "os.system(f\"nircammask ../data/stage2/f200w_i2d.fits\")"
   ]
  },
  {
   "cell_type": "code",
   "execution_count": 38,
   "id": "cb5f31c9-4a61-4baf-bc7a-fca7b9c2ab3e",
   "metadata": {
    "tags": []
   },
   "outputs": [],
   "source": [
    "cal_files = glob(os.path.join(\"../data/stage2/\", '*4003*nrcb4_cal.fits'))\n",
    "cal_files += glob(os.path.join(\"../data/stage2/\", '*4004*nrcb4_cal.fits'))\n"
   ]
  },
  {
   "cell_type": "code",
   "execution_count": 39,
   "id": "04c75823-eadf-4a69-af2f-44bfb497d7a8",
   "metadata": {},
   "outputs": [
    {
     "data": {
      "text/plain": [
       "['../data/stage2/jw01783004003_02101_00001_nrcb4_cal.fits',\n",
       " '../data/stage2/jw01783004003_02101_00002_nrcb4_cal.fits',\n",
       " '../data/stage2/jw01783004003_02101_00003_nrcb4_cal.fits',\n",
       " '../data/stage2/jw01783004003_02101_00004_nrcb4_cal.fits',\n",
       " '../data/stage2/jw01783004004_02101_00001_nrcb4_cal.fits',\n",
       " '../data/stage2/jw01783004004_02101_00002_nrcb4_cal.fits',\n",
       " '../data/stage2/jw01783004004_02101_00003_nrcb4_cal.fits',\n",
       " '../data/stage2/jw01783004004_02101_00004_nrcb4_cal.fits']"
      ]
     },
     "execution_count": 39,
     "metadata": {},
     "output_type": "execute_result"
    }
   ],
   "source": [
    "cal_files"
   ]
  },
  {
   "cell_type": "code",
   "execution_count": 40,
   "id": "3e692f4a-31e7-4027-8d58-72855712dcb3",
   "metadata": {
    "tags": []
   },
   "outputs": [],
   "source": [
    "exps = []\n",
    "for i,f in enumerate(cal_files):\n",
    "    out_dir = f.split('_')[-2] + f.split('/')[-1].split('_')[0][-4:] + f.split('_')[-3]\n",
    "    exps.append(out_dir)\n",
    "    if not os.path.exists(f'../data/stage2/{out_dir}'):\n",
    "        os.mkdir(f'../data/stage2/{out_dir}')\n",
    "\n",
    "    os.system(f\"cp {f} ../data/stage2/{out_dir}/data.fits\")"
   ]
  },
  {
   "cell_type": "code",
   "execution_count": 41,
   "id": "0e011314-c08a-463d-96de-1bc852d54e2e",
   "metadata": {
    "tags": []
   },
   "outputs": [
    {
     "name": "stdout",
     "output_type": "stream",
     "text": [
      "Reading FITS file ../data/stage2/nrcb4400300001/data.fits\n",
      "Reading IMAGE extension: 2048x2048\n",
      "Reading IMAGE extension: 2048x2048\n",
      "Reading IMAGE extension: 2048x2048\n",
      "Reading IMAGE extension: 2048x2048\n",
      "Reading IMAGE extension: 2048x2048\n",
      "Reading IMAGE extension: 2048x2048\n",
      "Reading IMAGE extension: 2048x2048\n",
      "Reading BINTABLE extension: 25131\n",
      "Writing FITS file ../data/stage2/nrcb4400300001/data.fits\n",
      "Writing IMAGE extension: 2048x2048\n",
      "Reading FITS file ../data/stage2/nrcb4400300001/data.fits\n",
      "Reading IMAGE extension: 2048x2048\n",
      "  BAD=-1.00 SAT=65535.00\n",
      "  BAD=-322.50 SAT=445477.38\n",
      "......................................................................\n",
      "Writing FITS file ../data/stage2/nrcb4400300001/data.sky.fits\n",
      "Writing IMAGE extension: 2048x2048\n",
      "Reading FITS file ../data/stage2/nrcb4400300002/data.fits\n",
      "Reading IMAGE extension: 2048x2048\n",
      "Reading IMAGE extension: 2048x2048\n",
      "Reading IMAGE extension: 2048x2048\n",
      "Reading IMAGE extension: 2048x2048\n",
      "Reading IMAGE extension: 2048x2048\n",
      "Reading IMAGE extension: 2048x2048\n",
      "Reading IMAGE extension: 2048x2048\n",
      "Reading BINTABLE extension: 25123\n",
      "Writing FITS file ../data/stage2/nrcb4400300002/data.fits\n",
      "Writing IMAGE extension: 2048x2048\n",
      "Reading FITS file ../data/stage2/nrcb4400300002/data.fits\n",
      "Reading IMAGE extension: 2048x2048\n",
      "  BAD=-1.00 SAT=65535.00\n",
      "  BAD=-393.09 SAT=450657.56\n",
      "......................................................................\n",
      "Writing FITS file ../data/stage2/nrcb4400300002/data.sky.fits\n",
      "Writing IMAGE extension: 2048x2048\n",
      "Reading FITS file ../data/stage2/nrcb4400300003/data.fits\n",
      "Reading IMAGE extension: 2048x2048\n",
      "Reading IMAGE extension: 2048x2048\n",
      "Reading IMAGE extension: 2048x2048\n",
      "Reading IMAGE extension: 2048x2048\n",
      "Reading IMAGE extension: 2048x2048\n",
      "Reading IMAGE extension: 2048x2048\n",
      "Reading IMAGE extension: 2048x2048\n",
      "Reading BINTABLE extension: 25129\n",
      "Writing FITS file ../data/stage2/nrcb4400300003/data.fits\n",
      "Writing IMAGE extension: 2048x2048\n",
      "Reading FITS file ../data/stage2/nrcb4400300003/data.fits\n",
      "Reading IMAGE extension: 2048x2048\n",
      "  BAD=-1.00 SAT=65535.00\n",
      "  BAD=-682.65 SAT=443899.88\n",
      "......................................................................\n",
      "Writing FITS file ../data/stage2/nrcb4400300003/data.sky.fits\n",
      "Writing IMAGE extension: 2048x2048\n",
      "Reading FITS file ../data/stage2/nrcb4400300004/data.fits\n",
      "Reading IMAGE extension: 2048x2048\n",
      "Reading IMAGE extension: 2048x2048\n",
      "Reading IMAGE extension: 2048x2048\n",
      "Reading IMAGE extension: 2048x2048\n",
      "Reading IMAGE extension: 2048x2048\n",
      "Reading IMAGE extension: 2048x2048\n",
      "Reading IMAGE extension: 2048x2048\n",
      "Reading BINTABLE extension: 25135\n",
      "Writing FITS file ../data/stage2/nrcb4400300004/data.fits\n",
      "Writing IMAGE extension: 2048x2048\n",
      "Reading FITS file ../data/stage2/nrcb4400300004/data.fits\n",
      "Reading IMAGE extension: 2048x2048\n",
      "  BAD=-1.00 SAT=65535.00\n",
      "  BAD=-289.08 SAT=456072.31\n",
      "......................................................................\n",
      "Writing FITS file ../data/stage2/nrcb4400300004/data.sky.fits\n",
      "Writing IMAGE extension: 2048x2048\n",
      "Reading FITS file ../data/stage2/nrcb4400400001/data.fits\n",
      "Reading IMAGE extension: 2048x2048\n",
      "Reading IMAGE extension: 2048x2048\n",
      "Reading IMAGE extension: 2048x2048\n",
      "Reading IMAGE extension: 2048x2048\n",
      "Reading IMAGE extension: 2048x2048\n",
      "Reading IMAGE extension: 2048x2048\n",
      "Reading IMAGE extension: 2048x2048\n",
      "Reading BINTABLE extension: 25141\n",
      "Writing FITS file ../data/stage2/nrcb4400400001/data.fits\n",
      "Writing IMAGE extension: 2048x2048\n",
      "Reading FITS file ../data/stage2/nrcb4400400001/data.fits\n",
      "Reading IMAGE extension: 2048x2048\n",
      "  BAD=-1.00 SAT=65535.00\n",
      "  BAD=-238.56 SAT=450927.81\n",
      "......................................................................\n",
      "Writing FITS file ../data/stage2/nrcb4400400001/data.sky.fits\n",
      "Writing IMAGE extension: 2048x2048\n",
      "Reading FITS file ../data/stage2/nrcb4400400002/data.fits\n",
      "Reading IMAGE extension: 2048x2048\n",
      "Reading IMAGE extension: 2048x2048\n",
      "Reading IMAGE extension: 2048x2048\n",
      "Reading IMAGE extension: 2048x2048\n",
      "Reading IMAGE extension: 2048x2048\n",
      "Reading IMAGE extension: 2048x2048\n",
      "Reading IMAGE extension: 2048x2048\n",
      "Reading BINTABLE extension: 25123\n",
      "Writing FITS file ../data/stage2/nrcb4400400002/data.fits\n",
      "Writing IMAGE extension: 2048x2048\n",
      "Reading FITS file ../data/stage2/nrcb4400400002/data.fits\n",
      "Reading IMAGE extension: 2048x2048\n",
      "  BAD=-1.00 SAT=65535.00\n",
      "  BAD=-452.87 SAT=296189.28\n",
      "......................................................................\n",
      "Writing FITS file ../data/stage2/nrcb4400400002/data.sky.fits\n",
      "Writing IMAGE extension: 2048x2048\n",
      "Reading FITS file ../data/stage2/nrcb4400400003/data.fits\n",
      "Reading IMAGE extension: 2048x2048\n",
      "Reading IMAGE extension: 2048x2048\n",
      "Reading IMAGE extension: 2048x2048\n",
      "Reading IMAGE extension: 2048x2048\n",
      "Reading IMAGE extension: 2048x2048\n",
      "Reading IMAGE extension: 2048x2048\n",
      "Reading IMAGE extension: 2048x2048\n",
      "Reading BINTABLE extension: 25120\n",
      "Writing FITS file ../data/stage2/nrcb4400400003/data.fits\n",
      "Writing IMAGE extension: 2048x2048\n",
      "Reading FITS file ../data/stage2/nrcb4400400003/data.fits\n",
      "Reading IMAGE extension: 2048x2048\n",
      "  BAD=-1.00 SAT=65535.00\n",
      "  BAD=-202.54 SAT=442326.81\n",
      "......................................................................\n",
      "Writing FITS file ../data/stage2/nrcb4400400003/data.sky.fits\n",
      "Writing IMAGE extension: 2048x2048\n",
      "Reading FITS file ../data/stage2/nrcb4400400004/data.fits\n",
      "Reading IMAGE extension: 2048x2048\n",
      "Reading IMAGE extension: 2048x2048\n",
      "Reading IMAGE extension: 2048x2048\n",
      "Reading IMAGE extension: 2048x2048\n",
      "Reading IMAGE extension: 2048x2048\n",
      "Reading IMAGE extension: 2048x2048\n",
      "Reading IMAGE extension: 2048x2048\n",
      "Reading BINTABLE extension: 25139\n",
      "Writing FITS file ../data/stage2/nrcb4400400004/data.fits\n",
      "Writing IMAGE extension: 2048x2048\n",
      "Reading FITS file ../data/stage2/nrcb4400400004/data.fits\n",
      "Reading IMAGE extension: 2048x2048\n",
      "  BAD=-1.00 SAT=65535.00\n",
      "  BAD=-177.71 SAT=168781.20\n",
      "......................................................................\n",
      "Writing FITS file ../data/stage2/nrcb4400400004/data.sky.fits\n",
      "Writing IMAGE extension: 2048x2048\n"
     ]
    }
   ],
   "source": [
    "for f in exps:\n",
    "    os.system(f\"nircammask ../data/stage2/{f}/data.fits\")\n",
    "    os.system(f\"calcsky ../data/stage2/{f}/data 10 25 2 2.25 2.00\")"
   ]
  },
  {
   "cell_type": "code",
   "execution_count": 42,
   "id": "f351d9a2-b620-4187-b4c2-fed08c30479d",
   "metadata": {
    "tags": []
   },
   "outputs": [],
   "source": [
    "with open(\"../params/nircam_dolphot_f115w.param\") as f:\n",
    "            dat = f.readlines()\n",
    "dat[0] = f'Nimg = {len(exps)}                #number of images (int)\\n'\n",
    "dat[4] = 'img0_file = ../data/stage2/f115w_i2d\\n'\n",
    "\n",
    "for i,f in enumerate(exps):\n",
    "    dat[5+i] = f'img{i+1}_file = ../data/stage2/{f}/data           #image {i+1}\\n'\n",
    "\n",
    "with open(\"../params/nircam_dolphot_f115w.param\", 'w', encoding='utf-8') as f:\n",
    "    f.writelines(dat)"
   ]
  },
  {
   "cell_type": "code",
   "execution_count": null,
   "id": "6d903fae-e94d-4208-bc66-3a98aa604350",
   "metadata": {
    "tags": []
   },
   "outputs": [
    {
     "name": "stdout",
     "output_type": "stream",
     "text": [
      "Reading FITS file ../data/stage2/nrcb4400300001/data.fits\n",
      "Reading FITS file ../data/stage2/nrcb4400300002/data.fits\n",
      "Reading FITS file ../data/stage2/nrcb4400300003/data.fits\n",
      "Reading FITS file ../data/stage2/nrcb4400300004/data.fits\n",
      "Reading FITS file ../data/stage2/nrcb4400400001/data.fits\n",
      "Reading FITS file ../data/stage2/nrcb4400400002/data.fits\n",
      "Reading FITS file ../data/stage2/nrcb4400400003/data.fits\n",
      "Reading FITS file ../data/stage2/nrcb4400400004/data.fits\n",
      "Reading FITS file ../data/stage2/f115w_i2d.fits\n",
      "Reading IMAGE extension: 2048x2048\n",
      "  GAIN=2.03 EXP=365s NOISE=12.52 BAD=-322.50 SAT=445477.38\n",
      "Reading IMAGE extension: 2048x2048\n",
      "  GAIN=2.03 EXP=365s NOISE=12.52 BAD=-393.09 SAT=450657.56\n",
      "Reading IMAGE extension: 2048x2048\n",
      "  GAIN=2.03 EXP=365s NOISE=12.52 BAD=-682.65 SAT=443899.88\n",
      "Reading IMAGE extension: 2048x2048\n",
      "  GAIN=2.03 EXP=365s NOISE=12.52 BAD=-289.08 SAT=456072.31\n",
      "Reading IMAGE extension: 2048x2048\n",
      "  GAIN=2.03 EXP=365s NOISE=12.52 BAD=-238.56 SAT=450927.81\n",
      "Reading IMAGE extension: 2048x2048\n",
      "  GAIN=2.03 EXP=365s NOISE=12.52 BAD=-452.87 SAT=296189.28\n",
      "Reading IMAGE extension: 2048x2048\n",
      "  GAIN=2.03 EXP=365s NOISE=12.52 BAD=-202.54 SAT=442326.81\n",
      "Reading IMAGE extension: 2048x2048\n",
      "  GAIN=2.03 EXP=365s NOISE=12.52 BAD=-177.71 SAT=168781.20\n",
      "Reading IMAGE extension: 11417x4486\n",
      "  GAIN=2.05 EXP=2920s NOISE=11.46 BAD=-1625.41 SAT=1561296.50\n",
      "** Extension 1, Chip 1 **\n",
      "CD matrix not found; using PC matrix instead\n",
      "reference rmsi = 0.000073, rmsf = 0.000026\n",
      "reverse rmsi = 3.714425, rmsf = 0.000039\n",
      "forward rmsi = 3.704038, rmsf = 0.000045\n",
      "reverse rmsi = 3.714428, rmsf = 0.000044\n",
      "forward rmsi = 3.704063, rmsf = 0.000037\n",
      "reverse rmsi = 3.714576, rmsf = 0.000034\n",
      "forward rmsi = 3.704044, rmsf = 0.000034\n",
      "reverse rmsi = 3.714578, rmsf = 0.000023\n",
      "forward rmsi = 3.704043, rmsf = 0.000069\n",
      "reverse rmsi = 3.714086, rmsf = 0.000039\n",
      "forward rmsi = 3.704074, rmsf = 0.000042\n",
      "reverse rmsi = 3.714090, rmsf = 0.000075\n",
      "forward rmsi = 3.704030, rmsf = 0.000090\n",
      "reverse rmsi = 3.713981, rmsf = 0.000045\n",
      "forward rmsi = 3.704077, rmsf = 0.000085\n",
      "reverse rmsi = 3.713984, rmsf = 0.000045\n",
      "forward rmsi = 3.704074, rmsf = 0.000018\n",
      "21559 stars for alignment\n",
      "image 1: 1948 matched, 1898 used, 0.66 -0.26 1.000000 0.00000 -0.005, sig=0.14\n",
      "image 2: 1952 matched, 1897 used, 0.27 -0.47 1.000000 0.00000 -0.005, sig=0.14\n",
      "image 3: 2063 matched, 1988 used, 0.38 -0.37 1.000000 0.00000 -0.005, sig=0.14\n",
      "image 4: 2062 matched, 1991 used, 0.33 -0.27 1.000000 0.00000 -0.005, sig=0.14\n",
      "image 5: 1858 matched, 1798 used, -0.29 0.16 1.000000 0.00000 -0.004, sig=0.16\n",
      "image 6: 1870 matched, 1810 used, -0.33 0.12 1.000000 0.00000 -0.004, sig=0.16\n",
      "image 7: 1800 matched, 1759 used, -0.25 0.13 1.000000 0.00000 -0.004, sig=0.16\n",
      "image 8: 1820 matched, 1758 used, -0.25 0.08 1.000000 0.00000 -0.004, sig=0.16\n",
      "Finding stars: .......\n",
      "1049969 found\n",
      "306343 stars eliminated\n",
      "49249 stars eliminated\n",
      "16138 stars eliminated\n",
      "8743 stars eliminated\n",
      "5321 stars eliminated\n",
      "3217 stars eliminated\n",
      "2002 stars eliminated\n",
      "1253 stars eliminated\n",
      "673 stars eliminated\n",
      "422 stars eliminated\n",
      "259 stars eliminated\n",
      "178 stars eliminated\n",
      "123 stars eliminated\n",
      "496 PSF stars; 57258 neighbors\n",
      "Central pixel PSF adjustments:\n",
      "image 1: 245 stars, -0.030267\n",
      "image 2: 246 stars, -0.030436\n",
      "image 3: 246 stars, -0.027881\n",
      "image 4: 248 stars, -0.030926\n",
      "image 5: 216 stars, -0.028181\n",
      "image 6: 215 stars, -0.029341\n",
      "image 7: 215 stars, -0.029055\n",
      "image 8: 213 stars, -0.028774\n",
      "977 stars eliminated\n",
      "5817 stars eliminated\n",
      "3573 stars eliminated\n",
      "1246 stars eliminated\n"
     ]
    }
   ],
   "source": [
    "os.system(f\"dolphot ../data/stage2/output_f115w/out -p../params/nircam_dolphot_f115w.param\")"
   ]
  },
  {
   "cell_type": "code",
   "execution_count": null,
   "id": "472cc9fe-6f49-4d1a-b911-5cfcbe91a7ff",
   "metadata": {
    "tags": []
   },
   "outputs": [],
   "source": [
    "det= 'nrcb4'\n",
    "os.system(f\"python ../scripts/to_table.py --o F115W_photometry_{det} --n {len(exps)} --f ../data/stage2/output_f115w/out\")\n",
    "    \n",
    "phot_table = Table.read(f\"../data/stage2/output_f115w/F115W_photometry_{det}.fits\")\n",
    "phot_table.rename_columns(['mag_vega'],[f'mag_vega_F115W'])\n",
    "\n",
    "hdu = fits.open(f\"../data/stage2/F115W_i2d.fits\")[1]\n",
    "\n",
    "wcs = WCS(hdu.header)\n",
    "positions = np.transpose([phot_table['x'] - 0.5, phot_table['y']-0.5])\n",
    "\n",
    "coords = np.array(wcs.pixel_to_world_values(positions))\n",
    "\n",
    "phot_table['ra']  = coords[:,0]\n",
    "phot_table['dec'] = coords[:,1]\n",
    "\n",
    "phot_table1 = phot_table[ (phot_table['sharpness']**2   <= 0.01) &\n",
    "                            (phot_table['obj_crowd']    <=  0.5) &\n",
    "                            (phot_table['flags']        <=    2) &\n",
    "                            (phot_table['type']         <=    2)]\n",
    "\n",
    "phot_table2 = phot_table[ ~((phot_table['sharpness']**2 <= 0.01) &\n",
    "                            (phot_table['obj_crowd']    <=  0.5) &\n",
    "                            (phot_table['flags']        <=    2) &\n",
    "                            (phot_table['type']         <=    2))]\n",
    "print('NIRCAM SHORT')\n",
    "phot_table1.write(f'../data/stage2/output_f115w/F115W_photometry_{det}_filt.fits', overwrite=True)"
   ]
  },
  {
   "cell_type": "code",
   "execution_count": 10,
   "id": "399d7fd5-169c-4326-85c7-ed507603c1e3",
   "metadata": {
    "tags": []
   },
   "outputs": [],
   "source": [
    "phot_table = Table.read('../data/stage2/output_f115w/F115W_photometry_nrca1a2_filt.fits')"
   ]
  },
  {
   "cell_type": "code",
   "execution_count": 12,
   "id": "91e0db75-02d6-4527-b62b-4ae1e6c23c8f",
   "metadata": {},
   "outputs": [
    {
     "data": {
      "text/plain": [
       "(0.0, 1.0)"
      ]
     },
     "execution_count": 12,
     "metadata": {},
     "output_type": "execute_result"
    },
    {
     "data": {
      "image/png": "[encoded data removed]",
      "text/plain": [
       "<Figure size 880x640 with 1 Axes>"
      ]
     },
     "metadata": {},
     "output_type": "display_data"
    }
   ],
   "source": [
    "x = phot_table['mag_vega_F115W']\n",
    "y = phot_table['mag_err']\n",
    "\n",
    "plt.scatter(x,y,s=1)\n",
    "\n",
    "plt.xlim(19,31)\n",
    "\n",
    "plt.ylim(0,1)"
   ]
  },
  {
   "cell_type": "code",
   "execution_count": 12,
   "id": "8c3377b1-4673-4b25-a44b-c7b02d236ffb",
   "metadata": {
    "tags": []
   },
   "outputs": [
    {
     "data": {
      "text/plain": [
       "104594"
      ]
     },
     "execution_count": 12,
     "metadata": {},
     "output_type": "execute_result"
    }
   ],
   "source": [
    "len(phot_table)"
   ]
  },
  {
   "cell_type": "code",
   "execution_count": null,
   "id": "f47405a7-efe8-4cfe-ae48-b9911d03469b",
   "metadata": {},
   "outputs": [],
   "source": []
  }
 ],
 "metadata": {
  "kernelspec": {
   "display_name": "Python [conda env:jwst] *",
   "language": "python",
   "name": "conda-env-jwst-py"
  },
  "language_info": {
   "codemirror_mode": {
    "name": "ipython",
    "version": 3
   },
   "file_extension": ".py",
   "mimetype": "text/x-python",
   "name": "python",
   "nbconvert_exporter": "python",
   "pygments_lexer": "ipython3",
   "version": "3.10.0"
  }
 },
 "nbformat": 4,
 "nbformat_minor": 5
}
