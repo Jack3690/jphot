{
 "cells": [
  {
   "cell_type": "code",
   "execution_count": 1,
   "id": "7b67778a-8c5c-4d89-9354-92f61ec33325",
   "metadata": {
    "tags": []
   },
   "outputs": [],
   "source": [
    "from jwst.pipeline import Detector1Pipeline, Image2Pipeline, Image3Pipeline\n",
    "import jwst.associations\n",
    "from jwst.associations.lib.rules_level3_base import DMS_Level3_Base\n",
    "\n",
    "from glob import glob\n",
    "import astropy.io.fits as fits\n",
    "\n",
    "import os\n",
    "import astroquery\n",
    "from astroquery.mast import Observations\n",
    "from crds import client\n",
    "import pandas as pd\n",
    "\n",
    "from astropy.table import Table\n",
    "from astropy.wcs import WCS\n",
    "import numpy as np"
   ]
  },
  {
   "cell_type": "code",
   "execution_count": 2,
   "id": "d2d98818-2a50-46c5-96ed-743be902fd2e",
   "metadata": {
    "tags": []
   },
   "outputs": [],
   "source": [
    "os.environ['CRDS_PATH'] = '../CRDS/crds_cache/'\n",
    "os.environ[\"CRDS_SERVER_URL\"] = \"https://jwst-crds.stsci.edu\"\n",
    "os.environ[\"CRDS_CONTEXT\"] = \"jwst_1188.pmap\""
   ]
  },
  {
   "cell_type": "code",
   "execution_count": 3,
   "id": "a3c37f1a-694c-4454-ac70-e641380b0f1a",
   "metadata": {
    "tags": []
   },
   "outputs": [],
   "source": [
    "client.set_crds_server(\"https://jwst-crds.stsci.edu\")"
   ]
  },
  {
   "cell_type": "code",
   "execution_count": 4,
   "id": "8e4afb3d-3d1e-4ec9-9d69-c0b9ac6a44cf",
   "metadata": {
    "tags": []
   },
   "outputs": [],
   "source": [
    "import matplotlib.pyplot as plt\n",
    "from matplotlib import rcParams\n",
    "\n",
    "# figure sizes and resolutions\n",
    "rcParams['figure.figsize'] = [11,8]\n",
    "rcParams['figure.dpi'] = 80\n",
    "rcParams['savefig.dpi'] = 80"
   ]
  },
  {
   "cell_type": "code",
   "execution_count": 5,
   "id": "fd89d722-8a2d-4a5a-b879-761a68aea244",
   "metadata": {
    "tags": []
   },
   "outputs": [
    {
     "name": "stdout",
     "output_type": "stream",
     "text": [
      "1.12.5\n"
     ]
    }
   ],
   "source": [
    "import jwst\n",
    "print(jwst.__version__)"
   ]
  },
  {
   "cell_type": "raw",
   "id": "c1dfb35e-94c8-4455-92b4-26de6e533379",
   "metadata": {},
   "source": [
    "jw<ppppp><ooo><vvv>_<gg><s><aa>_<eeeee>(-<”seg”NNN>)_<detector>_<prodType>.fits\n",
    "\n",
    "where\n",
    "\n",
    "ppppp: program ID number\n",
    "\n",
    "ooo: observation number\n",
    "\n",
    "vvv: visit number\n",
    "\n",
    "gg: visit group\n",
    "\n",
    "s: parallel sequence ID (1=prime, 2-5=parallel)\n",
    "\n",
    "aa: activity number (base 36)\n",
    "\n",
    "eeeee: exposure number\n",
    "\n",
    "segNNN: the text “seg” followed by a three-digit segment number (optional)\n",
    "\n",
    "detector: detector name (e.g. ‘nrca1’, ‘nrcblong’, ‘mirimage’)\n",
    "\n",
    "prodType: product type identifier (e.g. ‘uncal’, ‘rate’, ‘cal’)"
   ]
  },
  {
   "cell_type": "markdown",
   "id": "b141beb9-3db9-472c-af5f-a4e128a288a1",
   "metadata": {
    "tags": []
   },
   "source": [
    "# **Data**"
   ]
  },
  {
   "cell_type": "code",
   "execution_count": null,
   "id": "9c7ad8a2-63b8-487f-a123-dd85c77e1947",
   "metadata": {
    "tags": []
   },
   "outputs": [],
   "source": [
    "mast_dir = 'mast:jwst/product' # Download from MAST\n",
    "data_dir = '../data/stage1/'  # save downloaded data\n",
    "os.makedirs(data_dir, exist_ok=True)\n",
    "\n",
    "ext = 'rate'\n",
    "# JWST images to be analyzed\n",
    "image_files = []\n",
    "\n",
    "for i in range(1,5):\n",
    "    for j in range(1,5):\n",
    "        for k in [3,4]:\n",
    "            for l in ['a','b']:\n",
    "                image_files.append( f\"jw0178390400{k}_02101_0000{i}_nrc{l}{j}_{ext}.fits\")\n",
    "\n",
    "for image_file in image_files:\n",
    "    # Download file (if not already downloaded)\n",
    "    mast_path  = os.path.join(mast_dir, image_file)\n",
    "    local_path = os.path.join(data_dir, image_file)\n",
    "    Observations.download_file(mast_path, local_path=local_path)"
   ]
  },
  {
   "cell_type": "markdown",
   "id": "854f00e6-79e3-41c3-952f-bf0f621831d1",
   "metadata": {
    "tags": []
   },
   "source": [
    "# **Stage 2**"
   ]
  },
  {
   "cell_type": "code",
   "execution_count": null,
   "id": "d24fa2ff-2f3b-441d-b272-e4bd6b017d1c",
   "metadata": {
    "tags": []
   },
   "outputs": [],
   "source": [
    "def stage2(filename, output_dir):\n",
    "    # Instantiate the pipeline\n",
    "    img2 = Image2Pipeline()\n",
    "    # Specify where the output should go\n",
    "    img2.output_dir = output_dir\n",
    "    # Save the final resulting _rate.fits files\n",
    "    img2.save_results = True\n",
    "    # Run the pipeline on an input list of files\n",
    "    img2(filename)"
   ]
  },
  {
   "cell_type": "code",
   "execution_count": null,
   "id": "67287fe8-f7e6-4417-acfe-45028aa0fcab",
   "metadata": {
    "tags": []
   },
   "outputs": [],
   "source": [
    "rate_files = glob(os.path.join(\"../data/stage1/\", '*904003*nrc*_rate.fits'))\n",
    "rate_files += glob(os.path.join(\"../data/stage1/\", '*904004*nrc*_rate.fits'))"
   ]
  },
  {
   "cell_type": "code",
   "execution_count": null,
   "id": "801f5726-6d7c-4dbf-ad3c-888ffab73658",
   "metadata": {
    "tags": []
   },
   "outputs": [],
   "source": [
    "len(rate_files)"
   ]
  },
  {
   "cell_type": "code",
   "execution_count": null,
   "id": "c923fc81-7440-4104-8f81-fc6e179f3520",
   "metadata": {
    "tags": []
   },
   "outputs": [],
   "source": [
    "for f in rate_files:\n",
    "    o = f.replace('stage1','stage2')\n",
    "    o = o.replace('rate','cal')\n",
    "    if not os.path.exists(o):\n",
    "        stage2(f,\"../data/stage2/\")"
   ]
  },
  {
   "cell_type": "code",
   "execution_count": null,
   "id": "0bfb0abc-9914-4c29-a95e-15aa98e7194d",
   "metadata": {
    "tags": []
   },
   "outputs": [],
   "source": [
    "f"
   ]
  },
  {
   "cell_type": "markdown",
   "id": "a0de985f-c3e0-4a0c-b4bd-8f09be2109e2",
   "metadata": {
    "tags": []
   },
   "source": [
    "# **Stage 3**"
   ]
  },
  {
   "cell_type": "code",
   "execution_count": null,
   "id": "a331d2f4-48b1-4b53-b300-f8d847f5f145",
   "metadata": {},
   "outputs": [],
   "source": [
    "def stage3(filename, output_dir):\n",
    "    # Instantiate the pipeline\n",
    "    img3 = Image3Pipeline()\n",
    "    # Specify where the output should go\n",
    "    img3.output_dir = output_dir\n",
    "    # Save the final resulting _rate.fits files\n",
    "    img3.save_results = True\n",
    "    # Run the pipeline on an input list of files\n",
    "    img3(filename)"
   ]
  },
  {
   "cell_type": "code",
   "execution_count": null,
   "id": "f1751426-7edb-41fa-b54e-dcfdd242843a",
   "metadata": {
    "tags": []
   },
   "outputs": [],
   "source": [
    "cal_files = glob(os.path.join(\"../data/stage2/3004/\", '*4003*nrc*_cal.fits'))\n",
    "cal_files += glob(os.path.join(\"../data/stage2/3004/\", '*4004*nrc*_cal.fits'))"
   ]
  },
  {
   "cell_type": "code",
   "execution_count": null,
   "id": "1c1cf485-5fea-448c-9381-e562629ca675",
   "metadata": {
    "tags": []
   },
   "outputs": [],
   "source": [
    "len(cal_files)"
   ]
  },
  {
   "cell_type": "markdown",
   "id": "328ff245-8d1a-48c4-82bb-79cef97eb312",
   "metadata": {
    "tags": []
   },
   "source": [
    "# **DOLPHOT**"
   ]
  },
  {
   "cell_type": "code",
   "execution_count": null,
   "id": "351e5274-684c-4d65-98a1-751e69af9a54",
   "metadata": {
    "tags": []
   },
   "outputs": [],
   "source": [
    "os.system(f\"nircammask ../data/stage2/f115w_i2d.fits\")"
   ]
  },
  {
   "cell_type": "code",
   "execution_count": 19,
   "id": "2a2328ae-523f-48d5-9fcc-3846b61dc49e",
   "metadata": {
    "tags": []
   },
   "outputs": [],
   "source": []
  },
  {
   "cell_type": "code",
   "execution_count": 20,
   "id": "213f6875-976c-42c5-85da-ad144f15263a",
   "metadata": {
    "tags": []
   },
   "outputs": [
    {
     "data": {
      "text/plain": [
       "551"
      ]
     },
     "execution_count": 20,
     "metadata": {},
     "output_type": "execute_result"
    }
   ],
   "source": [
    "len(x)"
   ]
  },
  {
   "cell_type": "code",
   "execution_count": null,
   "id": "cb5f31c9-4a61-4baf-bc7a-fca7b9c2ab3e",
   "metadata": {
    "tags": []
   },
   "outputs": [
    {
     "name": "stdout",
     "output_type": "stream",
     "text": [
      "Reading FITS file ../data/stage2/f115w/a1/jw01783004003_02101_00001_nrca1_cal/data.fits\n",
      "Reading FITS file ../data/stage2/f115w/a1/jw01783004003_02101_00002_nrca1_cal/data.fits\n",
      "Reading FITS file ../data/stage2/f115w/a1/jw01783004003_02101_00003_nrca1_cal/data.fits\n",
      "Reading FITS file ../data/stage2/f115w/a1/jw01783004003_02101_00004_nrca1_cal/data.fits\n",
      "Reading FITS file ../data/stage2/f115w/a1/jw01783004004_02101_00001_nrca1_cal/data.fits\n",
      "Reading FITS file ../data/stage2/f115w/a1/jw01783004004_02101_00002_nrca1_cal/data.fits\n",
      "Reading FITS file ../data/stage2/f115w/a1/jw01783004004_02101_00003_nrca1_cal/data.fits\n",
      "Reading FITS file ../data/stage2/f115w/a1/jw01783004004_02101_00004_nrca1_cal/data.fits\n",
      "Reading FITS file ../data/stage2/f115w_i2d.fits\n",
      "Reading IMAGE extension: 2048x2048\n",
      "  GAIN=2.08 EXP=365s NOISE=11.43 BAD=-793.77 SAT=310333.81\n",
      "Reading IMAGE extension: 2048x2048\n",
      "  GAIN=2.08 EXP=365s NOISE=11.43 BAD=-716.79 SAT=488588.47\n",
      "Reading IMAGE extension: 2048x2048\n",
      "  GAIN=2.08 EXP=365s NOISE=11.43 BAD=-772.98 SAT=465750.53\n",
      "Reading IMAGE extension: 2048x2048\n",
      "  GAIN=2.08 EXP=365s NOISE=11.43 BAD=-762.22 SAT=304544.09\n",
      "Reading IMAGE extension: 2048x2048\n",
      "  GAIN=2.08 EXP=365s NOISE=11.43 BAD=-840.42 SAT=460785.03\n",
      "Reading IMAGE extension: 2048x2048\n",
      "  GAIN=2.08 EXP=365s NOISE=11.43 BAD=-824.65 SAT=540812.88\n",
      "Reading IMAGE extension: 2048x2048\n",
      "  GAIN=2.08 EXP=365s NOISE=11.43 BAD=-822.48 SAT=148818.45\n",
      "Reading IMAGE extension: 2048x2048\n",
      "  GAIN=2.08 EXP=365s NOISE=11.43 BAD=-810.54 SAT=456318.12\n",
      "Reading IMAGE extension: 11417x4486\n",
      "  GAIN=2.05 EXP=2920s NOISE=11.46 BAD=-1625.41 SAT=1561296.50\n",
      "** Extension 1, Chip 1 **\n",
      "Read 436211 real stars\n",
      "Completed 551 artificial stars\n",
      "Reading FITS file ../data/stage2/f115w/a1/jw01783004003_02101_00001_nrca1_cal/data.fits\n",
      "Reading FITS file ../data/stage2/f115w/a1/jw01783004003_02101_00002_nrca1_cal/data.fits\n",
      "Reading FITS file ../data/stage2/f115w/a1/jw01783004003_02101_00003_nrca1_cal/data.fits\n",
      "Reading FITS file ../data/stage2/f115w/a1/jw01783004003_02101_00004_nrca1_cal/data.fits\n",
      "Reading FITS file ../data/stage2/f115w/a1/jw01783004004_02101_00001_nrca1_cal/data.fits\n",
      "Reading FITS file ../data/stage2/f115w/a1/jw01783004004_02101_00002_nrca1_cal/data.fits\n",
      "Reading FITS file ../data/stage2/f115w/a1/jw01783004004_02101_00003_nrca1_cal/data.fits\n",
      "Reading FITS file ../data/stage2/f115w/a1/jw01783004004_02101_00004_nrca1_cal/data.fits\n",
      "Reading FITS file ../data/stage2/f115w_i2d.fits\n",
      "Reading IMAGE extension: 2048x2048\n",
      "  GAIN=2.08 EXP=365s NOISE=11.43 BAD=-793.77 SAT=310333.81\n",
      "Reading IMAGE extension: 2048x2048\n",
      "  GAIN=2.08 EXP=365s NOISE=11.43 BAD=-716.79 SAT=488588.47\n",
      "Reading IMAGE extension: 2048x2048\n",
      "  GAIN=2.08 EXP=365s NOISE=11.43 BAD=-772.98 SAT=465750.53\n",
      "Reading IMAGE extension: 2048x2048\n",
      "  GAIN=2.08 EXP=365s NOISE=11.43 BAD=-762.22 SAT=304544.09\n",
      "Reading IMAGE extension: 2048x2048\n",
      "  GAIN=2.08 EXP=365s NOISE=11.43 BAD=-840.42 SAT=460785.03\n",
      "Reading IMAGE extension: 2048x2048\n",
      "  GAIN=2.08 EXP=365s NOISE=11.43 BAD=-824.65 SAT=540812.88\n",
      "Reading IMAGE extension: 2048x2048\n",
      "  GAIN=2.08 EXP=365s NOISE=11.43 BAD=-822.48 SAT=148818.45\n",
      "Reading IMAGE extension: 2048x2048\n",
      "  GAIN=2.08 EXP=365s NOISE=11.43 BAD=-810.54 SAT=456318.12\n",
      "Reading IMAGE extension: 11417x4486\n",
      "  GAIN=2.05 EXP=2920s NOISE=11.46 BAD=-1625.41 SAT=1561296.50\n",
      "** Extension 1, Chip 1 **\n",
      "Read 436211 real stars\n",
      "Completed 551 artificial stars\n",
      "Reading FITS file ../data/stage2/f115w/a1/jw01783004003_02101_00001_nrca1_cal/data.fits\n",
      "Reading FITS file ../data/stage2/f115w/a1/jw01783004003_02101_00002_nrca1_cal/data.fits\n",
      "Reading FITS file ../data/stage2/f115w/a1/jw01783004003_02101_00003_nrca1_cal/data.fits\n",
      "Reading FITS file ../data/stage2/f115w/a1/jw01783004003_02101_00004_nrca1_cal/data.fits\n",
      "Reading FITS file ../data/stage2/f115w/a1/jw01783004004_02101_00001_nrca1_cal/data.fits\n",
      "Reading FITS file ../data/stage2/f115w/a1/jw01783004004_02101_00002_nrca1_cal/data.fits\n",
      "Reading FITS file ../data/stage2/f115w/a1/jw01783004004_02101_00003_nrca1_cal/data.fits\n",
      "Reading FITS file ../data/stage2/f115w/a1/jw01783004004_02101_00004_nrca1_cal/data.fits\n",
      "Reading FITS file ../data/stage2/f115w_i2d.fits\n",
      "Reading IMAGE extension: 2048x2048\n",
      "  GAIN=2.08 EXP=365s NOISE=11.43 BAD=-793.77 SAT=310333.81\n",
      "Reading IMAGE extension: 2048x2048\n",
      "  GAIN=2.08 EXP=365s NOISE=11.43 BAD=-716.79 SAT=488588.47\n",
      "Reading IMAGE extension: 2048x2048\n",
      "  GAIN=2.08 EXP=365s NOISE=11.43 BAD=-772.98 SAT=465750.53\n",
      "Reading IMAGE extension: 2048x2048\n",
      "  GAIN=2.08 EXP=365s NOISE=11.43 BAD=-762.22 SAT=304544.09\n",
      "Reading IMAGE extension: 2048x2048\n",
      "  GAIN=2.08 EXP=365s NOISE=11.43 BAD=-840.42 SAT=460785.03\n",
      "Reading IMAGE extension: 2048x2048\n",
      "  GAIN=2.08 EXP=365s NOISE=11.43 BAD=-824.65 SAT=540812.88\n",
      "Reading IMAGE extension: 2048x2048\n",
      "  GAIN=2.08 EXP=365s NOISE=11.43 BAD=-822.48 SAT=148818.45\n",
      "Reading IMAGE extension: 2048x2048\n",
      "  GAIN=2.08 EXP=365s NOISE=11.43 BAD=-810.54 SAT=456318.12\n",
      "Reading IMAGE extension: 11417x4486\n",
      "  GAIN=2.05 EXP=2920s NOISE=11.46 BAD=-1625.41 SAT=1561296.50\n",
      "** Extension 1, Chip 1 **\n",
      "Read 436211 real stars\n"
     ]
    }
   ],
   "source": [
    "for m in ['a','b']:\n",
    "    for n in range(1,5):\n",
    "        \n",
    "        # _CAL Files\n",
    "        cal_files = glob(os.path.join(\"../data/stage2/3004/\", f'*4003*nrc{m}{n}_cal.fits'))\n",
    "        cal_files += glob(os.path.join(\"../data/stage2/3004/\", f'*4004*nrc{m}{n}_cal.fits'))\n",
    "        \n",
    "        det_dir = f'../data/stage2/f115w/{m}{n}'\n",
    "        if not os.path.exists(det_dir):\n",
    "            os.mkdir(det_dir)\n",
    "        \n",
    "        if len(cal_files)!=8:\n",
    "            print(\"File Error!\")\n",
    "            break\n",
    "        # Generating directories\n",
    "        exps = []\n",
    "        for i,f in enumerate(cal_files):\n",
    "            out_dir = f.split('/')[-1].split('.')[0]\n",
    "            \n",
    "            if not os.path.exists(f'{det_dir}/{out_dir}'):\n",
    "                os.mkdir(f'{det_dir}/{out_dir}')\n",
    "            if not os.path.exists(f\"{det_dir}/{out_dir}/data.fits\"):\n",
    "                os.system(f\"cp {f} {det_dir}/{out_dir}/data.fits\")\n",
    "                                  \n",
    "            exps.append(f'{det_dir}/{out_dir}')\n",
    "        \n",
    "        # Applying NIRCAM Mask\n",
    "        for f in exps:\n",
    "            if not os.path.exists(f\"{f}/data.sky.fits\"):\n",
    "                os.system(f\"nircammask {f}/data.fits\")\n",
    "                os.system(f\"calcsky {f}/data 10 25 2 2.25 2.00\")\n",
    "        \n",
    "        # Completeness\n",
    "        yy,xx = np.mgrid[100:3000:100,100:2000:100]\n",
    "        x,y = xx.ravel(), yy.ravel()\n",
    "        for m in range(20,30):\n",
    "  \n",
    "            mag = m + x*0\n",
    "            ext = 1 + x*0\n",
    "            chip = 1+ x*0\n",
    "\n",
    "            df = pd.DataFrame(zip(ext,chip,x,y,mag), columns=['ext', 'chip', 'x', 'y', 'mag'])\n",
    "            df.to_csv('../data/stage2/f115w_fake.txt',sep=' ', index=None,header=None)\n",
    "\n",
    "            # Preparing Parameter file DOLPHOT NIRCAM\n",
    "            with open(\"../params/nircam_dolphot_f115w.param\") as f:\n",
    "                        dat = f.readlines()\n",
    "\n",
    "            dat[0] = f'Nimg = {len(exps)}                #number of images (int)\\n'\n",
    "            dat[4] = 'img0_file = ../data/stage2/f115w_i2d\\n'\n",
    "\n",
    "            dat[63] = f'FakeOut =     ../data/stage2/phot{m}.fake\\n'\n",
    "\n",
    "            for i,f in enumerate(exps):\n",
    "                dat[5+i] = f'img{i+1}_file = {f}/data           #image {i+1}\\n'\n",
    "\n",
    "            with open(\"../params/nircam_dolphot_f115w.param\", 'w', encoding='utf-8') as f:\n",
    "                f.writelines(dat)\n",
    "\n",
    "            # Running DOLPHOT NIRCAM\n",
    "            os.system(f\"dolphot {det_dir}/out -p../params/nircam_dolphot_f115w.param\")\n",
    "            \n",
    "            os.system(f\"python ../scripts/to_table_fake.py --o fake_out_{m} --n {len(exps)} --f ../data/stage2/phot{m}.fake\")\n",
    "        \"\"\"\n",
    "        # Generating Astropy FITS Table\n",
    "        det= f'nrc{m}{n}'\n",
    "        os.system(f\"python ../scripts/to_table.py --o F115W_photometry_{det} --n {len(exps)} --f {det_dir}/out\")\n",
    "\n",
    "        phot_table = Table.read(f\"{det_dir}/F115W_photometry_{det}.fits\")\n",
    "        phot_table.rename_columns(['mag_vega'],[f'mag_vega_F115W'])\n",
    "        \n",
    "        # Assingning RA-Dec using reference image\n",
    "        hdu = fits.open(f\"../data/stage2/F115W_i2d.fits\")[1]\n",
    "\n",
    "        wcs = WCS(hdu.header)\n",
    "        positions = np.transpose([phot_table['x'] - 0.5, phot_table['y']-0.5])\n",
    "\n",
    "        coords = np.array(wcs.pixel_to_world_values(positions))\n",
    "\n",
    "        phot_table['ra']  = coords[:,0]\n",
    "        phot_table['dec'] = coords[:,1]\n",
    "        \n",
    "        # Filtering stellar photometry catalog using Warfield et.al (2023)\n",
    "        phot_table1 = phot_table[ (phot_table['sharpness']**2   <= 0.01) &\n",
    "                                    (phot_table['obj_crowd']    <=  0.5) &\n",
    "                                    (phot_table['flags']        <=    2) &\n",
    "                                    (phot_table['type']         <=    2)]\n",
    "\n",
    "        phot_table2 = phot_table[ ~((phot_table['sharpness']**2 <= 0.01) &\n",
    "                                    (phot_table['obj_crowd']    <=  0.5) &\n",
    "                                    (phot_table['flags']        <=    2) &\n",
    "                                    (phot_table['type']         <=    2))]\n",
    "        print('NIRCAM SHORT')\n",
    "        phot_table1.write(f'{det_dir}/F115W_photometry_{det}_filt.fits', overwrite=True)\n",
    "        \"\"\"\n",
    "        break\n",
    "    break"
   ]
  },
  {
   "cell_type": "code",
   "execution_count": 22,
   "id": "f47405a7-efe8-4cfe-ae48-b9911d03469b",
   "metadata": {},
   "outputs": [
    {
     "data": {
      "text/plain": [
       "0"
      ]
     },
     "execution_count": 22,
     "metadata": {},
     "output_type": "execute_result"
    }
   ],
   "source": [
    "os.system(f\"python ../scripts/to_table_fake.py --o fake_out --n {len(exps)} --f ../data/stage2/phot.fake\")"
   ]
  },
  {
   "cell_type": "code",
   "execution_count": 25,
   "id": "0b15fce7-e8ae-45ad-911a-23376b3ba521",
   "metadata": {},
   "outputs": [],
   "source": [
    "phot_table  = Table.read(f'../data/stage2/fake_out.fits')"
   ]
  },
  {
   "cell_type": "code",
   "execution_count": 26,
   "id": "e3333295-a0cc-4d40-a7c3-63b73283a4d0",
   "metadata": {
    "tags": []
   },
   "outputs": [],
   "source": [
    "phot_table1 = phot_table[ (phot_table['sharpness']**2   <= 0.01) &\n",
    "                                    (phot_table['obj_crowd']    <=  0.5) &\n",
    "                                    (phot_table['flags']        <=    2) &\n",
    "                                    (phot_table['type']         <=    2)]"
   ]
  },
  {
   "cell_type": "code",
   "execution_count": 28,
   "id": "d7699b9d-36de-4462-9d3f-7fdb06befc2b",
   "metadata": {
    "tags": []
   },
   "outputs": [
    {
     "data": {
      "text/plain": [
       "418"
      ]
     },
     "execution_count": 28,
     "metadata": {},
     "output_type": "execute_result"
    }
   ],
   "source": [
    "len(phot_table1)"
   ]
  },
  {
   "cell_type": "code",
   "execution_count": 27,
   "id": "eb248798-bc96-4f22-9d6a-86fc24ab0367",
   "metadata": {},
   "outputs": [
    {
     "data": {
      "text/html": [
       "<div><i>Table length=418</i>\n",
       "<table id=\"table139816020425120\" class=\"table-striped table-bordered table-condensed\">\n",
       "<thead><tr><th>ext_inp</th><th>chip_inp</th><th>x_inp</th><th>y_inp</th><th>chi_fit_inp</th><th>obj_SNR_inp</th><th>obj_sharpness_inp</th><th>obj_roundness_inp</th><th>dir_maj_axis_inp</th><th>obj_crowd_inp</th><th>type_inp</th><th>counts_tot_inp</th><th>sky_tot_inp</th><th>count_rate_inp</th><th>count_rate_err_inp</th><th>mag_vega_inp</th><th>mag_ubvri_inp</th><th>mag_err_inp</th><th>chi_inp</th><th>SNR_inp</th><th>ext</th><th>chip</th><th>x</th><th>y</th><th>chi_fit</th><th>obj_SNR</th><th>obj_sharpness</th><th>obj_roundness</th><th>dir_maj_axis</th><th>obj_crowd</th><th>type</th><th>counts_tot</th><th>sky_tot</th><th>count_rate</th><th>count_rate_err</th><th>mag_vega</th><th>mag_ubvri</th><th>mag_err</th><th>chi</th><th>SNR</th><th>sharpness</th><th>roundness</th><th>crowd</th><th>flags</th></tr></thead>\n",
       "<thead><tr><th>float64</th><th>float64</th><th>float64</th><th>float64</th><th>float64</th><th>float64</th><th>float64</th><th>float64</th><th>float64</th><th>float64</th><th>float64</th><th>float64</th><th>float64</th><th>float64</th><th>float64</th><th>float64</th><th>float64</th><th>float64</th><th>float64</th><th>float64</th><th>float64</th><th>float64</th><th>float64</th><th>float64</th><th>float64</th><th>float64</th><th>float64</th><th>float64</th><th>float64</th><th>float64</th><th>float64</th><th>float64</th><th>float64</th><th>float64</th><th>float64</th><th>float64</th><th>float64</th><th>float64</th><th>float64</th><th>float64</th><th>float64</th><th>float64</th><th>float64</th><th>float64</th></tr></thead>\n",
       "<tr><td>1.0</td><td>1.0</td><td>100.0</td><td>100.0</td><td>90918.3</td><td>20.0</td><td>90904.7</td><td>20.0</td><td>91187.2</td><td>20.0</td><td>90863.4</td><td>20.0</td><td>90897.8</td><td>20.0</td><td>90866.4</td><td>20.0</td><td>90887.9</td><td>20.0</td><td>90921.0</td><td>20.0</td><td>1.0</td><td>1.0</td><td>100.01</td><td>100.0</td><td>0.27</td><td>513.2</td><td>-0.003</td><td>0.003</td><td>10.0</td><td>0.0</td><td>1.0</td><td>730866.4</td><td>466.25</td><td>1.01e-08</td><td>1.96e-11</td><td>19.994</td><td>99.999</td><td>0.002</td><td>0.27</td><td>513.2</td><td>-0.003</td><td>0.003</td><td>0.0</td><td>0.0</td></tr>\n",
       "<tr><td>1.0</td><td>1.0</td><td>200.0</td><td>100.0</td><td>90918.3</td><td>20.0</td><td>90904.7</td><td>20.0</td><td>91187.2</td><td>20.0</td><td>90863.4</td><td>20.0</td><td>90897.8</td><td>20.0</td><td>90866.4</td><td>20.0</td><td>90887.9</td><td>20.0</td><td>90921.0</td><td>20.0</td><td>1.0</td><td>1.0</td><td>200.0</td><td>100.01</td><td>0.41</td><td>512.0</td><td>-0.004</td><td>0.002</td><td>120.0</td><td>0.004</td><td>1.0</td><td>731852.2</td><td>475.18</td><td>1.01e-08</td><td>1.97e-11</td><td>19.993</td><td>99.999</td><td>0.002</td><td>0.41</td><td>512.0</td><td>-0.004</td><td>0.002</td><td>0.004</td><td>0.0</td></tr>\n",
       "<tr><td>1.0</td><td>1.0</td><td>300.0</td><td>100.0</td><td>90918.3</td><td>20.0</td><td>90904.7</td><td>20.0</td><td>91187.2</td><td>20.0</td><td>90863.4</td><td>20.0</td><td>90897.8</td><td>20.0</td><td>90866.4</td><td>20.0</td><td>90887.9</td><td>20.0</td><td>90921.0</td><td>20.0</td><td>1.0</td><td>1.0</td><td>299.98</td><td>100.0</td><td>0.36</td><td>510.7</td><td>-0.002</td><td>0.01</td><td>0.0</td><td>0.0</td><td>1.0</td><td>729134.8</td><td>487.47</td><td>1e-08</td><td>1.96e-11</td><td>19.997</td><td>99.999</td><td>0.002</td><td>0.36</td><td>510.7</td><td>-0.002</td><td>0.01</td><td>0.0</td><td>0.0</td></tr>\n",
       "<tr><td>1.0</td><td>1.0</td><td>400.0</td><td>100.0</td><td>90918.3</td><td>20.0</td><td>90904.7</td><td>20.0</td><td>91187.2</td><td>20.0</td><td>90863.4</td><td>20.0</td><td>90897.8</td><td>20.0</td><td>90866.4</td><td>20.0</td><td>90887.9</td><td>20.0</td><td>90921.0</td><td>20.0</td><td>1.0</td><td>1.0</td><td>400.0</td><td>100.0</td><td>0.27</td><td>514.0</td><td>-0.004</td><td>0.004</td><td>160.0</td><td>0.0</td><td>1.0</td><td>732972.4</td><td>523.83</td><td>1.01e-08</td><td>1.96e-11</td><td>19.991</td><td>99.999</td><td>0.002</td><td>0.27</td><td>514.0</td><td>-0.004</td><td>0.004</td><td>0.0</td><td>0.0</td></tr>\n",
       "<tr><td>1.0</td><td>1.0</td><td>500.0</td><td>100.0</td><td>90918.3</td><td>20.0</td><td>90904.7</td><td>20.0</td><td>91187.2</td><td>20.0</td><td>90863.4</td><td>20.0</td><td>90897.8</td><td>20.0</td><td>90866.4</td><td>20.0</td><td>90887.9</td><td>20.0</td><td>90921.0</td><td>20.0</td><td>1.0</td><td>1.0</td><td>500.0</td><td>100.0</td><td>0.35</td><td>512.4</td><td>-0.006</td><td>0.0</td><td>80.0</td><td>0.001</td><td>1.0</td><td>728087.6</td><td>498.21</td><td>1e-08</td><td>1.95e-11</td><td>19.998</td><td>99.999</td><td>0.002</td><td>0.35</td><td>512.4</td><td>-0.006</td><td>0.0</td><td>0.001</td><td>0.0</td></tr>\n",
       "<tr><td>1.0</td><td>1.0</td><td>600.0</td><td>100.0</td><td>90918.3</td><td>20.0</td><td>90904.7</td><td>20.0</td><td>91187.2</td><td>20.0</td><td>90863.4</td><td>20.0</td><td>90897.8</td><td>20.0</td><td>90866.4</td><td>20.0</td><td>90887.9</td><td>20.0</td><td>90921.0</td><td>20.0</td><td>1.0</td><td>1.0</td><td>600.0</td><td>100.0</td><td>0.32</td><td>513.6</td><td>-0.001</td><td>0.001</td><td>0.0</td><td>0.0</td><td>1.0</td><td>730920.0</td><td>493.11</td><td>1.01e-08</td><td>1.96e-11</td><td>19.994</td><td>99.999</td><td>0.002</td><td>0.32</td><td>513.6</td><td>-0.001</td><td>0.001</td><td>0.0</td><td>0.0</td></tr>\n",
       "<tr><td>1.0</td><td>1.0</td><td>700.0</td><td>100.0</td><td>90918.3</td><td>20.0</td><td>90904.7</td><td>20.0</td><td>91187.2</td><td>20.0</td><td>90863.4</td><td>20.0</td><td>90897.8</td><td>20.0</td><td>90866.4</td><td>20.0</td><td>90887.9</td><td>20.0</td><td>90921.0</td><td>20.0</td><td>1.0</td><td>1.0</td><td>700.0</td><td>100.0</td><td>0.26</td><td>513.8</td><td>-0.001</td><td>0.002</td><td>30.0</td><td>0.0</td><td>1.0</td><td>730959.2</td><td>490.67</td><td>1.01e-08</td><td>1.96e-11</td><td>19.994</td><td>99.999</td><td>0.002</td><td>0.26</td><td>513.8</td><td>-0.001</td><td>0.002</td><td>0.0</td><td>0.0</td></tr>\n",
       "<tr><td>1.0</td><td>1.0</td><td>800.0</td><td>100.0</td><td>90918.3</td><td>20.0</td><td>90904.7</td><td>20.0</td><td>91187.2</td><td>20.0</td><td>90863.4</td><td>20.0</td><td>90897.8</td><td>20.0</td><td>90866.4</td><td>20.0</td><td>90887.9</td><td>20.0</td><td>90921.0</td><td>20.0</td><td>1.0</td><td>1.0</td><td>800.0</td><td>100.0</td><td>0.26</td><td>513.4</td><td>-0.004</td><td>0.002</td><td>105.0</td><td>0.0</td><td>1.0</td><td>731266.7</td><td>491.65</td><td>1.01e-08</td><td>1.96e-11</td><td>19.994</td><td>99.999</td><td>0.002</td><td>0.26</td><td>513.4</td><td>-0.004</td><td>0.002</td><td>0.0</td><td>0.0</td></tr>\n",
       "<tr><td>1.0</td><td>1.0</td><td>900.0</td><td>100.0</td><td>90918.3</td><td>20.0</td><td>90904.7</td><td>20.0</td><td>91187.2</td><td>20.0</td><td>90863.4</td><td>20.0</td><td>90897.8</td><td>20.0</td><td>90866.4</td><td>20.0</td><td>90887.9</td><td>20.0</td><td>90921.0</td><td>20.0</td><td>1.0</td><td>1.0</td><td>900.0</td><td>100.0</td><td>0.26</td><td>513.0</td><td>-0.002</td><td>0.005</td><td>45.0</td><td>0.0</td><td>1.0</td><td>729669.9</td><td>496.08</td><td>1e-08</td><td>1.96e-11</td><td>19.996</td><td>99.999</td><td>0.002</td><td>0.26</td><td>513.0</td><td>-0.002</td><td>0.005</td><td>0.0</td><td>0.0</td></tr>\n",
       "<tr><td>...</td><td>...</td><td>...</td><td>...</td><td>...</td><td>...</td><td>...</td><td>...</td><td>...</td><td>...</td><td>...</td><td>...</td><td>...</td><td>...</td><td>...</td><td>...</td><td>...</td><td>...</td><td>...</td><td>...</td><td>...</td><td>...</td><td>...</td><td>...</td><td>...</td><td>...</td><td>...</td><td>...</td><td>...</td><td>...</td><td>...</td><td>...</td><td>...</td><td>...</td><td>...</td><td>...</td><td>...</td><td>...</td><td>...</td><td>...</td><td>...</td><td>...</td><td>...</td><td>...</td></tr>\n",
       "<tr><td>1.0</td><td>1.0</td><td>1000.0</td><td>2200.0</td><td>90918.3</td><td>20.0</td><td>90904.7</td><td>20.0</td><td>91187.2</td><td>20.0</td><td>90863.4</td><td>20.0</td><td>90897.8</td><td>20.0</td><td>90866.4</td><td>20.0</td><td>90887.9</td><td>20.0</td><td>90921.0</td><td>20.0</td><td>1.0</td><td>1.0</td><td>1000.0</td><td>2200.0</td><td>0.3</td><td>519.7</td><td>-0.003</td><td>0.005</td><td>5.0</td><td>0.001</td><td>1.0</td><td>726619.4</td><td>535.4</td><td>9.99e-09</td><td>1.92e-11</td><td>20.001</td><td>99.999</td><td>0.002</td><td>0.3</td><td>519.7</td><td>-0.003</td><td>0.005</td><td>0.001</td><td>0.0</td></tr>\n",
       "<tr><td>1.0</td><td>1.0</td><td>1100.0</td><td>2200.0</td><td>90918.3</td><td>20.0</td><td>90904.7</td><td>20.0</td><td>91187.2</td><td>20.0</td><td>90863.4</td><td>20.0</td><td>90897.8</td><td>20.0</td><td>90866.4</td><td>20.0</td><td>90887.9</td><td>20.0</td><td>90921.0</td><td>20.0</td><td>1.0</td><td>1.0</td><td>1099.99</td><td>2200.0</td><td>0.42</td><td>522.6</td><td>-0.008</td><td>0.004</td><td>35.0</td><td>0.004</td><td>1.0</td><td>734599.9</td><td>548.38</td><td>1.01e-08</td><td>1.93e-11</td><td>19.989</td><td>99.999</td><td>0.002</td><td>0.42</td><td>522.6</td><td>-0.008</td><td>0.004</td><td>0.004</td><td>0.0</td></tr>\n",
       "<tr><td>1.0</td><td>1.0</td><td>1200.0</td><td>2200.0</td><td>90918.3</td><td>20.0</td><td>90904.7</td><td>20.0</td><td>91187.2</td><td>20.0</td><td>90863.4</td><td>20.0</td><td>90897.8</td><td>20.0</td><td>90866.4</td><td>20.0</td><td>90887.9</td><td>20.0</td><td>90921.0</td><td>20.0</td><td>1.0</td><td>1.0</td><td>1200.0</td><td>2199.99</td><td>0.34</td><td>520.3</td><td>-0.006</td><td>0.004</td><td>170.0</td><td>0.0</td><td>1.0</td><td>727056.0</td><td>545.64</td><td>1e-08</td><td>1.92e-11</td><td>20.0</td><td>99.999</td><td>0.002</td><td>0.34</td><td>520.3</td><td>-0.006</td><td>0.004</td><td>0.0</td><td>0.0</td></tr>\n",
       "<tr><td>1.0</td><td>1.0</td><td>1300.0</td><td>2200.0</td><td>90918.3</td><td>20.0</td><td>90904.7</td><td>20.0</td><td>91187.2</td><td>20.0</td><td>90863.4</td><td>20.0</td><td>90897.8</td><td>20.0</td><td>90866.4</td><td>20.0</td><td>90887.9</td><td>20.0</td><td>90921.0</td><td>20.0</td><td>1.0</td><td>1.0</td><td>1300.0</td><td>2200.0</td><td>0.26</td><td>520.1</td><td>-0.001</td><td>0.003</td><td>10.0</td><td>0.001</td><td>1.0</td><td>726763.8</td><td>558.71</td><td>9.99e-09</td><td>1.92e-11</td><td>20.001</td><td>99.999</td><td>0.002</td><td>0.26</td><td>520.1</td><td>-0.001</td><td>0.003</td><td>0.001</td><td>0.0</td></tr>\n",
       "<tr><td>1.0</td><td>1.0</td><td>1400.0</td><td>2200.0</td><td>90918.3</td><td>20.0</td><td>90904.7</td><td>20.0</td><td>91187.2</td><td>20.0</td><td>90863.4</td><td>20.0</td><td>90897.8</td><td>20.0</td><td>90866.4</td><td>20.0</td><td>90887.9</td><td>20.0</td><td>90921.0</td><td>20.0</td><td>1.0</td><td>1.0</td><td>1400.0</td><td>2200.0</td><td>0.24</td><td>522.7</td><td>-0.004</td><td>0.002</td><td>55.0</td><td>0.002</td><td>1.0</td><td>731864.3</td><td>570.57</td><td>1.01e-08</td><td>1.93e-11</td><td>19.993</td><td>99.999</td><td>0.002</td><td>0.24</td><td>522.7</td><td>-0.004</td><td>0.002</td><td>0.002</td><td>0.0</td></tr>\n",
       "<tr><td>1.0</td><td>1.0</td><td>1500.0</td><td>2200.0</td><td>90918.3</td><td>20.0</td><td>90904.7</td><td>20.0</td><td>91187.2</td><td>20.0</td><td>90863.4</td><td>20.0</td><td>90897.8</td><td>20.0</td><td>90866.4</td><td>20.0</td><td>90887.9</td><td>20.0</td><td>90921.0</td><td>20.0</td><td>1.0</td><td>1.0</td><td>1500.0</td><td>2200.0</td><td>0.27</td><td>520.5</td><td>-0.003</td><td>0.001</td><td>60.0</td><td>0.002</td><td>1.0</td><td>729091.8</td><td>585.82</td><td>1e-08</td><td>1.93e-11</td><td>19.997</td><td>99.999</td><td>0.002</td><td>0.27</td><td>520.5</td><td>-0.003</td><td>0.001</td><td>0.002</td><td>0.0</td></tr>\n",
       "<tr><td>1.0</td><td>1.0</td><td>1600.0</td><td>2200.0</td><td>90918.3</td><td>20.0</td><td>90904.7</td><td>20.0</td><td>91187.2</td><td>20.0</td><td>90863.4</td><td>20.0</td><td>90897.8</td><td>20.0</td><td>90866.4</td><td>20.0</td><td>90887.9</td><td>20.0</td><td>90921.0</td><td>20.0</td><td>1.0</td><td>1.0</td><td>1600.0</td><td>2200.0</td><td>0.23</td><td>520.0</td><td>0.0</td><td>0.002</td><td>150.0</td><td>0.003</td><td>1.0</td><td>728284.3</td><td>589.14</td><td>1e-08</td><td>1.93e-11</td><td>19.998</td><td>99.999</td><td>0.002</td><td>0.23</td><td>520.0</td><td>0.0</td><td>0.002</td><td>0.003</td><td>0.0</td></tr>\n",
       "<tr><td>1.0</td><td>1.0</td><td>1700.0</td><td>2200.0</td><td>90918.3</td><td>20.0</td><td>90904.7</td><td>20.0</td><td>91187.2</td><td>20.0</td><td>90863.4</td><td>20.0</td><td>90897.8</td><td>20.0</td><td>90866.4</td><td>20.0</td><td>90887.9</td><td>20.0</td><td>90921.0</td><td>20.0</td><td>1.0</td><td>1.0</td><td>1700.0</td><td>2200.0</td><td>0.27</td><td>734.7</td><td>-0.004</td><td>0.003</td><td>165.0</td><td>0.003</td><td>1.0</td><td>727042.9</td><td>611.7</td><td>1e-08</td><td>1.36e-11</td><td>20.0</td><td>99.999</td><td>0.001</td><td>0.27</td><td>734.7</td><td>-0.004</td><td>0.003</td><td>0.003</td><td>0.0</td></tr>\n",
       "<tr><td>1.0</td><td>1.0</td><td>1800.0</td><td>2200.0</td><td>90918.3</td><td>20.0</td><td>90904.7</td><td>20.0</td><td>91187.2</td><td>20.0</td><td>90863.4</td><td>20.0</td><td>90897.8</td><td>20.0</td><td>90866.4</td><td>20.0</td><td>90887.9</td><td>20.0</td><td>90921.0</td><td>20.0</td><td>1.0</td><td>1.0</td><td>1800.0</td><td>2200.0</td><td>0.33</td><td>735.9</td><td>-0.004</td><td>0.0</td><td>155.0</td><td>0.001</td><td>1.0</td><td>729867.1</td><td>656.67</td><td>1e-08</td><td>1.36e-11</td><td>19.996</td><td>99.999</td><td>0.001</td><td>0.33</td><td>735.9</td><td>-0.004</td><td>0.0</td><td>0.001</td><td>0.0</td></tr>\n",
       "<tr><td>1.0</td><td>1.0</td><td>1900.0</td><td>2200.0</td><td>90918.3</td><td>20.0</td><td>90904.7</td><td>20.0</td><td>91187.2</td><td>20.0</td><td>90863.4</td><td>20.0</td><td>90897.8</td><td>20.0</td><td>90866.4</td><td>20.0</td><td>90887.9</td><td>20.0</td><td>90921.0</td><td>20.0</td><td>1.0</td><td>1.0</td><td>1900.0</td><td>2200.0</td><td>0.28</td><td>733.7</td><td>-0.002</td><td>0.002</td><td>170.0</td><td>0.001</td><td>1.0</td><td>729588.7</td><td>725.42</td><td>1e-08</td><td>1.37e-11</td><td>19.997</td><td>99.999</td><td>0.001</td><td>0.28</td><td>733.7</td><td>-0.002</td><td>0.002</td><td>0.001</td><td>0.0</td></tr>\n",
       "</table></div>"
      ],
      "text/plain": [
       "<Table length=418>\n",
       "ext_inp chip_inp  x_inp   y_inp  chi_fit_inp obj_SNR_inp ...   chi     SNR   sharpness roundness  crowd   flags \n",
       "float64 float64  float64 float64   float64     float64   ... float64 float64  float64   float64  float64 float64\n",
       "------- -------- ------- ------- ----------- ----------- ... ------- ------- --------- --------- ------- -------\n",
       "    1.0      1.0   100.0   100.0     90918.3        20.0 ...    0.27   513.2    -0.003     0.003     0.0     0.0\n",
       "    1.0      1.0   200.0   100.0     90918.3        20.0 ...    0.41   512.0    -0.004     0.002   0.004     0.0\n",
       "    1.0      1.0   300.0   100.0     90918.3        20.0 ...    0.36   510.7    -0.002      0.01     0.0     0.0\n",
       "    1.0      1.0   400.0   100.0     90918.3        20.0 ...    0.27   514.0    -0.004     0.004     0.0     0.0\n",
       "    1.0      1.0   500.0   100.0     90918.3        20.0 ...    0.35   512.4    -0.006       0.0   0.001     0.0\n",
       "    1.0      1.0   600.0   100.0     90918.3        20.0 ...    0.32   513.6    -0.001     0.001     0.0     0.0\n",
       "    1.0      1.0   700.0   100.0     90918.3        20.0 ...    0.26   513.8    -0.001     0.002     0.0     0.0\n",
       "    1.0      1.0   800.0   100.0     90918.3        20.0 ...    0.26   513.4    -0.004     0.002     0.0     0.0\n",
       "    1.0      1.0   900.0   100.0     90918.3        20.0 ...    0.26   513.0    -0.002     0.005     0.0     0.0\n",
       "    ...      ...     ...     ...         ...         ... ...     ...     ...       ...       ...     ...     ...\n",
       "    1.0      1.0  1000.0  2200.0     90918.3        20.0 ...     0.3   519.7    -0.003     0.005   0.001     0.0\n",
       "    1.0      1.0  1100.0  2200.0     90918.3        20.0 ...    0.42   522.6    -0.008     0.004   0.004     0.0\n",
       "    1.0      1.0  1200.0  2200.0     90918.3        20.0 ...    0.34   520.3    -0.006     0.004     0.0     0.0\n",
       "    1.0      1.0  1300.0  2200.0     90918.3        20.0 ...    0.26   520.1    -0.001     0.003   0.001     0.0\n",
       "    1.0      1.0  1400.0  2200.0     90918.3        20.0 ...    0.24   522.7    -0.004     0.002   0.002     0.0\n",
       "    1.0      1.0  1500.0  2200.0     90918.3        20.0 ...    0.27   520.5    -0.003     0.001   0.002     0.0\n",
       "    1.0      1.0  1600.0  2200.0     90918.3        20.0 ...    0.23   520.0       0.0     0.002   0.003     0.0\n",
       "    1.0      1.0  1700.0  2200.0     90918.3        20.0 ...    0.27   734.7    -0.004     0.003   0.003     0.0\n",
       "    1.0      1.0  1800.0  2200.0     90918.3        20.0 ...    0.33   735.9    -0.004       0.0   0.001     0.0\n",
       "    1.0      1.0  1900.0  2200.0     90918.3        20.0 ...    0.28   733.7    -0.002     0.002   0.001     0.0"
      ]
     },
     "execution_count": 27,
     "metadata": {},
     "output_type": "execute_result"
    }
   ],
   "source": [
    "phot_table1"
   ]
  },
  {
   "cell_type": "code",
   "execution_count": 32,
   "id": "ba93e0be-0af0-4e91-af0e-863cfa0ff481",
   "metadata": {
    "tags": []
   },
   "outputs": [
    {
     "data": {
      "text/plain": [
       "'FakeOut =     ../data/stage2/phot.fake         #file with fake star output data (default=phot.fake)\\n'"
      ]
     },
     "execution_count": 32,
     "metadata": {},
     "output_type": "execute_result"
    }
   ],
   "source": []
  },
  {
   "cell_type": "code",
   "execution_count": null,
   "id": "c0dd20f2-6201-41ec-822f-950ae5be80e4",
   "metadata": {},
   "outputs": [],
   "source": []
  }
 ],
 "metadata": {
  "kernelspec": {
   "display_name": "Python [conda env:jwst] *",
   "language": "python",
   "name": "conda-env-jwst-py"
  },
  "language_info": {
   "codemirror_mode": {
    "name": "ipython",
    "version": 3
   },
   "file_extension": ".py",
   "mimetype": "text/x-python",
   "name": "python",
   "nbconvert_exporter": "python",
   "pygments_lexer": "ipython3",
   "version": "3.10.0"
  }
 },
 "nbformat": 4,
 "nbformat_minor": 5
}
