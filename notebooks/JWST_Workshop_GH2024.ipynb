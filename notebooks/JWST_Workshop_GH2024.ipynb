{
  "cells": [
    {
      "cell_type": "markdown",
      "metadata": {
        "id": "view-in-github",
        "colab_type": "text"
      },
      "source": [
        "<a href=\"https://colab.research.google.com/github/Jack3690/pydol/blob/main/notebooks/JWST_Workshop_GH2024.ipynb\" target=\"_parent\"><img src=\"https://colab.research.google.com/assets/colab-badge.svg\" alt=\"Open In Colab\"/></a>"
      ]
    },
    {
      "cell_type": "markdown",
      "source": [
        "![image.png](data:image/png;base64,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)"
      ],
      "metadata": {
        "id": "FtNo5uHkITve"
      }
    },
    {
      "cell_type": "markdown",
      "source": [
        "**James Webb Space Telescope NIRCAM Data Reduction Workshop**\n",
        "\n",
        "\n"
      ],
      "metadata": {
        "id": "Esw_E9UdHs50"
      }
    },
    {
      "cell_type": "markdown",
      "source": [
        "# **Installs**"
      ],
      "metadata": {
        "id": "ZkkEMyucH5UD"
      }
    },
    {
      "cell_type": "code",
      "execution_count": 1,
      "metadata": {
        "id": "ABMluMUr2zrw",
        "colab": {
          "base_uri": "https://localhost:8080/"
        },
        "outputId": "19ddd7b5-06a6-4112-ca73-8e00c945db89"
      },
      "outputs": [
        {
          "output_type": "stream",
          "name": "stdout",
          "text": [
            "\u001b[2K     \u001b[90m━━━━━━━━━━━━━━━━━━━━━━━━━━━━━━━━━━━━━━━━\u001b[0m \u001b[32m5.3/5.3 MB\u001b[0m \u001b[31m13.2 MB/s\u001b[0m eta \u001b[36m0:00:00\u001b[0m\n",
            "\u001b[2K     \u001b[90m━━━━━━━━━━━━━━━━━━━━━━━━━━━━━━━━━━━━━━━━\u001b[0m \u001b[32m910.8/910.8 kB\u001b[0m \u001b[31m25.5 MB/s\u001b[0m eta \u001b[36m0:00:00\u001b[0m\n",
            "\u001b[2K     \u001b[90m━━━━━━━━━━━━━━━━━━━━━━━━━━━━━━━━━━━━━━━━\u001b[0m \u001b[32m15.4/15.4 MB\u001b[0m \u001b[31m28.7 MB/s\u001b[0m eta \u001b[36m0:00:00\u001b[0m\n",
            "\u001b[2K     \u001b[90m━━━━━━━━━━━━━━━━━━━━━━━━━━━━━━━━━━━━━━━━\u001b[0m \u001b[32m960.9/960.9 kB\u001b[0m \u001b[31m29.8 MB/s\u001b[0m eta \u001b[36m0:00:00\u001b[0m\n",
            "\u001b[2K     \u001b[90m━━━━━━━━━━━━━━━━━━━━━━━━━━━━━━━━━━━━━━━━\u001b[0m \u001b[32m5.7/5.7 MB\u001b[0m \u001b[31m35.8 MB/s\u001b[0m eta \u001b[36m0:00:00\u001b[0m\n",
            "\u001b[2K     \u001b[90m━━━━━━━━━━━━━━━━━━━━━━━━━━━━━━━━━━━━━━━━\u001b[0m \u001b[32m1.1/1.1 MB\u001b[0m \u001b[31m20.3 MB/s\u001b[0m eta \u001b[36m0:00:00\u001b[0m\n",
            "\u001b[2K     \u001b[90m━━━━━━━━━━━━━━━━━━━━━━━━━━━━━━━━━━━━━━━━\u001b[0m \u001b[32m296.5/296.5 kB\u001b[0m \u001b[31m13.8 MB/s\u001b[0m eta \u001b[36m0:00:00\u001b[0m\n",
            "\u001b[2K     \u001b[90m━━━━━━━━━━━━━━━━━━━━━━━━━━━━━━━━━━━━━━━━\u001b[0m \u001b[32m155.3/155.3 kB\u001b[0m \u001b[31m11.2 MB/s\u001b[0m eta \u001b[36m0:00:00\u001b[0m\n",
            "\u001b[2K     \u001b[90m━━━━━━━━━━━━━━━━━━━━━━━━━━━━━━━━━━━━━━━━\u001b[0m \u001b[32m1.1/1.1 MB\u001b[0m \u001b[31m23.9 MB/s\u001b[0m eta \u001b[36m0:00:00\u001b[0m\n",
            "\u001b[2K     \u001b[90m━━━━━━━━━━━━━━━━━━━━━━━━━━━━━━━━━━━━━━━━\u001b[0m \u001b[32m2.8/2.8 MB\u001b[0m \u001b[31m42.9 MB/s\u001b[0m eta \u001b[36m0:00:00\u001b[0m\n",
            "\u001b[2K     \u001b[90m━━━━━━━━━━━━━━━━━━━━━━━━━━━━━━━━━━━━━━━━\u001b[0m \u001b[32m8.6/8.6 MB\u001b[0m \u001b[31m53.5 MB/s\u001b[0m eta \u001b[36m0:00:00\u001b[0m\n",
            "\u001b[2K     \u001b[90m━━━━━━━━━━━━━━━━━━━━━━━━━━━━━━━━━━━━━━━━\u001b[0m \u001b[32m2.6/2.6 MB\u001b[0m \u001b[31m54.7 MB/s\u001b[0m eta \u001b[36m0:00:00\u001b[0m\n",
            "\u001b[2K     \u001b[90m━━━━━━━━━━━━━━━━━━━━━━━━━━━━━━━━━━━━━━━━\u001b[0m \u001b[32m316.2/316.2 kB\u001b[0m \u001b[31m17.4 MB/s\u001b[0m eta \u001b[36m0:00:00\u001b[0m\n",
            "\u001b[2K     \u001b[90m━━━━━━━━━━━━━━━━━━━━━━━━━━━━━━━━━━━━━━━━\u001b[0m \u001b[32m49.8/49.8 kB\u001b[0m \u001b[31m4.4 MB/s\u001b[0m eta \u001b[36m0:00:00\u001b[0m\n",
            "\u001b[2K     \u001b[90m━━━━━━━━━━━━━━━━━━━━━━━━━━━━━━━━━━━━━━━━\u001b[0m \u001b[32m915.0/915.0 kB\u001b[0m \u001b[31m56.8 MB/s\u001b[0m eta \u001b[36m0:00:00\u001b[0m\n",
            "\u001b[2K     \u001b[90m━━━━━━━━━━━━━━━━━━━━━━━━━━━━━━━━━━━━━━━━\u001b[0m \u001b[32m160.4/160.4 kB\u001b[0m \u001b[31m16.4 MB/s\u001b[0m eta \u001b[36m0:00:00\u001b[0m\n",
            "\u001b[2K     \u001b[90m━━━━━━━━━━━━━━━━━━━━━━━━━━━━━━━━━━━━━━━━\u001b[0m \u001b[32m83.6/83.6 kB\u001b[0m \u001b[31m7.0 MB/s\u001b[0m eta \u001b[36m0:00:00\u001b[0m\n",
            "\u001b[2K     \u001b[90m━━━━━━━━━━━━━━━━━━━━━━━━━━━━━━━━━━━━━━━━\u001b[0m \u001b[32m81.9/81.9 kB\u001b[0m \u001b[31m8.1 MB/s\u001b[0m eta \u001b[36m0:00:00\u001b[0m\n",
            "\u001b[2K     \u001b[90m━━━━━━━━━━━━━━━━━━━━━━━━━━━━━━━━━━━━━━━━\u001b[0m \u001b[32m275.4/275.4 kB\u001b[0m \u001b[31m25.3 MB/s\u001b[0m eta \u001b[36m0:00:00\u001b[0m\n",
            "\u001b[2K     \u001b[90m━━━━━━━━━━━━━━━━━━━━━━━━━━━━━━━━━━━━━━━━\u001b[0m \u001b[32m88.9/88.9 kB\u001b[0m \u001b[31m9.4 MB/s\u001b[0m eta \u001b[36m0:00:00\u001b[0m\n",
            "\u001b[2K     \u001b[90m━━━━━━━━━━━━━━━━━━━━━━━━━━━━━━━━━━━━━━━━\u001b[0m \u001b[32m45.9/45.9 kB\u001b[0m \u001b[31m4.3 MB/s\u001b[0m eta \u001b[36m0:00:00\u001b[0m\n",
            "\u001b[2K     \u001b[90m━━━━━━━━━━━━━━━━━━━━━━━━━━━━━━━━━━━━━━━━\u001b[0m \u001b[32m10.0/10.0 MB\u001b[0m \u001b[31m53.6 MB/s\u001b[0m eta \u001b[36m0:00:00\u001b[0m\n",
            "\u001b[2K     \u001b[90m━━━━━━━━━━━━━━━━━━━━━━━━━━━━━━━━━━━━━━━━\u001b[0m \u001b[32m1.9/1.9 MB\u001b[0m \u001b[31m63.6 MB/s\u001b[0m eta \u001b[36m0:00:00\u001b[0m\n",
            "\u001b[2K     \u001b[90m━━━━━━━━━━━━━━━━━━━━━━━━━━━━━━━━━━━━━━━━\u001b[0m \u001b[32m150.3/150.3 kB\u001b[0m \u001b[31m14.0 MB/s\u001b[0m eta \u001b[36m0:00:00\u001b[0m\n",
            "\u001b[?25h"
          ]
        }
      ],
      "source": [
        "!pip install astroquery -q\n",
        "!pip install jwst -q\n",
        "!pip install crds -q"
      ]
    },
    {
      "cell_type": "markdown",
      "source": [
        "# **Imports**"
      ],
      "metadata": {
        "id": "GWnPVTAOwRLq"
      }
    },
    {
      "cell_type": "code",
      "execution_count": 5,
      "metadata": {
        "id": "I_SGU3ki4fJA"
      },
      "outputs": [],
      "source": [
        "from glob import glob\n",
        "import os\n",
        "import astroquery\n",
        "import astropy.io.fits as fits\n",
        "from astroquery.mast import Observations\n",
        "import astropy.io.fits as fits\n",
        "from astropy.wcs import WCS\n",
        "import multiprocessing as mp\n",
        "import matplotlib.pyplot as plt"
      ]
    },
    {
      "cell_type": "markdown",
      "metadata": {
        "id": "bXvalReGg3I9"
      },
      "source": [
        "# **Data**"
      ]
    },
    {
      "cell_type": "markdown",
      "metadata": {
        "id": "JQO0yL2ghiXr"
      },
      "source": [
        "**Observation ID format**\n",
        "\n",
        "jw\\<ppppp>\\<ooo><vvv>\\_\\<gg>\\<s>\\<aa>\\_\\<eeeee>(-<\"seg\"NNN>)\\_\\<detector>\\_\\<prodType>.fits\n",
        "\n",
        "where\n",
        "\n",
        "ppppp: program ID number\n",
        "\n",
        "ooo: observation number\n",
        "\n",
        "vvv: visit number\n",
        "\n",
        "gg: visit group\n",
        "\n",
        "s: parallel sequence ID (1=prime, 2-5=parallel)\n",
        "\n",
        "aa: activity number (base 36)\n",
        "\n",
        "eeeee: exposure number\n",
        "\n",
        "segNNN: the text “seg” followed by a three-digit segment number (optional)\n",
        "\n",
        "detector: detector name (e.g. ‘nrca1’, ‘nrcblong’, ‘mirimage’)\n",
        "\n",
        "prodType: product type identifier (e.g. ‘uncal’, ‘rate’, ‘cal’)"
      ]
    },
    {
      "cell_type": "code",
      "execution_count": null,
      "metadata": {
        "id": "jV4q8fPza7n4"
      },
      "outputs": [],
      "source": [
        "#Example data for F200W filter for NGC628\n",
        "\n",
        "mast_dir = 'mast:jwst/product' # Download from MAST\n",
        "data_dir = '/content/data/stage0/'  # save downloaded data\n",
        "os.makedirs(data_dir, exist_ok=True)\n",
        "\n",
        "ext = 'uncal'\n",
        "# JWST images to be analyzed\n",
        "image_files = []\n",
        "\n",
        "\n",
        "for i in range(1,5):\n",
        "    for j in range(1,5):\n",
        "        for k in [7,8]:\n",
        "            for l in ['a','b']:\n",
        "                image_files.append( f\"jw0178390400{k}_02101_0000{i}_nrc{l}{j}_{ext}.fits\")\n",
        "                break\n",
        "            break\n",
        "        break\n",
        "    break\n",
        "\n",
        "for image_file in image_files:\n",
        "    # Download file (if not already downloaded)\n",
        "    mast_path  = os.path.join(mast_dir, image_file)\n",
        "    local_path = os.path.join(data_dir, image_file)\n",
        "    Observations.download_file(mast_path, local_path=local_path)"
      ]
    },
    {
      "cell_type": "code",
      "source": [
        "#Example data for M82\n",
        "\n",
        "mast_dir = 'mast:jwst/product' # Download from MAST\n",
        "data_dir = '/content/photometry/'  # save downloaded data\n",
        "os.makedirs(data_dir, exist_ok=True)\n",
        "\n",
        "# JWST images to be analyzed\n",
        "image_files = [ f\"jw01783-o904_t008_nircam_clear-f200w_i2d.fits\"]\n",
        "\n",
        "for image_file in image_files:\n",
        "    # Download file (if not already downloaded)\n",
        "    mast_path  = os.path.join(mast_dir, image_file)\n",
        "    local_path = os.path.join(data_dir, image_file)\n",
        "    Observations.download_file(mast_path, local_path=local_path)"
      ],
      "metadata": {
        "id": "XQ2iUY0vHp3O"
      },
      "execution_count": null,
      "outputs": []
    },
    {
      "cell_type": "code",
      "source": [
        "hdul = fits.open('/content/photometry/jw01701-o052_t007_nircam_clear-f212n-sub640_i2d.fits')"
      ],
      "metadata": {
        "id": "1NZKN--LJW0G"
      },
      "execution_count": null,
      "outputs": []
    },
    {
      "cell_type": "markdown",
      "metadata": {
        "id": "IOuSv78Gg7B8"
      },
      "source": [
        "# **JWST Pipeline**"
      ]
    },
    {
      "cell_type": "code",
      "source": [
        "from jwst.pipeline import Detector1Pipeline, Image2Pipeline, Image3Pipeline\n",
        "\n",
        "import numpy as np\n",
        "from glob import glob\n",
        "from crds import client\n",
        "from astropy.table import Table"
      ],
      "metadata": {
        "id": "RFpVYJtjM9qF"
      },
      "execution_count": 6,
      "outputs": []
    },
    {
      "cell_type": "code",
      "source": [
        "os.environ['CRDS_PATH'] = '../CRDS/crds_cache/'\n",
        "os.environ[\"CRDS_SERVER_URL\"] = \"https://jwst-crds.stsci.edu\"\n",
        "os.environ[\"CRDS_CONTEXT\"] = \"jwst_1188.pmap\"\n",
        "\n",
        "os.makedirs(os.environ['CRDS_PATH'] , exist_ok=True)"
      ],
      "metadata": {
        "id": "-KtBGFVMM41W"
      },
      "execution_count": null,
      "outputs": []
    },
    {
      "cell_type": "markdown",
      "source": [
        "## **Stage 1**"
      ],
      "metadata": {
        "id": "LImxkVGYO-Cl"
      }
    },
    {
      "cell_type": "code",
      "execution_count": 8,
      "metadata": {
        "id": "wzZw61DNbpMZ"
      },
      "outputs": [],
      "source": [
        "def stage1(filename, out_dir='/content/'):\n",
        "    \"\"\"\n",
        "        Parameters\n",
        "        ----------\n",
        "        filename: str,\n",
        "                  path to the level 0 \"_uncal.fits\" file\n",
        "        out_dir: str,\n",
        "                 path to the output directory\n",
        "        Returns\n",
        "        -------\n",
        "            None\n",
        "    \"\"\"\n",
        "    # Instantiate the pipeline\n",
        "    img1 = Detector1Pipeline()\n",
        "    # Snowball Removal (M82 Group)\n",
        "    img1.jump.expand_large_events = True\n",
        "    # Specify where the output should go\n",
        "    img1.output_dir = out_dir + '/data/stage1/'\n",
        "    # Save the final resulting _rate.fits files\n",
        "    img1.save_results = True\n",
        "    #No of cores\n",
        "    img1.jump.maximum_cores = '11'\n",
        "    # Run the pipeline on an input list of files\n",
        "    img1(filename)"
      ]
    },
    {
      "cell_type": "code",
      "source": [
        "uncal_flies = glob(f'/content/data/stage0/*a1*uncal.fits')\n",
        "\n",
        "for f in uncal_flies:\n",
        "  stage1(f)"
      ],
      "metadata": {
        "id": "4SVeepZMPhKN"
      },
      "execution_count": null,
      "outputs": []
    },
    {
      "cell_type": "markdown",
      "source": [
        "## **Stage 2**"
      ],
      "metadata": {
        "id": "-fap4c-LPy6H"
      }
    },
    {
      "cell_type": "code",
      "source": [
        "def stage2(filename, out_dir='/content'):\n",
        "        \"\"\"\n",
        "            Parameters\n",
        "            ----------\n",
        "            filename: str,\n",
        "                      path to the level 1 \"_rate.fits\" file\n",
        "            Returns\n",
        "            -------\n",
        "                None\n",
        "        \"\"\"\n",
        "        # Instantiate the pipeline\n",
        "        img2 = Image2Pipeline()\n",
        "        # Specify where the output should go\n",
        "        img2.output_dir = out_dir + '/data/stage2/'\n",
        "        # Save the final resulting _rate.fits files\n",
        "        img2.save_results = True\n",
        "        # Run the pipeline on an input list of files\n",
        "        img2(filename)"
      ],
      "metadata": {
        "id": "mkPtArwvP1k_"
      },
      "execution_count": null,
      "outputs": []
    },
    {
      "cell_type": "code",
      "source": [
        "rate_files = glob(f'/content/data/stage2/*a1*rate.fits')\n",
        "\n",
        "for f in rate_files:\n",
        "  stage2(f)"
      ],
      "metadata": {
        "id": "pAoDl9dtP1wb"
      },
      "execution_count": null,
      "outputs": []
    },
    {
      "cell_type": "markdown",
      "source": [
        "## **Stage 3**"
      ],
      "metadata": {
        "id": "skbjo2LcQGih"
      }
    },
    {
      "cell_type": "code",
      "source": [
        "def stage3(filenames, out_dir='/content/'):\n",
        "      \"\"\"\n",
        "          Parameters\n",
        "          ----------\n",
        "          filename: list,\n",
        "                    paths to the level 2 \"_cal.fits\" file\n",
        "          Returns\n",
        "          -------\n",
        "              None\n",
        "      \"\"\"\n",
        "      # Instantiate the pipeline\n",
        "      img3 = Image3Pipeline()\n",
        "      # Specify where the output should go\n",
        "      img3.output_dir = out_dir + '/data/stage3/'\n",
        "      # Save the final resulting _rate.fits files\n",
        "      img3.save_results = True\n",
        "      # Run the pipeline on an input list of files\n",
        "      img3(filenames)"
      ],
      "metadata": {
        "id": "qaeAZMMHP10A"
      },
      "execution_count": null,
      "outputs": []
    },
    {
      "cell_type": "code",
      "source": [
        "cal_files = glob(f'/content/data/stage3/*a1*cal.fits')\n",
        "\n",
        "stage3(cal_files)"
      ],
      "metadata": {
        "id": "OLmD483qQZoF"
      },
      "execution_count": null,
      "outputs": []
    },
    {
      "cell_type": "markdown",
      "metadata": {
        "id": "X8XcuX1Qg-n8"
      },
      "source": [
        "# **DOLPHOT Photometry**\n",
        "\n",
        "INSTALL DOLPHOT"
      ]
    },
    {
      "cell_type": "code",
      "source": [
        "if 'dolphot2.0' not in os.environ['PATH']:\n",
        "  os.environ['PATH'] += ':/content/dolphot2.0/bin'\n",
        "  os.environ['PATH'] += ':/content/dolphot2.0/nircam'"
      ],
      "metadata": {
        "id": "JEPYVHXS8Mik"
      },
      "execution_count": 9,
      "outputs": []
    },
    {
      "cell_type": "code",
      "source": [
        "crf_files = glob(f'/content/data/stage3/*b1*crf.fits')\n",
        "drz_file = '/content/photometry/jw01783-o904_t008_nircam_clear-f200w_i2d'"
      ],
      "metadata": {
        "id": "pbySBAI57mIm"
      },
      "execution_count": 10,
      "outputs": []
    },
    {
      "cell_type": "markdown",
      "source": [
        "## **NIRCAMMASK**"
      ],
      "metadata": {
        "id": "Fg6JGsfSRkHY"
      }
    },
    {
      "cell_type": "code",
      "source": [
        "!nircammask jw01783-o904_t008_nircam_clear-f200w_i2d.fits"
      ],
      "metadata": {
        "id": "cXRkmvwmFJJW"
      },
      "execution_count": null,
      "outputs": []
    },
    {
      "cell_type": "code",
      "source": [
        "hdul = fits.open('/content/data/stage3/jw01783-o904_t008_nircam_clear-f200w_i2d_cal.fits')"
      ],
      "metadata": {
        "id": "gmhNVpzjGarr"
      },
      "execution_count": null,
      "outputs": []
    },
    {
      "cell_type": "code",
      "source": [
        "hdul[0].header"
      ],
      "metadata": {
        "id": "W5X-BKYPKtff"
      },
      "execution_count": null,
      "outputs": []
    },
    {
      "cell_type": "markdown",
      "source": [
        "Make copy of all crf files and run nircammask on each of them"
      ],
      "metadata": {
        "id": "Dt3I__0bR89u"
      }
    },
    {
      "cell_type": "markdown",
      "source": [
        "## **CALCSKY**\n",
        "\n",
        "Repeat the code below for each crf file"
      ],
      "metadata": {
        "id": "UqWGnol_SJeZ"
      }
    },
    {
      "cell_type": "code",
      "source": [
        "!calcsky /content/photometry/jw01783904007_02101_00001_nrca1_crf 10 25 2 2.25 2.00"
      ],
      "metadata": {
        "id": "bzOP3jztSG8F"
      },
      "execution_count": null,
      "outputs": []
    },
    {
      "cell_type": "markdown",
      "source": [
        "## **Prepare the parameter file and run DOLPHOT**"
      ],
      "metadata": {
        "id": "tXUYrHafTS4d"
      }
    },
    {
      "cell_type": "code",
      "source": [
        "!dolphot -p/content/params/nircam_dolphot.param"
      ],
      "metadata": {
        "id": "_ZKTPPb8TMOf"
      },
      "execution_count": null,
      "outputs": []
    },
    {
      "cell_type": "markdown",
      "source": [
        "# **Convert DOLPHOT Output to Astropy Table**"
      ],
      "metadata": {
        "id": "9-UcMJHsT4kL"
      }
    },
    {
      "cell_type": "code",
      "source": [
        "!python /content/scripts/to_table.py --o F200W_photometry --n 4 --f /content/photometry/out/"
      ],
      "metadata": {
        "id": "SdRp0VzAT-EH"
      },
      "execution_count": null,
      "outputs": []
    },
    {
      "cell_type": "code",
      "source": [
        "phot_table = Table.read(f\"/content/F200W_photometry.fits\")\n",
        "phot_table.rename_columns(['mag_vega'],[f'mag_vega_{filter.upper()}'])\n",
        "\n",
        "# Assingning RA-Dec using reference image\n",
        "hdu = fits.open(f\"{drz_file}.fits\")[1]\n",
        "\n",
        "wcs = WCS(hdu.header)\n",
        "positions = np.transpose([phot_table['x'] - 0.5, phot_table['y']-0.5])\n",
        "\n",
        "coords = np.array(wcs.pixel_to_world_values(positions))\n",
        "\n",
        "phot_table['ra']  = coords[:,0]\n",
        "phot_table['dec'] = coords[:,1]\n",
        "\n",
        "# Filtering stellar photometry catalog using Warfield et.al (2023)\n",
        "phot_table1 = phot_table[ (phot_table['sharpness']**2   <= 0.01) &\n",
        "                            (phot_table['obj_crowd']    <=  0.5) &\n",
        "                            (phot_table['flags']        <=    2) &\n",
        "                            (phot_table['type']         <=    2)]\n",
        "\n",
        "phot_table2 = phot_table[ ~((phot_table['sharpness']**2 <= 0.01) &\n",
        "                            (phot_table['obj_crowd']    <=  0.5) &\n",
        "                            (phot_table['flags']        <=    2) &\n",
        "                            (phot_table['type']         <=    2))]\n",
        "\n",
        "phot_table.write('/content/F200W_photometry.fits', overwrite=True)\n",
        "phot_table1.write('/content/F200W_photometry_filt.fits', overwrite=True)\n",
        "phot_table2.write('content/F200W_photometry_rej.fits', overwrite=True)"
      ],
      "metadata": {
        "id": "mUETxRecUVjH"
      },
      "execution_count": null,
      "outputs": []
    }
  ],
  "metadata": {
    "colab": {
      "provenance": [],
      "include_colab_link": true
    },
    "kernelspec": {
      "display_name": "Python 3",
      "name": "python3"
    },
    "language_info": {
      "name": "python"
    }
  },
  "nbformat": 4,
  "nbformat_minor": 0
}